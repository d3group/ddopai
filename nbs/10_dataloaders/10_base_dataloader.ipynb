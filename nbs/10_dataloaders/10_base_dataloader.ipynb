{
 "cells": [
  {
   "cell_type": "markdown",
   "metadata": {},
   "source": [
    "# Inventory Management Environments\n",
    "\n",
    "> To be written."
   ]
  },
  {
   "cell_type": "code",
   "execution_count": null,
   "metadata": {},
   "outputs": [],
   "source": [
    "#| default_exp dataloaders.base"
   ]
  },
  {
   "cell_type": "code",
   "execution_count": null,
   "metadata": {},
   "outputs": [],
   "source": [
    "#| hide\n",
    "from nbdev.showdoc import *"
   ]
  },
  {
   "cell_type": "code",
   "execution_count": null,
   "metadata": {},
   "outputs": [],
   "source": [
    "#| export\n",
    "\n",
    "import numpy as np\n",
    "from abc import ABC, abstractmethod\n",
    "from typing import Union"
   ]
  },
  {
   "cell_type": "code",
   "execution_count": null,
   "metadata": {},
   "outputs": [],
   "source": [
    "#| export\n",
    "class BaseDataLoader(ABC):\n",
    "   \n",
    "    \"\"\"\n",
    "    Base class for data loaders.\n",
    "    The idea of the data loader is to provide all external information to the environment\n",
    "    (including lagged data, demand etc.). Internal data influenced by past decisions (like\n",
    "    inventory levels) is to be added from within the environment\n",
    "    \"\"\"\n",
    "\n",
    "    def __init__(self):\n",
    "        pass\n",
    "\n",
    "    @abstractmethod\n",
    "    def __len__(self):\n",
    "        '''\n",
    "        Returns the length of the dataset. For dataloaders based on distributions, this \n",
    "        should return an error that the length is not defined, otherwise it should return\n",
    "        the number of samples in the dataset.\n",
    "        '''\n",
    "        pass\n",
    "\n",
    "    @abstractmethod   \n",
    "    def __getitem__(self, idx):\n",
    "\n",
    "        \"\"\"\n",
    "        Returns always a tuple of X and Y data. If no X data is available, return None.\n",
    "        \"\"\"\n",
    "        pass\n",
    "\n",
    "    @property\n",
    "    @abstractmethod\n",
    "    def X_shape(self):\n",
    "        \"\"\"\n",
    "        Returns the shape of the X data.\n",
    "        It should follow the format (n_samples, n_features). If the data has a time dimension with\n",
    "        a fixed length, the shape should be (n_samples, n_time_steps, n_features). If the data is \n",
    "        generated from a distribtition, n_samples should be set to 1.\n",
    "        \"\"\"\n",
    "        pass\n",
    "\n",
    "    @property\n",
    "    @abstractmethod\n",
    "    def Y_shape(self):\n",
    "        \"\"\"\n",
    "        Returns the shape of the Y data.\n",
    "        It should follow the format (n_samples, n_SKUs). If the variable of interst is only a single\n",
    "        SKU, the shape should be (n_samples, 1). If the data is \n",
    "        generated from a distribtition, n_samples should be set to 1.\n",
    "        \"\"\"\n",
    "        pass\n",
    "\n",
    "    @abstractmethod   \n",
    "    def get_all_X(self):\n",
    "\n",
    "        \"\"\"\n",
    "        Returns the entire features dataset. If no X data is available, return None.\n",
    "        \"\"\"\n",
    "        pass    \n",
    "\n",
    "    @abstractmethod   \n",
    "    def get_all_Y(self):\n",
    "\n",
    "        \"\"\"\n",
    "        Returns the entire target dataset. If no Y data is available, return None.\n",
    "        \"\"\"\n",
    "        pass  \n",
    "\n",
    "    def val(self):\n",
    "\n",
    "        if self.val_index_start is None:\n",
    "            raise ValueError('no validation set defined')\n",
    "        else:\n",
    "            self.mode = \"val\"\n",
    "\n",
    "    def test(self):\n",
    "\n",
    "        if self.test_index_start is None:\n",
    "            raise ValueError('no test set defined')\n",
    "        else:\n",
    "            self.mode = \"test\"\n",
    "    \n",
    "    def train(self):\n",
    "\n",
    "        self.mode = \"train\""
   ]
  },
  {
   "cell_type": "code",
   "execution_count": null,
   "metadata": {},
   "outputs": [],
   "source": [
    "#| hide\n",
    "import nbdev; nbdev.nbdev_export()"
   ]
  },
  {
   "cell_type": "code",
   "execution_count": null,
   "metadata": {},
   "outputs": [],
   "source": []
  }
 ],
 "metadata": {
  "kernelspec": {
   "display_name": "python3",
   "language": "python",
   "name": "python3"
  }
 },
 "nbformat": 4,
 "nbformat_minor": 4
}
