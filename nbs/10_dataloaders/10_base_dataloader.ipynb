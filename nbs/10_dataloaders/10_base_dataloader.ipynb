{
 "cells": [
  {
   "cell_type": "markdown",
   "metadata": {},
   "source": [
    "# Base dataloader\n",
    "\n",
    "> Base class for dataloaders"
   ]
  },
  {
   "cell_type": "code",
   "execution_count": null,
   "metadata": {},
   "outputs": [],
   "source": [
    "#| default_exp dataloaders.base"
   ]
  },
  {
   "cell_type": "code",
   "execution_count": null,
   "metadata": {},
   "outputs": [],
   "source": [
    "#| hide\n",
    "from nbdev.showdoc import *"
   ]
  },
  {
   "cell_type": "code",
   "execution_count": null,
   "metadata": {},
   "outputs": [],
   "source": [
    "#| export\n",
    "\n",
    "import numpy as np\n",
    "from abc import ABC, abstractmethod\n",
    "from typing import Union"
   ]
  },
  {
   "cell_type": "code",
   "execution_count": null,
   "metadata": {},
   "outputs": [],
   "source": [
    "#| export\n",
    "class BaseDataLoader(ABC):\n",
    "   \n",
    "    \"\"\"\n",
    "    Base class for data loaders.\n",
    "    The idea of the data loader is to provide all external information to the environment\n",
    "    (including lagged data, demand etc.). Internal data influenced by past decisions (like\n",
    "    inventory levels) is to be added from within the environment\n",
    "    \"\"\"\n",
    "\n",
    "    def __init__(self):\n",
    "        self.dataset_type = \"train\"\n",
    "\n",
    "    @abstractmethod\n",
    "    def __len__(self):\n",
    "        '''\n",
    "        Returns the length of the dataset. For dataloaders based on distributions, this \n",
    "        should return an error that the length is not defined, otherwise it should return\n",
    "        the number of samples in the dataset.\n",
    "        '''\n",
    "        pass\n",
    "\n",
    "    @abstractmethod   \n",
    "    def __getitem__(self, idx):\n",
    "\n",
    "        \"\"\"\n",
    "        Returns always a tuple of X and Y data. If no X data is available, return None.\n",
    "        \"\"\"\n",
    "        pass\n",
    "\n",
    "    @property\n",
    "    @abstractmethod\n",
    "    def X_shape(self):\n",
    "        \"\"\"\n",
    "        Returns the shape of the X data.\n",
    "        It should follow the format (n_samples, n_features). If the data has a time dimension with\n",
    "        a fixed length, the shape should be (n_samples, n_time_steps, n_features). If the data is \n",
    "        generated from a distribtition, n_samples should be set to 1.\n",
    "        \"\"\"\n",
    "        pass\n",
    "\n",
    "    @property\n",
    "    @abstractmethod\n",
    "    def Y_shape(self):\n",
    "        \"\"\"\n",
    "        Returns the shape of the Y data.\n",
    "        It should follow the format (n_samples, n_SKUs). If the variable of interst is only a single\n",
    "        SKU, the shape should be (n_samples, 1). If the data is \n",
    "        generated from a distribtition, n_samples should be set to 1.\n",
    "        \"\"\"\n",
    "        pass\n",
    "\n",
    "    @abstractmethod   \n",
    "    def get_all_X(self,\n",
    "                dataset_type: str = 'train' # can be 'train', 'val', 'test', 'all'\n",
    "                ): \n",
    "\n",
    "        \"\"\"\n",
    "        Returns the entire features dataset. If no X data is available, return None.\n",
    "        Return either the train, val, test, or all data.\n",
    "        \"\"\"\n",
    "        pass    \n",
    "\n",
    "    @abstractmethod   \n",
    "    def get_all_Y(self,\n",
    "                dataset_type: str = 'train' # can be 'train', 'val', 'test', 'all'\n",
    "                ): \n",
    "\n",
    "        \"\"\"\n",
    "        Returns the entire target dataset. If no Y data is available, return None.\n",
    "        Return either the train, val, test, or all data.\n",
    "        \"\"\"\n",
    "        pass  \n",
    "\n",
    "    @property\n",
    "    @abstractmethod   \n",
    "    def len_train(self):\n",
    "\n",
    "        \"\"\"\n",
    "        Returns the length of the training set. For dataloaders based on distributions, this\n",
    "        should return an error that the length is not defined, otherwise it should return\n",
    "        the number of samples in the training set.\n",
    "        \"\"\"\n",
    "\n",
    "        pass\n",
    "\n",
    "    @property\n",
    "    @abstractmethod \n",
    "    def len_val(self):\n",
    "\n",
    "        \"\"\"\n",
    "\n",
    "        Returns the length of the validation set. For dataloaders based on distributions, this\n",
    "        should return an error that the length is not defined, otherwise it should return\n",
    "        the number of samples in the validation set.\n",
    "\n",
    "        If no valiation set is defined, raise an error.\n",
    "        \"\"\"\n",
    "\n",
    "        pass\n",
    "    \n",
    "    @property\n",
    "    @abstractmethod \n",
    "    def len_test(self):\n",
    "        \n",
    "        \"\"\"\n",
    "\n",
    "        Returns the length of the test set. For dataloaders based on distributions, this\n",
    "        should return an error that the length is not defined, otherwise it should return\n",
    "        the number of samples in the test set.\n",
    "\n",
    "        If no test set is defined, raise an error.\n",
    "        \"\"\"\n",
    "\n",
    "        pass\n",
    "\n",
    "        \n",
    "    def train(self):\n",
    "\n",
    "        \"\"\"\n",
    "        Set the internal state of the dataloader to train\n",
    "        \"\"\"\n",
    "\n",
    "        self.dataset_type = \"train\"\n",
    "\n",
    "    def val(self):\n",
    "\n",
    "        \"\"\"\n",
    "        Set the internal state of the dataloader to validation\n",
    "        \"\"\"\n",
    "\n",
    "        if self.val_index_start is None:\n",
    "            raise ValueError('no validation set defined')\n",
    "        else:\n",
    "            self.dataset_type = \"val\"\n",
    "\n",
    "    def test(self):\n",
    "\n",
    "        \"\"\"\n",
    "        Set the internal state of the dataloader to test\n",
    "        \"\"\"\n",
    "\n",
    "        if self.test_index_start is None:\n",
    "            raise ValueError('no test set defined')\n",
    "        else:\n",
    "            self.dataset_type = \"test\"\n"
   ]
  },
  {
   "cell_type": "code",
   "execution_count": null,
   "metadata": {},
   "outputs": [
    {
     "data": {
      "text/markdown": [
       "---\n",
       "\n",
       "[source](https://github.com/opimwue/ddopai/blob/main/ddopai/dataloaders/base.py#L14){target=\"_blank\" style=\"float:right; font-size:smaller\"}\n",
       "\n",
       "## BaseDataLoader\n",
       "\n",
       ">      BaseDataLoader ()\n",
       "\n",
       "*Base class for data loaders.\n",
       "The idea of the data loader is to provide all external information to the environment\n",
       "(including lagged data, demand etc.). Internal data influenced by past decisions (like\n",
       "inventory levels) is to be added from within the environment*"
      ],
      "text/plain": [
       "---\n",
       "\n",
       "[source](https://github.com/opimwue/ddopai/blob/main/ddopai/dataloaders/base.py#L14){target=\"_blank\" style=\"float:right; font-size:smaller\"}\n",
       "\n",
       "## BaseDataLoader\n",
       "\n",
       ">      BaseDataLoader ()\n",
       "\n",
       "*Base class for data loaders.\n",
       "The idea of the data loader is to provide all external information to the environment\n",
       "(including lagged data, demand etc.). Internal data influenced by past decisions (like\n",
       "inventory levels) is to be added from within the environment*"
      ]
     },
     "execution_count": null,
     "metadata": {},
     "output_type": "execute_result"
    }
   ],
   "source": [
    "show_doc(BaseDataLoader, title_level=2)"
   ]
  },
  {
   "cell_type": "markdown",
   "metadata": {},
   "source": [
    "Train-Val-Test split:\n",
    "\n",
    "* The dataloader contains all data, including the training, validation and test sets.\n",
    "\n",
    "* Retrieval of the dataset types is achieved by setting the internal state to train, validation or test using appropriate functions. Then the index will automatically be adjusted to the correct dataset (see below on data retrieval).\n",
    "\n",
    "* During training, both the agent and experiment function may have to know the length of the dataset. Therefore, the functions  ```len_train```, ```len_val``` and ```len_test``` with decorator ```@property``` must be defined\n",
    "\n",
    "Data retrieval:\n",
    "\n",
    "* Data retrieval is done with the ```___getitem___``` function. The function takes an index and returns the data at that index, typically as and X and Y pair.\n",
    "\n",
    "* For non-distribution-based dataloaders, the ```__init__``` function must have arguments ```val_index_start``` and ```test_index_start``` from which the attributes ```val_index_start``` and ```test_index_start``` and ```train_index_end```are set. The ```__getitem__``` function must then check the index and return the correct data based on the internal state of the dataloader."
   ]
  },
  {
   "cell_type": "code",
   "execution_count": null,
   "metadata": {},
   "outputs": [
    {
     "data": {
      "text/markdown": [
       "---\n",
       "\n",
       "[source](https://github.com/opimwue/ddopai/blob/main/ddopai/dataloaders/base.py#L27){target=\"_blank\" style=\"float:right; font-size:smaller\"}\n",
       "\n",
       "### BaseDataLoader.__len__\n",
       "\n",
       ">      BaseDataLoader.__len__ ()\n",
       "\n",
       "*Returns the length of the dataset. For dataloaders based on distributions, this \n",
       "should return an error that the length is not defined, otherwise it should return\n",
       "the number of samples in the dataset.*"
      ],
      "text/plain": [
       "---\n",
       "\n",
       "[source](https://github.com/opimwue/ddopai/blob/main/ddopai/dataloaders/base.py#L27){target=\"_blank\" style=\"float:right; font-size:smaller\"}\n",
       "\n",
       "### BaseDataLoader.__len__\n",
       "\n",
       ">      BaseDataLoader.__len__ ()\n",
       "\n",
       "*Returns the length of the dataset. For dataloaders based on distributions, this \n",
       "should return an error that the length is not defined, otherwise it should return\n",
       "the number of samples in the dataset.*"
      ]
     },
     "execution_count": null,
     "metadata": {},
     "output_type": "execute_result"
    }
   ],
   "source": [
    "show_doc(BaseDataLoader.__len__)"
   ]
  },
  {
   "cell_type": "code",
   "execution_count": null,
   "metadata": {},
   "outputs": [
    {
     "data": {
      "text/markdown": [
       "---\n",
       "\n",
       "[source](https://github.com/opimwue/ddopai/blob/main/ddopai/dataloaders/base.py#L36){target=\"_blank\" style=\"float:right; font-size:smaller\"}\n",
       "\n",
       "### BaseDataLoader.__getitem__\n",
       "\n",
       ">      BaseDataLoader.__getitem__ (idx)\n",
       "\n",
       "*Returns always a tuple of X and Y data. If no X data is available, return None.*"
      ],
      "text/plain": [
       "---\n",
       "\n",
       "[source](https://github.com/opimwue/ddopai/blob/main/ddopai/dataloaders/base.py#L36){target=\"_blank\" style=\"float:right; font-size:smaller\"}\n",
       "\n",
       "### BaseDataLoader.__getitem__\n",
       "\n",
       ">      BaseDataLoader.__getitem__ (idx)\n",
       "\n",
       "*Returns always a tuple of X and Y data. If no X data is available, return None.*"
      ]
     },
     "execution_count": null,
     "metadata": {},
     "output_type": "execute_result"
    }
   ],
   "source": [
    "show_doc(BaseDataLoader.__getitem__)"
   ]
  },
  {
   "cell_type": "code",
   "execution_count": null,
   "metadata": {},
   "outputs": [
    {
     "data": {
      "text/markdown": [
       "---\n",
       "\n",
       "[source](https://github.com/opimwue/ddopai/blob/main/ddopai/dataloaders/base.py#L45){target=\"_blank\" style=\"float:right; font-size:smaller\"}\n",
       "\n",
       "### BaseDataLoader.X_shape\n",
       "\n",
       ">      BaseDataLoader.X_shape ()\n",
       "\n",
       "*Returns the shape of the X data.\n",
       "It should follow the format (n_samples, n_features). If the data has a time dimension with\n",
       "a fixed length, the shape should be (n_samples, n_time_steps, n_features). If the data is \n",
       "generated from a distribtition, n_samples should be set to 1.*"
      ],
      "text/plain": [
       "---\n",
       "\n",
       "[source](https://github.com/opimwue/ddopai/blob/main/ddopai/dataloaders/base.py#L45){target=\"_blank\" style=\"float:right; font-size:smaller\"}\n",
       "\n",
       "### BaseDataLoader.X_shape\n",
       "\n",
       ">      BaseDataLoader.X_shape ()\n",
       "\n",
       "*Returns the shape of the X data.\n",
       "It should follow the format (n_samples, n_features). If the data has a time dimension with\n",
       "a fixed length, the shape should be (n_samples, n_time_steps, n_features). If the data is \n",
       "generated from a distribtition, n_samples should be set to 1.*"
      ]
     },
     "execution_count": null,
     "metadata": {},
     "output_type": "execute_result"
    }
   ],
   "source": [
    "show_doc(BaseDataLoader.X_shape)"
   ]
  },
  {
   "cell_type": "code",
   "execution_count": null,
   "metadata": {},
   "outputs": [
    {
     "data": {
      "text/markdown": [
       "---\n",
       "\n",
       "[source](https://github.com/opimwue/ddopai/blob/main/ddopai/dataloaders/base.py#L56){target=\"_blank\" style=\"float:right; font-size:smaller\"}\n",
       "\n",
       "### BaseDataLoader.Y_shape\n",
       "\n",
       ">      BaseDataLoader.Y_shape ()\n",
       "\n",
       "*Returns the shape of the Y data.\n",
       "It should follow the format (n_samples, n_SKUs). If the variable of interst is only a single\n",
       "SKU, the shape should be (n_samples, 1). If the data is \n",
       "generated from a distribtition, n_samples should be set to 1.*"
      ],
      "text/plain": [
       "---\n",
       "\n",
       "[source](https://github.com/opimwue/ddopai/blob/main/ddopai/dataloaders/base.py#L56){target=\"_blank\" style=\"float:right; font-size:smaller\"}\n",
       "\n",
       "### BaseDataLoader.Y_shape\n",
       "\n",
       ">      BaseDataLoader.Y_shape ()\n",
       "\n",
       "*Returns the shape of the Y data.\n",
       "It should follow the format (n_samples, n_SKUs). If the variable of interst is only a single\n",
       "SKU, the shape should be (n_samples, 1). If the data is \n",
       "generated from a distribtition, n_samples should be set to 1.*"
      ]
     },
     "execution_count": null,
     "metadata": {},
     "output_type": "execute_result"
    }
   ],
   "source": [
    "show_doc(BaseDataLoader.Y_shape)"
   ]
  },
  {
   "cell_type": "code",
   "execution_count": null,
   "metadata": {},
   "outputs": [
    {
     "data": {
      "text/markdown": [
       "---\n",
       "\n",
       "[source](https://github.com/opimwue/ddopai/blob/main/ddopai/dataloaders/base.py#L66){target=\"_blank\" style=\"float:right; font-size:smaller\"}\n",
       "\n",
       "### BaseDataLoader.get_all_X\n",
       "\n",
       ">      BaseDataLoader.get_all_X (dataset_type:str='train')\n",
       "\n",
       "*Returns the entire features dataset. If no X data is available, return None.\n",
       "Return either the train, val, test, or all data.*\n",
       "\n",
       "|    | **Type** | **Default** | **Details** |\n",
       "| -- | -------- | ----------- | ----------- |\n",
       "| dataset_type | str | train | can be 'train', 'val', 'test', 'all' |"
      ],
      "text/plain": [
       "---\n",
       "\n",
       "[source](https://github.com/opimwue/ddopai/blob/main/ddopai/dataloaders/base.py#L66){target=\"_blank\" style=\"float:right; font-size:smaller\"}\n",
       "\n",
       "### BaseDataLoader.get_all_X\n",
       "\n",
       ">      BaseDataLoader.get_all_X (dataset_type:str='train')\n",
       "\n",
       "*Returns the entire features dataset. If no X data is available, return None.\n",
       "Return either the train, val, test, or all data.*\n",
       "\n",
       "|    | **Type** | **Default** | **Details** |\n",
       "| -- | -------- | ----------- | ----------- |\n",
       "| dataset_type | str | train | can be 'train', 'val', 'test', 'all' |"
      ]
     },
     "execution_count": null,
     "metadata": {},
     "output_type": "execute_result"
    }
   ],
   "source": [
    "show_doc(BaseDataLoader.get_all_X)"
   ]
  },
  {
   "cell_type": "code",
   "execution_count": null,
   "metadata": {},
   "outputs": [
    {
     "data": {
      "text/markdown": [
       "---\n",
       "\n",
       "[source](https://github.com/opimwue/ddopai/blob/main/ddopai/dataloaders/base.py#L77){target=\"_blank\" style=\"float:right; font-size:smaller\"}\n",
       "\n",
       "### BaseDataLoader.get_all_Y\n",
       "\n",
       ">      BaseDataLoader.get_all_Y (dataset_type:str='train')\n",
       "\n",
       "*Returns the entire target dataset. If no Y data is available, return None.\n",
       "Return either the train, val, test, or all data.*\n",
       "\n",
       "|    | **Type** | **Default** | **Details** |\n",
       "| -- | -------- | ----------- | ----------- |\n",
       "| dataset_type | str | train | can be 'train', 'val', 'test', 'all' |"
      ],
      "text/plain": [
       "---\n",
       "\n",
       "[source](https://github.com/opimwue/ddopai/blob/main/ddopai/dataloaders/base.py#L77){target=\"_blank\" style=\"float:right; font-size:smaller\"}\n",
       "\n",
       "### BaseDataLoader.get_all_Y\n",
       "\n",
       ">      BaseDataLoader.get_all_Y (dataset_type:str='train')\n",
       "\n",
       "*Returns the entire target dataset. If no Y data is available, return None.\n",
       "Return either the train, val, test, or all data.*\n",
       "\n",
       "|    | **Type** | **Default** | **Details** |\n",
       "| -- | -------- | ----------- | ----------- |\n",
       "| dataset_type | str | train | can be 'train', 'val', 'test', 'all' |"
      ]
     },
     "execution_count": null,
     "metadata": {},
     "output_type": "execute_result"
    }
   ],
   "source": [
    "show_doc(BaseDataLoader.get_all_Y)"
   ]
  },
  {
   "cell_type": "code",
   "execution_count": null,
   "metadata": {},
   "outputs": [
    {
     "data": {
      "text/markdown": [
       "---\n",
       "\n",
       "[source](https://github.com/opimwue/ddopai/blob/main/ddopai/dataloaders/base.py#L89){target=\"_blank\" style=\"float:right; font-size:smaller\"}\n",
       "\n",
       "### BaseDataLoader.len_train\n",
       "\n",
       ">      BaseDataLoader.len_train ()\n",
       "\n",
       "*Returns the length of the training set. For dataloaders based on distributions, this\n",
       "should return an error that the length is not defined, otherwise it should return\n",
       "the number of samples in the training set.*"
      ],
      "text/plain": [
       "---\n",
       "\n",
       "[source](https://github.com/opimwue/ddopai/blob/main/ddopai/dataloaders/base.py#L89){target=\"_blank\" style=\"float:right; font-size:smaller\"}\n",
       "\n",
       "### BaseDataLoader.len_train\n",
       "\n",
       ">      BaseDataLoader.len_train ()\n",
       "\n",
       "*Returns the length of the training set. For dataloaders based on distributions, this\n",
       "should return an error that the length is not defined, otherwise it should return\n",
       "the number of samples in the training set.*"
      ]
     },
     "execution_count": null,
     "metadata": {},
     "output_type": "execute_result"
    }
   ],
   "source": [
    "show_doc(BaseDataLoader.len_train)"
   ]
  },
  {
   "cell_type": "code",
   "execution_count": null,
   "metadata": {},
   "outputs": [
    {
     "data": {
      "text/markdown": [
       "---\n",
       "\n",
       "[source](https://github.com/opimwue/ddopai/blob/main/ddopai/dataloaders/base.py#L101){target=\"_blank\" style=\"float:right; font-size:smaller\"}\n",
       "\n",
       "### BaseDataLoader.len_val\n",
       "\n",
       ">      BaseDataLoader.len_val ()\n",
       "\n",
       "*Returns the length of the validation set. For dataloaders based on distributions, this\n",
       "should return an error that the length is not defined, otherwise it should return\n",
       "the number of samples in the validation set.\n",
       "\n",
       "If no valiation set is defined, raise an error.*"
      ],
      "text/plain": [
       "---\n",
       "\n",
       "[source](https://github.com/opimwue/ddopai/blob/main/ddopai/dataloaders/base.py#L101){target=\"_blank\" style=\"float:right; font-size:smaller\"}\n",
       "\n",
       "### BaseDataLoader.len_val\n",
       "\n",
       ">      BaseDataLoader.len_val ()\n",
       "\n",
       "*Returns the length of the validation set. For dataloaders based on distributions, this\n",
       "should return an error that the length is not defined, otherwise it should return\n",
       "the number of samples in the validation set.\n",
       "\n",
       "If no valiation set is defined, raise an error.*"
      ]
     },
     "execution_count": null,
     "metadata": {},
     "output_type": "execute_result"
    }
   ],
   "source": [
    "show_doc(BaseDataLoader.len_val)"
   ]
  },
  {
   "cell_type": "code",
   "execution_count": null,
   "metadata": {},
   "outputs": [
    {
     "data": {
      "text/markdown": [
       "---\n",
       "\n",
       "[source](https://github.com/opimwue/ddopai/blob/main/ddopai/dataloaders/base.py#L116){target=\"_blank\" style=\"float:right; font-size:smaller\"}\n",
       "\n",
       "### BaseDataLoader.len_test\n",
       "\n",
       ">      BaseDataLoader.len_test ()\n",
       "\n",
       "*Returns the length of the test set. For dataloaders based on distributions, this\n",
       "should return an error that the length is not defined, otherwise it should return\n",
       "the number of samples in the test set.\n",
       "\n",
       "If no test set is defined, raise an error.*"
      ],
      "text/plain": [
       "---\n",
       "\n",
       "[source](https://github.com/opimwue/ddopai/blob/main/ddopai/dataloaders/base.py#L116){target=\"_blank\" style=\"float:right; font-size:smaller\"}\n",
       "\n",
       "### BaseDataLoader.len_test\n",
       "\n",
       ">      BaseDataLoader.len_test ()\n",
       "\n",
       "*Returns the length of the test set. For dataloaders based on distributions, this\n",
       "should return an error that the length is not defined, otherwise it should return\n",
       "the number of samples in the test set.\n",
       "\n",
       "If no test set is defined, raise an error.*"
      ]
     },
     "execution_count": null,
     "metadata": {},
     "output_type": "execute_result"
    }
   ],
   "source": [
    "show_doc(BaseDataLoader.len_test)"
   ]
  },
  {
   "cell_type": "code",
   "execution_count": null,
   "metadata": {},
   "outputs": [
    {
     "data": {
      "text/markdown": [
       "---\n",
       "\n",
       "[source](https://github.com/opimwue/ddopai/blob/main/ddopai/dataloaders/base.py#L130){target=\"_blank\" style=\"float:right; font-size:smaller\"}\n",
       "\n",
       "### BaseDataLoader.train\n",
       "\n",
       ">      BaseDataLoader.train ()\n",
       "\n",
       "*Set the internal state of the dataloader to train*"
      ],
      "text/plain": [
       "---\n",
       "\n",
       "[source](https://github.com/opimwue/ddopai/blob/main/ddopai/dataloaders/base.py#L130){target=\"_blank\" style=\"float:right; font-size:smaller\"}\n",
       "\n",
       "### BaseDataLoader.train\n",
       "\n",
       ">      BaseDataLoader.train ()\n",
       "\n",
       "*Set the internal state of the dataloader to train*"
      ]
     },
     "execution_count": null,
     "metadata": {},
     "output_type": "execute_result"
    }
   ],
   "source": [
    "show_doc(BaseDataLoader.train)"
   ]
  },
  {
   "cell_type": "code",
   "execution_count": null,
   "metadata": {},
   "outputs": [
    {
     "data": {
      "text/markdown": [
       "---\n",
       "\n",
       "[source](https://github.com/opimwue/ddopai/blob/main/ddopai/dataloaders/base.py#L138){target=\"_blank\" style=\"float:right; font-size:smaller\"}\n",
       "\n",
       "### BaseDataLoader.val\n",
       "\n",
       ">      BaseDataLoader.val ()\n",
       "\n",
       "*Set the internal state of the dataloader to validation*"
      ],
      "text/plain": [
       "---\n",
       "\n",
       "[source](https://github.com/opimwue/ddopai/blob/main/ddopai/dataloaders/base.py#L138){target=\"_blank\" style=\"float:right; font-size:smaller\"}\n",
       "\n",
       "### BaseDataLoader.val\n",
       "\n",
       ">      BaseDataLoader.val ()\n",
       "\n",
       "*Set the internal state of the dataloader to validation*"
      ]
     },
     "execution_count": null,
     "metadata": {},
     "output_type": "execute_result"
    }
   ],
   "source": [
    "show_doc(BaseDataLoader.val)"
   ]
  },
  {
   "cell_type": "code",
   "execution_count": null,
   "metadata": {},
   "outputs": [
    {
     "data": {
      "text/markdown": [
       "---\n",
       "\n",
       "[source](https://github.com/opimwue/ddopai/blob/main/ddopai/dataloaders/base.py#L149){target=\"_blank\" style=\"float:right; font-size:smaller\"}\n",
       "\n",
       "### BaseDataLoader.test\n",
       "\n",
       ">      BaseDataLoader.test ()\n",
       "\n",
       "*Set the internal state of the dataloader to test*"
      ],
      "text/plain": [
       "---\n",
       "\n",
       "[source](https://github.com/opimwue/ddopai/blob/main/ddopai/dataloaders/base.py#L149){target=\"_blank\" style=\"float:right; font-size:smaller\"}\n",
       "\n",
       "### BaseDataLoader.test\n",
       "\n",
       ">      BaseDataLoader.test ()\n",
       "\n",
       "*Set the internal state of the dataloader to test*"
      ]
     },
     "execution_count": null,
     "metadata": {},
     "output_type": "execute_result"
    }
   ],
   "source": [
    "show_doc(BaseDataLoader.test)"
   ]
  },
  {
   "cell_type": "code",
   "execution_count": null,
   "metadata": {},
   "outputs": [],
   "source": [
    "#| export\n",
    "class DummyDataLoader(BaseDataLoader):\n",
    "   \n",
    "    \"\"\"\n",
    "    Dummy class for data loaders that can be usef for environment that do not require any data.\n",
    "    \"\"\"\n",
    "\n",
    "    def __init__(self):\n",
    "        self.dataset_type = \"train\"\n",
    "\n",
    "    def __len__(self):\n",
    "        '''\n",
    "\n",
    "        '''\n",
    "        pass\n",
    "\n",
    "    def __getitem__(self, idx):\n",
    "\n",
    "        \"\"\"\n",
    "\n",
    "        \"\"\"\n",
    "        pass\n",
    "\n",
    "    @property\n",
    "    def X_shape(self):\n",
    "        \"\"\"\n",
    "\n",
    "        \"\"\"\n",
    "        pass\n",
    "\n",
    "    @property\n",
    "    def Y_shape(self):\n",
    "        \"\"\"\n",
    "\n",
    "        \"\"\"\n",
    "        pass\n",
    "\n",
    "    def get_all_X(self,\n",
    "                dataset_type: str = 'train' # can be 'train', 'val', 'test', 'all'\n",
    "                ): \n",
    "\n",
    "        \"\"\"\n",
    "\n",
    "        \"\"\"\n",
    "        pass    \n",
    "\n",
    "\n",
    "    def get_all_Y(self,\n",
    "                dataset_type: str = 'train' # can be 'train', 'val', 'test', 'all'\n",
    "                ): \n",
    "\n",
    "        \"\"\"\n",
    "\n",
    "        \"\"\"\n",
    "        pass  \n",
    "\n",
    "    @property\n",
    "    def len_train(self):\n",
    "\n",
    "        \"\"\"\n",
    "\n",
    "        \"\"\"\n",
    "\n",
    "        pass\n",
    "\n",
    "    @property\n",
    "    def len_val(self):\n",
    "\n",
    "        \"\"\"\n",
    "\n",
    "        \"\"\"\n",
    "\n",
    "        pass\n",
    "    \n",
    "    @property\n",
    "    def len_test(self):\n",
    "        \n",
    "        \"\"\"\n",
    "\n",
    "        \"\"\"\n",
    "\n",
    "        pass\n",
    "\n",
    "        \n",
    "    def train(self):\n",
    "\n",
    "        \"\"\"\n",
    "        Set the internal state of the dataloader to train\n",
    "        \"\"\"\n",
    "\n",
    "        self.dataset_type = \"train\"\n",
    "\n",
    "    def val(self):\n",
    "\n",
    "        \"\"\"\n",
    "        Set the internal state of the dataloader to validation\n",
    "        \"\"\"\n",
    "\n",
    "        if self.val_index_start is None:\n",
    "            raise ValueError('no validation set defined')\n",
    "        else:\n",
    "            self.dataset_type = \"val\"\n",
    "\n",
    "    def test(self):\n",
    "\n",
    "        \"\"\"\n",
    "        Set the internal state of the dataloader to test\n",
    "        \"\"\"\n",
    "\n",
    "        if self.test_index_start is None:\n",
    "            raise ValueError('no test set defined')\n",
    "        else:\n",
    "            self.dataset_type = \"test\"\n"
   ]
  },
  {
   "cell_type": "code",
   "execution_count": null,
   "metadata": {},
   "outputs": [],
   "source": []
  },
  {
   "cell_type": "code",
   "execution_count": null,
   "metadata": {},
   "outputs": [],
   "source": []
  },
  {
   "cell_type": "code",
   "execution_count": null,
   "metadata": {},
   "outputs": [],
   "source": []
  },
  {
   "cell_type": "code",
   "execution_count": null,
   "metadata": {},
   "outputs": [],
   "source": [
    "#| hide\n",
    "import nbdev; nbdev.nbdev_export()"
   ]
  },
  {
   "cell_type": "code",
   "execution_count": null,
   "metadata": {},
   "outputs": [],
   "source": []
  },
  {
   "cell_type": "code",
   "execution_count": null,
   "metadata": {},
   "outputs": [],
   "source": []
  },
  {
   "cell_type": "code",
   "execution_count": null,
   "metadata": {},
   "outputs": [],
   "source": []
  },
  {
   "cell_type": "code",
   "execution_count": null,
   "metadata": {},
   "outputs": [],
   "source": []
  }
 ],
 "metadata": {
  "kernelspec": {
   "display_name": "python3",
   "language": "python",
   "name": "python3"
  }
 },
 "nbformat": 4,
 "nbformat_minor": 4
}
