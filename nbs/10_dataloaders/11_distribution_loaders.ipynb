{
 "cells": [
  {
   "cell_type": "markdown",
   "metadata": {},
   "source": [
    "# Inventory Management Environments\n",
    "\n",
    "> To be written."
   ]
  },
  {
   "cell_type": "code",
   "execution_count": null,
   "metadata": {},
   "outputs": [],
   "source": [
    "#| default_exp dataloaders.distribution"
   ]
  },
  {
   "cell_type": "code",
   "execution_count": null,
   "metadata": {},
   "outputs": [],
   "source": [
    "#| hide\n",
    "from nbdev.showdoc import *"
   ]
  },
  {
   "cell_type": "code",
   "execution_count": null,
   "metadata": {},
   "outputs": [],
   "source": [
    "#| export\n",
    "import numpy as np\n",
    "from abc import ABC, abstractmethod\n",
    "from typing import Union\n",
    "\n",
    "from ddopnew.dataloaders.base import BaseDataLoader"
   ]
  },
  {
   "cell_type": "code",
   "execution_count": null,
   "metadata": {},
   "outputs": [],
   "source": [
    "#| export\n",
    "class NormalDistributionDataLoader(BaseDataLoader):\n",
    "    \n",
    "    def __init__(self,\n",
    "        mean: float,\n",
    "        std: float,\n",
    "        num_SKUs: int,\n",
    "        truncated_low: int = 0,\n",
    "        truncated_high: int = None\n",
    "    ):\n",
    "        self.num_SKUs = num_SKUs\n",
    "        self.mean = mean\n",
    "        self.std = std\n",
    "        self.truncated_low = truncated_low\n",
    "        self.truncated_high = truncated_high\n",
    "\n",
    "        super().__init__()\n",
    "    \n",
    "    def __getitem__(self, idx):\n",
    "        \n",
    "        Y = np.random.normal(self.mean, self.std, self.num_SKUs)\n",
    "\n",
    "        if self.truncated_low is not None:\n",
    "            Y = np.maximum(Y, self.truncated_low)\n",
    "        if self.truncated_high is not None:\n",
    "            Y = np.minimum(Y, self.truncated_high)\n",
    "        \n",
    "        return None, Y\n",
    "\n",
    "    def __len__(self):\n",
    "        raise ValueError('Length of a distribution is not defined')\n",
    "    \n",
    "    @property\n",
    "    def X_shape(self):\n",
    "        return None\n",
    "    \n",
    "    @property\n",
    "    def Y_shape(self):\n",
    "        return (1, self.num_SKUs)"
   ]
  },
  {
   "cell_type": "code",
   "execution_count": null,
   "metadata": {},
   "outputs": [
    {
     "name": "stdout",
     "output_type": "stream",
     "text": [
      "sample: None [5.94106396 3.21748688]\n",
      "sample shape Y: (2,)\n"
     ]
    }
   ],
   "source": [
    "dataloader = NormalDistributionDataLoader(mean=3, std=4, num_SKUs=2)\n",
    "\n",
    "sample_X, sample_Y = dataloader[0]\n",
    "print(\"sample:\", sample_X, sample_Y)\n",
    "print(\"sample shape Y:\", sample_Y.shape)\n",
    "\n",
    "## The next print should give an error:\n",
    "#print(\"length:\", len(dataloader))"
   ]
  },
  {
   "cell_type": "code",
   "execution_count": null,
   "metadata": {},
   "outputs": [],
   "source": [
    "#| hide\n",
    "import nbdev; nbdev.nbdev_export()"
   ]
  }
 ],
 "metadata": {
  "kernelspec": {
   "display_name": "python3",
   "language": "python",
   "name": "python3"
  }
 },
 "nbformat": 4,
 "nbformat_minor": 4
}
