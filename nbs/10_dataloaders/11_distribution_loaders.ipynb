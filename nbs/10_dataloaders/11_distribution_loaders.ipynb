{
 "cells": [
  {
   "cell_type": "markdown",
   "metadata": {},
   "source": [
    "# Distribution-based dataloaders\n",
    "\n",
    "> Dataloaders that return data by sampling from some pre-defined distributions."
   ]
  },
  {
   "cell_type": "code",
   "execution_count": null,
   "metadata": {},
   "outputs": [],
   "source": [
    "#| default_exp dataloaders.distribution"
   ]
  },
  {
   "cell_type": "code",
   "execution_count": null,
   "metadata": {},
   "outputs": [],
   "source": [
    "#| hide\n",
    "from nbdev.showdoc import *"
   ]
  },
  {
   "cell_type": "code",
   "execution_count": null,
   "metadata": {},
   "outputs": [],
   "source": [
    "#| export\n",
    "import numpy as np\n",
    "from abc import ABC, abstractmethod\n",
    "from typing import Union\n",
    "\n",
    "from ddopnew.dataloaders.base import BaseDataLoader"
   ]
  },
  {
   "cell_type": "code",
   "execution_count": null,
   "metadata": {},
   "outputs": [],
   "source": [
    "#| export\n",
    "class BaseDistributionDataLoader(BaseDataLoader):\n",
    "\n",
    "    is_distribution = True\n",
    "\n",
    "    def __init__(self):\n",
    "        super().__init__()"
   ]
  },
  {
   "cell_type": "code",
   "execution_count": null,
   "metadata": {},
   "outputs": [],
   "source": [
    "#| export\n",
    "class NormalDistributionDataLoader(BaseDistributionDataLoader):\n",
    "\n",
    "    \"\"\"\n",
    "    A dataloader that generates a dataset of normally distributed values.\n",
    "    \"\"\"\n",
    "    \n",
    "    def __init__(self,\n",
    "        mean: float,\n",
    "        std: float,\n",
    "        num_units: int,\n",
    "        truncated_low: int = 0,\n",
    "        truncated_high: int = None #\n",
    "    ):\n",
    "        self.num_units = num_units\n",
    "        self.mean = mean\n",
    "        self.std = std\n",
    "        self.truncated_low = truncated_low\n",
    "        self.truncated_high = truncated_high\n",
    "\n",
    "        self.val_index_start = 0 # No special validation set, necessary such that dataloader.val() does not throw an error\n",
    "        self.test_index_start = 0  # No special test set, necessary such that dataloader.test() does not throw an error\n",
    "        \n",
    "        super().__init__()\n",
    "    \n",
    "    def __getitem__(self, idx):\n",
    "\n",
    "        \"\"\"\n",
    "    \n",
    "        Samples a datapoint from the distribution. As the distribution is generated on the fly, the index is not used.\n",
    "        \"\"\"\n",
    "\n",
    "        Y = np.random.normal(self.mean, self.std, self.num_units)\n",
    "\n",
    "        if self.truncated_low is not None:\n",
    "            Y = np.maximum(Y, self.truncated_low)\n",
    "        if self.truncated_high is not None:\n",
    "            Y = np.minimum(Y, self.truncated_high)\n",
    "\n",
    "        return None, Y\n",
    "\n",
    "    def __len__(self):\n",
    "        \"\"\"\n",
    "        Returns the length of the distribution. As the distribution is generated on the fly, the length is not defined.\n",
    "        \"\"\"\n",
    "        raise ValueError('Length of a distribution is not defined')\n",
    "\n",
    "    @property\n",
    "    def X_shape(self):\n",
    "        return None\n",
    "\n",
    "    @property\n",
    "    def Y_shape(self):\n",
    "        return (1, self.num_units)\n",
    " \n",
    "    def get_all_X(self):\n",
    "\n",
    "        \"\"\"\n",
    "        Returns the entire features dataset. If no X data is available, return None.\n",
    "        \"\"\"\n",
    "        return None\n",
    "\n",
    "    def get_all_Y(self):\n",
    "\n",
    "        \"\"\"\n",
    "        Returns the entire target dataset. If no Y data is available, return None.\n",
    "        \"\"\"\n",
    "        return None\n",
    "\n",
    "    @property\n",
    "    def len_train(self):\n",
    "        return np.inf\n",
    "\n",
    "    @property\n",
    "    def len_val(self):\n",
    "        return np.inf\n",
    "\n",
    "    @property\n",
    "    def len_test(self):\n",
    "        return np.inf"
   ]
  },
  {
   "cell_type": "code",
   "execution_count": null,
   "metadata": {},
   "outputs": [
    {
     "data": {
      "text/markdown": [
       "---\n",
       "\n",
       "[source](https://github.com/opimwue/ddopnew/blob/main/ddopnew/dataloaders/distribution.py#L20){target=\"_blank\" style=\"float:right; font-size:smaller\"}\n",
       "\n",
       "## NormalDistributionDataLoader\n",
       "\n",
       ">      NormalDistributionDataLoader (mean:float, std:float, num_units:int,\n",
       ">                                    truncated_low:int=0,\n",
       ">                                    truncated_high:int=None)\n",
       "\n",
       "*A dataloader that generates a dataset of normally distributed values.*\n",
       "\n",
       "|    | **Type** | **Default** | **Details** |\n",
       "| -- | -------- | ----------- | ----------- |\n",
       "| mean | float |  |  |\n",
       "| std | float |  |  |\n",
       "| num_units | int |  |  |\n",
       "| truncated_low | int | 0 |  |\n",
       "| truncated_high | int | None |  |"
      ],
      "text/plain": [
       "---\n",
       "\n",
       "[source](https://github.com/opimwue/ddopnew/blob/main/ddopnew/dataloaders/distribution.py#L20){target=\"_blank\" style=\"float:right; font-size:smaller\"}\n",
       "\n",
       "## NormalDistributionDataLoader\n",
       "\n",
       ">      NormalDistributionDataLoader (mean:float, std:float, num_units:int,\n",
       ">                                    truncated_low:int=0,\n",
       ">                                    truncated_high:int=None)\n",
       "\n",
       "*A dataloader that generates a dataset of normally distributed values.*\n",
       "\n",
       "|    | **Type** | **Default** | **Details** |\n",
       "| -- | -------- | ----------- | ----------- |\n",
       "| mean | float |  |  |\n",
       "| std | float |  |  |\n",
       "| num_units | int |  |  |\n",
       "| truncated_low | int | 0 |  |\n",
       "| truncated_high | int | None |  |"
      ]
     },
     "execution_count": null,
     "metadata": {},
     "output_type": "execute_result"
    }
   ],
   "source": [
    "show_doc(NormalDistributionDataLoader, title_level=2)"
   ]
  },
  {
   "cell_type": "code",
   "execution_count": null,
   "metadata": {},
   "outputs": [
    {
     "name": "stdout",
     "output_type": "stream",
     "text": [
      "sample: None [0. 0.]\n",
      "sample shape Y: (2,)\n"
     ]
    }
   ],
   "source": [
    "dataloader = NormalDistributionDataLoader(mean=3, std=4, num_units=2)\n",
    "\n",
    "sample_X, sample_Y = dataloader[0]\n",
    "print(\"sample:\", sample_X, sample_Y)\n",
    "print(\"sample shape Y:\", sample_Y.shape)\n",
    "\n",
    "## The next print should give an error:\n",
    "#print(\"length:\", len(dataloader))"
   ]
  },
  {
   "cell_type": "code",
   "execution_count": null,
   "metadata": {},
   "outputs": [],
   "source": [
    "dataloader.train()\n",
    "dataloader.val()\n",
    "dataloader.test()"
   ]
  },
  {
   "cell_type": "code",
   "execution_count": null,
   "metadata": {},
   "outputs": [],
   "source": [
    "#| hide\n",
    "import nbdev; nbdev.nbdev_export()"
   ]
  },
  {
   "cell_type": "code",
   "execution_count": null,
   "metadata": {},
   "outputs": [],
   "source": []
  },
  {
   "cell_type": "code",
   "execution_count": null,
   "metadata": {},
   "outputs": [],
   "source": []
  }
 ],
 "metadata": {
  "kernelspec": {
   "display_name": "python3",
   "language": "python",
   "name": "python3"
  }
 },
 "nbformat": 4,
 "nbformat_minor": 4
}
