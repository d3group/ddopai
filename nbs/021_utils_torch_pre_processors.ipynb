{
 "cells": [
  {
   "cell_type": "markdown",
   "metadata": {},
   "source": [
    "# Torch preprocessors\n",
    "\n",
    "Some preprocessors that don't act in the \"draw action\" method of agents based on numpy arrays, but directly in the fit or predict methods of agents based on PyTorch models."
   ]
  },
  {
   "cell_type": "code",
   "execution_count": null,
   "metadata": {},
   "outputs": [],
   "source": [
    "#| default_exp torch_utils.preprocessors"
   ]
  },
  {
   "cell_type": "code",
   "execution_count": null,
   "metadata": {},
   "outputs": [],
   "source": [
    "#| hide\n",
    "from nbdev.showdoc import *"
   ]
  },
  {
   "cell_type": "code",
   "execution_count": null,
   "metadata": {},
   "outputs": [],
   "source": [
    "#| export\n",
    "\n",
    "import numpy as np\n",
    "from typing import Optional\n",
    "\n",
    "import torch\n"
   ]
  },
  {
   "cell_type": "markdown",
   "metadata": {},
   "source": [
    "TODO:\n",
    " - write descriptions\n",
    " - specify typings\n",
    " - ensure documentation on types, outputs, variable descriptions"
   ]
  },
  {
   "cell_type": "code",
   "execution_count": null,
   "metadata": {},
   "outputs": [],
   "source": [
    "#| export\n",
    "\n",
    "class FlattenTimeDim():\n",
    "    \"\"\"\n",
    "    Preprocessor to flatten the time and feature dimension of the input.\n",
    "    Used, e.g., to convert time-series data for models that cannot process\n",
    "    a time dimension such as MLPs or Regression models.\n",
    "    \"\"\"\n",
    "\n",
    "    def __init__(self, allow_2d: Optional[bool] = False):\n",
    "        self.allow_2d = allow_2d\n",
    "\n",
    "    def check_input(self, input: torch.Tensor):\n",
    "        \"\"\"\n",
    "        Check that the input is a PyTorch tensor with the correct shape.\n",
    "\n",
    "        Parameters:\n",
    "        input (torch.Tensor): The input tensor to check.\n",
    "\n",
    "        Raises:\n",
    "        TypeError: If the input is not a PyTorch tensor.\n",
    "        ValueError: If the input tensor does not have the expected dimensions.\n",
    "        \"\"\"\n",
    "        # Check if the input is a PyTorch tensor\n",
    "        if not isinstance(input, torch.Tensor):\n",
    "            raise TypeError(f\"Expected input to be a torch.Tensor but got {type(input)} instead.\")\n",
    "\n",
    "        # Check if the input tensor has the correct dimensions\n",
    "        if input.dim() == 3:\n",
    "            # If the input is 3D, it is valid regardless of allow_2d\n",
    "            return\n",
    "        elif input.dim() == 2:\n",
    "            # If the input is 2D, check if 2D is allowed\n",
    "            if not self.allow_2d:\n",
    "                raise ValueError(\n",
    "                    f\"Expected input to have 3 dimensions with shape (batch_size, timesteps, features), \"\n",
    "                    f\"but got 2D shape {input.shape} instead. 2D inputs are not allowed when allow_2d is False.\"\n",
    "                )\n",
    "        else:\n",
    "            # If the input has dimensions other than 2 or 3\n",
    "            expected_shape_msg = (\n",
    "                \"Expected input to have 3 dimensions with shape (batch_size, timesteps, features)\"\n",
    "                if not self.allow_2d\n",
    "                else \"Expected input to have 3 dimensions with shape (batch_size, timesteps, features) \"\n",
    "                     \"or 2 dimensions with shape (batch_size, features)\"\n",
    "            )\n",
    "            raise ValueError(f\"{expected_shape_msg}, but got shape {input.shape} instead.\")\n",
    "\n",
    "\n",
    "    def __call__(self, input: torch.Tensor) -> torch.Tensor:\n",
    "        \"\"\"\n",
    "        Process the input tensor by keeping the batch dimension and flattening\n",
    "        the time and feature dimensions.\n",
    "\n",
    "        Args:\n",
    "            input (torch.Tensor): The input tensor with shape (batch_size, timesteps, features).\n",
    "\n",
    "        Returns:\n",
    "            torch.Tensor: The reshaped output tensor with shape (batch_size, timesteps * features).\n",
    "        \"\"\"\n",
    "\n",
    "        # Validate the input tensor\n",
    "        self.check_input(input)\n",
    "\n",
    "        if input.dim()==2:\n",
    "            output = input\n",
    "        else:\n",
    "            # Keep the batch dimension, flatten time and feature dimensions\n",
    "            batch_size, timesteps, features = input.shape\n",
    "            output = input.view(batch_size, -1)\n",
    "\n",
    "        return output"
   ]
  },
  {
   "cell_type": "code",
   "execution_count": null,
   "metadata": {},
   "outputs": [],
   "source": [
    "#| hide\n",
    "import nbdev; nbdev.nbdev_export()"
   ]
  },
  {
   "cell_type": "code",
   "execution_count": null,
   "metadata": {},
   "outputs": [],
   "source": []
  }
 ],
 "metadata": {
  "kernelspec": {
   "display_name": "python3",
   "language": "python",
   "name": "python3"
  }
 },
 "nbformat": 4,
 "nbformat_minor": 4
}
