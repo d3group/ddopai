{
 "cells": [
  {
   "cell_type": "markdown",
   "metadata": {},
   "source": [
    "# Inventory utils\n",
    "\n",
    "> Some additional classes and functions that help building inventory management environments."
   ]
  },
  {
   "cell_type": "code",
   "execution_count": null,
   "metadata": {},
   "outputs": [],
   "source": [
    "#| default_exp envs.inventory.inventory_utils"
   ]
  },
  {
   "cell_type": "code",
   "execution_count": null,
   "metadata": {},
   "outputs": [],
   "source": [
    "#| hide\n",
    "from nbdev.showdoc import *"
   ]
  },
  {
   "cell_type": "code",
   "execution_count": null,
   "metadata": {},
   "outputs": [],
   "source": [
    "#| export\n",
    "\n",
    "import logging\n",
    "\n",
    "\n",
    "from abc import ABC, abstractmethod\n",
    "from typing import Union, Tuple, List, Literal\n",
    "\n",
    "from ddopai.envs.base import BaseEnvironment\n",
    "from ddopai.utils import Parameter, MDPInfo\n",
    "from ddopai.dataloaders.base import BaseDataLoader\n",
    "from ddopai.loss_functions import pinball_loss\n",
    "from ddopai.utils import set_param, Parameter\n",
    "\n",
    "\n",
    "import gymnasium as gym\n",
    "\n",
    "import numpy as np\n",
    "import time"
   ]
  },
  {
   "cell_type": "code",
   "execution_count": null,
   "metadata": {},
   "outputs": [],
   "source": [
    "#| export\n",
    "class OrderPipeline():\n",
    "   \n",
    "    \"\"\"\n",
    "    Class to handle the order pipeline in the inventory environments. It is used to keep track of the orders\n",
    "    that are placed. It can account for fixed and variable lead times.\n",
    "    \n",
    "    \"\"\"\n",
    "\n",
    "    def __init__(self, \n",
    "\n",
    "        num_units: int,  # number of units (SKUs)\n",
    "        lead_time_mean: Parameter | np.ndarray | List | int | float,  # mean lead time\n",
    "        lead_time_stochasticity: Literal[\"fixed\", \"gamma\", \"normal_absolute\", \"normal_relative\"] = \"fixed\", # \"fixed\", \"gamma\", \"normal_absolute\", \"normal_relative\"\n",
    "        lead_time_variance: Parameter | np.ndarray | List | int | float | None = None,  # variance of the lead time\n",
    "        max_lead_time: list[object] | None = None,  # maximum lead time in case of stochastic lead times\n",
    "        min_lead_time: list[object] | None = 1,  # minimum lead time in case of stochastic lead times\n",
    "\n",
    "        ) -> None:\n",
    "\n",
    "        self.set_param('num_units', num_units, shape=(1,), new=True)\n",
    "        self.set_param('lead_time_mean', lead_time_mean, shape=(self.num_units[0],), new=True)\n",
    "        self.set_param('lead_time_variance', lead_time_variance, shape=(self.num_units[0],), new=True)\n",
    "        self.lead_time_stochasticity = lead_time_stochasticity\n",
    "        self.check_stochasticity(max_lead_time)\n",
    "\n",
    "        if max_lead_time is None:\n",
    "            self.set_param('max_lead_time', lead_time_mean, shape=(self.num_units[0],), new=True)\n",
    "        else:\n",
    "            self.set_param('max_lead_time', max_lead_time, shape=(self.num_units[0],), new=True)\n",
    "        self.set_param('min_lead_time', min_lead_time, shape=(self.num_units[0],), new=True)\n",
    "\n",
    "        if self.max_lead_time is None:\n",
    "            self.max_lead_time = self.lead_time_mean\n",
    "        if self.min_lead_time is None:\n",
    "            self.min_lead_time = 1\n",
    "\n",
    "        self.check_max_min_mean_lt()\n",
    "  \n",
    "        self.pipeline = np.zeros((np.max(self.max_lead_time), num_units))\n",
    "        self.lead_time_realized = np.zeros((np.max(self.max_lead_time), num_units))\n",
    "\n",
    "    def get_pipeline(self) -> np.ndarray:\n",
    "        \"\"\" Get the current pipeline \"\"\"\n",
    "\n",
    "        return self.pipeline\n",
    "\n",
    "    def reset(self) -> None:\n",
    "        \"\"\" Reset the pipeline \"\"\"\n",
    "\n",
    "        self.pipeline = np.zeros((np.max(self.max_lead_time), self.num_units[0]))\n",
    "        self.lead_time_realized = np.zeros((np.max(self.max_lead_time), self.num_units[0]))\n",
    "\n",
    "\n",
    "    def step(self, \n",
    "        orders: np.ndarray,\n",
    "        ) -> np.ndarray:\n",
    "        \n",
    "        \"\"\" Add orders to the pipeline and return the orders that are arriving \"\"\"\n",
    "\n",
    "\n",
    "        # print(\"beginnig pipeline:\")\n",
    "        # print(self.pipeline)\n",
    "        # print(\"beginnig lead_time_realized:\")\n",
    "        # print(self.lead_time_realized)\n",
    "\n",
    "\n",
    "        orders_arriving = self.get_orders_arriving().copy()\n",
    "        lead_times = self.draw_lead_times().copy()\n",
    "\n",
    "        # print(\"orders_arriving:\")\n",
    "        # print(orders_arriving)\n",
    "        # print(\"new orders:\")\n",
    "        # print(orders)\n",
    "        # print(\"new lead_times:\")\n",
    "        # print(lead_times)\n",
    "\n",
    "\n",
    "        self.pipeline = np.roll(self.pipeline, -1, axis=0)\n",
    "        self.lead_time_realized = np.roll(self.lead_time_realized, -1, axis=0)\n",
    "        self.pipeline[-1, :] = 0\n",
    "        self.lead_time_realized[-1, :] = 0\n",
    "        \n",
    "        self.pipeline[-1, :] = orders.copy()\n",
    "        self.lead_time_realized[-1, :] = lead_times\n",
    "        self.lead_time_realized -= 1\n",
    "        self.lead_time_realized = np.clip(self.lead_time_realized, 0, None)\n",
    "\n",
    "        # print(\"ending pipeline:\")\n",
    "        # print(self.pipeline)\n",
    "        # print(\"ending lead_time_realized:\")\n",
    "        # print(self.lead_time_realized)\n",
    "\n",
    "        return orders_arriving\n",
    "\n",
    "    def get_orders_arriving(self) -> np.ndarray:\n",
    "\n",
    "        \"\"\" Get the orders that are arriving in the current period \"\"\"\n",
    "\n",
    "        orders_arriving = np.zeros(self.num_units[0])\n",
    "        for i in range(self.num_units[0]):\n",
    "            # check along the pipeline where the lead time is 0\n",
    "\n",
    "            arriving_indices = np.where(self.lead_time_realized[:, i] == 0)[0]\n",
    "\n",
    "            orders_arriving[i] = np.sum(self.pipeline[arriving_indices, i])\n",
    "\n",
    "            self.pipeline[arriving_indices, i] = 0\n",
    "\n",
    "        return orders_arriving\n",
    "\n",
    "    def draw_lead_times(self) -> np.ndarray:\n",
    "        \"\"\" Draw lead times for the orders \"\"\"\n",
    "\n",
    "        if self.lead_time_stochasticity == \"fixed\":\n",
    "            lead_times = self.lead_time_mean\n",
    "        elif self.lead_time_stochasticity == \"gamma\":\n",
    "            lead_times = np.random.gamma(self.lead_time_mean, 1, self.num_units[0])\n",
    "        elif self.lead_time_stochasticity == \"normal_absolute\":\n",
    "            lead_times = np.random.normal(self.lead_time_mean, self.lead_time_variance, self.num_units[0])\n",
    "        elif self.lead_time_stochasticity == \"normal_relative\":\n",
    "            lead_times = np.random.normal(self.lead_time_mean, self.lead_time_mean * self.lead_time_variance, self.num_units[0])\n",
    "        else:\n",
    "            raise ValueError(\"Invalid lead time stochasticity\")\n",
    "\n",
    "        lead_times = np.clip(lead_times, self.min_lead_time, self.max_lead_time)\n",
    "        lead_times = np.round(lead_times).astype(int)\n",
    "\n",
    "        return lead_times\n",
    "\n",
    "    def check_stochasticity(self, max_lead_time):\n",
    "        \"\"\" Check that params for stochastic lead times are set correctly \"\"\"\n",
    "\n",
    "        # lead time mean to be set in any case (it will be the determinstic lead time if lead_time_stochasticity is fixed)\n",
    "        if self.lead_time_mean is None:\n",
    "            raise ValueError(\"Lead time mean is not set\")\n",
    "        if self.lead_time_stochasticity == \"fixed\" or self.lead_time_stochasticity == \"gamma\":\n",
    "            if self.lead_time_variance is not None:\n",
    "                raise ValueError(\"Lead time variance must be None for fixed lead times (no variance) or gamma lead times (variance is set by the gamma distribution)\")\n",
    "        elif self.lead_time_stochasticity == \"normal_absolute\" or self.lead_time_stochasticity == \"normal_relative\":\n",
    "            if self.lead_time_variance is None:\n",
    "                raise ValueError(\"Lead time variance must be set for normal lead times\")\n",
    "        else:\n",
    "            raise ValueError(\"Invalid lead time stochasticity\")\n",
    "        \n",
    "        if self.lead_time_stochasticity != \"fixed\":\n",
    "            if max_lead_time is None:\n",
    "                raise ValueError(\"Max lead time must be set for stochastic lead times\")\n",
    "\n",
    "    def check_max_min_mean_lt(self):\n",
    "        if np.any(self.max_lead_time < self.lead_time_mean):\n",
    "            raise ValueError(\"Max lead time must be greater than or equal to the lead time mean\")\n",
    "        if np.any(self.min_lead_time < 1):\n",
    "            raise ValueError(\"Min lead time must be at least 1\")\n",
    "        if np.any(self.min_lead_time > self.lead_time_mean):\n",
    "            raise ValueError(\"Min lead time must be less than or equal to the lead time mean\")\n",
    "        if np.any(self.max_lead_time < self.min_lead_time):\n",
    "            raise ValueError(\"Max lead time must be greater than or equal to the min lead time\")\n",
    "        if np.any(self.max_lead_time < 1):\n",
    "            raise ValueError(\"Max lead time must be at least 1\")\n",
    "        if np.any(self.lead_time_mean < 1):\n",
    "            raise ValueError(\"Lead time mean must be at least 1\")\n",
    "            \n",
    "        \n",
    "    def set_param(self,\n",
    "                        name: str, # name of the parameter (will become the attribute name)\n",
    "                        input: Parameter | int | float | np.ndarray | List, # input value of the parameter\n",
    "                        shape: tuple = (1,), # shape of the parameter\n",
    "                        new: bool = False # whether to create a new parameter or update an existing one\n",
    "                        ) -> None: #\n",
    "        \n",
    "        \"\"\"\n",
    "        Set a parameter for the environment. It converts scalar values to numpy arrays and ensures that\n",
    "        environment parameters are either of the Parameter class of Numpy arrays. If new is set to True, \n",
    "        the function will create a new parameter or update an existing one otherwise. If new is set to\n",
    "        False, the function will raise an error if the parameter does not exist.\n",
    "        \"\"\"\n",
    "\n",
    "        set_param(self, name, input, shape, new)\n",
    "\n",
    "    @property\n",
    "    def shape(self) -> Tuple:\n",
    "        \"\"\" Get the shape of the pipeline \"\"\"\n",
    "\n",
    "        return self.pipeline.shape\n"
   ]
  },
  {
   "cell_type": "code",
   "execution_count": null,
   "metadata": {},
   "outputs": [],
   "source": [
    "#| hide\n",
    "# testpipeline = OrderPipeline(\n",
    "#                             num_units=2,\n",
    "#                             lead_time_mean=[2, 3],\n",
    "#                             max_lead_time=[5, 5],\n",
    "#                             lead_time_variance=[.25],\n",
    "#                             lead_time_stochasticity=\"normal_relative\",\n",
    "\n",
    "# )\n",
    "\n",
    "# testpipeline.pipeline\n",
    "\n",
    "# orders_arriving = testpipeline.step(np.array([1, 2]))\n",
    "# orders_arriving = testpipeline.step(np.array([3, 4]))\n",
    "# orders_arriving = testpipeline.step(np.array([5, 6]))\n",
    "# orders_arriving = testpipeline.step(np.array([7, 8]))\n",
    "# orders_arriving = testpipeline.step(np.array([9, 10]))"
   ]
  },
  {
   "cell_type": "code",
   "execution_count": null,
   "metadata": {},
   "outputs": [
    {
     "data": {
      "text/markdown": [
       "---\n",
       "\n",
       "## OrderPipeline\n",
       "\n",
       ">      OrderPipeline (num_units:int, lead_time_mean:Union[ddopai.utils.Parameter\n",
       ">                     ,numpy.ndarray,List,int,float], lead_time_stochasticity:Li\n",
       ">                     teral['fixed','gamma','normal_absolute','normal_relative']\n",
       ">                     ='fixed', lead_time_variance:Union[ddopai.utils.Parameter,\n",
       ">                     int,float,numpy.ndarray,List,NoneType]=None,\n",
       ">                     max_lead_time:list[object]|None=None,\n",
       ">                     min_lead_time:list[object]|None=1)\n",
       "\n",
       "*Class to handle the order pipeline in the inventory environments. It is used to keep track of the orders\n",
       "that are placed. It can account for fixed and variable lead times.*\n",
       "\n",
       "|    | **Type** | **Default** | **Details** |\n",
       "| -- | -------- | ----------- | ----------- |\n",
       "| num_units | int |  | number of units (SKUs) |\n",
       "| lead_time_mean | Union |  | mean lead time |\n",
       "| lead_time_stochasticity | Literal | fixed | \"fixed\", \"gamma\", \"normal_absolute\", \"normal_relative\" |\n",
       "| lead_time_variance | Union | None | variance of the lead time |\n",
       "| max_lead_time | list[object] \\| None | None | maximum lead time in case of stochastic lead times |\n",
       "| min_lead_time | list[object] \\| None | 1 | minimum lead time in case of stochastic lead times |\n",
       "| **Returns** | **None** |  |  |"
      ],
      "text/plain": [
       "---\n",
       "\n",
       "## OrderPipeline\n",
       "\n",
       ">      OrderPipeline (num_units:int, lead_time_mean:Union[ddopai.utils.Parameter\n",
       ">                     ,numpy.ndarray,List,int,float], lead_time_stochasticity:Li\n",
       ">                     teral['fixed','gamma','normal_absolute','normal_relative']\n",
       ">                     ='fixed', lead_time_variance:Union[ddopai.utils.Parameter,\n",
       ">                     int,float,numpy.ndarray,List,NoneType]=None,\n",
       ">                     max_lead_time:list[object]|None=None,\n",
       ">                     min_lead_time:list[object]|None=1)\n",
       "\n",
       "*Class to handle the order pipeline in the inventory environments. It is used to keep track of the orders\n",
       "that are placed. It can account for fixed and variable lead times.*\n",
       "\n",
       "|    | **Type** | **Default** | **Details** |\n",
       "| -- | -------- | ----------- | ----------- |\n",
       "| num_units | int |  | number of units (SKUs) |\n",
       "| lead_time_mean | Union |  | mean lead time |\n",
       "| lead_time_stochasticity | Literal | fixed | \"fixed\", \"gamma\", \"normal_absolute\", \"normal_relative\" |\n",
       "| lead_time_variance | Union | None | variance of the lead time |\n",
       "| max_lead_time | list[object] \\| None | None | maximum lead time in case of stochastic lead times |\n",
       "| min_lead_time | list[object] \\| None | 1 | minimum lead time in case of stochastic lead times |\n",
       "| **Returns** | **None** |  |  |"
      ]
     },
     "execution_count": null,
     "metadata": {},
     "output_type": "execute_result"
    }
   ],
   "source": [
    "show_doc(OrderPipeline, title_level=2)"
   ]
  },
  {
   "cell_type": "code",
   "execution_count": null,
   "metadata": {},
   "outputs": [
    {
     "data": {
      "text/markdown": [
       "---\n",
       "\n",
       "### OrderPipeline.get_pipeline\n",
       "\n",
       ">      OrderPipeline.get_pipeline ()\n",
       "\n",
       "*Get the current pipeline*"
      ],
      "text/plain": [
       "---\n",
       "\n",
       "### OrderPipeline.get_pipeline\n",
       "\n",
       ">      OrderPipeline.get_pipeline ()\n",
       "\n",
       "*Get the current pipeline*"
      ]
     },
     "execution_count": null,
     "metadata": {},
     "output_type": "execute_result"
    }
   ],
   "source": [
    "show_doc(OrderPipeline.get_pipeline, title_level=3)"
   ]
  },
  {
   "cell_type": "code",
   "execution_count": null,
   "metadata": {},
   "outputs": [
    {
     "data": {
      "text/markdown": [
       "---\n",
       "\n",
       "### OrderPipeline.reset\n",
       "\n",
       ">      OrderPipeline.reset ()\n",
       "\n",
       "*Reset the pipeline*"
      ],
      "text/plain": [
       "---\n",
       "\n",
       "### OrderPipeline.reset\n",
       "\n",
       ">      OrderPipeline.reset ()\n",
       "\n",
       "*Reset the pipeline*"
      ]
     },
     "execution_count": null,
     "metadata": {},
     "output_type": "execute_result"
    }
   ],
   "source": [
    "show_doc(OrderPipeline.reset, title_level=3)"
   ]
  },
  {
   "cell_type": "code",
   "execution_count": null,
   "metadata": {},
   "outputs": [
    {
     "data": {
      "text/markdown": [
       "---\n",
       "\n",
       "### OrderPipeline.step\n",
       "\n",
       ">      OrderPipeline.step (orders:numpy.ndarray)\n",
       "\n",
       "*Add orders to the pipeline and return the orders that are arriving*"
      ],
      "text/plain": [
       "---\n",
       "\n",
       "### OrderPipeline.step\n",
       "\n",
       ">      OrderPipeline.step (orders:numpy.ndarray)\n",
       "\n",
       "*Add orders to the pipeline and return the orders that are arriving*"
      ]
     },
     "execution_count": null,
     "metadata": {},
     "output_type": "execute_result"
    }
   ],
   "source": [
    "show_doc(OrderPipeline.step, title_level=3)"
   ]
  },
  {
   "cell_type": "code",
   "execution_count": null,
   "metadata": {},
   "outputs": [
    {
     "data": {
      "text/markdown": [
       "---\n",
       "\n",
       "### OrderPipeline.get_orders_arriving\n",
       "\n",
       ">      OrderPipeline.get_orders_arriving ()\n",
       "\n",
       "*Get the orders that are arriving in the current period*"
      ],
      "text/plain": [
       "---\n",
       "\n",
       "### OrderPipeline.get_orders_arriving\n",
       "\n",
       ">      OrderPipeline.get_orders_arriving ()\n",
       "\n",
       "*Get the orders that are arriving in the current period*"
      ]
     },
     "execution_count": null,
     "metadata": {},
     "output_type": "execute_result"
    }
   ],
   "source": [
    "show_doc(OrderPipeline.get_orders_arriving, title_level=3)"
   ]
  },
  {
   "cell_type": "code",
   "execution_count": null,
   "metadata": {},
   "outputs": [
    {
     "data": {
      "text/markdown": [
       "---\n",
       "\n",
       "### OrderPipeline.draw_lead_times\n",
       "\n",
       ">      OrderPipeline.draw_lead_times ()\n",
       "\n",
       "*Draw lead times for the orders*"
      ],
      "text/plain": [
       "---\n",
       "\n",
       "### OrderPipeline.draw_lead_times\n",
       "\n",
       ">      OrderPipeline.draw_lead_times ()\n",
       "\n",
       "*Draw lead times for the orders*"
      ]
     },
     "execution_count": null,
     "metadata": {},
     "output_type": "execute_result"
    }
   ],
   "source": [
    "show_doc(OrderPipeline.draw_lead_times, title_level=3)"
   ]
  },
  {
   "cell_type": "code",
   "execution_count": null,
   "metadata": {},
   "outputs": [
    {
     "data": {
      "text/markdown": [
       "---\n",
       "\n",
       "### OrderPipeline.check_stochasticity\n",
       "\n",
       ">      OrderPipeline.check_stochasticity (max_lead_time)\n",
       "\n",
       "*Check that params for stochastic lead times are set correctly*"
      ],
      "text/plain": [
       "---\n",
       "\n",
       "### OrderPipeline.check_stochasticity\n",
       "\n",
       ">      OrderPipeline.check_stochasticity (max_lead_time)\n",
       "\n",
       "*Check that params for stochastic lead times are set correctly*"
      ]
     },
     "execution_count": null,
     "metadata": {},
     "output_type": "execute_result"
    }
   ],
   "source": [
    "show_doc(OrderPipeline.check_stochasticity, title_level=3)"
   ]
  },
  {
   "cell_type": "code",
   "execution_count": null,
   "metadata": {},
   "outputs": [
    {
     "data": {
      "text/markdown": [
       "---\n",
       "\n",
       "### OrderPipeline.check_max_min_mean_lt\n",
       "\n",
       ">      OrderPipeline.check_max_min_mean_lt ()"
      ],
      "text/plain": [
       "---\n",
       "\n",
       "### OrderPipeline.check_max_min_mean_lt\n",
       "\n",
       ">      OrderPipeline.check_max_min_mean_lt ()"
      ]
     },
     "execution_count": null,
     "metadata": {},
     "output_type": "execute_result"
    }
   ],
   "source": [
    "show_doc(OrderPipeline.check_max_min_mean_lt, title_level=3)"
   ]
  },
  {
   "cell_type": "code",
   "execution_count": null,
   "metadata": {},
   "outputs": [
    {
     "data": {
      "text/markdown": [
       "---\n",
       "\n",
       "### OrderPipeline.set_param\n",
       "\n",
       ">      OrderPipeline.set_param (name:str,\n",
       ">                               input:Union[ddopai.utils.Parameter,int,float,num\n",
       ">                               py.ndarray,List], shape:tuple=(1,),\n",
       ">                               new:bool=False)\n",
       "\n",
       "*Set a parameter for the environment. It converts scalar values to numpy arrays and ensures that\n",
       "environment parameters are either of the Parameter class of Numpy arrays. If new is set to True, \n",
       "the function will create a new parameter or update an existing one otherwise. If new is set to\n",
       "False, the function will raise an error if the parameter does not exist.*\n",
       "\n",
       "|    | **Type** | **Default** | **Details** |\n",
       "| -- | -------- | ----------- | ----------- |\n",
       "| name | str |  | name of the parameter (will become the attribute name) |\n",
       "| input | Union |  | input value of the parameter |\n",
       "| shape | tuple | (1,) | shape of the parameter |\n",
       "| new | bool | False | whether to create a new parameter or update an existing one |\n",
       "| **Returns** | **None** |  |  |"
      ],
      "text/plain": [
       "---\n",
       "\n",
       "### OrderPipeline.set_param\n",
       "\n",
       ">      OrderPipeline.set_param (name:str,\n",
       ">                               input:Union[ddopai.utils.Parameter,int,float,num\n",
       ">                               py.ndarray,List], shape:tuple=(1,),\n",
       ">                               new:bool=False)\n",
       "\n",
       "*Set a parameter for the environment. It converts scalar values to numpy arrays and ensures that\n",
       "environment parameters are either of the Parameter class of Numpy arrays. If new is set to True, \n",
       "the function will create a new parameter or update an existing one otherwise. If new is set to\n",
       "False, the function will raise an error if the parameter does not exist.*\n",
       "\n",
       "|    | **Type** | **Default** | **Details** |\n",
       "| -- | -------- | ----------- | ----------- |\n",
       "| name | str |  | name of the parameter (will become the attribute name) |\n",
       "| input | Union |  | input value of the parameter |\n",
       "| shape | tuple | (1,) | shape of the parameter |\n",
       "| new | bool | False | whether to create a new parameter or update an existing one |\n",
       "| **Returns** | **None** |  |  |"
      ]
     },
     "execution_count": null,
     "metadata": {},
     "output_type": "execute_result"
    }
   ],
   "source": [
    "show_doc(OrderPipeline.set_param, title_level=3)"
   ]
  },
  {
   "cell_type": "code",
   "execution_count": null,
   "metadata": {},
   "outputs": [
    {
     "data": {
      "text/markdown": [
       "---\n",
       "\n",
       "### OrderPipeline.shape\n",
       "\n",
       ">      OrderPipeline.shape ()\n",
       "\n",
       "*Get the shape of the pipeline*"
      ],
      "text/plain": [
       "---\n",
       "\n",
       "### OrderPipeline.shape\n",
       "\n",
       ">      OrderPipeline.shape ()\n",
       "\n",
       "*Get the shape of the pipeline*"
      ]
     },
     "execution_count": null,
     "metadata": {},
     "output_type": "execute_result"
    }
   ],
   "source": [
    "show_doc(OrderPipeline.shape, title_level=3)"
   ]
  },
  {
   "cell_type": "code",
   "execution_count": null,
   "metadata": {},
   "outputs": [],
   "source": [
    "#| hide\n",
    "import nbdev; nbdev.nbdev_export()"
   ]
  },
  {
   "cell_type": "code",
   "execution_count": null,
   "metadata": {},
   "outputs": [],
   "source": []
  },
  {
   "cell_type": "code",
   "execution_count": null,
   "metadata": {},
   "outputs": [],
   "source": []
  }
 ],
 "metadata": {
  "kernelspec": {
   "display_name": "python3",
   "language": "python",
   "name": "python3"
  }
 },
 "nbformat": 4,
 "nbformat_minor": 4
}
