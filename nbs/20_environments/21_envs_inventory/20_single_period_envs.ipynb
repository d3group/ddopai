{
 "cells": [
  {
   "cell_type": "markdown",
   "metadata": {},
   "source": [
    "# Single period inventory environments\n",
    "\n",
    "> Static inventory environment where a decision only affects the next period (Newsvendor problem)"
   ]
  },
  {
   "cell_type": "code",
   "execution_count": null,
   "metadata": {},
   "outputs": [],
   "source": [
    "#| default_exp envs.inventory.single_period"
   ]
  },
  {
   "cell_type": "code",
   "execution_count": null,
   "metadata": {},
   "outputs": [],
   "source": [
    "#| hide\n",
    "from nbdev.showdoc import *"
   ]
  },
  {
   "cell_type": "code",
   "execution_count": null,
   "metadata": {},
   "outputs": [],
   "source": [
    "#| export\n",
    "from abc import ABC, abstractmethod\n",
    "from typing import Union, Tuple, Literal\n",
    "\n",
    "from ddopai.utils import Parameter, MDPInfo\n",
    "from ddopai.dataloaders.base import BaseDataLoader\n",
    "from ddopai.loss_functions import pinball_loss, quantile_loss\n",
    "from ddopai.envs.inventory.base import BaseInventoryEnv\n",
    "\n",
    "import gymnasium as gym\n",
    "\n",
    "import numpy as np\n",
    "import time"
   ]
  },
  {
   "cell_type": "code",
   "execution_count": null,
   "metadata": {},
   "outputs": [],
   "source": [
    "#| export\n",
    "class NewsvendorEnv(BaseInventoryEnv, ABC):\n",
    "    \n",
    "    \"\"\"\n",
    "    Class implementing the Newsvendor problem, working for the single- and multi-item case. If underage_cost and overage_cost\n",
    "    are scalars and there are multiple SKUs, then the same cost is used for all SKUs. If underage_cost and overage_cost are arrays,\n",
    "    then they must have the same length as the number of SKUs. Num_SKUs can be set as parameter or inferred from the DataLoader.\n",
    "    \"\"\"\n",
    "\n",
    "    def __init__(self,\n",
    "        underage_cost: Union[np.ndarray, Parameter, int, float] = 1, # underage cost per unit\n",
    "        overage_cost: Union[np.ndarray, Parameter, int, float] = 1, # overage cost per unit\n",
    "        q_bound_low: Union[np.ndarray, Parameter, int, float] = 0, # lower bound of the order quantity\n",
    "        q_bound_high: Union[np.ndarray, Parameter, int, float] = np.inf, # upper bound of the order quantity\n",
    "        dataloader: BaseDataLoader = None, # dataloader\n",
    "        num_SKUs: Union[int] = None, # if None it will be inferred from the DataLoader\n",
    "        gamma: float = 1, # discount factor\n",
    "        horizon_train: int | str = \"use_all_data\", # if \"use_all_data\" then horizon is inferred from the DataLoader\n",
    "        postprocessors: list[object] | None = None,  # default is empty list\n",
    "        mode: str = \"train\", # Initial mode (train, val, test) of the environment\n",
    "        return_truncation: str = True # whether to return a truncated condition in step function\n",
    "    ) -> None:\n",
    "\n",
    "        self.print=False\n",
    "\n",
    "        num_SKUs = dataloader.num_units if num_SKUs is None else num_SKUs\n",
    "\n",
    "        if not isinstance(num_SKUs, int):\n",
    "            raise ValueError(\"num_SKUs must be an integer.\")\n",
    "        \n",
    "        self.set_param(\"num_SKUs\", num_SKUs, shape=(1,), new=True)\n",
    "\n",
    "        self.set_param(\"q_bound_low\", q_bound_low, shape=(num_SKUs,), new=True)\n",
    "        self.set_param(\"q_bound_high\", q_bound_high, shape=(num_SKUs,), new=True)\n",
    "\n",
    "        self.set_observation_space(dataloader.X_shape)\n",
    "        self.set_action_space(dataloader.Y_shape, low = self.q_bound_low, high = self.q_bound_high)\n",
    "        \n",
    "        mdp_info = MDPInfo(self.observation_space, self.action_space, gamma=gamma, horizon=horizon_train)\n",
    "        \n",
    "        super().__init__(mdp_info=mdp_info,\n",
    "                            postprocessors = postprocessors, \n",
    "                            mode=mode, return_truncation=return_truncation,\n",
    "                            underage_cost=underage_cost,\n",
    "                            overage_cost=overage_cost, \n",
    "                            dataloader=dataloader,\n",
    "                            horizon_train = horizon_train)\n",
    "        \n",
    "        \n",
    "\n",
    "    def step_(self, \n",
    "            action: np.ndarray # order quantity\n",
    "            ) -> Tuple[np.ndarray, float, bool, bool, dict]:\n",
    "\n",
    "        \"\"\"\n",
    "        Step function implementing the Newsvendor logic. Note that the dataloader will return an observation and a demand,\n",
    "        which will be relevant in the next period. The observation will be returned directly, while the demand will be \n",
    "        temporarily stored under self.demand and used in the next step.\n",
    "\n",
    "        \"\"\"\n",
    "\n",
    "        # Most agent give by default a batch dimension which is not needed for a single period action.\n",
    "        # If action shape size is 2 and the first dimensiion is 1, then remove it\n",
    "        if action.ndim == 2 and action.shape[0] == 1:\n",
    "            action = np.squeeze(action, axis=0)  # Remove the first dimension\n",
    "\n",
    "        cost_per_SKU = self.determine_cost(action)\n",
    "        reward = -np.sum(cost_per_SKU) # negative because we want to minimize the cost\n",
    "\n",
    "        terminated = False # in this problem there is no termination condition\n",
    "        \n",
    "        info = dict(\n",
    "            demand=self.demand.copy(),\n",
    "            action=action.copy(),\n",
    "            cost_per_SKU=cost_per_SKU.copy()\n",
    "        )\n",
    "\n",
    "        # Set index will set the index and return True if the index is out of bounds\n",
    "        truncated = self.set_index()\n",
    "\n",
    "        if truncated:\n",
    "\n",
    "            if self.mode == \"test\" or self.mode == \"val\":\n",
    "                observation, self.demand = None, None\n",
    "            else:\n",
    "                observation, self.demand = self.get_observation()\n",
    "\n",
    "            return observation, reward, terminated, truncated, info\n",
    "        \n",
    "        else:\n",
    "\n",
    "            observation, self.demand = self.get_observation()\n",
    "\n",
    "            if self.print:\n",
    "                print(\"next_period:\", self.index+1)\n",
    "                print(\"next observation:\", observation)\n",
    "                print(\"next demand:\", self.demand)\n",
    "                time.sleep(3)\n",
    "\n",
    "            return observation, reward, terminated, truncated, info\n",
    "\n",
    "    def determine_cost(self, action: np.ndarray) -> np.ndarray:\n",
    "        \"\"\"\n",
    "        Determine the cost per SKU given the action taken. The cost is the sum of underage and overage costs.\n",
    "        \"\"\"\n",
    "        # Compute the cost per SKU\n",
    "        return pinball_loss(self.demand, action, self.underage_cost, self.overage_cost)\n",
    "\n",
    "    def update_cu_co(self, cu=None, co=None):\n",
    "        # Check if the underage_cost and overage_cost are already set\n",
    "        if not hasattr(self, \"underage_cost\") or not hasattr(self, \"overage_cost\"):\n",
    "            logging.warning(\"Underage and overage costs were not set previously, setting them as new parameters.\")\n",
    "            self.set_param(\"underage_cost\", cu, shape=(self.num_SKUs[0],), new=True)\n",
    "            self.set_param(\"overage_cost\", co, shape=(self.num_SKUs[0],), new=True)\n",
    "        else:\n",
    "            # If only cu is provided\n",
    "            if cu is not None and co is None:\n",
    "                if len(set(self.overage_cost)) == 1:  # Check if overage_cost is consistent across SKUs\n",
    "                    self.set_param(\"overage_cost\", self.overage_cost[0], shape=(self.num_SKUs[0],))\n",
    "                else:\n",
    "                    raise ValueError(\"Cannot update cu without updating co when co has heterogeneous values across SKUs.\")\n",
    "                self.set_param(\"underage_cost\", cu, shape=(self.num_SKUs[0],))\n",
    "            \n",
    "            # If only co is provided\n",
    "            elif co is not None and cu is None:\n",
    "                if len(set(self.underage_cost)) == 1:  # Check if underage_cost is consistent across SKUs\n",
    "                    self.set_param(\"underage_cost\", self.underage_cost[0], shape=(self.num_SKUs[0],))\n",
    "                else:\n",
    "                    raise ValueError(\"Cannot update co without updating cu when cu has heterogeneous values across SKUs.\")\n",
    "                self.set_param(\"overage_cost\", co, shape=(self.num_SKUs[0],))\n",
    "            \n",
    "            # If both cu and co are provided\n",
    "            elif cu is not None and co is not None:\n",
    "                self.set_param(\"underage_cost\", cu, shape=(self.num_SKUs[0],))\n",
    "                self.set_param(\"overage_cost\", co, shape=(self.num_SKUs[0],))\n",
    "            \n",
    "        # Update the service level if applicable\n",
    "        if hasattr(self, \"sl\"):\n",
    "            sl = self.underage_cost / (self.underage_cost + self.overage_cost)\n",
    "            self.set_param(\"sl\", sl, shape=(self.num_SKUs[0],))\n"
   ]
  },
  {
   "cell_type": "markdown",
   "metadata": {},
   "source": []
  },
  {
   "cell_type": "code",
   "execution_count": null,
   "metadata": {},
   "outputs": [
    {
     "data": {
      "text/markdown": [
       "---\n",
       "\n",
       "## NewsvendorEnv\n",
       "\n",
       ">      NewsvendorEnv\n",
       ">                     (underage_cost:Union[numpy.ndarray,ddopai.utils.Parameter,\n",
       ">                     int,float]=1, overage_cost:Union[numpy.ndarray,ddopai.util\n",
       ">                     s.Parameter,int,float]=1, q_bound_low:Union[numpy.ndarray,\n",
       ">                     ddopai.utils.Parameter,int,float]=0, q_bound_high:Union[nu\n",
       ">                     mpy.ndarray,ddopai.utils.Parameter,int,float]=inf,\n",
       ">                     dataloader:ddopai.dataloaders.base.BaseDataLoader=None,\n",
       ">                     num_SKUs:int=None, gamma:float=1,\n",
       ">                     horizon_train:int|str='use_all_data',\n",
       ">                     postprocessors:list[object]|None=None, mode:str='train',\n",
       ">                     return_truncation:str=True)\n",
       "\n",
       "*Class implementing the Newsvendor problem, working for the single- and multi-item case. If underage_cost and overage_cost\n",
       "are scalars and there are multiple SKUs, then the same cost is used for all SKUs. If underage_cost and overage_cost are arrays,\n",
       "then they must have the same length as the number of SKUs. Num_SKUs can be set as parameter or inferred from the DataLoader.*\n",
       "\n",
       "|    | **Type** | **Default** | **Details** |\n",
       "| -- | -------- | ----------- | ----------- |\n",
       "| underage_cost | Union | 1 | underage cost per unit |\n",
       "| overage_cost | Union | 1 | overage cost per unit |\n",
       "| q_bound_low | Union | 0 | lower bound of the order quantity |\n",
       "| q_bound_high | Union | inf | upper bound of the order quantity |\n",
       "| dataloader | BaseDataLoader | None | dataloader |\n",
       "| num_SKUs | int | None | if None it will be inferred from the DataLoader |\n",
       "| gamma | float | 1 | discount factor |\n",
       "| horizon_train | int \\| str | use_all_data | if \"use_all_data\" then horizon is inferred from the DataLoader |\n",
       "| postprocessors | list[object] \\| None | None | default is empty list |\n",
       "| mode | str | train | Initial mode (train, val, test) of the environment |\n",
       "| return_truncation | str | True | whether to return a truncated condition in step function |\n",
       "| **Returns** | **None** |  |  |"
      ],
      "text/plain": [
       "---\n",
       "\n",
       "## NewsvendorEnv\n",
       "\n",
       ">      NewsvendorEnv\n",
       ">                     (underage_cost:Union[numpy.ndarray,ddopai.utils.Parameter,\n",
       ">                     int,float]=1, overage_cost:Union[numpy.ndarray,ddopai.util\n",
       ">                     s.Parameter,int,float]=1, q_bound_low:Union[numpy.ndarray,\n",
       ">                     ddopai.utils.Parameter,int,float]=0, q_bound_high:Union[nu\n",
       ">                     mpy.ndarray,ddopai.utils.Parameter,int,float]=inf,\n",
       ">                     dataloader:ddopai.dataloaders.base.BaseDataLoader=None,\n",
       ">                     num_SKUs:int=None, gamma:float=1,\n",
       ">                     horizon_train:int|str='use_all_data',\n",
       ">                     postprocessors:list[object]|None=None, mode:str='train',\n",
       ">                     return_truncation:str=True)\n",
       "\n",
       "*Class implementing the Newsvendor problem, working for the single- and multi-item case. If underage_cost and overage_cost\n",
       "are scalars and there are multiple SKUs, then the same cost is used for all SKUs. If underage_cost and overage_cost are arrays,\n",
       "then they must have the same length as the number of SKUs. Num_SKUs can be set as parameter or inferred from the DataLoader.*\n",
       "\n",
       "|    | **Type** | **Default** | **Details** |\n",
       "| -- | -------- | ----------- | ----------- |\n",
       "| underage_cost | Union | 1 | underage cost per unit |\n",
       "| overage_cost | Union | 1 | overage cost per unit |\n",
       "| q_bound_low | Union | 0 | lower bound of the order quantity |\n",
       "| q_bound_high | Union | inf | upper bound of the order quantity |\n",
       "| dataloader | BaseDataLoader | None | dataloader |\n",
       "| num_SKUs | int | None | if None it will be inferred from the DataLoader |\n",
       "| gamma | float | 1 | discount factor |\n",
       "| horizon_train | int \\| str | use_all_data | if \"use_all_data\" then horizon is inferred from the DataLoader |\n",
       "| postprocessors | list[object] \\| None | None | default is empty list |\n",
       "| mode | str | train | Initial mode (train, val, test) of the environment |\n",
       "| return_truncation | str | True | whether to return a truncated condition in step function |\n",
       "| **Returns** | **None** |  |  |"
      ]
     },
     "execution_count": null,
     "metadata": {},
     "output_type": "execute_result"
    }
   ],
   "source": [
    "show_doc(NewsvendorEnv, title_level=2)"
   ]
  },
  {
   "cell_type": "code",
   "execution_count": null,
   "metadata": {},
   "outputs": [
    {
     "data": {
      "text/markdown": [
       "---\n",
       "\n",
       "### NewsvendorEnv.step_\n",
       "\n",
       ">      NewsvendorEnv.step_ (action:numpy.ndarray)\n",
       "\n",
       "*Step function implementing the Newsvendor logic. Note that the dataloader will return an observation and a demand,\n",
       "which will be relevant in the next period. The observation will be returned directly, while the demand will be \n",
       "temporarily stored under self.demand and used in the next step.*\n",
       "\n",
       "|    | **Type** | **Details** |\n",
       "| -- | -------- | ----------- |\n",
       "| action | ndarray | order quantity |\n",
       "| **Returns** | **Tuple** |  |"
      ],
      "text/plain": [
       "---\n",
       "\n",
       "### NewsvendorEnv.step_\n",
       "\n",
       ">      NewsvendorEnv.step_ (action:numpy.ndarray)\n",
       "\n",
       "*Step function implementing the Newsvendor logic. Note that the dataloader will return an observation and a demand,\n",
       "which will be relevant in the next period. The observation will be returned directly, while the demand will be \n",
       "temporarily stored under self.demand and used in the next step.*\n",
       "\n",
       "|    | **Type** | **Details** |\n",
       "| -- | -------- | ----------- |\n",
       "| action | ndarray | order quantity |\n",
       "| **Returns** | **Tuple** |  |"
      ]
     },
     "execution_count": null,
     "metadata": {},
     "output_type": "execute_result"
    }
   ],
   "source": [
    "show_doc(NewsvendorEnv.step_, title_level=3)"
   ]
  },
  {
   "cell_type": "code",
   "execution_count": null,
   "metadata": {},
   "outputs": [
    {
     "data": {
      "text/markdown": [
       "---\n",
       "\n",
       "### NewsvendorEnv.determine_cost\n",
       "\n",
       ">      NewsvendorEnv.determine_cost (action:numpy.ndarray)\n",
       "\n",
       "*Determine the cost per SKU given the action taken. The cost is the sum of underage and overage costs.*"
      ],
      "text/plain": [
       "---\n",
       "\n",
       "### NewsvendorEnv.determine_cost\n",
       "\n",
       ">      NewsvendorEnv.determine_cost (action:numpy.ndarray)\n",
       "\n",
       "*Determine the cost per SKU given the action taken. The cost is the sum of underage and overage costs.*"
      ]
     },
     "execution_count": null,
     "metadata": {},
     "output_type": "execute_result"
    }
   ],
   "source": [
    "show_doc(NewsvendorEnv.determine_cost)"
   ]
  },
  {
   "cell_type": "code",
   "execution_count": null,
   "metadata": {},
   "outputs": [
    {
     "data": {
      "text/markdown": [
       "---\n",
       "\n",
       "### NewsvendorEnv.update_cu_co\n",
       "\n",
       ">      NewsvendorEnv.update_cu_co (cu=None, co=None)"
      ],
      "text/plain": [
       "---\n",
       "\n",
       "### NewsvendorEnv.update_cu_co\n",
       "\n",
       ">      NewsvendorEnv.update_cu_co (cu=None, co=None)"
      ]
     },
     "execution_count": null,
     "metadata": {},
     "output_type": "execute_result"
    }
   ],
   "source": [
    "show_doc(NewsvendorEnv.update_cu_co)"
   ]
  },
  {
   "cell_type": "markdown",
   "metadata": {},
   "source": [
    "Example usage of ```NewsvendorEnv``` with a distributional dataloader:"
   ]
  },
  {
   "cell_type": "code",
   "execution_count": null,
   "metadata": {},
   "outputs": [
    {
     "name": "stdout",
     "output_type": "stream",
     "text": [
      "##### RESET #####\n",
      "##### STEP:  1 #####\n",
      "reward: -3.3421546570139897\n",
      "info: {'demand': array([4.32711564, 3.34526605]), 'action': array([4.4186096 , 0.18609937], dtype=float32), 'cost_per_SKU': array([0.18298797, 3.15916669])}\n",
      "next observation: None\n",
      "truncated: False\n",
      "##### STEP:  2 #####\n",
      "reward: -5.378682997071056\n",
      "info: {'demand': array([3.80171626, 3.51378511]), 'action': array([1.6994698 , 0.23734857], dtype=float32), 'cost_per_SKU': array([2.10224646, 3.27643654])}\n",
      "next observation: None\n",
      "truncated: False\n",
      "##### STEP:  3 #####\n",
      "reward: -5.067553652829401\n",
      "info: {'demand': array([4.30760782, 2.04917356]), 'action': array([0.47642952, 0.8127982 ], dtype=float32), 'cost_per_SKU': array([3.83117829, 1.23637536])}\n",
      "next observation: None\n",
      "truncated: True\n"
     ]
    }
   ],
   "source": [
    "from ddopai.dataloaders.distribution import NormalDistributionDataLoader\n",
    "\n",
    "def run_test_loop(env):\n",
    "    truncated = False\n",
    "    while not truncated:\n",
    "        action = env.action_space.sample()\n",
    "        obs, reward, terminated, truncated, info = env.step(action)\n",
    "        print(\"##### STEP: \", env.index, \"#####\")\n",
    "        print(\"reward:\", reward)\n",
    "        print(\"info:\", info)\n",
    "        print(\"next observation:\", obs)\n",
    "        print(\"truncated:\", truncated)\n",
    "\n",
    "dataloader = NormalDistributionDataLoader(mean=[4, 3], std=[1, 2], num_units=2)\n",
    "\n",
    "test_env = NewsvendorEnv(underage_cost=1, overage_cost=2, dataloader=dataloader, horizon_train=3)\n",
    "\n",
    "obs = test_env.reset(start_index=0)\n",
    "print(\"##### RESET #####\")\n",
    "\n",
    "run_test_loop(test_env)"
   ]
  },
  {
   "cell_type": "markdown",
   "metadata": {},
   "source": []
  },
  {
   "cell_type": "markdown",
   "metadata": {},
   "source": [
    "Example usage of ```NewsvendorEnv``` using a fixed dataset:"
   ]
  },
  {
   "cell_type": "code",
   "execution_count": null,
   "metadata": {},
   "outputs": [],
   "source": [
    "from sklearn.datasets import make_regression\n",
    "from sklearn.preprocessing import MinMaxScaler\n",
    "\n",
    "from ddopai.dataloaders.tabular import XYDataLoader"
   ]
  },
  {
   "cell_type": "code",
   "execution_count": null,
   "metadata": {},
   "outputs": [
    {
     "name": "stdout",
     "output_type": "stream",
     "text": [
      "#################### RESET ####################\n",
      "#################### RUN IN TRAIN MODE ####################\n",
      "##### STEP:  1 #####\n",
      "reward: -0.5507963668644685\n",
      "info: {'demand': array([0.41801109, 0.41814421]), 'action': array([0.70588326, 0.01128393], dtype=float32), 'cost_per_SKU': array([0.14393609, 0.40686028])}\n",
      "next observation: [0.51654708 0.67238019]\n",
      "truncated: False\n",
      "##### STEP:  2 #####\n",
      "reward: -0.8714066300571378\n",
      "info: {'demand': array([0.61617324, 0.52211535]), 'action': array([0.180223 , 1.3930281], dtype=float32), 'cost_per_SKU': array([0.43595024, 0.43545639])}\n",
      "next observation: [0.71467365 0.37996181]\n",
      "truncated: False\n",
      "##### STEP:  3 #####\n",
      "reward: -1.6119519129489481\n",
      "info: {'demand': array([0.45242345, 0.60924132]), 'action': array([1.8277601, 2.4578085], dtype=float32), 'cost_per_SKU': array([0.68766832, 0.92428359])}\n",
      "next observation: [0.78011439 1.        ]\n",
      "truncated: True\n",
      "#################### RUN IN VAL MODE ####################\n",
      "##### STEP:  1 #####\n",
      "reward: -0.5815800605970438\n",
      "info: {'demand': array([0.        , 0.16760013]), 'action': array([0.11117006, 1.2195902 ], dtype=float32), 'cost_per_SKU': array([0.05558503, 0.52599503])}\n",
      "next observation: [0.         0.59527916]\n",
      "truncated: False\n",
      "##### STEP:  2 #####\n",
      "reward: -0.5828876160320575\n",
      "info: {'demand': array([0.33549548, 0.        ]), 'action': array([0.4501956, 1.0510751], dtype=float32), 'cost_per_SKU': array([0.05735007, 0.52553755])}\n",
      "next observation: None\n",
      "truncated: True\n",
      "#################### RUN IN TEST MODE ####################\n",
      "##### STEP:  1 #####\n",
      "reward: -0.7298214633019249\n",
      "info: {'demand': array([0.3316407 , 0.33063685]), 'action': array([0.06531169, 1.2576218 ], dtype=float32), 'cost_per_SKU': array([0.266329  , 0.46349246])}\n",
      "next observation: [1.         0.71807281]\n",
      "truncated: False\n",
      "##### STEP:  2 #####\n",
      "reward: -0.5407586979670338\n",
      "info: {'demand': array([0.8554925, 1.       ]), 'action': array([0.5619696, 1.4944715], dtype=float32), 'cost_per_SKU': array([0.29352292, 0.24723577])}\n",
      "next observation: None\n",
      "truncated: True\n",
      "#################### RUN IN TRAIN MODE AGAIN ####################\n",
      "##### STEP:  1 #####\n",
      "reward: -0.9409223786788338\n",
      "info: {'demand': array([0.41801109, 0.41814421]), 'action': array([1.3812015, 1.3367985], dtype=float32), 'cost_per_SKU': array([0.48159521, 0.45932717])}\n",
      "next observation: [0.51654708 0.67238019]\n",
      "truncated: False\n",
      "##### STEP:  2 #####\n",
      "reward: -0.7144824568212446\n",
      "info: {'demand': array([0.61617324, 0.52211535]), 'action': array([0.07493836, 0.8686105 ], dtype=float32), 'cost_per_SKU': array([0.54123488, 0.17324757])}\n",
      "next observation: [0.71467365 0.37996181]\n",
      "truncated: False\n",
      "##### STEP:  3 #####\n",
      "reward: -1.2616030231212196\n",
      "info: {'demand': array([0.45242345, 0.60924132]), 'action': array([0.84109116, 2.7437797 ], dtype=float32), 'cost_per_SKU': array([0.19433385, 1.06726917])}\n",
      "next observation: [0.78011439 1.        ]\n",
      "truncated: True\n"
     ]
    }
   ],
   "source": [
    "# create a simple dataset bounded between 0 and 1.\n",
    "# We just scale all the data, pretending that it is the demand.\n",
    "# When using real data, one should only fit the scaler on the training data\n",
    "X, Y = make_regression(n_samples=8, n_features=2, n_targets=2, noise=0.1, random_state=42)\n",
    "scaler = MinMaxScaler()\n",
    "X = scaler.fit_transform(X)\n",
    "Y = scaler.fit_transform(Y)\n",
    "\n",
    "dataloader = XYDataLoader(X, Y, val_index_start = 4, test_index_start = 6)\n",
    "test_env = NewsvendorEnv(underage_cost=np.array([1,1]), overage_cost=np.array([0.5,0.5]), dataloader=dataloader, horizon_train=\"use_all_data\")\n",
    "\n",
    "obs = test_env.reset(start_index=0)\n",
    "print(\"#################### RESET ####################\")\n",
    "\n",
    "print(\"#################### RUN IN TRAIN MODE ####################\")\n",
    "run_test_loop(test_env)\n",
    "\n",
    "print(\"#################### RUN IN VAL MODE ####################\")\n",
    "test_env.val()\n",
    "run_test_loop(test_env)\n",
    "\n",
    "print(\"#################### RUN IN TEST MODE ####################\")\n",
    "test_env.test()\n",
    "run_test_loop(test_env)\n",
    "\n",
    "print(\"#################### RUN IN TRAIN MODE AGAIN ####################\")\n",
    "test_env.train()\n",
    "run_test_loop(test_env)\n"
   ]
  },
  {
   "cell_type": "markdown",
   "metadata": {},
   "source": [
    "# Newsvendor Env that can provide a variable service level\n",
    "\n",
    "> Static inventory environment where a decision only affects the next period (Newsvendor problem),\n",
    "> but with a variable service level (random during training, fixed during testing)"
   ]
  },
  {
   "cell_type": "code",
   "execution_count": null,
   "metadata": {},
   "outputs": [],
   "source": [
    "#| export\n",
    "class NewsvendorEnvVariableSL(NewsvendorEnv, ABC):\n",
    "    def __init__(self,\n",
    "\n",
    "        # Additional parameters:\n",
    "        sl_bound_low: Union[np.ndarray, Parameter, int, float] = 0.1, # lower bound of the service level during training\n",
    "        sl_bound_high: Union[np.ndarray, Parameter, int, float] = 0.9, # upper bound of the service level during training\n",
    "        sl_distribution: Literal[\"fixed\", \"uniform\"] = \"fixed\", # distribution of the random service level during training, if fixed then the service level is fixed to sl_test_val\n",
    "        evaluation_metric: Literal[\"pinball_loss\", \"quantile_loss\"] = \"quantile_loss\", # quantile loss is the generic quantile loss (independent of cost levels) while pinball loss uses the specific under- and overage costs\n",
    "        sl_test_val: Union[np.ndarray, Parameter, int, float] = None, # service level during test and validation, alternatively use cu and co\n",
    "\n",
    "        underage_cost: Union[np.ndarray, Parameter, int, float] = 1, # underage cost per unit\n",
    "        overage_cost: Union[np.ndarray, Parameter, int, float] = 1, # overage cost per unit\n",
    "        q_bound_low: Union[np.ndarray, Parameter, int, float] = 0, # lower bound of the order quantity\n",
    "        q_bound_high: Union[np.ndarray, Parameter, int, float] = np.inf, # upper bound of the order quantity\n",
    "        dataloader: BaseDataLoader = None, # dataloader\n",
    "        num_SKUs: Union[int] = None, # if None it will be inferred from the DataLoader\n",
    "        gamma: float = 1, # discount factor\n",
    "        horizon_train: int | str = \"use_all_data\", # if \"use_all_data\" then horizon is inferred from the DataLoader\n",
    "        postprocessors: list[object] | None = None,  # default is empty list\n",
    "        mode: str = \"train\", # Initial mode (train, val, test) of the environment\n",
    "        return_truncation: str = True, # whether to return a truncated condition in step function\n",
    "        SKUs_in_batch_dimension: bool = True # whether SKUs in the observation space are in the batch dimension (used for meta-learning)\n",
    "    \n",
    "    ) -> None:\n",
    "\n",
    "        # Determine the number of SKUs\n",
    "        num_SKUs = dataloader.num_units if num_SKUs is None else num_SKUs\n",
    "\n",
    "        self.set_param(\"sl_bound_low\", sl_bound_low, shape=(1,), new=True)\n",
    "        self.set_param(\"sl_bound_high\", sl_bound_high, shape=(1,), new=True)\n",
    "        self.evaluation_metric = evaluation_metric\n",
    "        self.check_evaluation_metric\n",
    "        self.sl_distribution = sl_distribution\n",
    "        self.check_sl_distribution\n",
    "        self.SKUs_in_batch_dimension = SKUs_in_batch_dimension\n",
    "\n",
    "        super().__init__(underage_cost=underage_cost,\n",
    "                        overage_cost=overage_cost,\n",
    "                        q_bound_low=q_bound_low,\n",
    "                        q_bound_high=q_bound_high,\n",
    "                        dataloader=dataloader,\n",
    "                        num_SKUs=num_SKUs,\n",
    "                        gamma=gamma,\n",
    "                        horizon_train=horizon_train,\n",
    "                        postprocessors=postprocessors,\n",
    "                        mode=mode,\n",
    "                        return_truncation=return_truncation)\n",
    "\n",
    "        if sl_test_val is not None:\n",
    "            if self.underage_cost is None and self.overage_cost is None:\n",
    "                self.set_param(\"sl\", sl_test_val, shape=(num_SKUs[0],), new=True)\n",
    "            else:\n",
    "                raise ValueError(\"sl_test_val can only be used when underage_cost and overage_cost are None.\")\n",
    "        else:\n",
    "            if self.underage_cost is None or self.overage_cost is None:\n",
    "                raise ValueError(\"Either sl_test_val or underage_cost and overage_cost must be provided.\")\n",
    "            sl = self.underage_cost / (self.underage_cost + self.overage_cost)\n",
    "            self.set_param(\"sl\", sl, shape=(self.num_SKUs[0],), new=True)\n",
    "\n",
    "    def determine_cost(self, action: np.ndarray) -> np.ndarray: #\n",
    "        \"\"\"\n",
    "        Determine the cost per SKU given the action taken. The cost is the sum of underage and overage costs.\n",
    "        \"\"\"\n",
    "\n",
    "        # Compute the cost per SKU\n",
    "        if self.mode == \"train\": # during training only the service level is relevant\n",
    "            return quantile_loss(self.demand, action, self.sl_period)\n",
    "        else:\n",
    "            if self.evaluation_metric == \"pinball_loss\":\n",
    "                return pinball_loss(self.demand, action, self.underage_cost, self.overage_cost)\n",
    "            elif self.evaluation_metric == \"quantile_loss\":\n",
    "                return quantile_loss(self.demand, action, self.sl)\n",
    "\n",
    "    def set_observation_space(self,\n",
    "                            shape: tuple, # shape of the dataloader features\n",
    "                            low: Union[np.ndarray, float] = -np.inf, # lower bound of the observation space\n",
    "                            high: Union[np.ndarray, float] = np.inf, # upper bound of the observation space\n",
    "                            samples_dim_included = True # whether the first dimension of the shape input is the number of samples\n",
    "                            ) -> None:\n",
    "        \n",
    "        '''\n",
    "        Set the observation space of the environment.\n",
    "        This is a standard function for simple observation spaces. For more complex observation spaces,\n",
    "        this function should be overwritten. Note that it is assumped that the first dimension\n",
    "        is n_samples that is not relevant for the observation space.\n",
    "\n",
    "        '''\n",
    "\n",
    "        # To handle cases when no external information is available (e.g., parametric NV)\n",
    "        \n",
    "        if shape is None:\n",
    "            self.observation_space = None\n",
    "\n",
    "        spaces = {}\n",
    "        if isinstance(shape, tuple):\n",
    "            if samples_dim_included:\n",
    "                shape = shape[1:] # assumed that the first dimension is the number of samples\n",
    "            if self.SKUs_in_batch_dimension:\n",
    "                shape = (self.num_SKUs[0],) + shape\n",
    "            spaces[\"features\"] = gym.spaces.Box(low=low, high=high, shape=shape, dtype=np.float32)\n",
    "\n",
    "        elif feature_shape is None:\n",
    "            pass\n",
    "\n",
    "        else:\n",
    "            raise ValueError(\"Shape for features must be a tuple or None\")\n",
    "\n",
    "        # TODO check if this is a good desig decision\n",
    "        if self.SKUs_in_batch_dimension:\n",
    "            spaces[\"service_level\"] = gym.spaces.Box(low=0, high=1, shape=(1,), dtype=np.float32)\n",
    "        else:\n",
    "            spaces[\"service_level\"] = gym.spaces.Box(low=0, high=1, shape=(self.num_SKUs[0],), dtype=np.float32)\n",
    "\n",
    "        self.observation_space = gym.spaces.Dict(spaces)\n",
    "\n",
    "    @staticmethod # staticmethod such that the dataloader can also use the funciton\n",
    "    def draw_parameter(distribution, sl_bound_low, sl_bound_high, samples): #\n",
    "        \n",
    "        if distribution == \"fixed\":\n",
    "            sl = np.random.uniform(sl_bound_low, sl_bound_high, size=(samples,))\n",
    "        elif distribution == \"uniform\":\n",
    "            sl = np.random.uniform(sl_bound_low, sl_bound_high, size=(samples,))\n",
    "        else:\n",
    "            raise ValueError(\"sl_distribution not recognized.\")\n",
    "        \n",
    "        return sl\n",
    "\n",
    "    def get_observation(self): #\n",
    "        \n",
    "        \"\"\"\n",
    "        Return the current observation. This function is for the simple case where the observation\n",
    "        is only an x,y pair. For more complex observations, this function should be overwritten.\n",
    "        \"\"\"\n",
    "\n",
    "        # print(\"env mode:\", self.mode)\n",
    "        # print(\"dataloader mode:\", self.dataloader.dataset_type)\n",
    "\n",
    "        X_item, Y_item = self.dataloader[self.index]\n",
    "\n",
    "        # check if any value in X_item is nan.\n",
    "\n",
    "        if np.isnan(X_item).any():\n",
    "            print(\"X_item is nan\")\n",
    "            # print index\n",
    "            print(\"total index:\", self.index)\n",
    "            print(\"first nan encountered:\", np.argwhere(np.isnan(X_item))[0])\n",
    "        \n",
    "        if np.isnan(Y_item).any():\n",
    "            print(\"Y_item is nan\")\n",
    "            # print index\n",
    "            print(\"total index:\", self.index)\n",
    "            print(\"first nan encountered:\", np.argwhere(np.isnan(Y_item))[0])\n",
    "\n",
    "        # check if any value in X_item is inf.\n",
    "\n",
    "        if np.isinf(X_item).any():\n",
    "            print(\"X_item is inf\")\n",
    "            # print index\n",
    "            print(\"total index:\", self.index)\n",
    "            print(\"first inf encountered:\", np.argwhere(np.isinf(X_item))[0])\n",
    "\n",
    "            print(X_item)\n",
    "\n",
    "            raise ValueError(\"X_item contains inf values.\")\n",
    "\n",
    "        if self.mode == \"train\":\n",
    "            sl = self.draw_parameter(self.sl_distribution, self.sl_bound_low, self.sl_bound_high, samples = self.num_SKUs[0])\n",
    "        else:\n",
    "            sl = self.sl.copy() # evaluate on fixed sls\n",
    "\n",
    "        if self.mode != \"train\":\n",
    "            if hasattr(self.dataloader, \"meta_learn_units\") and self.dataloader.meta_learn_units: # dataloaders that train SKU in the batch dimension will put SKU dimension last for validation and test set\n",
    "                X_item = np.moveaxis(X_item, -1, 0)\n",
    " \n",
    "        self.sl_period = sl # store the service level to assess the action\n",
    "        \n",
    "        # print(\"shape in get observation:\", X_item.shape)\n",
    "        # print(\"demand in get observation:\", Y_item.shape)\n",
    "        # print(\"sl in get observation:\", sl.shape)\n",
    "\n",
    "        return {\"features\": X_item, \"service_level\": sl}, Y_item\n",
    "\n",
    "    def check_evaluation_metric(self): #\n",
    "        if self.evaluation_metric not in [\"pinball_loss\", \"quantile_loss\"]:\n",
    "            raise ValueError(\"evaluation_metric must be either 'pinball_loss' or 'quantile_loss'.\")\n",
    "        if self.evaluation_metric == \"pinball_loss\" and (self.underage_cost is None or self.overage_cost is None):\n",
    "            raise ValueError(\"Underage and overage costs must be provided for pinball loss.\")\n",
    "        if self.evaluation_metric == \"quantile_loss\" and (self.sl_test_val is None):\n",
    "            raise ValueError(\"sl_test_val must be provided for quantile loss.\")\n",
    "    \n",
    "    def check_sl_distribution(self): #\n",
    "        if self.sl_distribution not in [\"fixed\", \"uniform\"]:\n",
    "            raise ValueError(\"sl_distribution must be 'uniform' or 'fixed'.\")\n",
    "\n",
    "    def set_val_test_sl(self, sl_test_val): #\n",
    "        self.set_param(\"sl\", sl_test_val, shape=(self.num_SKUs[0],), new=False)"
   ]
  },
  {
   "cell_type": "code",
   "execution_count": null,
   "metadata": {},
   "outputs": [
    {
     "data": {
      "text/markdown": [
       "---\n",
       "\n",
       "## NewsvendorEnvVariableSL\n",
       "\n",
       ">      NewsvendorEnvVariableSL\n",
       ">                               (sl_bound_low:Union[numpy.ndarray,ddopai.utils.P\n",
       ">                               arameter,int,float]=0.1, sl_bound_high:Union[num\n",
       ">                               py.ndarray,ddopai.utils.Parameter,int,float]=0.9\n",
       ">                               , sl_distribution:Literal['fixed','uniform']='fi\n",
       ">                               xed', evaluation_metric:Literal['pinball_loss','\n",
       ">                               quantile_loss']='quantile_loss', sl_test_val:Uni\n",
       ">                               on[numpy.ndarray,ddopai.utils.Parameter,int,floa\n",
       ">                               t]=None, underage_cost:Union[numpy.ndarray,ddopa\n",
       ">                               i.utils.Parameter,int,float]=1, overage_cost:Uni\n",
       ">                               on[numpy.ndarray,ddopai.utils.Parameter,int,floa\n",
       ">                               t]=1, q_bound_low:Union[numpy.ndarray,ddopai.uti\n",
       ">                               ls.Parameter,int,float]=0, q_bound_high:Union[nu\n",
       ">                               mpy.ndarray,ddopai.utils.Parameter,int,float]=in\n",
       ">                               f, dataloader:ddopai.dataloaders.base.BaseDataLo\n",
       ">                               ader=None, num_SKUs:int=None, gamma:float=1,\n",
       ">                               horizon_train:int|str='use_all_data',\n",
       ">                               postprocessors:list[object]|None=None,\n",
       ">                               mode:str='train', return_truncation:str=True,\n",
       ">                               SKUs_in_batch_dimension:bool=True)\n",
       "\n",
       "*Class implementing the Newsvendor problem, working for the single- and multi-item case. If underage_cost and overage_cost\n",
       "are scalars and there are multiple SKUs, then the same cost is used for all SKUs. If underage_cost and overage_cost are arrays,\n",
       "then they must have the same length as the number of SKUs. Num_SKUs can be set as parameter or inferred from the DataLoader.*\n",
       "\n",
       "|    | **Type** | **Default** | **Details** |\n",
       "| -- | -------- | ----------- | ----------- |\n",
       "| sl_bound_low | Union | 0.1 | lower bound of the service level during training |\n",
       "| sl_bound_high | Union | 0.9 | upper bound of the service level during training |\n",
       "| sl_distribution | Literal | fixed | distribution of the random service level during training, if fixed then the service level is fixed to sl_test_val |\n",
       "| evaluation_metric | Literal | quantile_loss | quantile loss is the generic quantile loss (independent of cost levels) while pinball loss uses the specific under- and overage costs |\n",
       "| sl_test_val | Union | None | service level during test and validation, alternatively use cu and co |\n",
       "| underage_cost | Union | 1 | underage cost per unit |\n",
       "| overage_cost | Union | 1 | overage cost per unit |\n",
       "| q_bound_low | Union | 0 | lower bound of the order quantity |\n",
       "| q_bound_high | Union | inf | upper bound of the order quantity |\n",
       "| dataloader | BaseDataLoader | None | dataloader |\n",
       "| num_SKUs | int | None | if None it will be inferred from the DataLoader |\n",
       "| gamma | float | 1 | discount factor |\n",
       "| horizon_train | int \\| str | use_all_data | if \"use_all_data\" then horizon is inferred from the DataLoader |\n",
       "| postprocessors | list[object] \\| None | None | default is empty list |\n",
       "| mode | str | train | Initial mode (train, val, test) of the environment |\n",
       "| return_truncation | str | True | whether to return a truncated condition in step function |\n",
       "| SKUs_in_batch_dimension | bool | True | whether SKUs in the observation space are in the batch dimension (used for meta-learning) |\n",
       "| **Returns** | **None** |  |  |"
      ],
      "text/plain": [
       "---\n",
       "\n",
       "## NewsvendorEnvVariableSL\n",
       "\n",
       ">      NewsvendorEnvVariableSL\n",
       ">                               (sl_bound_low:Union[numpy.ndarray,ddopai.utils.P\n",
       ">                               arameter,int,float]=0.1, sl_bound_high:Union[num\n",
       ">                               py.ndarray,ddopai.utils.Parameter,int,float]=0.9\n",
       ">                               , sl_distribution:Literal['fixed','uniform']='fi\n",
       ">                               xed', evaluation_metric:Literal['pinball_loss','\n",
       ">                               quantile_loss']='quantile_loss', sl_test_val:Uni\n",
       ">                               on[numpy.ndarray,ddopai.utils.Parameter,int,floa\n",
       ">                               t]=None, underage_cost:Union[numpy.ndarray,ddopa\n",
       ">                               i.utils.Parameter,int,float]=1, overage_cost:Uni\n",
       ">                               on[numpy.ndarray,ddopai.utils.Parameter,int,floa\n",
       ">                               t]=1, q_bound_low:Union[numpy.ndarray,ddopai.uti\n",
       ">                               ls.Parameter,int,float]=0, q_bound_high:Union[nu\n",
       ">                               mpy.ndarray,ddopai.utils.Parameter,int,float]=in\n",
       ">                               f, dataloader:ddopai.dataloaders.base.BaseDataLo\n",
       ">                               ader=None, num_SKUs:int=None, gamma:float=1,\n",
       ">                               horizon_train:int|str='use_all_data',\n",
       ">                               postprocessors:list[object]|None=None,\n",
       ">                               mode:str='train', return_truncation:str=True,\n",
       ">                               SKUs_in_batch_dimension:bool=True)\n",
       "\n",
       "*Class implementing the Newsvendor problem, working for the single- and multi-item case. If underage_cost and overage_cost\n",
       "are scalars and there are multiple SKUs, then the same cost is used for all SKUs. If underage_cost and overage_cost are arrays,\n",
       "then they must have the same length as the number of SKUs. Num_SKUs can be set as parameter or inferred from the DataLoader.*\n",
       "\n",
       "|    | **Type** | **Default** | **Details** |\n",
       "| -- | -------- | ----------- | ----------- |\n",
       "| sl_bound_low | Union | 0.1 | lower bound of the service level during training |\n",
       "| sl_bound_high | Union | 0.9 | upper bound of the service level during training |\n",
       "| sl_distribution | Literal | fixed | distribution of the random service level during training, if fixed then the service level is fixed to sl_test_val |\n",
       "| evaluation_metric | Literal | quantile_loss | quantile loss is the generic quantile loss (independent of cost levels) while pinball loss uses the specific under- and overage costs |\n",
       "| sl_test_val | Union | None | service level during test and validation, alternatively use cu and co |\n",
       "| underage_cost | Union | 1 | underage cost per unit |\n",
       "| overage_cost | Union | 1 | overage cost per unit |\n",
       "| q_bound_low | Union | 0 | lower bound of the order quantity |\n",
       "| q_bound_high | Union | inf | upper bound of the order quantity |\n",
       "| dataloader | BaseDataLoader | None | dataloader |\n",
       "| num_SKUs | int | None | if None it will be inferred from the DataLoader |\n",
       "| gamma | float | 1 | discount factor |\n",
       "| horizon_train | int \\| str | use_all_data | if \"use_all_data\" then horizon is inferred from the DataLoader |\n",
       "| postprocessors | list[object] \\| None | None | default is empty list |\n",
       "| mode | str | train | Initial mode (train, val, test) of the environment |\n",
       "| return_truncation | str | True | whether to return a truncated condition in step function |\n",
       "| SKUs_in_batch_dimension | bool | True | whether SKUs in the observation space are in the batch dimension (used for meta-learning) |\n",
       "| **Returns** | **None** |  |  |"
      ]
     },
     "execution_count": null,
     "metadata": {},
     "output_type": "execute_result"
    }
   ],
   "source": [
    "show_doc(NewsvendorEnvVariableSL, title_level=2)"
   ]
  },
  {
   "cell_type": "code",
   "execution_count": null,
   "metadata": {},
   "outputs": [
    {
     "data": {
      "text/markdown": [
       "---\n",
       "\n",
       "### NewsvendorEnvVariableSL.determine_cost\n",
       "\n",
       ">      NewsvendorEnvVariableSL.determine_cost (action:numpy.ndarray)\n",
       "\n",
       "*Determine the cost per SKU given the action taken. The cost is the sum of underage and overage costs.*\n",
       "\n",
       "|    | **Type** | **Details** |\n",
       "| -- | -------- | ----------- |\n",
       "| action | ndarray |  |\n",
       "| **Returns** | **ndarray** |  |"
      ],
      "text/plain": [
       "---\n",
       "\n",
       "### NewsvendorEnvVariableSL.determine_cost\n",
       "\n",
       ">      NewsvendorEnvVariableSL.determine_cost (action:numpy.ndarray)\n",
       "\n",
       "*Determine the cost per SKU given the action taken. The cost is the sum of underage and overage costs.*\n",
       "\n",
       "|    | **Type** | **Details** |\n",
       "| -- | -------- | ----------- |\n",
       "| action | ndarray |  |\n",
       "| **Returns** | **ndarray** |  |"
      ]
     },
     "execution_count": null,
     "metadata": {},
     "output_type": "execute_result"
    }
   ],
   "source": [
    "show_doc(NewsvendorEnvVariableSL.determine_cost)"
   ]
  },
  {
   "cell_type": "code",
   "execution_count": null,
   "metadata": {},
   "outputs": [
    {
     "data": {
      "text/markdown": [
       "---\n",
       "\n",
       "### NewsvendorEnvVariableSL.set_observation_space\n",
       "\n",
       ">      NewsvendorEnvVariableSL.set_observation_space (shape:tuple,\n",
       ">                                                     low:Union[numpy.ndarray,fl\n",
       ">                                                     oat]=-inf, high:Union[nump\n",
       ">                                                     y.ndarray,float]=inf,\n",
       ">                                                     samples_dim_included=True)\n",
       "\n",
       "*Set the observation space of the environment.\n",
       "This is a standard function for simple observation spaces. For more complex observation spaces,\n",
       "this function should be overwritten. Note that it is assumped that the first dimension\n",
       "is n_samples that is not relevant for the observation space.*\n",
       "\n",
       "|    | **Type** | **Default** | **Details** |\n",
       "| -- | -------- | ----------- | ----------- |\n",
       "| shape | tuple |  | shape of the dataloader features |\n",
       "| low | Union | -inf | lower bound of the observation space |\n",
       "| high | Union | inf | upper bound of the observation space |\n",
       "| samples_dim_included | bool | True | whether the first dimension of the shape input is the number of samples |\n",
       "| **Returns** | **None** |  |  |"
      ],
      "text/plain": [
       "---\n",
       "\n",
       "### NewsvendorEnvVariableSL.set_observation_space\n",
       "\n",
       ">      NewsvendorEnvVariableSL.set_observation_space (shape:tuple,\n",
       ">                                                     low:Union[numpy.ndarray,fl\n",
       ">                                                     oat]=-inf, high:Union[nump\n",
       ">                                                     y.ndarray,float]=inf,\n",
       ">                                                     samples_dim_included=True)\n",
       "\n",
       "*Set the observation space of the environment.\n",
       "This is a standard function for simple observation spaces. For more complex observation spaces,\n",
       "this function should be overwritten. Note that it is assumped that the first dimension\n",
       "is n_samples that is not relevant for the observation space.*\n",
       "\n",
       "|    | **Type** | **Default** | **Details** |\n",
       "| -- | -------- | ----------- | ----------- |\n",
       "| shape | tuple |  | shape of the dataloader features |\n",
       "| low | Union | -inf | lower bound of the observation space |\n",
       "| high | Union | inf | upper bound of the observation space |\n",
       "| samples_dim_included | bool | True | whether the first dimension of the shape input is the number of samples |\n",
       "| **Returns** | **None** |  |  |"
      ]
     },
     "execution_count": null,
     "metadata": {},
     "output_type": "execute_result"
    }
   ],
   "source": [
    "show_doc(NewsvendorEnvVariableSL.set_observation_space)"
   ]
  },
  {
   "cell_type": "code",
   "execution_count": null,
   "metadata": {},
   "outputs": [
    {
     "data": {
      "text/markdown": [
       "---\n",
       "\n",
       "### NewsvendorEnvVariableSL.draw_parameter\n",
       "\n",
       ">      NewsvendorEnvVariableSL.draw_parameter (distribution, sl_bound_low,\n",
       ">                                              sl_bound_high, samples)\n",
       "\n",
       "|    | **Details** |\n",
       "| -- | ----------- |\n",
       "| distribution |  |\n",
       "| sl_bound_low |  |\n",
       "| sl_bound_high |  |\n",
       "| samples |  |"
      ],
      "text/plain": [
       "---\n",
       "\n",
       "### NewsvendorEnvVariableSL.draw_parameter\n",
       "\n",
       ">      NewsvendorEnvVariableSL.draw_parameter (distribution, sl_bound_low,\n",
       ">                                              sl_bound_high, samples)\n",
       "\n",
       "|    | **Details** |\n",
       "| -- | ----------- |\n",
       "| distribution |  |\n",
       "| sl_bound_low |  |\n",
       "| sl_bound_high |  |\n",
       "| samples |  |"
      ]
     },
     "execution_count": null,
     "metadata": {},
     "output_type": "execute_result"
    }
   ],
   "source": [
    "show_doc(NewsvendorEnvVariableSL.draw_parameter)"
   ]
  },
  {
   "cell_type": "code",
   "execution_count": null,
   "metadata": {},
   "outputs": [
    {
     "data": {
      "text/markdown": [
       "---\n",
       "\n",
       "### NewsvendorEnvVariableSL.get_observation\n",
       "\n",
       ">      NewsvendorEnvVariableSL.get_observation ()\n",
       "\n",
       "*Return the current observation. This function is for the simple case where the observation\n",
       "is only an x,y pair. For more complex observations, this function should be overwritten.*"
      ],
      "text/plain": [
       "---\n",
       "\n",
       "### NewsvendorEnvVariableSL.get_observation\n",
       "\n",
       ">      NewsvendorEnvVariableSL.get_observation ()\n",
       "\n",
       "*Return the current observation. This function is for the simple case where the observation\n",
       "is only an x,y pair. For more complex observations, this function should be overwritten.*"
      ]
     },
     "execution_count": null,
     "metadata": {},
     "output_type": "execute_result"
    }
   ],
   "source": [
    "show_doc(NewsvendorEnvVariableSL.get_observation)"
   ]
  },
  {
   "cell_type": "code",
   "execution_count": null,
   "metadata": {},
   "outputs": [
    {
     "data": {
      "text/markdown": [
       "---\n",
       "\n",
       "### NewsvendorEnvVariableSL.check_evaluation_metric\n",
       "\n",
       ">      NewsvendorEnvVariableSL.check_evaluation_metric ()"
      ],
      "text/plain": [
       "---\n",
       "\n",
       "### NewsvendorEnvVariableSL.check_evaluation_metric\n",
       "\n",
       ">      NewsvendorEnvVariableSL.check_evaluation_metric ()"
      ]
     },
     "execution_count": null,
     "metadata": {},
     "output_type": "execute_result"
    }
   ],
   "source": [
    "show_doc(NewsvendorEnvVariableSL.check_evaluation_metric)"
   ]
  },
  {
   "cell_type": "code",
   "execution_count": null,
   "metadata": {},
   "outputs": [
    {
     "data": {
      "text/markdown": [
       "---\n",
       "\n",
       "### NewsvendorEnvVariableSL.check_sl_distribution\n",
       "\n",
       ">      NewsvendorEnvVariableSL.check_sl_distribution ()"
      ],
      "text/plain": [
       "---\n",
       "\n",
       "### NewsvendorEnvVariableSL.check_sl_distribution\n",
       "\n",
       ">      NewsvendorEnvVariableSL.check_sl_distribution ()"
      ]
     },
     "execution_count": null,
     "metadata": {},
     "output_type": "execute_result"
    }
   ],
   "source": [
    "show_doc(NewsvendorEnvVariableSL.check_sl_distribution)"
   ]
  },
  {
   "cell_type": "code",
   "execution_count": null,
   "metadata": {},
   "outputs": [
    {
     "data": {
      "text/markdown": [
       "---\n",
       "\n",
       "### NewsvendorEnvVariableSL.set_val_test_sl\n",
       "\n",
       ">      NewsvendorEnvVariableSL.set_val_test_sl (sl_test_val)\n",
       "\n",
       "|    | **Details** |\n",
       "| -- | ----------- |\n",
       "| sl_test_val |  |"
      ],
      "text/plain": [
       "---\n",
       "\n",
       "### NewsvendorEnvVariableSL.set_val_test_sl\n",
       "\n",
       ">      NewsvendorEnvVariableSL.set_val_test_sl (sl_test_val)\n",
       "\n",
       "|    | **Details** |\n",
       "| -- | ----------- |\n",
       "| sl_test_val |  |"
      ]
     },
     "execution_count": null,
     "metadata": {},
     "output_type": "execute_result"
    }
   ],
   "source": [
    "show_doc(NewsvendorEnvVariableSL.set_val_test_sl)"
   ]
  },
  {
   "cell_type": "code",
   "execution_count": null,
   "metadata": {},
   "outputs": [],
   "source": [
    "#| hide\n",
    "import nbdev; nbdev.nbdev_export()"
   ]
  },
  {
   "cell_type": "code",
   "execution_count": null,
   "metadata": {},
   "outputs": [],
   "source": []
  },
  {
   "cell_type": "code",
   "execution_count": null,
   "metadata": {},
   "outputs": [],
   "source": []
  },
  {
   "cell_type": "code",
   "execution_count": null,
   "metadata": {},
   "outputs": [],
   "source": []
  },
  {
   "cell_type": "code",
   "execution_count": null,
   "metadata": {},
   "outputs": [],
   "source": []
  },
  {
   "cell_type": "code",
   "execution_count": null,
   "metadata": {},
   "outputs": [],
   "source": []
  }
 ],
 "metadata": {
  "kernelspec": {
   "display_name": "python3",
   "language": "python",
   "name": "python3"
  }
 },
 "nbformat": 4,
 "nbformat_minor": 4
}
