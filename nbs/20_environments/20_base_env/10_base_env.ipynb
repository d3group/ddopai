{
 "cells": [
  {
   "cell_type": "markdown",
   "metadata": {},
   "source": [
    "# Base Environment\n",
    "\n",
    "> Base environment class based on Gymnasium"
   ]
  },
  {
   "cell_type": "code",
   "execution_count": null,
   "metadata": {},
   "outputs": [],
   "source": [
    "#| default_exp envs.base"
   ]
  },
  {
   "cell_type": "code",
   "execution_count": null,
   "metadata": {},
   "outputs": [],
   "source": [
    "#| hide\n",
    "from nbdev.showdoc import *"
   ]
  },
  {
   "cell_type": "markdown",
   "metadata": {},
   "source": []
  },
  {
   "cell_type": "code",
   "execution_count": null,
   "metadata": {},
   "outputs": [],
   "source": [
    "#| export\n",
    "\n",
    "import gymnasium as gym\n",
    "from abc import ABC, abstractmethod\n",
    "from typing import Union, List\n",
    "import numpy as np\n",
    "\n",
    "from ddopai.utils import MDPInfo, Parameter, set_param\n",
    "import time"
   ]
  },
  {
   "cell_type": "code",
   "execution_count": null,
   "metadata": {},
   "outputs": [],
   "source": [
    "#| export\n",
    "class BaseEnvironment(gym.Env, ABC):\n",
    "\n",
    "    \"\"\"\n",
    "\n",
    "    Base class for environments enforcing a common interface.\n",
    "    \"\"\"\n",
    "\n",
    "    def __init__(self,\n",
    "                    mdp_info: MDPInfo, # MDPInfo object to ensure compatibility with the agents\n",
    "                    postprocessors: list[object] | None = None,  # default is empty list\n",
    "                    mode: str = \"train\", # Initial mode (train, val, test) of the environment\n",
    "                    return_truncation: str = True, # whether to return a truncated condition in step function\n",
    "                    horizon_train: int | str = \"use_all_data\" # horizon of the training data\n",
    "                    ) -> None: #\n",
    "\n",
    "        super().__init__()\n",
    "\n",
    "        self.horizon_train = horizon_train\n",
    "\n",
    "        self.return_truncation = return_truncation\n",
    "\n",
    "        self._mode = mode\n",
    "        self._mdp_info = mdp_info\n",
    "        \n",
    "        if mode == \"train\": \n",
    "            self.train()\n",
    "        elif mode == \"val\":\n",
    "            self.val()\n",
    "        elif mode == \"test\":\n",
    "            self.test()\n",
    "        else:\n",
    "            raise ValueError(\"mode must be 'train', 'val', or 'test'\")\n",
    "\n",
    "        self.postprocessors = postprocessors or []\n",
    "\n",
    "    def set_param(self,\n",
    "                        name: str, # name of the parameter (will become the attribute name)\n",
    "                        input: Parameter | int | float | np.ndarray | List | None, # input value of the parameter\n",
    "                        shape: tuple = (1,), # shape of the parameter\n",
    "                        new: bool = False # whether to create a new parameter or update an existing one\n",
    "                        ) -> None: #\n",
    "        \n",
    "        \"\"\"\n",
    "        Set a parameter for the environment. It converts scalar values to numpy arrays and ensures that\n",
    "        environment parameters are either of the Parameter class of Numpy arrays. If new is set to True, \n",
    "        the function will create a new parameter or update an existing one otherwise. If new is set to\n",
    "        False, the function will raise an error if the parameter does not exist.\n",
    "        \"\"\"\n",
    "\n",
    "        set_param(self, name, input, shape, new)\n",
    "\n",
    "    def return_truncation_handler(self, observation, reward, terminated, truncated, info):\n",
    "        \"\"\" \n",
    "        Handle the return_truncation attribute of the environment. This function is called by the step function\n",
    "\n",
    "        \"\"\"\n",
    "\n",
    "        if self.return_truncation:\n",
    "            return observation, reward, terminated, truncated, info\n",
    "        else:\n",
    "            return observation, reward, terminated, info\n",
    "\n",
    "    def step(self, action):\n",
    "        \n",
    "        \"\"\"\n",
    "        Step function of the environment. Do not overwrite this function. \n",
    "        Instead, write the step_ function. Note that the postprocessor is applied here.\n",
    "\n",
    "        \"\"\"\n",
    "        \n",
    "        ## apply postprocessor\n",
    "        for postprocessor in self.postprocessors:\n",
    "            action = postprocessor(action)\n",
    "\n",
    "        observation, reward, terminated, truncated, info = self.step_(action)\n",
    "\n",
    "        return self.return_truncation_handler(observation, reward, terminated, truncated, info)\n",
    "    \n",
    "    def add_postprocessor(self, postprocessor: object): # post-processor object that can be called via the \"__call__\" method\n",
    "        \"\"\"Add a postprocessor to the agent\"\"\"\n",
    "        self.postprocessors.append(postprocessor)\n",
    "\n",
    "    @staticmethod\n",
    "    def step_(self, action):\n",
    "        \"\"\"\n",
    "        Step function of the environment. It is a wrapper around the step function that handles the return_truncation\n",
    "        attribute of the environment. It must return the following: observation, reward, terminated, truncated, info\n",
    "\n",
    "        \"\"\"\n",
    "        pass\n",
    "\n",
    "\n",
    "    @property\n",
    "    def mdp_info(self):\n",
    "        \"\"\"\n",
    "        Returns: The MDPInfo object of the environment.\n",
    "\n",
    "        \"\"\"\n",
    "        return self._mdp_info\n",
    "\n",
    "    @property\n",
    "    def info(self):\n",
    "        \"\"\"\n",
    "        Returns: Alternative call to the method for mushroom_rl.\n",
    "\n",
    "        \"\"\"\n",
    "        return self.mdp_info\n",
    "\n",
    "    @property\n",
    "    def mode(self):\n",
    "        \"\"\"\n",
    "        Returns: A string with the current mode (train, test val) of the environment.\n",
    "\n",
    "        \"\"\"\n",
    "        return self._mode\n",
    "\n",
    "    @abstractmethod\n",
    "    def set_action_space(self):\n",
    "        \"\"\"\n",
    "        Set the action space of the environment.\n",
    "\n",
    "        \"\"\"\n",
    "        pass\n",
    "\n",
    "    @abstractmethod\n",
    "    def set_observation_space(self):\n",
    "        \"\"\"\n",
    "        Set the observation space of the environment.\n",
    "        In general, this can be also a dict space, but the agent must have the appropriate pre-processor.\n",
    "\n",
    "        \"\"\"\n",
    "        pass\n",
    "\n",
    "    @abstractmethod\n",
    "    def get_observation(self):\n",
    "        \"\"\"\n",
    "        Return the current observation. Typically constructed from the output of the dataloader and \n",
    "        internal dynamics (such as inventory levels, pipeline vectors, etc.) of the environment.\n",
    "\n",
    "        \"\"\"\n",
    "        pass\n",
    "\n",
    "    @abstractmethod\n",
    "    def reset(self):\n",
    "        \"\"\"\n",
    "        Reset the environment. This function must be provided, using the function self.reset_index() to \n",
    "        handle indexing. It needs to account for the current training mode train, val, or test and handle\n",
    "        the horizon_train param. See the reset function for the NewsvendorEnv for an example.\n",
    "\n",
    "        \"\"\"\n",
    "        pass\n",
    "    \n",
    "    def set_index(self, index=None):\n",
    "        \n",
    "        \"\"\"\n",
    "        Handle the index of the environment.\n",
    "\n",
    "        \"\"\"\n",
    "\n",
    "        if index is not None:\n",
    "            self.index = index\n",
    "        else:\n",
    "            self.index += 1\n",
    "        \n",
    "        truncated = True if self.index >= self.max_index_episode else False\n",
    "        \n",
    "        return truncated\n",
    "\n",
    "    def get_start_index(self,\n",
    "        start_index: int | str = None, # index to start from\n",
    "        ) -> int:\n",
    "        \n",
    "        \"\"\" Determine if the start index is random or 0,\n",
    "        depending on the state of the environment and training\n",
    "        process (over entire train set or in shorter episodes) \"\"\"\n",
    "\n",
    "        if start_index is None:\n",
    "            if self._mode == \"train\":\n",
    "                if self.horizon_train == \"use_all_data\":\n",
    "                    start_index = 0\n",
    "                elif hasattr(self.dataloader, \"is_distribution\") and self.dataloader.is_distribution:\n",
    "                    start_index = 0\n",
    "                else:\n",
    "                    start_index = \"random\"\n",
    "            elif self._mode == \"val\":\n",
    "                start_index = 0\n",
    "            elif self._mode == \"test\":\n",
    "                start_index = 0\n",
    "            else:\n",
    "                raise ValueError(\"Mode not recognized.\")\n",
    "            \n",
    "        else:\n",
    "            start_index = start_index\n",
    "        \n",
    "        return start_index\n",
    "\n",
    "    def reset_index(self,\n",
    "        start_index: Union[int,str]):\n",
    "\n",
    "        \"\"\"\n",
    "\n",
    "        Reset the index of the environment. If start_index is an integer, the index is set to this value. If start_index is \"random\",\n",
    "        the index is set to a random integer between 0 and the length of the training data.\n",
    "\n",
    "        \"\"\"\n",
    "\n",
    "        start_index = self.get_start_index(start_index)\n",
    " \n",
    "        if start_index==\"random\":\n",
    "            if self.mode == \"train\":\n",
    "                if self.dataloader.len_train is not None and self.dataloader.len_train > self.mdp_info.horizon:\n",
    "                    random_index = np.random.choice(self.dataloader.len_train-self.mdp_info.horizon)\n",
    "                else:\n",
    "                    random_index = 0\n",
    "                self.start_index = random_index \n",
    "            else:\n",
    "                raise ValueError(\"start_index cannot be 'random' in val or test mode\")\n",
    "        elif isinstance(start_index, int):\n",
    "            self.start_index = start_index\n",
    "        else:\n",
    "            raise ValueError(\"start_index must be an integer or 'random'\")\n",
    "\n",
    "        self.max_index = self.dataloader.len_train if self.mode == \"train\" else self.dataloader.len_val if self.mode == \"val\" else self.dataloader.len_test\n",
    "        self.max_index -= 1\n",
    "        self.max_index_episode = np.minimum(self.max_index, self.start_index+self.mdp_info.horizon)\n",
    "        if self.mode == \"test\" or self.mode == \"val\":\n",
    "            self.max_index_episode += 1\n",
    "    \n",
    "        truncated = self.set_index(self.start_index) # assuming we only start randomly during training.\n",
    "        \n",
    "        return truncated\n",
    "\n",
    "    def update_mdp_info(self, gamma=None, horizon=None):\n",
    "        \n",
    "        \"\"\"\n",
    "        Update the MDP info of the environment.\n",
    "\n",
    "        \"\"\"\n",
    "        if gamma is not None:\n",
    "            self._mdp_info.gamma = gamma\n",
    "        if horizon is not None:\n",
    "            self._mdp_info.horizon = horizon\n",
    "\n",
    "    def train(self, update_mdp_info=True):\n",
    "        \"\"\"\n",
    "        Set the environment in training mode by both setting the internal state self._train and the dataloader. \n",
    "        If the horizon is set to \"use_all_data\", the horizon is set to the length of the training data, otherwise\n",
    "        it is set to the horizon_train attribute of the environment. Finally, the function updates the MDP info\n",
    "        and resets with the new state.\n",
    "\n",
    "        \"\"\"\n",
    "        self._mode = \"train\"\n",
    "\n",
    "        if hasattr(self, \"dataloader\"):\n",
    "            self.dataloader.train()\n",
    "\n",
    "            if hasattr(self, \"horizon_train\"):\n",
    "                if self.horizon_train == \"use_all_data\":\n",
    "                    horizon = self.dataloader.len_train\n",
    "                else:\n",
    "                    horizon = self.horizon_train\n",
    "        else:\n",
    "            horizon = self.mdp_info.horizon\n",
    "\n",
    "        if update_mdp_info:\n",
    "            self.update_mdp_info(gamma=self.mdp_info.gamma, horizon=horizon)\n",
    "\n",
    "        self.reset()\n",
    "    \n",
    "    def val(self, update_mdp_info=True):\n",
    "        \"\"\"\n",
    "        Set the environment in validation mode by both setting the internal state self._val and the dataloader.\n",
    "        The horizon of val is always set to the length of the validation data. Finally, the function updates the MDP info\n",
    "        and resets with the new state.\n",
    "\n",
    "        \"\"\"\n",
    "        self._mode = \"val\"\n",
    "\n",
    "        if hasattr(self, \"dataloader\"):\n",
    "            self.dataloader.val()\n",
    "            horizon = self.dataloader.len_val\n",
    "        else:\n",
    "            horizon = self.mdp_info.horizon\n",
    "\n",
    "        if update_mdp_info:\n",
    "            self.update_mdp_info(gamma=self.mdp_info.gamma, horizon=horizon)\n",
    "\n",
    "        self.reset()\n",
    "\n",
    "    def test(self, update_mdp_info=True):\n",
    "        \"\"\"\n",
    "        Set the environment in testing mode by both setting the internal state self._test and the dataloader.\n",
    "        The horizon of test is always set to the length of the test data. Finally, the function updates the MDP info\n",
    "        and resets with the new state.\n",
    "\n",
    "        \"\"\"\n",
    "        self._mode = \"test\"\n",
    "\n",
    "        if hasattr(self, \"dataloader\"):\n",
    "            self.dataloader.test()\n",
    "            horizon = self.dataloader.len_test\n",
    "        else:\n",
    "            horizon = self.mdp_info.horizon\n",
    "\n",
    "        if update_mdp_info:\n",
    "            self.update_mdp_info(gamma=self.mdp_info.gamma, horizon=horizon)\n",
    "\n",
    "        self.reset()\n",
    "\n",
    "    def set_return_truncation(self, return_truncation: bool): # whether or not to return the truncated condition in the step function\n",
    "        \n",
    "        \"\"\"\n",
    "        Set the return_truncation attribute of the environment.\n",
    "        \"\"\"\n",
    "\n",
    "        self.return_truncation = return_truncation\n",
    "\n",
    "    def stop(self):\n",
    "        \"\"\"\n",
    "        Stop the environment. This function is used to ensure compatibility with the Core of mushroom_rl.\n",
    "\n",
    "        \"\"\"\n",
    "        pass\n"
   ]
  },
  {
   "cell_type": "code",
   "execution_count": null,
   "metadata": {},
   "outputs": [
    {
     "data": {
      "text/markdown": [
       "---\n",
       "\n",
       "[source](https://github.com/opimwue/ddopai/blob/main/ddopai/envs/base.py#L16){target=\"_blank\" style=\"float:right; font-size:smaller\"}\n",
       "\n",
       "## BaseEnvironment\n",
       "\n",
       ">      BaseEnvironment (mdp_info:ddopai.utils.MDPInfo,\n",
       ">                       postprocessors:list[object]|None=None, mode:str='train',\n",
       ">                       return_truncation:str=True,\n",
       ">                       horizon_train:int|str='use_all_data')\n",
       "\n",
       "*Base class for environments enforcing a common interface.*\n",
       "\n",
       "|    | **Type** | **Default** | **Details** |\n",
       "| -- | -------- | ----------- | ----------- |\n",
       "| mdp_info | MDPInfo |  | MDPInfo object to ensure compatibility with the agents |\n",
       "| postprocessors | list[object] \\| None | None | default is empty list |\n",
       "| mode | str | train | Initial mode (train, val, test) of the environment |\n",
       "| return_truncation | str | True | whether to return a truncated condition in step function |\n",
       "| horizon_train | int \\| str | use_all_data | horizon of the training data |\n",
       "| **Returns** | **None** |  |  |"
      ],
      "text/plain": [
       "---\n",
       "\n",
       "[source](https://github.com/opimwue/ddopai/blob/main/ddopai/envs/base.py#L16){target=\"_blank\" style=\"float:right; font-size:smaller\"}\n",
       "\n",
       "## BaseEnvironment\n",
       "\n",
       ">      BaseEnvironment (mdp_info:ddopai.utils.MDPInfo,\n",
       ">                       postprocessors:list[object]|None=None, mode:str='train',\n",
       ">                       return_truncation:str=True,\n",
       ">                       horizon_train:int|str='use_all_data')\n",
       "\n",
       "*Base class for environments enforcing a common interface.*\n",
       "\n",
       "|    | **Type** | **Default** | **Details** |\n",
       "| -- | -------- | ----------- | ----------- |\n",
       "| mdp_info | MDPInfo |  | MDPInfo object to ensure compatibility with the agents |\n",
       "| postprocessors | list[object] \\| None | None | default is empty list |\n",
       "| mode | str | train | Initial mode (train, val, test) of the environment |\n",
       "| return_truncation | str | True | whether to return a truncated condition in step function |\n",
       "| horizon_train | int \\| str | use_all_data | horizon of the training data |\n",
       "| **Returns** | **None** |  |  |"
      ]
     },
     "execution_count": null,
     "metadata": {},
     "output_type": "execute_result"
    }
   ],
   "source": [
    "show_doc(BaseEnvironment, title_level=2)"
   ]
  },
  {
   "cell_type": "markdown",
   "metadata": {},
   "source": [
    "### Important notes:\n",
    "\n",
    "\n",
    "**init method**:\n",
    "\n",
    "* When adding parameters to the environment, make sure to always add them via self.[parameter name] = set_param(...). This ensures all parameters are of the correct types and shapes.\n",
    "\n",
    "* During the init method, any Gymnasium environment expects the action and observation space to be defined. For clarity, avoid doing it directly in the init, but rather use the functions ```set_action_space()``` and ```set_observation_space()``` and call them in the ```___init___`` method.\n",
    "\n",
    "\n",
    "**train, val, test, and horizon (episode length)**:\n",
    "\n",
    "* When the ```__init__``` method is called, the environment executes the ```train()```, ```val()``` or ```test()``` methods. Therefore, they must be implemented in a way that they work right during set-up. \n",
    "\n",
    "* ```train()```, ```val()``` and ```test()``` methods are provided in the base class, but can also be overwritten if necessary. In any case, they must set the dataloader to the correct dataset to ensure no\n",
    "data leakage. They also need to update mdp_info to update the horizon (episode length) of the environment\n",
    "\n",
    "* The horizon for validation and testing will be equal to the length of those datasets. For training, there is a parameter ```horizon_train``` that either contains a string \"use_all_data\" or an integer. If it is the former, the horizon will be the length of the training dataset. If it is the latter, the environment will play an episode of length ```horizon_train``` starting at a random point of the training dataset. \n",
    "\n",
    "**step method**:\n",
    "\n",
    "* The step method is the core of the environment, calculating the next state (observation) and reward given an action. Since some frameworks expect a truncation condition (standard implementation in Gymnasium now) while others (e.g., mushroom_rl), do not, the step function is implemented in the base class and handles this (via a flag in in the environment called ```return_truncation```). **DO NOT OVERWRITE** the step function, but rather implement the ```step_(self, action)``` (underscore) method in the specific environment. This function shall always return a tuple of the form (observation, reward, terminated, truncated, info).\n",
    "\n",
    "* For clarity, the construction of the next state (we call it more general observation to include POMDPs) is done in a separate method called ```get_observation()``` that must be called inside the step function. See documentation below and the Newsvendor environment ```envs.inventory.NewsvendorEnv``` for an example.\n",
    "\n",
    "* The dataloader will typically return an X,Y pair (where X are some features and Y typically is demand) The X is necessary at the end of the step to construct the next observation to be returned to the agent. The Y is only relevant one step later to calculate the reward. Hence, Y is typically transferred to the next step method via an object variable like self.demand (see ```envs.inventory.NewsvendorEnv``` as an example).\n",
    "\n",
    "**observation pre-processors and action post-processors**:\n",
    "\n",
    "* Sometimes, it is necessary to process the observartion before giving it to the agent (e.g., changing shape) or to process the action before giving it to the environment (e.g., rounding). To ensure compatibility with mushroom_rl, the pre-processors sit with the agent (they must be added to the agent and are applied in the agent's ```draw_action()``` method). The post-processors sit with the environment and are applied in the environment's ```step()``` method.\n",
    "\n",
    "**reset method**:\n",
    "\n",
    "* The reset method may depend strongly on the environment dynamics, so it must be implemented for the specific environment. It needs to fulfill two requirements: 1) it needs to differenticate between train, val, and test mode and 2) when setting the training mode, it needs to\n",
    "take the ```horizon_train``` parameter into account. \n",
    "\n",
    "* At the end of the function, first the ```reset_index()``` method should be called (either with a specific index as string or the flag ``` \"random\" ```as input) and then the ```get_observation()``` method to construct the first observation."
   ]
  },
  {
   "cell_type": "code",
   "execution_count": null,
   "metadata": {},
   "outputs": [
    {
     "data": {
      "text/markdown": [
       "---\n",
       "\n",
       "[source](https://github.com/opimwue/ddopai/blob/main/ddopai/envs/base.py#L51){target=\"_blank\" style=\"float:right; font-size:smaller\"}\n",
       "\n",
       "### BaseEnvironment.set_param\n",
       "\n",
       ">      BaseEnvironment.set_param (name:str, input:Union[ddopai.utils.Parameter,\n",
       ">                                 int,float,numpy.ndarray,List,NoneType],\n",
       ">                                 shape:tuple=(1,), new:bool=False)\n",
       "\n",
       "*Set a parameter for the environment. It converts scalar values to numpy arrays and ensures that\n",
       "environment parameters are either of the Parameter class of Numpy arrays. If new is set to True, \n",
       "the function will create a new parameter or update an existing one otherwise. If new is set to\n",
       "False, the function will raise an error if the parameter does not exist.*\n",
       "\n",
       "|    | **Type** | **Default** | **Details** |\n",
       "| -- | -------- | ----------- | ----------- |\n",
       "| name | str |  | name of the parameter (will become the attribute name) |\n",
       "| input | Union |  | input value of the parameter |\n",
       "| shape | tuple | (1,) | shape of the parameter |\n",
       "| new | bool | False | whether to create a new parameter or update an existing one |\n",
       "| **Returns** | **None** |  |  |"
      ],
      "text/plain": [
       "---\n",
       "\n",
       "[source](https://github.com/opimwue/ddopai/blob/main/ddopai/envs/base.py#L51){target=\"_blank\" style=\"float:right; font-size:smaller\"}\n",
       "\n",
       "### BaseEnvironment.set_param\n",
       "\n",
       ">      BaseEnvironment.set_param (name:str, input:Union[ddopai.utils.Parameter,\n",
       ">                                 int,float,numpy.ndarray,List,NoneType],\n",
       ">                                 shape:tuple=(1,), new:bool=False)\n",
       "\n",
       "*Set a parameter for the environment. It converts scalar values to numpy arrays and ensures that\n",
       "environment parameters are either of the Parameter class of Numpy arrays. If new is set to True, \n",
       "the function will create a new parameter or update an existing one otherwise. If new is set to\n",
       "False, the function will raise an error if the parameter does not exist.*\n",
       "\n",
       "|    | **Type** | **Default** | **Details** |\n",
       "| -- | -------- | ----------- | ----------- |\n",
       "| name | str |  | name of the parameter (will become the attribute name) |\n",
       "| input | Union |  | input value of the parameter |\n",
       "| shape | tuple | (1,) | shape of the parameter |\n",
       "| new | bool | False | whether to create a new parameter or update an existing one |\n",
       "| **Returns** | **None** |  |  |"
      ]
     },
     "execution_count": null,
     "metadata": {},
     "output_type": "execute_result"
    }
   ],
   "source": [
    "show_doc(BaseEnvironment.set_param)"
   ]
  },
  {
   "cell_type": "code",
   "execution_count": null,
   "metadata": {},
   "outputs": [
    {
     "data": {
      "text/markdown": [
       "---\n",
       "\n",
       "[source](https://github.com/opimwue/ddopai/blob/main/ddopai/envs/base.py#L67){target=\"_blank\" style=\"float:right; font-size:smaller\"}\n",
       "\n",
       "### BaseEnvironment.return_truncation_handler\n",
       "\n",
       ">      BaseEnvironment.return_truncation_handler (observation, reward,\n",
       ">                                                 terminated, truncated, info)\n",
       "\n",
       "*Handle the return_truncation attribute of the environment. This function is called by the step function*"
      ],
      "text/plain": [
       "---\n",
       "\n",
       "[source](https://github.com/opimwue/ddopai/blob/main/ddopai/envs/base.py#L67){target=\"_blank\" style=\"float:right; font-size:smaller\"}\n",
       "\n",
       "### BaseEnvironment.return_truncation_handler\n",
       "\n",
       ">      BaseEnvironment.return_truncation_handler (observation, reward,\n",
       ">                                                 terminated, truncated, info)\n",
       "\n",
       "*Handle the return_truncation attribute of the environment. This function is called by the step function*"
      ]
     },
     "execution_count": null,
     "metadata": {},
     "output_type": "execute_result"
    }
   ],
   "source": [
    "show_doc(BaseEnvironment.return_truncation_handler)"
   ]
  },
  {
   "cell_type": "code",
   "execution_count": null,
   "metadata": {},
   "outputs": [
    {
     "data": {
      "text/markdown": [
       "---\n",
       "\n",
       "[source](https://github.com/opimwue/ddopai/blob/main/ddopai/envs/base.py#L78){target=\"_blank\" style=\"float:right; font-size:smaller\"}\n",
       "\n",
       "### BaseEnvironment.step\n",
       "\n",
       ">      BaseEnvironment.step (action)\n",
       "\n",
       "*Step function of the environment. Do not overwrite this function. \n",
       "Instead, write the step_ function. Note that the postprocessor is applied here.*"
      ],
      "text/plain": [
       "---\n",
       "\n",
       "[source](https://github.com/opimwue/ddopai/blob/main/ddopai/envs/base.py#L78){target=\"_blank\" style=\"float:right; font-size:smaller\"}\n",
       "\n",
       "### BaseEnvironment.step\n",
       "\n",
       ">      BaseEnvironment.step (action)\n",
       "\n",
       "*Step function of the environment. Do not overwrite this function. \n",
       "Instead, write the step_ function. Note that the postprocessor is applied here.*"
      ]
     },
     "execution_count": null,
     "metadata": {},
     "output_type": "execute_result"
    }
   ],
   "source": [
    "show_doc(BaseEnvironment.step)"
   ]
  },
  {
   "cell_type": "code",
   "execution_count": null,
   "metadata": {},
   "outputs": [
    {
     "data": {
      "text/markdown": [
       "---\n",
       "\n",
       "[source](https://github.com/opimwue/ddopai/blob/main/ddopai/envs/base.py#L94){target=\"_blank\" style=\"float:right; font-size:smaller\"}\n",
       "\n",
       "### BaseEnvironment.add_postprocessor\n",
       "\n",
       ">      BaseEnvironment.add_postprocessor (postprocessor:object)\n",
       "\n",
       "*Add a postprocessor to the agent*\n",
       "\n",
       "|    | **Type** | **Details** |\n",
       "| -- | -------- | ----------- |\n",
       "| postprocessor | object | post-processor object that can be called via the \"__call__\" method |"
      ],
      "text/plain": [
       "---\n",
       "\n",
       "[source](https://github.com/opimwue/ddopai/blob/main/ddopai/envs/base.py#L94){target=\"_blank\" style=\"float:right; font-size:smaller\"}\n",
       "\n",
       "### BaseEnvironment.add_postprocessor\n",
       "\n",
       ">      BaseEnvironment.add_postprocessor (postprocessor:object)\n",
       "\n",
       "*Add a postprocessor to the agent*\n",
       "\n",
       "|    | **Type** | **Details** |\n",
       "| -- | -------- | ----------- |\n",
       "| postprocessor | object | post-processor object that can be called via the \"__call__\" method |"
      ]
     },
     "execution_count": null,
     "metadata": {},
     "output_type": "execute_result"
    }
   ],
   "source": [
    "show_doc(BaseEnvironment.add_postprocessor)"
   ]
  },
  {
   "cell_type": "code",
   "execution_count": null,
   "metadata": {},
   "outputs": [
    {
     "data": {
      "text/markdown": [
       "---\n",
       "\n",
       "[source](https://github.com/opimwue/ddopai/blob/main/ddopai/envs/base.py#L99){target=\"_blank\" style=\"float:right; font-size:smaller\"}\n",
       "\n",
       "### BaseEnvironment.step_\n",
       "\n",
       ">      BaseEnvironment.step_ (action)\n",
       "\n",
       "*Step function of the environment. It is a wrapper around the step function that handles the return_truncation\n",
       "attribute of the environment. It must return the following: observation, reward, terminated, truncated, info*"
      ],
      "text/plain": [
       "---\n",
       "\n",
       "[source](https://github.com/opimwue/ddopai/blob/main/ddopai/envs/base.py#L99){target=\"_blank\" style=\"float:right; font-size:smaller\"}\n",
       "\n",
       "### BaseEnvironment.step_\n",
       "\n",
       ">      BaseEnvironment.step_ (action)\n",
       "\n",
       "*Step function of the environment. It is a wrapper around the step function that handles the return_truncation\n",
       "attribute of the environment. It must return the following: observation, reward, terminated, truncated, info*"
      ]
     },
     "execution_count": null,
     "metadata": {},
     "output_type": "execute_result"
    }
   ],
   "source": [
    "show_doc(BaseEnvironment.step_)"
   ]
  },
  {
   "cell_type": "code",
   "execution_count": null,
   "metadata": {},
   "outputs": [
    {
     "data": {
      "text/markdown": [
       "---\n",
       "\n",
       "[source](https://github.com/opimwue/ddopai/blob/main/ddopai/envs/base.py#L109){target=\"_blank\" style=\"float:right; font-size:smaller\"}\n",
       "\n",
       "### BaseEnvironment.mdp_info\n",
       "\n",
       ">      BaseEnvironment.mdp_info ()\n",
       "\n",
       "*Returns: The MDPInfo object of the environment.*"
      ],
      "text/plain": [
       "---\n",
       "\n",
       "[source](https://github.com/opimwue/ddopai/blob/main/ddopai/envs/base.py#L109){target=\"_blank\" style=\"float:right; font-size:smaller\"}\n",
       "\n",
       "### BaseEnvironment.mdp_info\n",
       "\n",
       ">      BaseEnvironment.mdp_info ()\n",
       "\n",
       "*Returns: The MDPInfo object of the environment.*"
      ]
     },
     "execution_count": null,
     "metadata": {},
     "output_type": "execute_result"
    }
   ],
   "source": [
    "show_doc(BaseEnvironment.mdp_info)"
   ]
  },
  {
   "cell_type": "code",
   "execution_count": null,
   "metadata": {},
   "outputs": [
    {
     "data": {
      "text/markdown": [
       "---\n",
       "\n",
       "[source](https://github.com/opimwue/ddopai/blob/main/ddopai/envs/base.py#L125){target=\"_blank\" style=\"float:right; font-size:smaller\"}\n",
       "\n",
       "### BaseEnvironment.mode\n",
       "\n",
       ">      BaseEnvironment.mode ()\n",
       "\n",
       "*Returns: A string with the current mode (train, test val) of the environment.*"
      ],
      "text/plain": [
       "---\n",
       "\n",
       "[source](https://github.com/opimwue/ddopai/blob/main/ddopai/envs/base.py#L125){target=\"_blank\" style=\"float:right; font-size:smaller\"}\n",
       "\n",
       "### BaseEnvironment.mode\n",
       "\n",
       ">      BaseEnvironment.mode ()\n",
       "\n",
       "*Returns: A string with the current mode (train, test val) of the environment.*"
      ]
     },
     "execution_count": null,
     "metadata": {},
     "output_type": "execute_result"
    }
   ],
   "source": [
    "show_doc(BaseEnvironment.mode)"
   ]
  },
  {
   "cell_type": "code",
   "execution_count": null,
   "metadata": {},
   "outputs": [
    {
     "data": {
      "text/markdown": [
       "---\n",
       "\n",
       "[source](https://github.com/opimwue/ddopai/blob/main/ddopai/envs/base.py#L133){target=\"_blank\" style=\"float:right; font-size:smaller\"}\n",
       "\n",
       "### BaseEnvironment.set_action_space\n",
       "\n",
       ">      BaseEnvironment.set_action_space ()\n",
       "\n",
       "*Set the action space of the environment.*"
      ],
      "text/plain": [
       "---\n",
       "\n",
       "[source](https://github.com/opimwue/ddopai/blob/main/ddopai/envs/base.py#L133){target=\"_blank\" style=\"float:right; font-size:smaller\"}\n",
       "\n",
       "### BaseEnvironment.set_action_space\n",
       "\n",
       ">      BaseEnvironment.set_action_space ()\n",
       "\n",
       "*Set the action space of the environment.*"
      ]
     },
     "execution_count": null,
     "metadata": {},
     "output_type": "execute_result"
    }
   ],
   "source": [
    "show_doc(BaseEnvironment.set_action_space)"
   ]
  },
  {
   "cell_type": "code",
   "execution_count": null,
   "metadata": {},
   "outputs": [
    {
     "data": {
      "text/markdown": [
       "---\n",
       "\n",
       "[source](https://github.com/opimwue/ddopai/blob/main/ddopai/envs/base.py#L141){target=\"_blank\" style=\"float:right; font-size:smaller\"}\n",
       "\n",
       "### BaseEnvironment.set_observation_space\n",
       "\n",
       ">      BaseEnvironment.set_observation_space ()\n",
       "\n",
       "*Set the observation space of the environment.\n",
       "In general, this can be also a dict space, but the agent must have the appropriate pre-processor.*"
      ],
      "text/plain": [
       "---\n",
       "\n",
       "[source](https://github.com/opimwue/ddopai/blob/main/ddopai/envs/base.py#L141){target=\"_blank\" style=\"float:right; font-size:smaller\"}\n",
       "\n",
       "### BaseEnvironment.set_observation_space\n",
       "\n",
       ">      BaseEnvironment.set_observation_space ()\n",
       "\n",
       "*Set the observation space of the environment.\n",
       "In general, this can be also a dict space, but the agent must have the appropriate pre-processor.*"
      ]
     },
     "execution_count": null,
     "metadata": {},
     "output_type": "execute_result"
    }
   ],
   "source": [
    "show_doc(BaseEnvironment.set_observation_space)"
   ]
  },
  {
   "cell_type": "code",
   "execution_count": null,
   "metadata": {},
   "outputs": [
    {
     "data": {
      "text/markdown": [
       "---\n",
       "\n",
       "[source](https://github.com/opimwue/ddopai/blob/main/ddopai/envs/base.py#L150){target=\"_blank\" style=\"float:right; font-size:smaller\"}\n",
       "\n",
       "### BaseEnvironment.get_observation\n",
       "\n",
       ">      BaseEnvironment.get_observation ()\n",
       "\n",
       "*Return the current observation. Typically constructed from the output of the dataloader and \n",
       "internal dynamics (such as inventory levels, pipeline vectors, etc.) of the environment.*"
      ],
      "text/plain": [
       "---\n",
       "\n",
       "[source](https://github.com/opimwue/ddopai/blob/main/ddopai/envs/base.py#L150){target=\"_blank\" style=\"float:right; font-size:smaller\"}\n",
       "\n",
       "### BaseEnvironment.get_observation\n",
       "\n",
       ">      BaseEnvironment.get_observation ()\n",
       "\n",
       "*Return the current observation. Typically constructed from the output of the dataloader and \n",
       "internal dynamics (such as inventory levels, pipeline vectors, etc.) of the environment.*"
      ]
     },
     "execution_count": null,
     "metadata": {},
     "output_type": "execute_result"
    }
   ],
   "source": [
    "show_doc(BaseEnvironment.get_observation)"
   ]
  },
  {
   "cell_type": "code",
   "execution_count": null,
   "metadata": {},
   "outputs": [
    {
     "data": {
      "text/markdown": [
       "---\n",
       "\n",
       "[source](https://github.com/opimwue/ddopai/blob/main/ddopai/envs/base.py#L159){target=\"_blank\" style=\"float:right; font-size:smaller\"}\n",
       "\n",
       "### BaseEnvironment.reset\n",
       "\n",
       ">      BaseEnvironment.reset ()\n",
       "\n",
       "*Reset the environment. This function must be provided, using the function self.reset_index() to \n",
       "handle indexing. It needs to account for the current training mode train, val, or test and handle\n",
       "the horizon_train param. See the reset function for the NewsvendorEnv for an example.*"
      ],
      "text/plain": [
       "---\n",
       "\n",
       "[source](https://github.com/opimwue/ddopai/blob/main/ddopai/envs/base.py#L159){target=\"_blank\" style=\"float:right; font-size:smaller\"}\n",
       "\n",
       "### BaseEnvironment.reset\n",
       "\n",
       ">      BaseEnvironment.reset ()\n",
       "\n",
       "*Reset the environment. This function must be provided, using the function self.reset_index() to \n",
       "handle indexing. It needs to account for the current training mode train, val, or test and handle\n",
       "the horizon_train param. See the reset function for the NewsvendorEnv for an example.*"
      ]
     },
     "execution_count": null,
     "metadata": {},
     "output_type": "execute_result"
    }
   ],
   "source": [
    "show_doc(BaseEnvironment.reset)"
   ]
  },
  {
   "cell_type": "code",
   "execution_count": null,
   "metadata": {},
   "outputs": [
    {
     "data": {
      "text/markdown": [
       "---\n",
       "\n",
       "[source](https://github.com/opimwue/ddopai/blob/main/ddopai/envs/base.py#L168){target=\"_blank\" style=\"float:right; font-size:smaller\"}\n",
       "\n",
       "### BaseEnvironment.set_index\n",
       "\n",
       ">      BaseEnvironment.set_index (index=None)\n",
       "\n",
       "*Handle the index of the environment.*"
      ],
      "text/plain": [
       "---\n",
       "\n",
       "[source](https://github.com/opimwue/ddopai/blob/main/ddopai/envs/base.py#L168){target=\"_blank\" style=\"float:right; font-size:smaller\"}\n",
       "\n",
       "### BaseEnvironment.set_index\n",
       "\n",
       ">      BaseEnvironment.set_index (index=None)\n",
       "\n",
       "*Handle the index of the environment.*"
      ]
     },
     "execution_count": null,
     "metadata": {},
     "output_type": "execute_result"
    }
   ],
   "source": [
    "show_doc(BaseEnvironment.set_index)"
   ]
  },
  {
   "cell_type": "code",
   "execution_count": null,
   "metadata": {},
   "outputs": [
    {
     "data": {
      "text/markdown": [
       "---\n",
       "\n",
       "[source](https://github.com/opimwue/ddopai/blob/main/ddopai/envs/base.py#L212){target=\"_blank\" style=\"float:right; font-size:smaller\"}\n",
       "\n",
       "### BaseEnvironment.reset_index\n",
       "\n",
       ">      BaseEnvironment.reset_index (start_index:Union[int,str])\n",
       "\n",
       "*Reset the index of the environment. If start_index is an integer, the index is set to this value. If start_index is \"random\",\n",
       "the index is set to a random integer between 0 and the length of the training data.*"
      ],
      "text/plain": [
       "---\n",
       "\n",
       "[source](https://github.com/opimwue/ddopai/blob/main/ddopai/envs/base.py#L212){target=\"_blank\" style=\"float:right; font-size:smaller\"}\n",
       "\n",
       "### BaseEnvironment.reset_index\n",
       "\n",
       ">      BaseEnvironment.reset_index (start_index:Union[int,str])\n",
       "\n",
       "*Reset the index of the environment. If start_index is an integer, the index is set to this value. If start_index is \"random\",\n",
       "the index is set to a random integer between 0 and the length of the training data.*"
      ]
     },
     "execution_count": null,
     "metadata": {},
     "output_type": "execute_result"
    }
   ],
   "source": [
    "show_doc(BaseEnvironment.reset_index)"
   ]
  },
  {
   "cell_type": "code",
   "execution_count": null,
   "metadata": {},
   "outputs": [
    {
     "data": {
      "text/markdown": [
       "---\n",
       "\n",
       "[source](https://github.com/opimwue/ddopai/blob/main/ddopai/envs/base.py#L248){target=\"_blank\" style=\"float:right; font-size:smaller\"}\n",
       "\n",
       "### BaseEnvironment.update_mdp_info\n",
       "\n",
       ">      BaseEnvironment.update_mdp_info (gamma=None, horizon=None)\n",
       "\n",
       "*Update the MDP info of the environment.*"
      ],
      "text/plain": [
       "---\n",
       "\n",
       "[source](https://github.com/opimwue/ddopai/blob/main/ddopai/envs/base.py#L248){target=\"_blank\" style=\"float:right; font-size:smaller\"}\n",
       "\n",
       "### BaseEnvironment.update_mdp_info\n",
       "\n",
       ">      BaseEnvironment.update_mdp_info (gamma=None, horizon=None)\n",
       "\n",
       "*Update the MDP info of the environment.*"
      ]
     },
     "execution_count": null,
     "metadata": {},
     "output_type": "execute_result"
    }
   ],
   "source": [
    "show_doc(BaseEnvironment.update_mdp_info)"
   ]
  },
  {
   "cell_type": "code",
   "execution_count": null,
   "metadata": {},
   "outputs": [
    {
     "data": {
      "text/markdown": [
       "---\n",
       "\n",
       "[source](https://github.com/opimwue/ddopai/blob/main/ddopai/envs/base.py#L259){target=\"_blank\" style=\"float:right; font-size:smaller\"}\n",
       "\n",
       "### BaseEnvironment.train\n",
       "\n",
       ">      BaseEnvironment.train (update_mdp_info=True)\n",
       "\n",
       "*Set the environment in training mode by both setting the internal state self._train and the dataloader. \n",
       "If the horizon is set to \"use_all_data\", the horizon is set to the length of the training data, otherwise\n",
       "it is set to the horizon_train attribute of the environment. Finally, the function updates the MDP info\n",
       "and resets with the new state.*"
      ],
      "text/plain": [
       "---\n",
       "\n",
       "[source](https://github.com/opimwue/ddopai/blob/main/ddopai/envs/base.py#L259){target=\"_blank\" style=\"float:right; font-size:smaller\"}\n",
       "\n",
       "### BaseEnvironment.train\n",
       "\n",
       ">      BaseEnvironment.train (update_mdp_info=True)\n",
       "\n",
       "*Set the environment in training mode by both setting the internal state self._train and the dataloader. \n",
       "If the horizon is set to \"use_all_data\", the horizon is set to the length of the training data, otherwise\n",
       "it is set to the horizon_train attribute of the environment. Finally, the function updates the MDP info\n",
       "and resets with the new state.*"
      ]
     },
     "execution_count": null,
     "metadata": {},
     "output_type": "execute_result"
    }
   ],
   "source": [
    "show_doc(BaseEnvironment.train)"
   ]
  },
  {
   "cell_type": "code",
   "execution_count": null,
   "metadata": {},
   "outputs": [
    {
     "data": {
      "text/markdown": [
       "---\n",
       "\n",
       "[source](https://github.com/opimwue/ddopai/blob/main/ddopai/envs/base.py#L285){target=\"_blank\" style=\"float:right; font-size:smaller\"}\n",
       "\n",
       "### BaseEnvironment.val\n",
       "\n",
       ">      BaseEnvironment.val (update_mdp_info=True)\n",
       "\n",
       "*Set the environment in validation mode by both setting the internal state self._val and the dataloader.\n",
       "The horizon of val is always set to the length of the validation data. Finally, the function updates the MDP info\n",
       "and resets with the new state.*"
      ],
      "text/plain": [
       "---\n",
       "\n",
       "[source](https://github.com/opimwue/ddopai/blob/main/ddopai/envs/base.py#L285){target=\"_blank\" style=\"float:right; font-size:smaller\"}\n",
       "\n",
       "### BaseEnvironment.val\n",
       "\n",
       ">      BaseEnvironment.val (update_mdp_info=True)\n",
       "\n",
       "*Set the environment in validation mode by both setting the internal state self._val and the dataloader.\n",
       "The horizon of val is always set to the length of the validation data. Finally, the function updates the MDP info\n",
       "and resets with the new state.*"
      ]
     },
     "execution_count": null,
     "metadata": {},
     "output_type": "execute_result"
    }
   ],
   "source": [
    "show_doc(BaseEnvironment.val)"
   ]
  },
  {
   "cell_type": "code",
   "execution_count": null,
   "metadata": {},
   "outputs": [
    {
     "data": {
      "text/markdown": [
       "---\n",
       "\n",
       "[source](https://github.com/opimwue/ddopai/blob/main/ddopai/envs/base.py#L305){target=\"_blank\" style=\"float:right; font-size:smaller\"}\n",
       "\n",
       "### BaseEnvironment.test\n",
       "\n",
       ">      BaseEnvironment.test (update_mdp_info=True)\n",
       "\n",
       "*Set the environment in testing mode by both setting the internal state self._test and the dataloader.\n",
       "The horizon of test is always set to the length of the test data. Finally, the function updates the MDP info\n",
       "and resets with the new state.*"
      ],
      "text/plain": [
       "---\n",
       "\n",
       "[source](https://github.com/opimwue/ddopai/blob/main/ddopai/envs/base.py#L305){target=\"_blank\" style=\"float:right; font-size:smaller\"}\n",
       "\n",
       "### BaseEnvironment.test\n",
       "\n",
       ">      BaseEnvironment.test (update_mdp_info=True)\n",
       "\n",
       "*Set the environment in testing mode by both setting the internal state self._test and the dataloader.\n",
       "The horizon of test is always set to the length of the test data. Finally, the function updates the MDP info\n",
       "and resets with the new state.*"
      ]
     },
     "execution_count": null,
     "metadata": {},
     "output_type": "execute_result"
    }
   ],
   "source": [
    "show_doc(BaseEnvironment.test)"
   ]
  },
  {
   "cell_type": "code",
   "execution_count": null,
   "metadata": {},
   "outputs": [
    {
     "data": {
      "text/markdown": [
       "---\n",
       "\n",
       "[source](https://github.com/opimwue/ddopai/blob/main/ddopai/envs/base.py#L325){target=\"_blank\" style=\"float:right; font-size:smaller\"}\n",
       "\n",
       "### BaseEnvironment.set_return_truncation\n",
       "\n",
       ">      BaseEnvironment.set_return_truncation (return_truncation:bool)\n",
       "\n",
       "*Set the return_truncation attribute of the environment.*\n",
       "\n",
       "|    | **Type** | **Details** |\n",
       "| -- | -------- | ----------- |\n",
       "| return_truncation | bool | whether or not to return the truncated condition in the step function |"
      ],
      "text/plain": [
       "---\n",
       "\n",
       "[source](https://github.com/opimwue/ddopai/blob/main/ddopai/envs/base.py#L325){target=\"_blank\" style=\"float:right; font-size:smaller\"}\n",
       "\n",
       "### BaseEnvironment.set_return_truncation\n",
       "\n",
       ">      BaseEnvironment.set_return_truncation (return_truncation:bool)\n",
       "\n",
       "*Set the return_truncation attribute of the environment.*\n",
       "\n",
       "|    | **Type** | **Details** |\n",
       "| -- | -------- | ----------- |\n",
       "| return_truncation | bool | whether or not to return the truncated condition in the step function |"
      ]
     },
     "execution_count": null,
     "metadata": {},
     "output_type": "execute_result"
    }
   ],
   "source": [
    "show_doc(BaseEnvironment.set_return_truncation)"
   ]
  },
  {
   "cell_type": "code",
   "execution_count": null,
   "metadata": {},
   "outputs": [],
   "source": [
    "#| hide\n",
    "import nbdev; nbdev.nbdev_export()"
   ]
  },
  {
   "cell_type": "code",
   "execution_count": null,
   "metadata": {},
   "outputs": [],
   "source": []
  },
  {
   "cell_type": "code",
   "execution_count": null,
   "metadata": {},
   "outputs": [],
   "source": []
  },
  {
   "cell_type": "code",
   "execution_count": null,
   "metadata": {},
   "outputs": [],
   "source": []
  },
  {
   "cell_type": "code",
   "execution_count": null,
   "metadata": {},
   "outputs": [],
   "source": []
  }
 ],
 "metadata": {
  "kernelspec": {
   "display_name": "python3",
   "language": "python",
   "name": "python3"
  }
 },
 "nbformat": 4,
 "nbformat_minor": 4
}
