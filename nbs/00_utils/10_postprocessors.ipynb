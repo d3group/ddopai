{
 "cells": [
  {
   "cell_type": "markdown",
   "metadata": {},
   "source": [
    "# Postprocessors\n",
    "\n",
    "> Postprocessors can be used to process the output of an agent before it is being passed to the environment. \n",
    "> Note that they are applied at the beginning of the step function of the environment, otherwise it would not be compatible with mushroom_rl."
   ]
  },
  {
   "cell_type": "code",
   "execution_count": null,
   "metadata": {},
   "outputs": [],
   "source": [
    "#| default_exp postprocessors"
   ]
  },
  {
   "cell_type": "code",
   "execution_count": null,
   "metadata": {},
   "outputs": [],
   "source": [
    "#| hide\n",
    "from nbdev.showdoc import *"
   ]
  },
  {
   "cell_type": "code",
   "execution_count": null,
   "metadata": {},
   "outputs": [],
   "source": [
    "#| export\n",
    "\n",
    "from typing import Union, Optional\n",
    "\n",
    "import numpy as np\n",
    "from ddopai.utils import Parameter, check_parameter_types\n",
    "\n",
    "import torch\n",
    "import torch.nn as nn\n",
    "import torch.nn.functional as F"
   ]
  },
  {
   "cell_type": "code",
   "execution_count": null,
   "metadata": {},
   "outputs": [],
   "source": [
    "#| export\n",
    "\n",
    "class ClipAction():\n",
    "    \"\"\"\n",
    "    A class to clip input values within specified bounds.\n",
    "    If the parameters lower and upper are not specified, no clipping is performed.\n",
    "    If the parameters are scalar values, then all elements of the input are clipped to the same bounds.\n",
    "    If the parameters are arrays, then each element of the input is clipped to the corresponding bounds.\n",
    "    \"\"\"\n",
    "\n",
    "    def __init__(self, lower: Optional[Union[float, int, np.ndarray]] = None, upper: Optional[Union[float, np.ndarray]] = None): #\n",
    "        self.lower = self._convert_to_array(lower)\n",
    "        self.upper = self._convert_to_array(upper)\n",
    "\n",
    "    def _convert_to_array(self, value: Optional[Union[float, int, list, np.ndarray]]) -> Optional[np.ndarray]:\n",
    "        \"\"\"\n",
    "        Converts a float value to a numpy array of shape (1,) if needed.\n",
    "        \"\"\"\n",
    "        if value is None:\n",
    "            return None\n",
    "        if isinstance(value, (float, int)):\n",
    "            return np.array([value])\n",
    "        if isinstance(value, list):\n",
    "            return np.array(value)\n",
    "        if isinstance(value, np.ndarray):\n",
    "            return value\n",
    "        raise TypeError(f\"Bounds must be float or np.ndarray, got {type(value).__name__}\")\n",
    "\n",
    "    def __call__(self, input: np.ndarray) -> np.ndarray: #\n",
    "        \"\"\"\n",
    "        Clips the input array within the specified bounds.\n",
    "        \"\"\"\n",
    "        \n",
    "        check_parameter_types(input)\n",
    "\n",
    "        # Ensure bounds match the input's shape if they are arrays\n",
    "        if self.lower is not None and self.lower.size != 1 and self.lower.shape != input.shape:\n",
    "            raise ValueError(\"Lower bound array must match the input shape or be a single element\")\n",
    "\n",
    "        if self.upper is not None and self.upper.size != 1 and self.upper.shape != input.shape:\n",
    "            raise ValueError(\"Upper bound array must match the input shape or be a single element\")\n",
    "\n",
    "        # Perform clipping\n",
    "        output = np.clip(input, a_min=self.lower, a_max=self.upper)\n",
    "\n",
    "        return output"
   ]
  },
  {
   "cell_type": "code",
   "execution_count": null,
   "metadata": {},
   "outputs": [
    {
     "data": {
      "text/markdown": [
       "---\n",
       "\n",
       "[source](https://github.com/opimwue/ddopai/blob/main/ddopai/postprocessors.py#L17){target=\"_blank\" style=\"float:right; font-size:smaller\"}\n",
       "\n",
       "### ClipAction\n",
       "\n",
       ">      ClipAction (lower:Union[float,int,numpy.ndarray,NoneType]=None,\n",
       ">                  upper:Union[float,numpy.ndarray,NoneType]=None)\n",
       "\n",
       "*A class to clip input values within specified bounds.\n",
       "If the parameters lower and upper are not specified, no clipping is performed.\n",
       "If the parameters are scalar values, then all elements of the input are clipped to the same bounds.\n",
       "If the parameters are arrays, then each element of the input is clipped to the corresponding bounds.*\n",
       "\n",
       "|    | **Type** | **Default** | **Details** |\n",
       "| -- | -------- | ----------- | ----------- |\n",
       "| lower | Union | None |  |\n",
       "| upper | Union | None |  |"
      ],
      "text/plain": [
       "---\n",
       "\n",
       "[source](https://github.com/opimwue/ddopai/blob/main/ddopai/postprocessors.py#L17){target=\"_blank\" style=\"float:right; font-size:smaller\"}\n",
       "\n",
       "### ClipAction\n",
       "\n",
       ">      ClipAction (lower:Union[float,int,numpy.ndarray,NoneType]=None,\n",
       ">                  upper:Union[float,numpy.ndarray,NoneType]=None)\n",
       "\n",
       "*A class to clip input values within specified bounds.\n",
       "If the parameters lower and upper are not specified, no clipping is performed.\n",
       "If the parameters are scalar values, then all elements of the input are clipped to the same bounds.\n",
       "If the parameters are arrays, then each element of the input is clipped to the corresponding bounds.*\n",
       "\n",
       "|    | **Type** | **Default** | **Details** |\n",
       "| -- | -------- | ----------- | ----------- |\n",
       "| lower | Union | None |  |\n",
       "| upper | Union | None |  |"
      ]
     },
     "execution_count": null,
     "metadata": {},
     "output_type": "execute_result"
    }
   ],
   "source": [
    "show_doc(ClipAction, title_level=3)"
   ]
  },
  {
   "cell_type": "code",
   "execution_count": null,
   "metadata": {},
   "outputs": [
    {
     "data": {
      "text/markdown": [
       "---\n",
       "\n",
       "[source](https://github.com/opimwue/ddopai/blob/main/ddopai/postprocessors.py#L29){target=\"_blank\" style=\"float:right; font-size:smaller\"}\n",
       "\n",
       "### ClipAction._convert_to_array\n",
       "\n",
       ">      ClipAction._convert_to_array\n",
       ">                                    (value:Union[float,int,list,numpy.ndarray,N\n",
       ">                                    oneType])\n",
       "\n",
       "*Converts a float value to a numpy array of shape (1,) if needed.*"
      ],
      "text/plain": [
       "---\n",
       "\n",
       "[source](https://github.com/opimwue/ddopai/blob/main/ddopai/postprocessors.py#L29){target=\"_blank\" style=\"float:right; font-size:smaller\"}\n",
       "\n",
       "### ClipAction._convert_to_array\n",
       "\n",
       ">      ClipAction._convert_to_array\n",
       ">                                    (value:Union[float,int,list,numpy.ndarray,N\n",
       ">                                    oneType])\n",
       "\n",
       "*Converts a float value to a numpy array of shape (1,) if needed.*"
      ]
     },
     "execution_count": null,
     "metadata": {},
     "output_type": "execute_result"
    }
   ],
   "source": [
    "show_doc(ClipAction._convert_to_array)"
   ]
  },
  {
   "cell_type": "code",
   "execution_count": null,
   "metadata": {},
   "outputs": [
    {
     "data": {
      "text/markdown": [
       "---\n",
       "\n",
       "[source](https://github.com/opimwue/ddopai/blob/main/ddopai/postprocessors.py#L43){target=\"_blank\" style=\"float:right; font-size:smaller\"}\n",
       "\n",
       "### ClipAction.__call__\n",
       "\n",
       ">      ClipAction.__call__ (input:numpy.ndarray)\n",
       "\n",
       "*Clips the input array within the specified bounds.*\n",
       "\n",
       "|    | **Type** | **Details** |\n",
       "| -- | -------- | ----------- |\n",
       "| input | ndarray |  |\n",
       "| **Returns** | **ndarray** |  |"
      ],
      "text/plain": [
       "---\n",
       "\n",
       "[source](https://github.com/opimwue/ddopai/blob/main/ddopai/postprocessors.py#L43){target=\"_blank\" style=\"float:right; font-size:smaller\"}\n",
       "\n",
       "### ClipAction.__call__\n",
       "\n",
       ">      ClipAction.__call__ (input:numpy.ndarray)\n",
       "\n",
       "*Clips the input array within the specified bounds.*\n",
       "\n",
       "|    | **Type** | **Details** |\n",
       "| -- | -------- | ----------- |\n",
       "| input | ndarray |  |\n",
       "| **Returns** | **ndarray** |  |"
      ]
     },
     "execution_count": null,
     "metadata": {},
     "output_type": "execute_result"
    }
   ],
   "source": [
    "show_doc(ClipAction.__call__)"
   ]
  },
  {
   "cell_type": "code",
   "execution_count": null,
   "metadata": {},
   "outputs": [],
   "source": [
    "#| export\n",
    "\n",
    "class RoundAction():\n",
    "    \"\"\"\n",
    "    A class to round input values to the nearest specified unit size.\n",
    "    Unit size can be any decimal value like 10, 3, 1, 0.1, 0.03, etc.\n",
    "    \"\"\"\n",
    "\n",
    "    def __init__(self, unit_size: Union[float, int, np.ndarray]): #\n",
    "        self.unit_size = self._validate_unit_size(unit_size)\n",
    "\n",
    "    def _validate_unit_size(self, unit_size: Union[float, int, np.ndarray]) -> np.ndarray:\n",
    "        \"\"\"\n",
    "        Ensures that the unit size is a positive float, int, or a numpy array of positive values.\n",
    "        \"\"\"\n",
    "        if isinstance(unit_size, (float, int)):\n",
    "            if unit_size <= 0:\n",
    "                raise ValueError(\"Unit size must be a positive number\")\n",
    "            return np.array([unit_size], dtype=float)  # Convert to float for consistent behavior\n",
    "        elif isinstance(unit_size, np.ndarray):\n",
    "            if np.any(unit_size <= 0):\n",
    "                raise ValueError(\"All elements of unit size array must be positive\")\n",
    "            return unit_size.astype(float)  # Ensure numpy array is of float type\n",
    "        else:\n",
    "            raise TypeError(\"Unit size must be a float, int, or np.ndarray\")\n",
    "\n",
    "    def __call__(self, input: np.ndarray) -> np.ndarray:\n",
    "        \n",
    "        \"\"\"\n",
    "        Rounds the input array to the nearest specified unit size.\n",
    "        \"\"\"\n",
    "        \n",
    "        check_parameter_types(input)\n",
    "\n",
    "        # Ensure unit_size matches the input's shape if it is an array\n",
    "        if self.unit_size.size != 1 and self.unit_size.shape != input.shape:\n",
    "            raise ValueError(\"Unit size array must match the input shape or be a single element\")\n",
    "\n",
    "        # Perform rounding\n",
    "        output = np.round(input / self.unit_size) * self.unit_size\n",
    "\n",
    "        return output"
   ]
  },
  {
   "cell_type": "code",
   "execution_count": null,
   "metadata": {},
   "outputs": [
    {
     "data": {
      "text/markdown": [
       "---\n",
       "\n",
       "[source](https://github.com/opimwue/ddopai/blob/main/ddopai/postprocessors.py#L63){target=\"_blank\" style=\"float:right; font-size:smaller\"}\n",
       "\n",
       "## RoundAction\n",
       "\n",
       ">      RoundAction (unit_size:Union[float,int,numpy.ndarray])\n",
       "\n",
       "*A class to round input values to the nearest specified unit size.\n",
       "Unit size can be any decimal value like 10, 3, 1, 0.1, 0.03, etc.*\n",
       "\n",
       "|    | **Type** | **Details** |\n",
       "| -- | -------- | ----------- |\n",
       "| unit_size | Union |  |"
      ],
      "text/plain": [
       "---\n",
       "\n",
       "[source](https://github.com/opimwue/ddopai/blob/main/ddopai/postprocessors.py#L63){target=\"_blank\" style=\"float:right; font-size:smaller\"}\n",
       "\n",
       "## RoundAction\n",
       "\n",
       ">      RoundAction (unit_size:Union[float,int,numpy.ndarray])\n",
       "\n",
       "*A class to round input values to the nearest specified unit size.\n",
       "Unit size can be any decimal value like 10, 3, 1, 0.1, 0.03, etc.*\n",
       "\n",
       "|    | **Type** | **Details** |\n",
       "| -- | -------- | ----------- |\n",
       "| unit_size | Union |  |"
      ]
     },
     "execution_count": null,
     "metadata": {},
     "output_type": "execute_result"
    }
   ],
   "source": [
    "show_doc(RoundAction, title_level=2)"
   ]
  },
  {
   "cell_type": "code",
   "execution_count": null,
   "metadata": {},
   "outputs": [
    {
     "data": {
      "text/markdown": [
       "---\n",
       "\n",
       "[source](https://github.com/opimwue/ddopai/blob/main/ddopai/postprocessors.py#L72){target=\"_blank\" style=\"float:right; font-size:smaller\"}\n",
       "\n",
       "### RoundAction._validate_unit_size\n",
       "\n",
       ">      RoundAction._validate_unit_size\n",
       ">                                       (unit_size:Union[float,int,numpy.ndarray\n",
       ">                                       ])\n",
       "\n",
       "*Ensures that the unit size is a positive float, int, or a numpy array of positive values.*"
      ],
      "text/plain": [
       "---\n",
       "\n",
       "[source](https://github.com/opimwue/ddopai/blob/main/ddopai/postprocessors.py#L72){target=\"_blank\" style=\"float:right; font-size:smaller\"}\n",
       "\n",
       "### RoundAction._validate_unit_size\n",
       "\n",
       ">      RoundAction._validate_unit_size\n",
       ">                                       (unit_size:Union[float,int,numpy.ndarray\n",
       ">                                       ])\n",
       "\n",
       "*Ensures that the unit size is a positive float, int, or a numpy array of positive values.*"
      ]
     },
     "execution_count": null,
     "metadata": {},
     "output_type": "execute_result"
    }
   ],
   "source": [
    "show_doc(RoundAction._validate_unit_size)"
   ]
  },
  {
   "cell_type": "code",
   "execution_count": null,
   "metadata": {},
   "outputs": [
    {
     "data": {
      "text/markdown": [
       "---\n",
       "\n",
       "[source](https://github.com/opimwue/ddopai/blob/main/ddopai/postprocessors.py#L87){target=\"_blank\" style=\"float:right; font-size:smaller\"}\n",
       "\n",
       "### RoundAction.__call__\n",
       "\n",
       ">      RoundAction.__call__ (input:numpy.ndarray)\n",
       "\n",
       "*Rounds the input array to the nearest specified unit size.*"
      ],
      "text/plain": [
       "---\n",
       "\n",
       "[source](https://github.com/opimwue/ddopai/blob/main/ddopai/postprocessors.py#L87){target=\"_blank\" style=\"float:right; font-size:smaller\"}\n",
       "\n",
       "### RoundAction.__call__\n",
       "\n",
       ">      RoundAction.__call__ (input:numpy.ndarray)\n",
       "\n",
       "*Rounds the input array to the nearest specified unit size.*"
      ]
     },
     "execution_count": null,
     "metadata": {},
     "output_type": "execute_result"
    }
   ],
   "source": [
    "show_doc(RoundAction.__call__)"
   ]
  },
  {
   "cell_type": "markdown",
   "metadata": {},
   "source": [
    "Example usage of ```RoundAction```. Expected result:\n",
    "\n",
    "[1. 2. 4. 5. 6.]\n",
    "\n",
    "[0.1 0.4]\n",
    "\n",
    "[ 0. 12.  6.  0.  0.  0.  3.]"
   ]
  },
  {
   "cell_type": "code",
   "execution_count": null,
   "metadata": {},
   "outputs": [
    {
     "name": "stdout",
     "output_type": "stream",
     "text": [
      "[1. 2. 4. 5. 6.]\n",
      "[0.1 0.4]\n",
      "[ 0. 12.  6.  0.  0.  0.  3.]\n"
     ]
    }
   ],
   "source": [
    "input = np.array([1.1, 2.5, 3.5, 4.6, 5.9])\n",
    "round_action = RoundAction(1)\n",
    "print(round_action(input))\n",
    "\n",
    "input = np.array([0.12, 0.39])\n",
    "round_action = RoundAction(0.1)\n",
    "print(round_action(input))\n",
    "\n",
    "input = np.array([1.1231, 12.13, 7, 0.5, 1.4, 1.5, 1.6])\n",
    "round_action = RoundAction(3)\n",
    "print(round_action(input))\n"
   ]
  },
  {
   "cell_type": "code",
   "execution_count": null,
   "metadata": {},
   "outputs": [],
   "source": [
    "#| export\n",
    "\n",
    "class MoveBatchToProductDim():\n",
    "    \"\"\"\n",
    "    A class that moves the first dimension to the last place. Usefull for meta learners that \n",
    "    return the predictions of various units in the batch dimension while in environment the\n",
    "    num_unit (e.g., num_SKU) dimension is usually the last one\n",
    "    \"\"\"\n",
    "\n",
    "    def __init__(self,\n",
    "                remove_action_per_unit_dim: bool = False # If there is only one action per unit, the action dimension can be removed by setting this to True\n",
    "                ): \n",
    "        self.remove_action_per_unit_dim = remove_action_per_unit_dim\n",
    "\n",
    "    def __call__(self, input: np.ndarray) -> np.ndarray:\n",
    "        \n",
    "        \"\"\"\n",
    "        Moves the first dimension to the last place.\n",
    "        \"\"\"\n",
    "\n",
    "        if len(input.shape) == 1:\n",
    "            raise ValueError(\"Input array must have at least 2 dimensions\")\n",
    "\n",
    "        output = np.moveaxis(input, 0, -1)\n",
    "\n",
    "        if self.remove_action_per_unit_dim:\n",
    "            if len(output.shape) > 2:\n",
    "                raise ValueError(\"Removing action dim only works for arrays of shape (num_units, num_actions_per_unit)\")\n",
    "            if output.shape[0] == 1:\n",
    "                output = np.squeeze(output, axis=0)\n",
    "            else:\n",
    "                raise ValueError(\"Removing action dim only works for arrays with one action per unit)\")\n",
    "\n",
    "        return output"
   ]
  },
  {
   "cell_type": "code",
   "execution_count": null,
   "metadata": {},
   "outputs": [
    {
     "data": {
      "text/markdown": [
       "---\n",
       "\n",
       "[source](https://github.com/opimwue/ddopai/blob/main/ddopai/postprocessors.py#L105){target=\"_blank\" style=\"float:right; font-size:smaller\"}\n",
       "\n",
       "## MoveBatchToProductDim\n",
       "\n",
       ">      MoveBatchToProductDim (remove_action_per_unit_dim:bool=False)\n",
       "\n",
       "*A class that moves the first dimension to the last place. Usefull for meta learners that \n",
       "return the predictions of various units in the batch dimension while in environment the\n",
       "num_unit (e.g., num_SKU) dimension is usually the last one*\n",
       "\n",
       "|    | **Type** | **Default** | **Details** |\n",
       "| -- | -------- | ----------- | ----------- |\n",
       "| remove_action_per_unit_dim | bool | False | If there is only one action per unit, the action dimension can be removed by setting this to True |"
      ],
      "text/plain": [
       "---\n",
       "\n",
       "[source](https://github.com/opimwue/ddopai/blob/main/ddopai/postprocessors.py#L105){target=\"_blank\" style=\"float:right; font-size:smaller\"}\n",
       "\n",
       "## MoveBatchToProductDim\n",
       "\n",
       ">      MoveBatchToProductDim (remove_action_per_unit_dim:bool=False)\n",
       "\n",
       "*A class that moves the first dimension to the last place. Usefull for meta learners that \n",
       "return the predictions of various units in the batch dimension while in environment the\n",
       "num_unit (e.g., num_SKU) dimension is usually the last one*\n",
       "\n",
       "|    | **Type** | **Default** | **Details** |\n",
       "| -- | -------- | ----------- | ----------- |\n",
       "| remove_action_per_unit_dim | bool | False | If there is only one action per unit, the action dimension can be removed by setting this to True |"
      ]
     },
     "execution_count": null,
     "metadata": {},
     "output_type": "execute_result"
    }
   ],
   "source": [
    "show_doc(MoveBatchToProductDim, title_level=2)"
   ]
  },
  {
   "cell_type": "code",
   "execution_count": null,
   "metadata": {},
   "outputs": [
    {
     "data": {
      "text/markdown": [
       "---\n",
       "\n",
       "[source](https://github.com/opimwue/ddopai/blob/main/ddopai/postprocessors.py#L117){target=\"_blank\" style=\"float:right; font-size:smaller\"}\n",
       "\n",
       "### MoveBatchToProductDim.__call__\n",
       "\n",
       ">      MoveBatchToProductDim.__call__ (input:numpy.ndarray)\n",
       "\n",
       "*Moves the first dimension to the last place.*"
      ],
      "text/plain": [
       "---\n",
       "\n",
       "[source](https://github.com/opimwue/ddopai/blob/main/ddopai/postprocessors.py#L117){target=\"_blank\" style=\"float:right; font-size:smaller\"}\n",
       "\n",
       "### MoveBatchToProductDim.__call__\n",
       "\n",
       ">      MoveBatchToProductDim.__call__ (input:numpy.ndarray)\n",
       "\n",
       "*Moves the first dimension to the last place.*"
      ]
     },
     "execution_count": null,
     "metadata": {},
     "output_type": "execute_result"
    }
   ],
   "source": [
    "show_doc(MoveBatchToProductDim.__call__)"
   ]
  },
  {
   "cell_type": "code",
   "execution_count": null,
   "metadata": {},
   "outputs": [],
   "source": [
    "#| hide\n",
    "import nbdev; nbdev.nbdev_export()"
   ]
  },
  {
   "cell_type": "code",
   "execution_count": null,
   "metadata": {},
   "outputs": [],
   "source": []
  },
  {
   "cell_type": "code",
   "execution_count": null,
   "metadata": {},
   "outputs": [],
   "source": []
  },
  {
   "cell_type": "code",
   "execution_count": null,
   "metadata": {},
   "outputs": [],
   "source": []
  }
 ],
 "metadata": {
  "kernelspec": {
   "display_name": "python3",
   "language": "python",
   "name": "python3"
  }
 },
 "nbformat": 4,
 "nbformat_minor": 4
}
