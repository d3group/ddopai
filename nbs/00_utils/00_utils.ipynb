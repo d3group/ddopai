{
 "cells": [
  {
   "cell_type": "markdown",
   "metadata": {},
   "source": [
    "# Inventory Management Environments\n",
    "\n",
    "> To be written."
   ]
  },
  {
   "cell_type": "code",
   "execution_count": null,
   "metadata": {},
   "outputs": [],
   "source": [
    "#| default_exp utils"
   ]
  },
  {
   "cell_type": "code",
   "execution_count": null,
   "metadata": {},
   "outputs": [],
   "source": [
    "#| hide\n",
    "from nbdev.showdoc import *"
   ]
  },
  {
   "cell_type": "code",
   "execution_count": null,
   "metadata": {},
   "outputs": [],
   "source": [
    "#| export\n",
    "\n",
    "import numpy as np"
   ]
  },
  {
   "cell_type": "markdown",
   "metadata": {},
   "source": [
    "TODO:\n",
    " - write descriptions\n",
    " - specify typings\n",
    " - ensure documentation on types, outputs, variable descriptions"
   ]
  },
  {
   "cell_type": "code",
   "execution_count": null,
   "metadata": {},
   "outputs": [],
   "source": [
    "#| export\n",
    "def set_env_parameter(\n",
    "                    input,\n",
    "                    num_SKUs):\n",
    "\n",
    "    # check if input is scalar\n",
    "    if isinstance(input, Parameter):\n",
    "        assert input.shape == (num_SKUs,), \"Parameter shape must be equal to the number of SKUs\"\n",
    "        output = input\n",
    "        \n",
    "    elif isinstance(input, (int, float)):\n",
    "        if num_SKUs == 1:\n",
    "            output = np.array([input])\n",
    "        else:\n",
    "            output = np.array([input]*num_SKUs)\n",
    "    # check in numpy array and dimension 0 is equal to num_SKUs\n",
    "    elif isinstance(input, np.ndarray):\n",
    "        if input.shape[0] == num_SKUs:\n",
    "            output = input\n",
    "        elif input.shape[0] == 1:\n",
    "            output = np.array([input[0]]*num_SKUs)\n",
    "        else:\n",
    "            raise ValueError(\"Input array must have the same length as the number of SKUs\")\n",
    "    else:\n",
    "        raise TypeError(\"Input must be a scalar or numpy array\")\n",
    "    \n",
    "    return output"
   ]
  },
  {
   "cell_type": "code",
   "execution_count": null,
   "metadata": {},
   "outputs": [],
   "source": [
    "#| hide\n",
    "import nbdev; nbdev.nbdev_export()"
   ]
  }
 ],
 "metadata": {
  "kernelspec": {
   "display_name": "python3",
   "language": "python",
   "name": "python3"
  }
 },
 "nbformat": 4,
 "nbformat_minor": 4
}
