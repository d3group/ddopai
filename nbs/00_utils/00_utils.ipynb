{
 "cells": [
  {
   "cell_type": "markdown",
   "metadata": {},
   "source": [
    "# General utils\n",
    "\n",
    "> Some general utility functions that are used throughout the package."
   ]
  },
  {
   "cell_type": "code",
   "execution_count": null,
   "metadata": {},
   "outputs": [],
   "source": [
    "#| default_exp utils"
   ]
  },
  {
   "cell_type": "code",
   "execution_count": null,
   "metadata": {},
   "outputs": [],
   "source": [
    "#| hide\n",
    "from nbdev.showdoc import *"
   ]
  },
  {
   "cell_type": "code",
   "execution_count": null,
   "metadata": {},
   "outputs": [],
   "source": [
    "#| export\n",
    "\n",
    "from torch.utils.data import Dataset\n",
    "from typing import Union, List, Tuple, Literal\n",
    "from gymnasium.spaces import Space\n",
    "from ddopnew.dataloaders.base import BaseDataLoader\n",
    "\n",
    "import numpy as np"
   ]
  },
  {
   "cell_type": "code",
   "execution_count": null,
   "metadata": {},
   "outputs": [],
   "source": [
    "#| export\n",
    "\n",
    "def check_parameter_types(\n",
    "                            *args,                      # any number of parameters to be checked\n",
    "                            parameter_type=np.ndarray   # the expected type for each parameter\n",
    "):\n",
    "    \n",
    "    \"\"\"\n",
    "    Checks if each argument in args is of the specified type, defaulting to np.ndarray.\n",
    "    \"\"\"\n",
    "    \n",
    "    for index, arg in enumerate(args):\n",
    "        if not isinstance(arg, parameter_type):\n",
    "            raise TypeError(f\"Argument {index+1} of {len(args)} is of type {type(arg).__name__}, expected {parameter_type.__name__}\")"
   ]
  },
  {
   "cell_type": "markdown",
   "metadata": {},
   "source": [
    "Example usage for the `check_parameter_types` function."
   ]
  },
  {
   "cell_type": "code",
   "execution_count": null,
   "metadata": {},
   "outputs": [
    {
     "name": "stdout",
     "output_type": "stream",
     "text": [
      "Argument 2 of 2 is of type list, expected ndarray\n"
     ]
    }
   ],
   "source": [
    "\n",
    "a = np.array([1, 2, 3])\n",
    "b = [1, 2, 3]\n",
    "\n",
    "try:\n",
    "    check_parameter_types(a, b)\n",
    "except TypeError as e:\n",
    "    print(e)"
   ]
  },
  {
   "cell_type": "code",
   "execution_count": null,
   "metadata": {},
   "outputs": [],
   "source": [
    "#| export\n",
    "class Parameter():\n",
    "\n",
    "    \"\"\"\n",
    "    Simple class to handle parameters in the environment. The advantage of this class is that it can be\n",
    "    used to set parameters that may change over time and accessed by multiple objects such as the \n",
    "    environment, agent or dataloaders.\n",
    "    \"\"\"\n",
    "    \n",
    "    def __init__(self,\n",
    "            value: int | float | list[int] | list[float] | np.ndarray,  # the value of the parameter  \n",
    "            min_value: int | float | list[int] | list[float] | np.ndarray = None,  # the minimum value of the parameter\n",
    "            max_value: int | float | list[int] | list[float] | np.ndarray = None,  # the maximum value of the parameter\n",
    "            shape: tuple[int] = (1,)): # the shape of the parameter\n",
    "\n",
    "        self._min_value = min_value\n",
    "        self._max_value = max_value\n",
    "        \n",
    "        self.set_value(value, shape)\n",
    "\n",
    "    def __call__(self):\n",
    "        \"\"\"\n",
    "        Returns the parameter value. Alternative to get_value().\n",
    "\n",
    "        \"\"\"\n",
    "        return self.get_value()\n",
    "\n",
    "    def get_value(self):\n",
    "        \n",
    "        \"\"\"\n",
    "        Returns the parameter value.\n",
    "\n",
    "        \"\"\"\n",
    "\n",
    "        return self._value\n",
    "\n",
    "    def set_value(self, \n",
    "                    value: Union[int, float, List[int], List[float], np.ndarray], # the value of the parameter\n",
    "                    shape: Tuple[int] = (1,)): # the shape of the parameter\n",
    "       \n",
    "        \"\"\"\n",
    "        Set the value of the parameter. The value can be a scalar, list or numpy array. The shape of the value\n",
    "        must be the same as the shape of the parameter.\n",
    "\n",
    "        All values, including scalars, are converted to numpy arrays. If the value is a scalar, it is reshaped\n",
    "        to the shape of the parameter. If the value is a list or numpy array, it must have the same shape as the\n",
    "        parameter. If the value is a scalar, it is reshaped to the shape of the parameter.\n",
    "\n",
    "        Optionally, the value can be clipped to a minimum and maximum value.\n",
    "        \"\"\"\n",
    "\n",
    "        if isinstance(value, (int, float)):\n",
    "            self._value = np.array([value])\n",
    "            self._value.reshape(shape)\n",
    "        \n",
    "        elif isinstance(value, list):\n",
    "            value = np.array(value)\n",
    "            assert value.shape == shape, \"Shape of value must be the same as the shape of the parameter\"\n",
    "            self._value = value\n",
    "        \n",
    "        elif isinstance(value, np.ndarray):\n",
    "            assert value.shape == shape, \"Shape of value must be the same as the shape of the parameter\"\n",
    "            self._value = value\n",
    "        \n",
    "        else:\n",
    "            raise ValueError(\"Value must be a scalar or numpy array\")\n",
    "\n",
    "        if self._min_value is not None:\n",
    "            self._value = np.maximum(self._value, self._min_value)\n",
    "        if self._max_value is not None:\n",
    "            self._value = np.minimum(self._value, self._max_value)\n",
    "\n",
    "    @property\n",
    "    def shape(self):\n",
    "        \"\"\"\n",
    "        Returns: The shape of the table of parameters.\n",
    "        \"\"\"\n",
    "        return self._value.shape\n",
    "    \n",
    "    @property\n",
    "    def size(self):\n",
    "        \"\"\"\n",
    "        Returns: The size of the table of parameters.\n",
    "        \"\"\"\n",
    "        return self._value.size "
   ]
  },
  {
   "cell_type": "code",
   "execution_count": null,
   "metadata": {},
   "outputs": [
    {
     "data": {
      "text/markdown": [
       "---\n",
       "\n",
       "[source](https://github.com/opimwue/ddopnew/blob/main/ddopnew/utils.py#L28){target=\"_blank\" style=\"float:right; font-size:smaller\"}\n",
       "\n",
       "## Parameter\n",
       "\n",
       ">      Parameter (value:int|float|list[int]|list[float]|numpy.ndarray,\n",
       ">                 min_value:int|float|list[int]|list[float]|numpy.ndarray=None,\n",
       ">                 max_value:int|float|list[int]|list[float]|numpy.ndarray=None,\n",
       ">                 shape:tuple[int]=(1,))\n",
       "\n",
       "*Simple class to handle parameters in the environment. The advantage of this class is that it can be\n",
       "used to set parameters that may change over time and accessed by multiple objects such as the \n",
       "environment, agent or dataloaders.*\n",
       "\n",
       "|    | **Type** | **Default** | **Details** |\n",
       "| -- | -------- | ----------- | ----------- |\n",
       "| value | int \\| float \\| list[int] \\| list[float] \\| numpy.ndarray |  | the value of the parameter |\n",
       "| min_value | int \\| float \\| list[int] \\| list[float] \\| numpy.ndarray | None | the minimum value of the parameter |\n",
       "| max_value | int \\| float \\| list[int] \\| list[float] \\| numpy.ndarray | None | the maximum value of the parameter |\n",
       "| shape | tuple | (1,) | the shape of the parameter |"
      ],
      "text/plain": [
       "---\n",
       "\n",
       "[source](https://github.com/opimwue/ddopnew/blob/main/ddopnew/utils.py#L28){target=\"_blank\" style=\"float:right; font-size:smaller\"}\n",
       "\n",
       "## Parameter\n",
       "\n",
       ">      Parameter (value:int|float|list[int]|list[float]|numpy.ndarray,\n",
       ">                 min_value:int|float|list[int]|list[float]|numpy.ndarray=None,\n",
       ">                 max_value:int|float|list[int]|list[float]|numpy.ndarray=None,\n",
       ">                 shape:tuple[int]=(1,))\n",
       "\n",
       "*Simple class to handle parameters in the environment. The advantage of this class is that it can be\n",
       "used to set parameters that may change over time and accessed by multiple objects such as the \n",
       "environment, agent or dataloaders.*\n",
       "\n",
       "|    | **Type** | **Default** | **Details** |\n",
       "| -- | -------- | ----------- | ----------- |\n",
       "| value | int \\| float \\| list[int] \\| list[float] \\| numpy.ndarray |  | the value of the parameter |\n",
       "| min_value | int \\| float \\| list[int] \\| list[float] \\| numpy.ndarray | None | the minimum value of the parameter |\n",
       "| max_value | int \\| float \\| list[int] \\| list[float] \\| numpy.ndarray | None | the maximum value of the parameter |\n",
       "| shape | tuple | (1,) | the shape of the parameter |"
      ]
     },
     "execution_count": null,
     "metadata": {},
     "output_type": "execute_result"
    }
   ],
   "source": [
    "show_doc(Parameter, title_level=2)"
   ]
  },
  {
   "cell_type": "code",
   "execution_count": null,
   "metadata": {},
   "outputs": [
    {
     "data": {
      "text/markdown": [
       "---\n",
       "\n",
       "[source](https://github.com/opimwue/ddopnew/blob/main/ddopnew/utils.py#L47){target=\"_blank\" style=\"float:right; font-size:smaller\"}\n",
       "\n",
       "### Parameter.__call__\n",
       "\n",
       ">      Parameter.__call__ ()\n",
       "\n",
       "*Returns the parameter value. Alternative to get_value().*"
      ],
      "text/plain": [
       "---\n",
       "\n",
       "[source](https://github.com/opimwue/ddopnew/blob/main/ddopnew/utils.py#L47){target=\"_blank\" style=\"float:right; font-size:smaller\"}\n",
       "\n",
       "### Parameter.__call__\n",
       "\n",
       ">      Parameter.__call__ ()\n",
       "\n",
       "*Returns the parameter value. Alternative to get_value().*"
      ]
     },
     "execution_count": null,
     "metadata": {},
     "output_type": "execute_result"
    }
   ],
   "source": [
    "show_doc(Parameter.__call__)"
   ]
  },
  {
   "cell_type": "code",
   "execution_count": null,
   "metadata": {},
   "outputs": [
    {
     "data": {
      "text/markdown": [
       "---\n",
       "\n",
       "[source](https://github.com/opimwue/ddopnew/blob/main/ddopnew/utils.py#L54){target=\"_blank\" style=\"float:right; font-size:smaller\"}\n",
       "\n",
       "### Parameter.get_value\n",
       "\n",
       ">      Parameter.get_value ()\n",
       "\n",
       "*Returns the parameter value.*"
      ],
      "text/plain": [
       "---\n",
       "\n",
       "[source](https://github.com/opimwue/ddopnew/blob/main/ddopnew/utils.py#L54){target=\"_blank\" style=\"float:right; font-size:smaller\"}\n",
       "\n",
       "### Parameter.get_value\n",
       "\n",
       ">      Parameter.get_value ()\n",
       "\n",
       "*Returns the parameter value.*"
      ]
     },
     "execution_count": null,
     "metadata": {},
     "output_type": "execute_result"
    }
   ],
   "source": [
    "show_doc(Parameter.get_value)"
   ]
  },
  {
   "cell_type": "code",
   "execution_count": null,
   "metadata": {},
   "outputs": [
    {
     "data": {
      "text/markdown": [
       "---\n",
       "\n",
       "[source](https://github.com/opimwue/ddopnew/blob/main/ddopnew/utils.py#L63){target=\"_blank\" style=\"float:right; font-size:smaller\"}\n",
       "\n",
       "### Parameter.set_value\n",
       "\n",
       ">      Parameter.set_value\n",
       ">                           (value:Union[int,float,List[int],List[float],numpy.n\n",
       ">                           darray], shape:Tuple[int]=(1,))\n",
       "\n",
       "*Set the value of the parameter. The value can be a scalar, list or numpy array. The shape of the value\n",
       "must be the same as the shape of the parameter.\n",
       "\n",
       "All values, including scalars, are converted to numpy arrays. If the value is a scalar, it is reshaped\n",
       "to the shape of the parameter. If the value is a list or numpy array, it must have the same shape as the\n",
       "parameter. If the value is a scalar, it is reshaped to the shape of the parameter.\n",
       "\n",
       "Optionally, the value can be clipped to a minimum and maximum value.*\n",
       "\n",
       "|    | **Type** | **Default** | **Details** |\n",
       "| -- | -------- | ----------- | ----------- |\n",
       "| value | Union |  | the value of the parameter |\n",
       "| shape | Tuple | (1,) | the shape of the parameter |"
      ],
      "text/plain": [
       "---\n",
       "\n",
       "[source](https://github.com/opimwue/ddopnew/blob/main/ddopnew/utils.py#L63){target=\"_blank\" style=\"float:right; font-size:smaller\"}\n",
       "\n",
       "### Parameter.set_value\n",
       "\n",
       ">      Parameter.set_value\n",
       ">                           (value:Union[int,float,List[int],List[float],numpy.n\n",
       ">                           darray], shape:Tuple[int]=(1,))\n",
       "\n",
       "*Set the value of the parameter. The value can be a scalar, list or numpy array. The shape of the value\n",
       "must be the same as the shape of the parameter.\n",
       "\n",
       "All values, including scalars, are converted to numpy arrays. If the value is a scalar, it is reshaped\n",
       "to the shape of the parameter. If the value is a list or numpy array, it must have the same shape as the\n",
       "parameter. If the value is a scalar, it is reshaped to the shape of the parameter.\n",
       "\n",
       "Optionally, the value can be clipped to a minimum and maximum value.*\n",
       "\n",
       "|    | **Type** | **Default** | **Details** |\n",
       "| -- | -------- | ----------- | ----------- |\n",
       "| value | Union |  | the value of the parameter |\n",
       "| shape | Tuple | (1,) | the shape of the parameter |"
      ]
     },
     "execution_count": null,
     "metadata": {},
     "output_type": "execute_result"
    }
   ],
   "source": [
    "show_doc(Parameter.set_value)"
   ]
  },
  {
   "cell_type": "code",
   "execution_count": null,
   "metadata": {},
   "outputs": [
    {
     "data": {
      "text/markdown": [
       "---\n",
       "\n",
       "[source](https://github.com/opimwue/ddopnew/blob/main/ddopnew/utils.py#L100){target=\"_blank\" style=\"float:right; font-size:smaller\"}\n",
       "\n",
       "### Parameter.shape\n",
       "\n",
       ">      Parameter.shape ()\n",
       "\n",
       "*Returns: The shape of the table of parameters.*"
      ],
      "text/plain": [
       "---\n",
       "\n",
       "[source](https://github.com/opimwue/ddopnew/blob/main/ddopnew/utils.py#L100){target=\"_blank\" style=\"float:right; font-size:smaller\"}\n",
       "\n",
       "### Parameter.shape\n",
       "\n",
       ">      Parameter.shape ()\n",
       "\n",
       "*Returns: The shape of the table of parameters.*"
      ]
     },
     "execution_count": null,
     "metadata": {},
     "output_type": "execute_result"
    }
   ],
   "source": [
    "show_doc(Parameter.shape)"
   ]
  },
  {
   "cell_type": "code",
   "execution_count": null,
   "metadata": {},
   "outputs": [
    {
     "data": {
      "text/markdown": [
       "---\n",
       "\n",
       "[source](https://github.com/opimwue/ddopnew/blob/main/ddopnew/utils.py#L107){target=\"_blank\" style=\"float:right; font-size:smaller\"}\n",
       "\n",
       "### Parameter.size\n",
       "\n",
       ">      Parameter.size ()\n",
       "\n",
       "*Returns: The size of the table of parameters.*"
      ],
      "text/plain": [
       "---\n",
       "\n",
       "[source](https://github.com/opimwue/ddopnew/blob/main/ddopnew/utils.py#L107){target=\"_blank\" style=\"float:right; font-size:smaller\"}\n",
       "\n",
       "### Parameter.size\n",
       "\n",
       ">      Parameter.size ()\n",
       "\n",
       "*Returns: The size of the table of parameters.*"
      ]
     },
     "execution_count": null,
     "metadata": {},
     "output_type": "execute_result"
    }
   ],
   "source": [
    "show_doc(Parameter.size)"
   ]
  },
  {
   "cell_type": "markdown",
   "metadata": {},
   "source": [
    "Example usage for the `Parameter` class:"
   ]
  },
  {
   "cell_type": "code",
   "execution_count": null,
   "metadata": {},
   "outputs": [
    {
     "name": "stdout",
     "output_type": "stream",
     "text": [
      "[1]\n",
      "[2.13]\n",
      "[2 2 2 2 2]\n",
      "[0 1]\n"
     ]
    }
   ],
   "source": [
    "overage_cost = Parameter(1) # integer\n",
    "underage_cost = Parameter(2.13) # float\n",
    "ordering_cost = Parameter([2]*5, shape=(5,)) # list\n",
    "holding_cost = Parameter(np.array([0,1]), shape=(2,)) # numpy array\n",
    "\n",
    "print(overage_cost.get_value())\n",
    "print(underage_cost.get_value())\n",
    "print(ordering_cost.get_value())\n",
    "print(holding_cost.get_value())"
   ]
  },
  {
   "cell_type": "code",
   "execution_count": null,
   "metadata": {},
   "outputs": [],
   "source": [
    "#| export\n",
    "\n",
    "class MDPInfo():\n",
    "    \"\"\"\n",
    "    This class is used to store the information of the environment.\n",
    "    It is based on MushroomRL (https://github.com/MushroomRL). It can be accessed by \n",
    "    agents that need the information of the environment, such as the state and action spaces.\n",
    "    \n",
    "    Key difference with MushroomRL is that the state and action spaces are gymnasium spaces.\n",
    "    \"\"\"\n",
    "    \n",
    "    def __init__(self,\n",
    "                observation_space: Space,\n",
    "                action_space: Space,  \n",
    "                gamma: float,\n",
    "                horizon: int,\n",
    "                dt: float = 1e-1,\n",
    "                backend: Literal['numpy'] = 'numpy'  # Currently only numpy is supported\n",
    "            ) -> None: \n",
    "\n",
    "        self.observation_space = observation_space\n",
    "        self.action_space = action_space\n",
    "        self.gamma = gamma\n",
    "        self.horizon = horizon\n",
    "        self.dt = dt\n",
    "        self.backend = backend\n",
    "\n",
    "    @property\n",
    "    def size(self):\n",
    "        \"\"\"\n",
    "        Returns: The sum of the number of discrete states and discrete actions. Only works for discrete spaces.\n",
    "\n",
    "        \"\"\"\n",
    "        return self.observation_space.size + self.action_space.size\n",
    "\n",
    "    @property\n",
    "    def shape(self):\n",
    "        \"\"\"\n",
    "        Returns: The concatenation of the shape tuple of the state and action spaces.\n",
    "\n",
    "        \"\"\"\n",
    "        return self.observation_space.shape + self.action_space.shape"
   ]
  },
  {
   "cell_type": "code",
   "execution_count": null,
   "metadata": {},
   "outputs": [
    {
     "data": {
      "text/markdown": [
       "---\n",
       "\n",
       "[source](https://github.com/opimwue/ddopnew/blob/main/ddopnew/utils.py#L114){target=\"_blank\" style=\"float:right; font-size:smaller\"}\n",
       "\n",
       "## MDPInfo\n",
       "\n",
       ">      MDPInfo (observation_space:gymnasium.spaces.space.Space,\n",
       ">               action_space:gymnasium.spaces.space.Space, gamma:float,\n",
       ">               horizon:int, dt:float=0.1, backend:Literal['numpy']='numpy')\n",
       "\n",
       "*This class is used to store the information of the environment.\n",
       "It is based on MushroomRL (https://github.com/MushroomRL). It can be accessed by \n",
       "agents that need the information of the environment, such as the state and action spaces.\n",
       "\n",
       "Key difference with MushroomRL is that the state and action spaces are gymnasium spaces.*\n",
       "\n",
       "|    | **Type** | **Default** | **Details** |\n",
       "| -- | -------- | ----------- | ----------- |\n",
       "| observation_space | Space |  |  |\n",
       "| action_space | Space |  |  |\n",
       "| gamma | float |  |  |\n",
       "| horizon | int |  |  |\n",
       "| dt | float | 0.1 |  |\n",
       "| backend | Literal | numpy | Currently only numpy is supported |\n",
       "| **Returns** | **None** |  |  |"
      ],
      "text/plain": [
       "---\n",
       "\n",
       "[source](https://github.com/opimwue/ddopnew/blob/main/ddopnew/utils.py#L114){target=\"_blank\" style=\"float:right; font-size:smaller\"}\n",
       "\n",
       "## MDPInfo\n",
       "\n",
       ">      MDPInfo (observation_space:gymnasium.spaces.space.Space,\n",
       ">               action_space:gymnasium.spaces.space.Space, gamma:float,\n",
       ">               horizon:int, dt:float=0.1, backend:Literal['numpy']='numpy')\n",
       "\n",
       "*This class is used to store the information of the environment.\n",
       "It is based on MushroomRL (https://github.com/MushroomRL). It can be accessed by \n",
       "agents that need the information of the environment, such as the state and action spaces.\n",
       "\n",
       "Key difference with MushroomRL is that the state and action spaces are gymnasium spaces.*\n",
       "\n",
       "|    | **Type** | **Default** | **Details** |\n",
       "| -- | -------- | ----------- | ----------- |\n",
       "| observation_space | Space |  |  |\n",
       "| action_space | Space |  |  |\n",
       "| gamma | float |  |  |\n",
       "| horizon | int |  |  |\n",
       "| dt | float | 0.1 |  |\n",
       "| backend | Literal | numpy | Currently only numpy is supported |\n",
       "| **Returns** | **None** |  |  |"
      ]
     },
     "execution_count": null,
     "metadata": {},
     "output_type": "execute_result"
    }
   ],
   "source": [
    "show_doc(MDPInfo, title_level=2)"
   ]
  },
  {
   "cell_type": "code",
   "execution_count": null,
   "metadata": {},
   "outputs": [
    {
     "data": {
      "text/markdown": [
       "---\n",
       "\n",
       "[source](https://github.com/opimwue/ddopnew/blob/main/ddopnew/utils.py#L140){target=\"_blank\" style=\"float:right; font-size:smaller\"}\n",
       "\n",
       "### MDPInfo.size\n",
       "\n",
       ">      MDPInfo.size ()\n",
       "\n",
       "*Returns: The sum of the number of discrete states and discrete actions. Only works for discrete spaces.*"
      ],
      "text/plain": [
       "---\n",
       "\n",
       "[source](https://github.com/opimwue/ddopnew/blob/main/ddopnew/utils.py#L140){target=\"_blank\" style=\"float:right; font-size:smaller\"}\n",
       "\n",
       "### MDPInfo.size\n",
       "\n",
       ">      MDPInfo.size ()\n",
       "\n",
       "*Returns: The sum of the number of discrete states and discrete actions. Only works for discrete spaces.*"
      ]
     },
     "execution_count": null,
     "metadata": {},
     "output_type": "execute_result"
    }
   ],
   "source": [
    "show_doc(MDPInfo.size)"
   ]
  },
  {
   "cell_type": "code",
   "execution_count": null,
   "metadata": {},
   "outputs": [
    {
     "data": {
      "text/markdown": [
       "---\n",
       "\n",
       "[source](https://github.com/opimwue/ddopnew/blob/main/ddopnew/utils.py#L148){target=\"_blank\" style=\"float:right; font-size:smaller\"}\n",
       "\n",
       "### MDPInfo.shape\n",
       "\n",
       ">      MDPInfo.shape ()\n",
       "\n",
       "*Returns: The concatenation of the shape tuple of the state and action spaces.*"
      ],
      "text/plain": [
       "---\n",
       "\n",
       "[source](https://github.com/opimwue/ddopnew/blob/main/ddopnew/utils.py#L148){target=\"_blank\" style=\"float:right; font-size:smaller\"}\n",
       "\n",
       "### MDPInfo.shape\n",
       "\n",
       ">      MDPInfo.shape ()\n",
       "\n",
       "*Returns: The concatenation of the shape tuple of the state and action spaces.*"
      ]
     },
     "execution_count": null,
     "metadata": {},
     "output_type": "execute_result"
    }
   ],
   "source": [
    "show_doc(MDPInfo.shape)"
   ]
  },
  {
   "cell_type": "code",
   "execution_count": null,
   "metadata": {},
   "outputs": [],
   "source": [
    "#| export\n",
    "\n",
    "class DatasetWrapper(Dataset):\n",
    "    \"\"\"\n",
    "    This class is used to wrap a Pytorch Dataset around the ddopnew dataloader\n",
    "    to enable the usage of the Pytorch Dataloader during training. This way,\n",
    "    agents that are trained using Pytorch without interacting with the environment\n",
    "    can directly train on the data generated by the dataloader.\n",
    "    \n",
    "    \"\"\"\n",
    "\n",
    "    def __init__(self, \n",
    "            dataloader: BaseDataLoader # Any dataloader that inherits from BaseDataLoader\n",
    "            ):\n",
    "        \"\"\"\n",
    "\n",
    "\n",
    "        \"\"\"\n",
    "        self.dataloader = dataloader\n",
    "    \n",
    "    def __getitem__(self, idx):\n",
    "        \"\"\"\n",
    "        Get the item at the provided idx.\n",
    "\n",
    "        \"\"\"\n",
    "\n",
    "        # create tuple of items\n",
    "        return self.dataloader[idx]\n",
    "\n",
    "\n",
    "    def __len__(self):\n",
    "\n",
    "        \"\"\"\n",
    "\n",
    "        Returns the length of the dataset. Depends on the state of\n",
    "        the dataloader (train, val, test).\n",
    "\n",
    "        \"\"\"\n",
    "        \n",
    "        if self.dataloader.dataset_type == 'train':\n",
    "            return self.dataloader.len_train\n",
    "        elif self.dataloader.dataset_type == 'val':\n",
    "            return self.dataloader.len_val\n",
    "        elif self.dataloader.dataset_type == 'test':\n",
    "            return self.dataloader.len_test\n",
    "        else:\n",
    "            raise ValueError(\"Dataset type must be either 'train', 'val' or 'test'\")"
   ]
  },
  {
   "cell_type": "code",
   "execution_count": null,
   "metadata": {},
   "outputs": [
    {
     "data": {
      "text/markdown": [
       "---\n",
       "\n",
       "[source](https://github.com/opimwue/ddopnew/blob/main/ddopnew/utils.py#L156){target=\"_blank\" style=\"float:right; font-size:smaller\"}\n",
       "\n",
       "## DatasetWrapper\n",
       "\n",
       ">      DatasetWrapper (dataloader:ddopnew.dataloaders.base.BaseDataLoader)\n",
       "\n",
       "*This class is used to wrap a Pytorch Dataset around the ddopnew dataloader\n",
       "to enable the usage of the Pytorch Dataloader during training. This way,\n",
       "agents that are trained using Pytorch without interacting with the environment\n",
       "can directly train on the data generated by the dataloader.*\n",
       "\n",
       "|    | **Type** | **Details** |\n",
       "| -- | -------- | ----------- |\n",
       "| dataloader | BaseDataLoader | Any dataloader that inherits from BaseDataLoader |"
      ],
      "text/plain": [
       "---\n",
       "\n",
       "[source](https://github.com/opimwue/ddopnew/blob/main/ddopnew/utils.py#L156){target=\"_blank\" style=\"float:right; font-size:smaller\"}\n",
       "\n",
       "## DatasetWrapper\n",
       "\n",
       ">      DatasetWrapper (dataloader:ddopnew.dataloaders.base.BaseDataLoader)\n",
       "\n",
       "*This class is used to wrap a Pytorch Dataset around the ddopnew dataloader\n",
       "to enable the usage of the Pytorch Dataloader during training. This way,\n",
       "agents that are trained using Pytorch without interacting with the environment\n",
       "can directly train on the data generated by the dataloader.*\n",
       "\n",
       "|    | **Type** | **Details** |\n",
       "| -- | -------- | ----------- |\n",
       "| dataloader | BaseDataLoader | Any dataloader that inherits from BaseDataLoader |"
      ]
     },
     "execution_count": null,
     "metadata": {},
     "output_type": "execute_result"
    }
   ],
   "source": [
    "show_doc(DatasetWrapper, title_level=2)"
   ]
  },
  {
   "cell_type": "code",
   "execution_count": null,
   "metadata": {},
   "outputs": [
    {
     "data": {
      "text/markdown": [
       "---\n",
       "\n",
       "[source](https://github.com/opimwue/ddopnew/blob/main/ddopnew/utils.py#L174){target=\"_blank\" style=\"float:right; font-size:smaller\"}\n",
       "\n",
       "### DatasetWrapper.__getitem__\n",
       "\n",
       ">      DatasetWrapper.__getitem__ (idx)\n",
       "\n",
       "*Get the item at the provided idx.*"
      ],
      "text/plain": [
       "---\n",
       "\n",
       "[source](https://github.com/opimwue/ddopnew/blob/main/ddopnew/utils.py#L174){target=\"_blank\" style=\"float:right; font-size:smaller\"}\n",
       "\n",
       "### DatasetWrapper.__getitem__\n",
       "\n",
       ">      DatasetWrapper.__getitem__ (idx)\n",
       "\n",
       "*Get the item at the provided idx.*"
      ]
     },
     "execution_count": null,
     "metadata": {},
     "output_type": "execute_result"
    }
   ],
   "source": [
    "show_doc(DatasetWrapper.__getitem__)"
   ]
  },
  {
   "cell_type": "code",
   "execution_count": null,
   "metadata": {},
   "outputs": [
    {
     "data": {
      "text/markdown": [
       "---\n",
       "\n",
       "[source](https://github.com/opimwue/ddopnew/blob/main/ddopnew/utils.py#L184){target=\"_blank\" style=\"float:right; font-size:smaller\"}\n",
       "\n",
       "### DatasetWrapper.__len__\n",
       "\n",
       ">      DatasetWrapper.__len__ ()\n",
       "\n",
       "*Returns the length of the dataset. Depends on the state of\n",
       "the dataloader (train, val, test).*"
      ],
      "text/plain": [
       "---\n",
       "\n",
       "[source](https://github.com/opimwue/ddopnew/blob/main/ddopnew/utils.py#L184){target=\"_blank\" style=\"float:right; font-size:smaller\"}\n",
       "\n",
       "### DatasetWrapper.__len__\n",
       "\n",
       ">      DatasetWrapper.__len__ ()\n",
       "\n",
       "*Returns the length of the dataset. Depends on the state of\n",
       "the dataloader (train, val, test).*"
      ]
     },
     "execution_count": null,
     "metadata": {},
     "output_type": "execute_result"
    }
   ],
   "source": [
    "show_doc(DatasetWrapper.__len__)"
   ]
  },
  {
   "cell_type": "code",
   "execution_count": null,
   "metadata": {},
   "outputs": [],
   "source": [
    "#| hide\n",
    "import nbdev; nbdev.nbdev_export()"
   ]
  }
 ],
 "metadata": {
  "kernelspec": {
   "display_name": "python3",
   "language": "python",
   "name": "python3"
  }
 },
 "nbformat": 4,
 "nbformat_minor": 4
}
