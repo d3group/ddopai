{
 "cells": [
  {
   "cell_type": "markdown",
   "metadata": {},
   "source": [
    "# Utils\n",
    "\n",
    "> To be written."
   ]
  },
  {
   "cell_type": "code",
   "execution_count": null,
   "metadata": {},
   "outputs": [],
   "source": [
    "#| default_exp utils"
   ]
  },
  {
   "cell_type": "code",
   "execution_count": null,
   "metadata": {},
   "outputs": [],
   "source": [
    "#| hide\n",
    "from nbdev.showdoc import *"
   ]
  },
  {
   "cell_type": "code",
   "execution_count": null,
   "metadata": {},
   "outputs": [],
   "source": [
    "#| export\n",
    "\n",
    "import numpy as np"
   ]
  },
  {
   "cell_type": "markdown",
   "metadata": {},
   "source": [
    "TODO:\n",
    " - write descriptions\n",
    " - specify typings\n",
    " - ensure documentation on types, outputs, variable descriptions"
   ]
  },
  {
   "cell_type": "code",
   "execution_count": null,
   "metadata": {},
   "outputs": [],
   "source": [
    "#| export\n",
    "class Parameter():\n",
    "\n",
    "    \"\"\"\n",
    "    Simple class to handle parameters in the environment. The advantage of this class is that it can be\n",
    "    used to set parameters that may change over time and accessed by multiple objects such as the \n",
    "    environment, agent or dataloaders.\n",
    "    \"\"\"\n",
    "    \n",
    "    def __init__(self, value, min_value=None, max_value=None, shape=(1,)):\n",
    "\n",
    "        self._min_value = min_value\n",
    "        self._max_value = max_value\n",
    "        \n",
    "        self.set_value(value, shape)\n",
    "\n",
    "    def __call__(self):\n",
    "        \"\"\"\n",
    "        Update and return the parameter in the provided index.\n",
    "\n",
    "        Args:\n",
    "             *idx (list): index of the parameter to return.\n",
    "\n",
    "        Returns:\n",
    "            The updated parameter in the provided index.\n",
    "\n",
    "        \"\"\"\n",
    "        return self.get_value()\n",
    "\n",
    "    def get_value(self):\n",
    "        \"\"\"\n",
    "        Return the current value of the parameter in the provided index.\n",
    "\n",
    "        Args:\n",
    "            *idx (list): index of the parameter to return.\n",
    "\n",
    "        Returns:\n",
    "            The current value of the parameter in the provided index.\n",
    "\n",
    "        \"\"\"\n",
    "\n",
    "        return self._value\n",
    "\n",
    "    def set_value(self, value, shape=(1,)):\n",
    "       \n",
    "        \"\"\"\n",
    "        Set the value of the parameter.\n",
    "\n",
    "        Args:\n",
    "            value (float, int, numpy array): The value to set the parameter to.\n",
    "\n",
    "        \"\"\"\n",
    "\n",
    "        if isinstance(value, (int, float)):\n",
    "            self._value = np.array([value])\n",
    "            self._value.reshape(shape)\n",
    "        \n",
    "        elif isinstance(value, list):\n",
    "            value = np.array(value)\n",
    "            assert value.shape == shape, \"Shape of value must be the same as the shape of the parameter\"\n",
    "            self._value = value\n",
    "        \n",
    "        elif isinstance(value, np.ndarray):\n",
    "            assert value.shape == shape, \"Shape of value must be the same as the shape of the parameter\"\n",
    "            self._value = value\n",
    "        \n",
    "        else:\n",
    "            raise ValueError(\"Value must be a scalar or numpy array\")\n",
    "\n",
    "        if self._min_value is not None:\n",
    "            self._value = np.maximum(self._value, self._min_value)\n",
    "        if self._max_value is not None:\n",
    "            self._value = np.minimum(self._value, self._max_value)\n",
    "\n",
    "    @property\n",
    "    def shape(self):\n",
    "        \"\"\"\n",
    "        Returns:\n",
    "            The shape of the table of parameters.\n",
    "        \"\"\"\n",
    "        return self._value.shape\n",
    "    \n",
    "    @property\n",
    "    def size(self):\n",
    "        \"\"\"\n",
    "        Returns:\n",
    "            The size of the table of parameters.\n",
    "        \"\"\"\n",
    "        return self._value.size "
   ]
  },
  {
   "cell_type": "code",
   "execution_count": null,
   "metadata": {},
   "outputs": [
    {
     "name": "stdout",
     "output_type": "stream",
     "text": [
      "[1]\n",
      "[2.13]\n",
      "[2 2 2 2 2]\n",
      "[0 1]\n"
     ]
    }
   ],
   "source": [
    "overage_cost = Parameter(1) # integer\n",
    "underage_cost = Parameter(2.13) # floag\n",
    "ordering_cost = Parameter([2]*5, shape=(5,)) # list\n",
    "holding_cost = Parameter(np.array([0,1]), shape=(2,)) # numpy array\n",
    "\n",
    "print(overage_cost.get_value())\n",
    "print(underage_cost.get_value())\n",
    "print(ordering_cost.get_value())\n",
    "print(holding_cost.get_value())"
   ]
  },
  {
   "cell_type": "code",
   "execution_count": null,
   "metadata": {},
   "outputs": [],
   "source": [
    "#| export\n",
    "\n",
    "class MDPInfo():\n",
    "    \"\"\"\n",
    "    This class is used to store the information of the environment.\n",
    "    It is based on MushroomRL (https://github.com/MushroomRL)\n",
    "    \"\"\"\n",
    "    \n",
    "    def __init__(self, observation_space, action_space, gamma, horizon, dt=1e-1, backend='numpy'):\n",
    "        \"\"\"\n",
    "        Constructor.\n",
    "\n",
    "        Args:\n",
    "             observation_space ([Box, Discrete]): the state space;\n",
    "             action_space ([Box, Discrete]): the action space;\n",
    "             gamma (float): the discount factor;\n",
    "             horizon (int): the horizon;\n",
    "             dt (float, 1e-1): the control timestep of the environment;\n",
    "             backend (str, 'numpy'): the type of data library used to generate state and actions.\n",
    "\n",
    "        \"\"\"\n",
    "        self.observation_space = observation_space\n",
    "        self.action_space = action_space\n",
    "        self.gamma = gamma\n",
    "        self.horizon = horizon\n",
    "        self.dt = dt\n",
    "        self.backend = backend\n",
    "\n",
    "    @property\n",
    "    def size(self):\n",
    "        \"\"\"\n",
    "        Returns:\n",
    "            The sum of the number of discrete states and discrete actions. Only works for discrete spaces.\n",
    "\n",
    "        \"\"\"\n",
    "        return self.observation_space.size + self.action_space.size\n",
    "\n",
    "    @property\n",
    "    def shape(self):\n",
    "        \"\"\"\n",
    "        Returns:\n",
    "            The concatenation of the shape tuple of the state and action spaces.\n",
    "\n",
    "        \"\"\"\n",
    "        return self.observation_space.shape + self.action_space.shape"
   ]
  },
  {
   "cell_type": "code",
   "execution_count": null,
   "metadata": {},
   "outputs": [],
   "source": [
    "#| hide\n",
    "import nbdev; nbdev.nbdev_export()"
   ]
  }
 ],
 "metadata": {
  "kernelspec": {
   "display_name": "python3",
   "language": "python",
   "name": "python3"
  }
 },
 "nbformat": 4,
 "nbformat_minor": 4
}
