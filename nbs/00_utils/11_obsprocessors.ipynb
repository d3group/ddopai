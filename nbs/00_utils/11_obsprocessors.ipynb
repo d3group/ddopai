{
 "cells": [
  {
   "cell_type": "markdown",
   "metadata": {},
   "source": [
    "# Obsprocessors\n",
    "\n",
    "> Processors for observations can be used to process the input for an agent before it is being passed to the agent. "
   ]
  },
  {
   "cell_type": "code",
   "execution_count": null,
   "metadata": {},
   "outputs": [],
   "source": [
    "#| default_exp obsprocessors"
   ]
  },
  {
   "cell_type": "code",
   "execution_count": null,
   "metadata": {},
   "outputs": [],
   "source": [
    "#| hide\n",
    "from nbdev.showdoc import *"
   ]
  },
  {
   "cell_type": "code",
   "execution_count": null,
   "metadata": {},
   "outputs": [],
   "source": [
    "#| export\n",
    "\n",
    "from typing import Union, Optional\n",
    "\n",
    "import numpy as np\n",
    "from ddopnew.utils import Parameter, check_parameter_types\n",
    "\n",
    "import torch\n",
    "import torch.nn as nn\n",
    "import torch.nn.functional as F"
   ]
  },
  {
   "cell_type": "code",
   "execution_count": null,
   "metadata": {},
   "outputs": [],
   "source": [
    "#| export\n",
    "\n",
    "class FlattenTimeDimNumpy():\n",
    "\n",
    "    \"\"\"\n",
    "    Preprocessor to flatten the time and feature dimension of the input.\n",
    "    Used, e.g., to convert time-series data for models that cannot process\n",
    "    a time dimension such as MLPs or Regression models.\n",
    "    \"\"\"\n",
    "\n",
    "    def __init__(self,\n",
    "        allow_2d: Optional[bool] = False, #\n",
    "        batch_dim_included: Optional[bool] = True\n",
    "        ):\n",
    "        self.allow_2d = allow_2d\n",
    "        self.batch_dim_included = batch_dim_included\n",
    "\n",
    "    def check_input(self,\n",
    "            input: np.ndarray #\n",
    "            ):\n",
    "        \"\"\"\n",
    "        Check that the input is a PyTorch tensor with the correct shape.\n",
    "        \"\"\"\n",
    "        # Check if the input is a PyTorch tensor\n",
    "        if not isinstance(input, np.ndarray):\n",
    "            raise TypeError(f\"Expected input to be a numpy array, but got {type(input)} instead.\")\n",
    "\n",
    "        # Determine expected dimensions based on batch_dim_included\n",
    "        expected_ndim = 3 if self.batch_dim_included else 2\n",
    "        allow_ndim = 2 if self.batch_dim_included else 1\n",
    "\n",
    "        # Check if the input array has the correct dimensions\n",
    "        if input.ndim == expected_ndim:\n",
    "            # If the input is 3D, it is valid regardless of allow_2d\n",
    "            return\n",
    "        elif input.ndim == allow_ndim:\n",
    "            # If the input has fewer dimensions, check if the reduced dimension is allowed\n",
    "            if not self.allow_2d:\n",
    "                raise ValueError(\n",
    "                    f\"Expected input to have {expected_ndim} dimensions with shape \"\n",
    "                    f\"{'(batch_size, timesteps, features)' if self.batch_dim_included else '(timesteps, features)'}, \"\n",
    "                    f\"but got shape {input.shape} instead. \"\n",
    "                    f\"{allow_ndim}D inputs are not allowed when allow_2d is False.\"\n",
    "                )\n",
    "        else:\n",
    "            # If the input has an unexpected number of dimensions\n",
    "            expected_shape_msg = (\n",
    "                f\"Expected input to have {expected_ndim} dimensions with shape \"\n",
    "                f\"{'(batch_size, timesteps, features)' if self.batch_dim_included else '(timesteps, features)'}\"\n",
    "                if not self.allow_2d\n",
    "                else f\"Expected input to have {expected_ndim} dimensions with shape \"\n",
    "                     f\"{'(batch_size, timesteps, features)' if self.batch_dim_included else '(timesteps, features)'} \"\n",
    "                     f\"or {allow_ndim} dimensions with shape \"\n",
    "                     f\"{'(batch_size, features)' if self.batch_dim_included else '(features)'}\"\n",
    "            )\n",
    "            raise ValueError(f\"{expected_shape_msg}, but got shape {input.shape} instead.\")\n",
    "            \n",
    "    def __call__(self,\n",
    "                input: np.ndarray\n",
    "                ) -> np.ndarray:\n",
    "                \n",
    "        \"\"\"\n",
    "        Process the input array by keeping the batch dimension and flattening\n",
    "        the time and feature dimensions.\n",
    "        \"\"\"\n",
    "\n",
    "        # Validate the input tensor\n",
    "        self.check_input(input)\n",
    "\n",
    "        if self.batch_dim_included:\n",
    "            # If batch dimension is included\n",
    "            if input.ndim == 2:\n",
    "                output = input\n",
    "            else:\n",
    "                # Keep the batch dimension, flatten time and feature dimensions\n",
    "                batch_size, timesteps, features = input.shape\n",
    "                output = input.reshape(batch_size, -1)\n",
    "        else:\n",
    "            # If batch dimension is not included\n",
    "            if input.ndim == 1:\n",
    "                output = input\n",
    "            else:\n",
    "                # Flatten time and feature dimensions\n",
    "                timesteps, features = input.shape\n",
    "                output = input.reshape(-1)\n",
    "\n",
    "        return output"
   ]
  },
  {
   "cell_type": "code",
   "execution_count": null,
   "metadata": {},
   "outputs": [
    {
     "data": {
      "text/markdown": [
       "---\n",
       "\n",
       "[source](https://github.com/opimwue/ddopnew/blob/main/ddopnew/obsprocessors.py#L17){target=\"_blank\" style=\"float:right; font-size:smaller\"}\n",
       "\n",
       "## FlattenTimeDimNumpy\n",
       "\n",
       ">      FlattenTimeDimNumpy (allow_2d:Optional[bool]=False,\n",
       ">                           batch_dim_included:Optional[bool]=True)\n",
       "\n",
       "*Preprocessor to flatten the time and feature dimension of the input.\n",
       "Used, e.g., to convert time-series data for models that cannot process\n",
       "a time dimension such as MLPs or Regression models.*\n",
       "\n",
       "|    | **Type** | **Default** | **Details** |\n",
       "| -- | -------- | ----------- | ----------- |\n",
       "| allow_2d | Optional | False |  |\n",
       "| batch_dim_included | Optional | True |  |"
      ],
      "text/plain": [
       "---\n",
       "\n",
       "[source](https://github.com/opimwue/ddopnew/blob/main/ddopnew/obsprocessors.py#L17){target=\"_blank\" style=\"float:right; font-size:smaller\"}\n",
       "\n",
       "## FlattenTimeDimNumpy\n",
       "\n",
       ">      FlattenTimeDimNumpy (allow_2d:Optional[bool]=False,\n",
       ">                           batch_dim_included:Optional[bool]=True)\n",
       "\n",
       "*Preprocessor to flatten the time and feature dimension of the input.\n",
       "Used, e.g., to convert time-series data for models that cannot process\n",
       "a time dimension such as MLPs or Regression models.*\n",
       "\n",
       "|    | **Type** | **Default** | **Details** |\n",
       "| -- | -------- | ----------- | ----------- |\n",
       "| allow_2d | Optional | False |  |\n",
       "| batch_dim_included | Optional | True |  |"
      ]
     },
     "execution_count": null,
     "metadata": {},
     "output_type": "execute_result"
    }
   ],
   "source": [
    "show_doc(FlattenTimeDimNumpy, title_level=2)"
   ]
  },
  {
   "cell_type": "code",
   "execution_count": null,
   "metadata": {},
   "outputs": [
    {
     "data": {
      "text/markdown": [
       "---\n",
       "\n",
       "[source](https://github.com/opimwue/ddopnew/blob/main/ddopnew/obsprocessors.py#L32){target=\"_blank\" style=\"float:right; font-size:smaller\"}\n",
       "\n",
       "### FlattenTimeDimNumpy.check_input\n",
       "\n",
       ">      FlattenTimeDimNumpy.check_input (input:numpy.ndarray)\n",
       "\n",
       "*Check that the input is a PyTorch tensor with the correct shape.*\n",
       "\n",
       "|    | **Type** | **Details** |\n",
       "| -- | -------- | ----------- |\n",
       "| input | ndarray |  |"
      ],
      "text/plain": [
       "---\n",
       "\n",
       "[source](https://github.com/opimwue/ddopnew/blob/main/ddopnew/obsprocessors.py#L32){target=\"_blank\" style=\"float:right; font-size:smaller\"}\n",
       "\n",
       "### FlattenTimeDimNumpy.check_input\n",
       "\n",
       ">      FlattenTimeDimNumpy.check_input (input:numpy.ndarray)\n",
       "\n",
       "*Check that the input is a PyTorch tensor with the correct shape.*\n",
       "\n",
       "|    | **Type** | **Details** |\n",
       "| -- | -------- | ----------- |\n",
       "| input | ndarray |  |"
      ]
     },
     "execution_count": null,
     "metadata": {},
     "output_type": "execute_result"
    }
   ],
   "source": [
    "show_doc(FlattenTimeDimNumpy.check_input)"
   ]
  },
  {
   "cell_type": "code",
   "execution_count": null,
   "metadata": {},
   "outputs": [
    {
     "data": {
      "text/markdown": [
       "---\n",
       "\n",
       "[source](https://github.com/opimwue/ddopnew/blob/main/ddopnew/obsprocessors.py#L72){target=\"_blank\" style=\"float:right; font-size:smaller\"}\n",
       "\n",
       "### FlattenTimeDimNumpy.__call__\n",
       "\n",
       ">      FlattenTimeDimNumpy.__call__ (input:numpy.ndarray)\n",
       "\n",
       "*Process the input array by keeping the batch dimension and flattening\n",
       "the time and feature dimensions.*"
      ],
      "text/plain": [
       "---\n",
       "\n",
       "[source](https://github.com/opimwue/ddopnew/blob/main/ddopnew/obsprocessors.py#L72){target=\"_blank\" style=\"float:right; font-size:smaller\"}\n",
       "\n",
       "### FlattenTimeDimNumpy.__call__\n",
       "\n",
       ">      FlattenTimeDimNumpy.__call__ (input:numpy.ndarray)\n",
       "\n",
       "*Process the input array by keeping the batch dimension and flattening\n",
       "the time and feature dimensions.*"
      ]
     },
     "execution_count": null,
     "metadata": {},
     "output_type": "execute_result"
    }
   ],
   "source": [
    "show_doc(FlattenTimeDimNumpy.__call__)"
   ]
  },
  {
   "cell_type": "code",
   "execution_count": null,
   "metadata": {},
   "outputs": [],
   "source": [
    "#| hide\n",
    "import nbdev; nbdev.nbdev_export()"
   ]
  },
  {
   "cell_type": "code",
   "execution_count": null,
   "metadata": {},
   "outputs": [],
   "source": []
  },
  {
   "cell_type": "code",
   "execution_count": null,
   "metadata": {},
   "outputs": [],
   "source": []
  },
  {
   "cell_type": "code",
   "execution_count": null,
   "metadata": {},
   "outputs": [],
   "source": []
  }
 ],
 "metadata": {
  "kernelspec": {
   "display_name": "python3",
   "language": "python",
   "name": "python3"
  }
 },
 "nbformat": 4,
 "nbformat_minor": 4
}
