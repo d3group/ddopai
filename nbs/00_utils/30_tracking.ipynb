{
 "cells": [
  {
   "cell_type": "markdown",
   "metadata": {},
   "source": [
    "# Tracking utils\n",
    "\n",
    "> Functions that help with tracking of experiments"
   ]
  },
  {
   "cell_type": "code",
   "execution_count": null,
   "metadata": {},
   "outputs": [],
   "source": [
    "#| default_exp tracking"
   ]
  },
  {
   "cell_type": "code",
   "execution_count": null,
   "metadata": {},
   "outputs": [],
   "source": [
    "#| hide\n",
    "from nbdev.showdoc import *"
   ]
  },
  {
   "cell_type": "code",
   "execution_count": null,
   "metadata": {},
   "outputs": [],
   "source": [
    "#| export\n",
    "\n",
    "from typing import Union, List, Tuple, Literal\n",
    "import pkg_resources\n",
    "import subprocess\n",
    "import wandb\n",
    "import logging"
   ]
  },
  {
   "cell_type": "code",
   "execution_count": null,
   "metadata": {},
   "outputs": [],
   "source": [
    "#| export\n",
    "\n",
    "def get_git_hash(\n",
    "    directory: str, # the directory where the git repository is located\n",
    "    tracking: bool = False, # whether to directly track the git revision hash\n",
    "    tracking_tool: Literal['wandb'] = 'wandb' # Currently only wandb is supported\n",
    ") -> str:\n",
    "    \n",
    "    \"\"\" Get the git hash and optionally track \"\"\"\n",
    "\n",
    "    hash = subprocess.check_output(['git', 'rev-parse', 'HEAD'], cwd=directory).decode('ascii').strip()\n",
    "\n",
    "    if tracking:\n",
    "        if tracking_tool == 'wandb':\n",
    "            wandb.config.update({'git_hash': hash})\n",
    "        else:\n",
    "            raise ValueError(f\"Tracking tool {tracking_tool} is not supported\")\n",
    "\n",
    "    return hash"
   ]
  },
  {
   "cell_type": "code",
   "execution_count": null,
   "metadata": {},
   "outputs": [
    {
     "data": {
      "text/markdown": [
       "---\n",
       "\n",
       "## get_git_hash\n",
       "\n",
       ">      get_git_hash (directory:str, tracking:bool=False,\n",
       ">                    tracking_tool:Literal['wandb']='wandb')\n",
       "\n",
       "*Get the git hash and optionally track*\n",
       "\n",
       "|    | **Type** | **Default** | **Details** |\n",
       "| -- | -------- | ----------- | ----------- |\n",
       "| directory | str |  | the directory where the git repository is located |\n",
       "| tracking | bool | False | whether to directly track the git revision hash |\n",
       "| tracking_tool | Literal | wandb | Currently only wandb is supported |\n",
       "| **Returns** | **str** |  |  |"
      ],
      "text/plain": [
       "---\n",
       "\n",
       "## get_git_hash\n",
       "\n",
       ">      get_git_hash (directory:str, tracking:bool=False,\n",
       ">                    tracking_tool:Literal['wandb']='wandb')\n",
       "\n",
       "*Get the git hash and optionally track*\n",
       "\n",
       "|    | **Type** | **Default** | **Details** |\n",
       "| -- | -------- | ----------- | ----------- |\n",
       "| directory | str |  | the directory where the git repository is located |\n",
       "| tracking | bool | False | whether to directly track the git revision hash |\n",
       "| tracking_tool | Literal | wandb | Currently only wandb is supported |\n",
       "| **Returns** | **str** |  |  |"
      ]
     },
     "execution_count": null,
     "metadata": {},
     "output_type": "execute_result"
    }
   ],
   "source": [
    "show_doc(get_git_hash, title_level=2)"
   ]
  },
  {
   "cell_type": "code",
   "execution_count": null,
   "metadata": {},
   "outputs": [],
   "source": [
    "#| export\n",
    "\n",
    "def get_library_version(\n",
    "    library_name: str,\n",
    "    tracking: bool = False, # Whether to directly track the library version\n",
    "    tracking_tool: Literal['wandb'] = 'wandb' # Currently only wandb is supported\n",
    "    ) -> str:\n",
    "\n",
    "    \"\"\" Get the version of a specified library and optionally track it \"\"\"\n",
    "    \n",
    "    try:\n",
    "        version = pkg_resources.get_distribution(library_name).version\n",
    "    except pkg_resources.DistributionNotFound:\n",
    "        logging.warning(f\"Library '{library_name}' not found\")\n",
    "        return \"Not installed or not found\"\n",
    "\n",
    "    if tracking:\n",
    "        if tracking_tool == 'wandb':\n",
    "            wandb.config.update({f'{library_name}_version': version})\n",
    "        else:\n",
    "            raise ValueError(f\"Tracking tool {tracking_tool} is not supported\")\n",
    "\n",
    "    return version"
   ]
  },
  {
   "cell_type": "code",
   "execution_count": null,
   "metadata": {},
   "outputs": [
    {
     "data": {
      "text/markdown": [
       "---\n",
       "\n",
       "## get_library_version\n",
       "\n",
       ">      get_library_version (library_name:str, tracking:bool=False,\n",
       ">                           tracking_tool:Literal['wandb']='wandb')\n",
       "\n",
       "*Get the version of a specified library and optionally track it*\n",
       "\n",
       "|    | **Type** | **Default** | **Details** |\n",
       "| -- | -------- | ----------- | ----------- |\n",
       "| library_name | str |  |  |\n",
       "| tracking | bool | False | Whether to directly track the library version |\n",
       "| tracking_tool | Literal | wandb | Currently only wandb is supported |\n",
       "| **Returns** | **str** |  |  |"
      ],
      "text/plain": [
       "---\n",
       "\n",
       "## get_library_version\n",
       "\n",
       ">      get_library_version (library_name:str, tracking:bool=False,\n",
       ">                           tracking_tool:Literal['wandb']='wandb')\n",
       "\n",
       "*Get the version of a specified library and optionally track it*\n",
       "\n",
       "|    | **Type** | **Default** | **Details** |\n",
       "| -- | -------- | ----------- | ----------- |\n",
       "| library_name | str |  |  |\n",
       "| tracking | bool | False | Whether to directly track the library version |\n",
       "| tracking_tool | Literal | wandb | Currently only wandb is supported |\n",
       "| **Returns** | **str** |  |  |"
      ]
     },
     "execution_count": null,
     "metadata": {},
     "output_type": "execute_result"
    }
   ],
   "source": [
    "show_doc(get_library_version, title_level=2)"
   ]
  },
  {
   "cell_type": "markdown",
   "metadata": {},
   "source": [
    "Example usage for the `check_parameter_types` function."
   ]
  },
  {
   "cell_type": "code",
   "execution_count": null,
   "metadata": {},
   "outputs": [],
   "source": [
    "#| hide\n",
    "import nbdev; nbdev.nbdev_export()"
   ]
  }
 ],
 "metadata": {
  "kernelspec": {
   "display_name": "python3",
   "language": "python",
   "name": "python3"
  }
 },
 "nbformat": 4,
 "nbformat_minor": 4
}
