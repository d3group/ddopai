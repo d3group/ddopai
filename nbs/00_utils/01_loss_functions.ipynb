{
 "cells": [
  {
   "cell_type": "markdown",
   "metadata": {},
   "source": [
    "# Loss functions\n",
    "\n",
    "> Numpy-based loss functans that can be used by environments or non-pytorch models."
   ]
  },
  {
   "cell_type": "code",
   "execution_count": null,
   "metadata": {},
   "outputs": [],
   "source": [
    "#| default_exp loss_functions"
   ]
  },
  {
   "cell_type": "code",
   "execution_count": null,
   "metadata": {},
   "outputs": [],
   "source": [
    "#| hide\n",
    "from nbdev.showdoc import *"
   ]
  },
  {
   "cell_type": "code",
   "execution_count": null,
   "metadata": {},
   "outputs": [],
   "source": [
    "#| export\n",
    "\n",
    "from typing import Union, Optional\n",
    "\n",
    "import numpy as np\n",
    "from ddopnew.utils import Parameter, check_parameter_types\n",
    "\n",
    "import torch\n",
    "import torch.nn as nn\n",
    "import torch.nn.functional as F"
   ]
  },
  {
   "cell_type": "code",
   "execution_count": null,
   "metadata": {},
   "outputs": [],
   "source": [
    "#| export\n",
    "\n",
    "def pinball_loss(\n",
    "            Y_true: np.ndarray, \n",
    "            Y_pred: np.ndarray,\n",
    "            underage_cost: Parameter | np.ndarray,\n",
    "            overage_cost: Parameter | np.ndarray,\n",
    "            ) -> np.ndarray: # returns the cost per observation\n",
    "\n",
    "    \"\"\"\n",
    "\n",
    "    Pinball loss calculating the cost of underestimating and overestimating the target value\n",
    "    based on specific underage and overage costs. Used to evaulate the Newsvendor cost.\n",
    "\n",
    "    \"\"\"\n",
    "\n",
    "    if isinstance(underage_cost, Parameter):\n",
    "        underage_cost = underage_cost.get_value()\n",
    "    if isinstance(overage_cost, Parameter):\n",
    "        overage_cost = overage_cost.get_value()\n",
    "\n",
    "    check_parameter_types(Y_true, Y_pred, underage_cost, overage_cost)\n",
    "\n",
    "    # assert shapes\n",
    "    assert Y_true.shape == Y_pred.shape, \"y_true and y_pred must have the same shape, but got {} and {}\".format(Y_true.shape, Y_pred.shape)\n",
    "    \n",
    "    loss = np.maximum(Y_true - Y_pred, 0) * underage_cost + np.maximum(Y_pred - Y_true, 0) * overage_cost\n",
    "\n",
    "    return loss"
   ]
  },
  {
   "cell_type": "code",
   "execution_count": null,
   "metadata": {},
   "outputs": [
    {
     "data": {
      "text/markdown": [
       "---\n",
       "\n",
       "[source](https://github.com/opimwue/ddopnew/blob/main/ddopnew/loss_functions.py#L17){target=\"_blank\" style=\"float:right; font-size:smaller\"}\n",
       "\n",
       "## pinball_loss\n",
       "\n",
       ">      pinball_loss (Y_true:numpy.ndarray, Y_pred:numpy.ndarray,\n",
       ">                    underage_cost:ddopnew.utils.Parameter|numpy.ndarray,\n",
       ">                    overage_cost:ddopnew.utils.Parameter|numpy.ndarray)\n",
       "\n",
       "*Pinball loss calculating the cost of underestimating and overestimating the target value\n",
       "based on specific underage and overage costs. Used to evaulate the Newsvendor cost.*\n",
       "\n",
       "|    | **Type** | **Details** |\n",
       "| -- | -------- | ----------- |\n",
       "| Y_true | ndarray |  |\n",
       "| Y_pred | ndarray |  |\n",
       "| underage_cost | ddopnew.utils.Parameter \\| numpy.ndarray |  |\n",
       "| overage_cost | ddopnew.utils.Parameter \\| numpy.ndarray |  |\n",
       "| **Returns** | **ndarray** | **returns the cost per observation** |"
      ],
      "text/plain": [
       "---\n",
       "\n",
       "[source](https://github.com/opimwue/ddopnew/blob/main/ddopnew/loss_functions.py#L17){target=\"_blank\" style=\"float:right; font-size:smaller\"}\n",
       "\n",
       "## pinball_loss\n",
       "\n",
       ">      pinball_loss (Y_true:numpy.ndarray, Y_pred:numpy.ndarray,\n",
       ">                    underage_cost:ddopnew.utils.Parameter|numpy.ndarray,\n",
       ">                    overage_cost:ddopnew.utils.Parameter|numpy.ndarray)\n",
       "\n",
       "*Pinball loss calculating the cost of underestimating and overestimating the target value\n",
       "based on specific underage and overage costs. Used to evaulate the Newsvendor cost.*\n",
       "\n",
       "|    | **Type** | **Details** |\n",
       "| -- | -------- | ----------- |\n",
       "| Y_true | ndarray |  |\n",
       "| Y_pred | ndarray |  |\n",
       "| underage_cost | ddopnew.utils.Parameter \\| numpy.ndarray |  |\n",
       "| overage_cost | ddopnew.utils.Parameter \\| numpy.ndarray |  |\n",
       "| **Returns** | **ndarray** | **returns the cost per observation** |"
      ]
     },
     "execution_count": null,
     "metadata": {},
     "output_type": "execute_result"
    }
   ],
   "source": [
    "show_doc(pinball_loss, title_level=2)"
   ]
  },
  {
   "cell_type": "code",
   "execution_count": null,
   "metadata": {},
   "outputs": [],
   "source": [
    "#| export\n",
    "\n",
    "def quantile_loss(\n",
    "                Y_true: np.ndarray,\n",
    "                Y_pred: np.ndarray,\n",
    "                quantile: Union[float, Parameter],\n",
    "                ) -> np.ndarray: # returns the cost per observation\n",
    "\n",
    "    \"\"\"\n",
    "    Similar evaluation function to the pinball loss, but with the quantile of range\n",
    "    [0, 1] as a parameter instead of SKU-specific cost levels for underage and overage.\n",
    "\n",
    "    \"\"\"\n",
    "\n",
    "    if isinstance(quantile, Parameter):\n",
    "        quantile = quantile.get_value()\n",
    "\n",
    "    check_parameter_types(Y_true, Y_pred, quantile)\n",
    "    \n",
    "    # assert shapes\n",
    "    assert Y_true.shape == Y_pred.shape, \"y_true and y_pred must have the same shape\"\n",
    "    \n",
    "    loss = np.maximum((Y_true - Y_pred) * quantile, (Y_pred - Y_true) * (1 - quantile))\n",
    "\n",
    "    return loss\n",
    "\n"
   ]
  },
  {
   "cell_type": "code",
   "execution_count": null,
   "metadata": {},
   "outputs": [
    {
     "data": {
      "text/markdown": [
       "---\n",
       "\n",
       "[source](https://github.com/opimwue/ddopnew/blob/main/ddopnew/torch_utils/loss_functions.py#L18){target=\"_blank\" style=\"float:right; font-size:smaller\"}\n",
       "\n",
       "## quantile_loss\n",
       "\n",
       ">      quantile_loss (Y_true:numpy.ndarray, Y_pred:numpy.ndarray,\n",
       ">                     quantile:Union[float,ddopnew.utils.Parameter])\n",
       "\n",
       "*Similar evaluation function to the pinball loss, but with the quantile of range\n",
       "[0, 1] as a parameter instead of SKU-specific cost levels for underage and overage.*\n",
       "\n",
       "|    | **Type** | **Details** |\n",
       "| -- | -------- | ----------- |\n",
       "| Y_true | ndarray |  |\n",
       "| Y_pred | ndarray |  |\n",
       "| quantile | Union |  |\n",
       "| **Returns** | **ndarray** | **returns the cost per observation** |"
      ],
      "text/plain": [
       "---\n",
       "\n",
       "[source](https://github.com/opimwue/ddopnew/blob/main/ddopnew/torch_utils/loss_functions.py#L18){target=\"_blank\" style=\"float:right; font-size:smaller\"}\n",
       "\n",
       "## quantile_loss\n",
       "\n",
       ">      quantile_loss (Y_true:numpy.ndarray, Y_pred:numpy.ndarray,\n",
       ">                     quantile:Union[float,ddopnew.utils.Parameter])\n",
       "\n",
       "*Similar evaluation function to the pinball loss, but with the quantile of range\n",
       "[0, 1] as a parameter instead of SKU-specific cost levels for underage and overage.*\n",
       "\n",
       "|    | **Type** | **Details** |\n",
       "| -- | -------- | ----------- |\n",
       "| Y_true | ndarray |  |\n",
       "| Y_pred | ndarray |  |\n",
       "| quantile | Union |  |\n",
       "| **Returns** | **ndarray** | **returns the cost per observation** |"
      ]
     },
     "execution_count": null,
     "metadata": {},
     "output_type": "execute_result"
    }
   ],
   "source": [
    "show_doc(quantile_loss, title_level=2)"
   ]
  },
  {
   "cell_type": "code",
   "execution_count": null,
   "metadata": {},
   "outputs": [],
   "source": [
    "#| hide\n",
    "import nbdev; nbdev.nbdev_export()"
   ]
  },
  {
   "cell_type": "code",
   "execution_count": null,
   "metadata": {},
   "outputs": [],
   "source": []
  },
  {
   "cell_type": "code",
   "execution_count": null,
   "metadata": {},
   "outputs": [],
   "source": []
  }
 ],
 "metadata": {
  "kernelspec": {
   "display_name": "python3",
   "language": "python",
   "name": "python3"
  }
 },
 "nbformat": 4,
 "nbformat_minor": 4
}
