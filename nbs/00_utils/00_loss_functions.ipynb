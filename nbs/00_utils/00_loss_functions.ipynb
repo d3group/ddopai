{
 "cells": [
  {
   "cell_type": "markdown",
   "metadata": {},
   "source": [
    "# Loss functions\n",
    "\n",
    "> To be written."
   ]
  },
  {
   "cell_type": "code",
   "execution_count": null,
   "metadata": {},
   "outputs": [],
   "source": [
    "#| default_exp loss_functions"
   ]
  },
  {
   "cell_type": "code",
   "execution_count": null,
   "metadata": {},
   "outputs": [],
   "source": [
    "#| hide\n",
    "from nbdev.showdoc import *"
   ]
  },
  {
   "cell_type": "code",
   "execution_count": null,
   "metadata": {},
   "outputs": [],
   "source": [
    "#| export\n",
    "\n",
    "import numpy as np\n",
    "from ddopnew.utils import Parameter"
   ]
  },
  {
   "cell_type": "markdown",
   "metadata": {},
   "source": [
    "TODO:\n",
    " - write descriptions\n",
    " - specify typings\n",
    " - ensure documentation on types, outputs, variable descriptions"
   ]
  },
  {
   "cell_type": "code",
   "execution_count": null,
   "metadata": {},
   "outputs": [],
   "source": [
    "#| export\n",
    "\n",
    "def pinball_loss(y_true, y_pred, underage_cost, overage_cost):\n",
    "\n",
    "    if isinstance(underage_cost, Parameter):\n",
    "        underage_cost = underage_cost.get_value()\n",
    "    if isinstance(overage_cost, Parameter):\n",
    "        overage_cost = overage_cost.get_value()\n",
    "    \n",
    "    loss = np.maximum(y_true - y_pred, 0) * underage_cost + np.maximum(y_pred - y_true, 0) * overage_cost\n",
    "\n",
    "    return loss"
   ]
  },
  {
   "cell_type": "code",
   "execution_count": null,
   "metadata": {},
   "outputs": [],
   "source": [
    "def quantile_loss(y_true, y_pred, quantile):\n",
    "\n",
    "    if isinstance(quantile, Parameter):\n",
    "        quantile = quantile.get_value()\n",
    "    \n",
    "    # assert shapes\n",
    "    assert y_true.shape == y_pred.shape, \"y_true and y_pred must have the same shape\"\n",
    "    \n",
    "    loss = np.maximum((y_true - y_pred) * quantile, (y_pred - y_true) * (1 - quantile))\n",
    "\n",
    "    return loss"
   ]
  },
  {
   "cell_type": "code",
   "execution_count": null,
   "metadata": {},
   "outputs": [],
   "source": [
    "#| hide\n",
    "import nbdev; nbdev.nbdev_export()"
   ]
  }
 ],
 "metadata": {
  "kernelspec": {
   "display_name": "python3",
   "language": "python",
   "name": "python3"
  }
 },
 "nbformat": 4,
 "nbformat_minor": 4
}
