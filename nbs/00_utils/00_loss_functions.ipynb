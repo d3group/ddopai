{
 "cells": [
  {
   "cell_type": "markdown",
   "metadata": {},
   "source": [
    "# Loss functions\n",
    "\n",
    "> To be written."
   ]
  },
  {
   "cell_type": "code",
   "execution_count": null,
   "metadata": {},
   "outputs": [],
   "source": [
    "#| default_exp loss_functions"
   ]
  },
  {
   "cell_type": "code",
   "execution_count": null,
   "metadata": {},
   "outputs": [],
   "source": [
    "#| hide\n",
    "from nbdev.showdoc import *"
   ]
  },
  {
   "cell_type": "code",
   "execution_count": null,
   "metadata": {},
   "outputs": [],
   "source": [
    "#| export\n",
    "\n",
    "from typing import Union, Optional\n",
    "\n",
    "import numpy as np\n",
    "from ddopnew.utils import Parameter\n",
    "\n",
    "import torch\n",
    "import torch.nn as nn\n",
    "import torch.nn.functional as F"
   ]
  },
  {
   "cell_type": "markdown",
   "metadata": {},
   "source": [
    "TODO:\n",
    " - write descriptions\n",
    " - specify typings\n",
    " - ensure documentation on types, outputs, variable descriptions"
   ]
  },
  {
   "cell_type": "code",
   "execution_count": null,
   "metadata": {},
   "outputs": [],
   "source": [
    "#| export\n",
    "\n",
    "def pinball_loss(y_true, y_pred, underage_cost, overage_cost):\n",
    "\n",
    "    if isinstance(underage_cost, Parameter):\n",
    "        underage_cost = underage_cost.get_value()\n",
    "    if isinstance(overage_cost, Parameter):\n",
    "        overage_cost = overage_cost.get_value()\n",
    "    \n",
    "    loss = np.maximum(y_true - y_pred, 0) * underage_cost + np.maximum(y_pred - y_true, 0) * overage_cost\n",
    "\n",
    "    return loss"
   ]
  },
  {
   "cell_type": "code",
   "execution_count": null,
   "metadata": {},
   "outputs": [],
   "source": [
    "#| export\n",
    "\n",
    "def quantile_loss(y_true, y_pred, quantile):\n",
    "\n",
    "    if isinstance(quantile, Parameter):\n",
    "        quantile = quantile.get_value()\n",
    "    \n",
    "    # assert shapes\n",
    "    assert y_true.shape == y_pred.shape, \"y_true and y_pred must have the same shape\"\n",
    "    \n",
    "    loss = np.maximum((y_true - y_pred) * quantile, (y_pred - y_true) * (1 - quantile))\n",
    "\n",
    "    return loss"
   ]
  },
  {
   "cell_type": "code",
   "execution_count": null,
   "metadata": {},
   "outputs": [],
   "source": [
    "#| export\n",
    "\n",
    "class TorchQuantileLoss(nn.modules.loss._Loss):\n",
    "\n",
    "    __constants__ = ['reduction']\n",
    "    def __init__(self,reduction: str = 'mean') -> None:\n",
    "        super().__init__(reduction=reduction)\n",
    "\n",
    "    def forward(self, input, target, quantile):\n",
    "\n",
    "        if isinstance(quantile, Parameter):\n",
    "            quantile = quantile.get_value()\n",
    "        \n",
    "        quantile = torch.tensor(quantile, dtype=input.dtype, device=input.device)\n",
    "            \n",
    "        if not (target.shape[1] == input.shape[1] == quantile.shape[0]):\n",
    "            warnings.warn(\n",
    "                f\"Mismatch in dimensions: target dimension 2 size ({target.size(2)}), input dimension 2 size ({input.size(2)}), \"\n",
    "                f\"and quantile dimension 1 size ({quantile.size(1)}) must be the same. \"\n",
    "                \"This will likely lead to incorrect results due to broadcasting. \"\n",
    "                \"Please ensure they have the same size.\",\n",
    "                stacklevel=2,\n",
    "            )\n",
    "\n",
    "        return quantile_loss(input, target, quantile, reduction=self.reduction)\n",
    "\n",
    "def quantile_loss(\n",
    "    input: torch.Tensor,\n",
    "    target: torch.Tensor,\n",
    "    quantile: torch.Tensor,\n",
    "    reduction: str = 'mean',\n",
    ") -> torch.Tensor:\n",
    "\n",
    "    if not (target.size() == input.size()):\n",
    "        warnings.warn(\n",
    "            f\"Using a target size ({target.size()}) that is different to the input size ({input.size()}). \"\n",
    "            \"This will likely lead to incorrect results due to broadcasting. \"\n",
    "            \"Please ensure they have the same size.\",\n",
    "            stacklevel=2,\n",
    "        )\n",
    "\n",
    "    expanded_input, expanded_target = torch.broadcast_tensors(input, target)\n",
    "    \n",
    "    loss = torch.max((expanded_target - expanded_input) * quantile, (expanded_input - expanded_target) * (1 - quantile))\n",
    "\n",
    "    if reduction == 'mean':\n",
    "        return loss.mean()\n",
    "    elif reduction == 'sum':\n",
    "        return loss.sum()\n",
    "    else:\n",
    "        raise ValueError(f\"reduction={reduction} is not valid\")\n",
    "\n",
    "    return loss"
   ]
  },
  {
   "cell_type": "code",
   "execution_count": null,
   "metadata": {},
   "outputs": [],
   "source": [
    "#| hide\n",
    "import nbdev; nbdev.nbdev_export()"
   ]
  },
  {
   "cell_type": "code",
   "execution_count": null,
   "metadata": {},
   "outputs": [],
   "source": []
  },
  {
   "cell_type": "code",
   "execution_count": null,
   "metadata": {},
   "outputs": [],
   "source": []
  }
 ],
 "metadata": {
  "kernelspec": {
   "display_name": "python3",
   "language": "python",
   "name": "python3"
  }
 },
 "nbformat": 4,
 "nbformat_minor": 4
}
