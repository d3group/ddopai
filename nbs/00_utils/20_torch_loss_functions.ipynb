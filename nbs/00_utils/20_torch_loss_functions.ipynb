{
 "cells": [
  {
   "cell_type": "markdown",
   "metadata": {},
   "source": [
    "# Torch loss functions\n",
    "\n",
    "> Loss functions that are implemented in PyTorch"
   ]
  },
  {
   "cell_type": "code",
   "execution_count": null,
   "metadata": {},
   "outputs": [],
   "source": [
    "#| default_exp torch_utils.loss_functions"
   ]
  },
  {
   "cell_type": "code",
   "execution_count": null,
   "metadata": {},
   "outputs": [],
   "source": [
    "#| hide\n",
    "from nbdev.showdoc import *"
   ]
  },
  {
   "cell_type": "code",
   "execution_count": null,
   "metadata": {},
   "outputs": [],
   "source": [
    "#| export\n",
    "\n",
    "from typing import Union, Optional, Tuple\n",
    "\n",
    "import numpy as np\n",
    "from ddopnew.utils import Parameter\n",
    "\n",
    "import torch\n",
    "import torch.nn as nn\n",
    "import torch.nn.functional as F\n",
    "from torch.nn.modules.loss import _Loss\n",
    "\n",
    "import warnings"
   ]
  },
  {
   "cell_type": "code",
   "execution_count": null,
   "metadata": {},
   "outputs": [],
   "source": [
    "# |export\n",
    "\n",
    "def quantile_loss(\n",
    "    input: torch.Tensor,\n",
    "    target: torch.Tensor,\n",
    "    quantile: torch.Tensor,\n",
    "    reduction: str = 'mean',\n",
    ") -> torch.Tensor:\n",
    "\n",
    "    if not (target.size() == input.size()):\n",
    "        warnings.warn(\n",
    "            f\"Using a target size ({target.size()}) that is different to the input size ({input.size()}). \"\n",
    "            \"This will likely lead to incorrect results due to broadcasting. \"\n",
    "            \"Please ensure they have the same size.\",\n",
    "            stacklevel=2,\n",
    "        )\n",
    "\n",
    "    expanded_input, expanded_target = torch.broadcast_tensors(input, target)\n",
    "\n",
    "    # print(expanded_input.size(), expanded_target.size(), quantile.size())\n",
    "    # print(quantile)\n",
    "\n",
    "    loss = torch.max((expanded_target - expanded_input) * quantile, (expanded_input - expanded_target) * (1 - quantile))\n",
    "\n",
    "    # print(losks.size())\n",
    "\n",
    "    if reduction == 'mean':\n",
    "        return loss.mean()\n",
    "    elif reduction == 'sum':\n",
    "        return loss.sum()\n",
    "    else:\n",
    "        raise ValueError(f\"reduction={reduction} is not valid\")\n",
    "\n",
    "    return loss"
   ]
  },
  {
   "cell_type": "code",
   "execution_count": null,
   "metadata": {},
   "outputs": [],
   "source": [
    "#| export\n",
    "\n",
    "class TorchQuantileLoss(_Loss):\n",
    "\n",
    "    \"\"\"\n",
    "    Implmentation of the quantile loss in Pytorch.\n",
    "    Unlike the Numpy-based implementation ```quantile_loss``` in the loss_functions module, this implementation\n",
    "    this implementation reduces the results to a scalar value using the specified reduction method. This class is \n",
    "    used to train Pytorch models using the quantile loss.\n",
    "    \"\"\"\n",
    "\n",
    "    __constants__ = ['reduction']\n",
    "    def __init__(self,reduction: str = 'mean') -> None: #\n",
    "        super().__init__(reduction=reduction)\n",
    "\n",
    "    def forward(self, input: torch.Tensor, target: torch.Tensor, quantile: Parameter | np.ndarray) -> torch.Tensor: #\n",
    "\n",
    "        \"\"\"\n",
    "        Forward pass of the quantile loss function.\n",
    "\n",
    "        \"\"\"\n",
    "\n",
    "        quantile = self.convert_quantile(quantile, input_dtype=input.dtype, device=input.device, target_shape = target.shape)\n",
    "            \n",
    "        if not (target.shape == input.shape == quantile.shape):\n",
    "            warnings.warn(\n",
    "                f\"Mismatch in dimensions: target dimension ({target.shape}), input dimension ({input.shape}), \"\n",
    "                f\"and quantile dimension ({quantile.shape}) must be the same. \"\n",
    "                \"This will likely lead to incorrect results due to broadcasting. \"\n",
    "                \"Please ensure they have the same size.\",\n",
    "                stacklevel=2,\n",
    "            )\n",
    "\n",
    "        return quantile_loss(input, target, quantile, reduction=self.reduction)\n",
    "    \n",
    "    def convert_quantile(self, quantile: Parameter | np.ndarray, input_dtype: torch.dtype = torch.float32, device: torch.device = torch.device('cpu'), target_shape: Tuple = None) -> torch.Tensor:\n",
    "        \n",
    "        if isinstance(quantile, Parameter):\n",
    "            quantile =  quantile.get_value()\n",
    "            \n",
    "        if isinstance(quantile, np.ndarray):\n",
    "            quantile = torch.tensor(quantile, dtype=input_dtype, device=device)\n",
    "        elif isinstance(quantile, torch.Tensor):\n",
    "            # ensure dtype and device are the same as the input tensor\n",
    "            quantile = quantile.to(dtype=input_dtype, device=device)\n",
    "        else:\n",
    "            raise ValueError(f\"quantile must be of type Parameter, np.ndarray, or torch.Tensor, but got {type(quantile)}\")\n",
    "\n",
    "        # check if quantile is of size 1:\n",
    "        if quantile.size() == (1,):\n",
    "            quantile = quantile.expand(target_shape)\n",
    "        elif quantile.size() != target_shape:\n",
    "            raise ValueError(f\"quantile must be of size 1 or the same size as the target tensor, but got {quantile.size()} and {target_shape}\")\n",
    "\n",
    "        return quantile\n"
   ]
  },
  {
   "cell_type": "markdown",
   "metadata": {},
   "source": []
  },
  {
   "cell_type": "code",
   "execution_count": null,
   "metadata": {},
   "outputs": [
    {
     "data": {
      "text/markdown": [
       "---\n",
       "\n",
       "[source](https://github.com/opimwue/ddopnew/blob/main/ddopnew/torch_utils/loss_functions.py#L54){target=\"_blank\" style=\"float:right; font-size:smaller\"}\n",
       "\n",
       "## TorchQuantileLoss\n",
       "\n",
       ">      TorchQuantileLoss (reduction:str='mean')\n",
       "\n",
       "*Implmentation of the quantile loss in Pytorch.\n",
       "Unlike the Numpy-based implementation ```quantile_loss``` in the loss_functions module, this implementation\n",
       "this implementation reduces the results to a scalar value using the specified reduction method. This class is \n",
       "used to train Pytorch models using the quantile loss.*\n",
       "\n",
       "|    | **Type** | **Default** | **Details** |\n",
       "| -- | -------- | ----------- | ----------- |\n",
       "| reduction | str | mean |  |\n",
       "| **Returns** | **None** |  |  |"
      ],
      "text/plain": [
       "---\n",
       "\n",
       "[source](https://github.com/opimwue/ddopnew/blob/main/ddopnew/torch_utils/loss_functions.py#L54){target=\"_blank\" style=\"float:right; font-size:smaller\"}\n",
       "\n",
       "## TorchQuantileLoss\n",
       "\n",
       ">      TorchQuantileLoss (reduction:str='mean')\n",
       "\n",
       "*Implmentation of the quantile loss in Pytorch.\n",
       "Unlike the Numpy-based implementation ```quantile_loss``` in the loss_functions module, this implementation\n",
       "this implementation reduces the results to a scalar value using the specified reduction method. This class is \n",
       "used to train Pytorch models using the quantile loss.*\n",
       "\n",
       "|    | **Type** | **Default** | **Details** |\n",
       "| -- | -------- | ----------- | ----------- |\n",
       "| reduction | str | mean |  |\n",
       "| **Returns** | **None** |  |  |"
      ]
     },
     "execution_count": null,
     "metadata": {},
     "output_type": "execute_result"
    }
   ],
   "source": [
    "show_doc(TorchQuantileLoss, title_level=2)"
   ]
  },
  {
   "cell_type": "code",
   "execution_count": null,
   "metadata": {},
   "outputs": [
    {
     "data": {
      "text/markdown": [
       "---\n",
       "\n",
       "[source](https://github.com/opimwue/ddopnew/blob/main/ddopnew/torch_utils/loss_functions.py#L67){target=\"_blank\" style=\"float:right; font-size:smaller\"}\n",
       "\n",
       "### TorchQuantileLoss.forward\n",
       "\n",
       ">      TorchQuantileLoss.forward (input:torch.Tensor, target:torch.Tensor,\n",
       ">                                 quantile:ddopnew.utils.Parameter|numpy.ndarray\n",
       ">                                 )\n",
       "\n",
       "*Forward pass of the quantile loss function.*\n",
       "\n",
       "|    | **Type** | **Details** |\n",
       "| -- | -------- | ----------- |\n",
       "| input | Tensor |  |\n",
       "| target | Tensor |  |\n",
       "| quantile | ddopnew.utils.Parameter \\| numpy.ndarray |  |\n",
       "| **Returns** | **Tensor** |  |"
      ],
      "text/plain": [
       "---\n",
       "\n",
       "[source](https://github.com/opimwue/ddopnew/blob/main/ddopnew/torch_utils/loss_functions.py#L67){target=\"_blank\" style=\"float:right; font-size:smaller\"}\n",
       "\n",
       "### TorchQuantileLoss.forward\n",
       "\n",
       ">      TorchQuantileLoss.forward (input:torch.Tensor, target:torch.Tensor,\n",
       ">                                 quantile:ddopnew.utils.Parameter|numpy.ndarray\n",
       ">                                 )\n",
       "\n",
       "*Forward pass of the quantile loss function.*\n",
       "\n",
       "|    | **Type** | **Details** |\n",
       "| -- | -------- | ----------- |\n",
       "| input | Tensor |  |\n",
       "| target | Tensor |  |\n",
       "| quantile | ddopnew.utils.Parameter \\| numpy.ndarray |  |\n",
       "| **Returns** | **Tensor** |  |"
      ]
     },
     "execution_count": null,
     "metadata": {},
     "output_type": "execute_result"
    }
   ],
   "source": [
    "show_doc(TorchQuantileLoss.forward)"
   ]
  },
  {
   "cell_type": "code",
   "execution_count": null,
   "metadata": {},
   "outputs": [],
   "source": [
    "# |export\n",
    "\n",
    "def pinball_loss(\n",
    "    input: torch.Tensor,\n",
    "    target: torch.Tensor,\n",
    "    underage: torch.Tensor,\n",
    "    overage: torch.Tensor,\n",
    "    reduction: str = 'mean',\n",
    ") -> torch.Tensor:\n",
    "\n",
    "    if not (target.size() == input.size()):\n",
    "        warnings.warn(\n",
    "            f\"Using a target size ({target.size()}) that is different to the input size ({input.size()}). \"\n",
    "            \"This will likely lead to incorrect results due to broadcasting. \"\n",
    "            \"Please ensure they have the same size.\",\n",
    "            stacklevel=2,\n",
    "        )\n",
    "\n",
    "    expanded_input, expanded_target = torch.broadcast_tensors(input, target)\n",
    "\n",
    "    # loss = torch.max((expanded_target - expanded_input) * quantile, (expanded_input - expanded_target) * (1 - quantile))\n",
    "\n",
    "    loss = torch.max(expanded_target - expanded_input, torch.tensor(0)) * underage + torch.max(expanded_input - expanded_target, torch.tensor(0)) * overage\n",
    "\n",
    "    if reduction == 'mean':\n",
    "        return loss.mean()\n",
    "    elif reduction == 'sum':\n",
    "        return loss.sum()\n",
    "    else:\n",
    "        raise ValueError(f\"reduction={reduction} is not valid\")\n",
    "\n",
    "    return loss"
   ]
  },
  {
   "cell_type": "markdown",
   "metadata": {},
   "source": []
  },
  {
   "cell_type": "code",
   "execution_count": null,
   "metadata": {},
   "outputs": [],
   "source": [
    "#| export\n",
    "\n",
    "class TorchPinballLoss(_Loss):\n",
    "\n",
    "    \"\"\"\n",
    "    Implmentation of the pinball loss in Pytorch using specific overage and underage cost. For the pinball loss\n",
    "    based on quantiles directly, use the TorchQuantileLoss class.\n",
    "    Unlike the Numpy-based implementation ```pinball_loss``` in the loss_functions module, this implementation\n",
    "    this implementation reduces the results to a scalar value using the specified reduction method. This class is \n",
    "    used to train Pytorch models using the pinball loss.\n",
    "    \"\"\"\n",
    "\n",
    "    __constants__ = ['reduction']\n",
    "    def __init__(self,reduction: str = 'mean') -> None: #\n",
    "        super().__init__(reduction=reduction)\n",
    "\n",
    "    def forward(self, input: torch.Tensor, target: torch.Tensor, underage: Parameter | np.ndarray, overage: Parameter | np.ndarray) -> torch.Tensor: #\n",
    "\n",
    "        \"\"\"\n",
    "        Forward pass of the pinball loss function.\n",
    "\n",
    "        \"\"\"\n",
    "\n",
    "        underage = self.convert_cost_param(underage, input_dtype=input.dtype, device=input.device, target_shape = target.shape)\n",
    "        overage = self.convert_cost_param(overage, input_dtype=input.dtype, device=input.device, target_shape = target.shape)\n",
    "            \n",
    "        if not (target.shape == input.shape == underage.shape == overage.shape):\n",
    "            warnings.warn(\n",
    "                f\"Mismatch in dimensions: target dimension ({target.shape}), input dimension ({input.shape}), \"\n",
    "                f\"underage dimension ({underage.shape}), and overage dimension ({overage.shape}) must be the same. \"\n",
    "                \"This will likely lead to incorrect results due to broadcasting. \"\n",
    "                \"Please ensure they have the same size.\",\n",
    "                stacklevel=2,\n",
    "            )\n",
    "\n",
    "        return pinball_loss(input, target, underage=underage, overage=overage, reduction=self.reduction)\n",
    "    \n",
    "    def convert_cost_param(self, cost_param: Parameter | np.ndarray, input_dtype: torch.dtype = torch.float32, device: torch.device = torch.device('cpu'), target_shape: Tuple = None) -> torch.Tensor:\n",
    "        \n",
    "        if isinstance(cost_param, Parameter):\n",
    "            cost_param =  cost_param.get_value()\n",
    "\n",
    "        if isinstance(cost_param, np.ndarray):\n",
    "            cost_param = torch.tensor(cost_param, dtype=input_dtype, device=device)\n",
    "        elif isinstance(cost_param, torch.Tensor):\n",
    "            # ensure dtype and device are the same as the input tensor\n",
    "            cost_param = cost_param.to(dtype=input_dtype, device=device)\n",
    "        else:\n",
    "            raise ValueError(f\"quantile must be of type Parameter, np.ndarray, or torch.Tensor, but got {type(cost_param)}\")\n",
    "\n",
    "        # check if quantile is of size 1:\n",
    "        if cost_param.size() == (1,):\n",
    "            cost_param = cost_param.expand(target_shape)\n",
    "        elif cost_param.size() != target_shape:\n",
    "            raise ValueError(f\"quantile must be of size 1 or the same size as the target tensor, but got {cost_param.size()} and {target_shape}\")\n",
    "\n",
    "        return cost_param"
   ]
  },
  {
   "cell_type": "code",
   "execution_count": null,
   "metadata": {},
   "outputs": [
    {
     "data": {
      "text/markdown": [
       "---\n",
       "\n",
       "[source](https://github.com/opimwue/ddopnew/blob/main/ddopnew/torch_utils/loss_functions.py#L148){target=\"_blank\" style=\"float:right; font-size:smaller\"}\n",
       "\n",
       "## TorchPinballLoss\n",
       "\n",
       ">      TorchPinballLoss (reduction:str='mean')\n",
       "\n",
       "*Implmentation of the pinball loss in Pytorch using specific overage and underage cost. For the pinball loss\n",
       "based on quantiles directly, use the TorchQuantileLoss class.\n",
       "Unlike the Numpy-based implementation ```pinball_loss``` in the loss_functions module, this implementation\n",
       "this implementation reduces the results to a scalar value using the specified reduction method. This class is \n",
       "used to train Pytorch models using the pinball loss.*\n",
       "\n",
       "|    | **Type** | **Default** | **Details** |\n",
       "| -- | -------- | ----------- | ----------- |\n",
       "| reduction | str | mean |  |\n",
       "| **Returns** | **None** |  |  |"
      ],
      "text/plain": [
       "---\n",
       "\n",
       "[source](https://github.com/opimwue/ddopnew/blob/main/ddopnew/torch_utils/loss_functions.py#L148){target=\"_blank\" style=\"float:right; font-size:smaller\"}\n",
       "\n",
       "## TorchPinballLoss\n",
       "\n",
       ">      TorchPinballLoss (reduction:str='mean')\n",
       "\n",
       "*Implmentation of the pinball loss in Pytorch using specific overage and underage cost. For the pinball loss\n",
       "based on quantiles directly, use the TorchQuantileLoss class.\n",
       "Unlike the Numpy-based implementation ```pinball_loss``` in the loss_functions module, this implementation\n",
       "this implementation reduces the results to a scalar value using the specified reduction method. This class is \n",
       "used to train Pytorch models using the pinball loss.*\n",
       "\n",
       "|    | **Type** | **Default** | **Details** |\n",
       "| -- | -------- | ----------- | ----------- |\n",
       "| reduction | str | mean |  |\n",
       "| **Returns** | **None** |  |  |"
      ]
     },
     "execution_count": null,
     "metadata": {},
     "output_type": "execute_result"
    }
   ],
   "source": [
    "show_doc(TorchPinballLoss, title_level=2)"
   ]
  },
  {
   "cell_type": "code",
   "execution_count": null,
   "metadata": {},
   "outputs": [
    {
     "data": {
      "text/markdown": [
       "---\n",
       "\n",
       "[source](https://github.com/opimwue/ddopnew/blob/main/ddopnew/torch_utils/loss_functions.py#L162){target=\"_blank\" style=\"float:right; font-size:smaller\"}\n",
       "\n",
       "### TorchPinballLoss.forward\n",
       "\n",
       ">      TorchPinballLoss.forward (input:torch.Tensor, target:torch.Tensor,\n",
       ">                                underage:ddopnew.utils.Parameter|numpy.ndarray,\n",
       ">                                overage:ddopnew.utils.Parameter|numpy.ndarray)\n",
       "\n",
       "*Forward pass of the pinball loss function.*\n",
       "\n",
       "|    | **Type** | **Details** |\n",
       "| -- | -------- | ----------- |\n",
       "| input | Tensor |  |\n",
       "| target | Tensor |  |\n",
       "| underage | ddopnew.utils.Parameter \\| numpy.ndarray |  |\n",
       "| overage | ddopnew.utils.Parameter \\| numpy.ndarray |  |\n",
       "| **Returns** | **Tensor** |  |"
      ],
      "text/plain": [
       "---\n",
       "\n",
       "[source](https://github.com/opimwue/ddopnew/blob/main/ddopnew/torch_utils/loss_functions.py#L162){target=\"_blank\" style=\"float:right; font-size:smaller\"}\n",
       "\n",
       "### TorchPinballLoss.forward\n",
       "\n",
       ">      TorchPinballLoss.forward (input:torch.Tensor, target:torch.Tensor,\n",
       ">                                underage:ddopnew.utils.Parameter|numpy.ndarray,\n",
       ">                                overage:ddopnew.utils.Parameter|numpy.ndarray)\n",
       "\n",
       "*Forward pass of the pinball loss function.*\n",
       "\n",
       "|    | **Type** | **Details** |\n",
       "| -- | -------- | ----------- |\n",
       "| input | Tensor |  |\n",
       "| target | Tensor |  |\n",
       "| underage | ddopnew.utils.Parameter \\| numpy.ndarray |  |\n",
       "| overage | ddopnew.utils.Parameter \\| numpy.ndarray |  |\n",
       "| **Returns** | **Tensor** |  |"
      ]
     },
     "execution_count": null,
     "metadata": {},
     "output_type": "execute_result"
    }
   ],
   "source": [
    "show_doc(TorchPinballLoss.forward)"
   ]
  },
  {
   "cell_type": "code",
   "execution_count": null,
   "metadata": {},
   "outputs": [],
   "source": [
    "#| hide\n",
    "import nbdev; nbdev.nbdev_export()"
   ]
  },
  {
   "cell_type": "code",
   "execution_count": null,
   "metadata": {},
   "outputs": [],
   "source": []
  },
  {
   "cell_type": "code",
   "execution_count": null,
   "metadata": {},
   "outputs": [],
   "source": []
  },
  {
   "cell_type": "code",
   "execution_count": null,
   "metadata": {},
   "outputs": [],
   "source": []
  }
 ],
 "metadata": {
  "kernelspec": {
   "display_name": "python3",
   "language": "python",
   "name": "python3"
  }
 },
 "nbformat": 4,
 "nbformat_minor": 4
}
