{
 "cells": [
  {
   "cell_type": "markdown",
   "metadata": {},
   "source": [
    "# Loss functions\n",
    "\n",
    "> To be written."
   ]
  },
  {
   "cell_type": "code",
   "execution_count": null,
   "metadata": {},
   "outputs": [],
   "source": [
    "#| default_exp postprocessors"
   ]
  },
  {
   "cell_type": "code",
   "execution_count": null,
   "metadata": {},
   "outputs": [],
   "source": [
    "#| hide\n",
    "from nbdev.showdoc import *"
   ]
  },
  {
   "cell_type": "code",
   "execution_count": null,
   "metadata": {},
   "outputs": [],
   "source": [
    "#| export\n",
    "\n",
    "from typing import Union, Optional\n",
    "\n",
    "import numpy as np\n",
    "from ddopnew.utils import Parameter, check_parameter_types\n",
    "\n",
    "import torch\n",
    "import torch.nn as nn\n",
    "import torch.nn.functional as F"
   ]
  },
  {
   "cell_type": "markdown",
   "metadata": {},
   "source": [
    "TODO:\n",
    " - write descriptions\n",
    " - specify typings\n",
    " - ensure documentation on types, outputs, variable descriptions"
   ]
  },
  {
   "cell_type": "code",
   "execution_count": null,
   "metadata": {},
   "outputs": [],
   "source": [
    "#| export\n",
    "\n",
    "class ClipAction:\n",
    "    \"\"\"\n",
    "    A class to clip input values within specified bounds.\n",
    "    \"\"\"\n",
    "\n",
    "    def __init__(self, lower: Optional[Union[float, np.ndarray]] = None, upper: Optional[Union[float, np.ndarray]] = None):\n",
    "        self.lower = self._convert_to_array(lower)\n",
    "        self.upper = self._convert_to_array(upper)\n",
    "\n",
    "    def _convert_to_array(self, value: Optional[Union[float, np.ndarray]]) -> Optional[np.ndarray]:\n",
    "        \"\"\"\n",
    "        Converts a float value to a numpy array of shape (1,) if needed.\n",
    "        \"\"\"\n",
    "        if value is None:\n",
    "            return None\n",
    "        if isinstance(value, float):\n",
    "            return np.array([value])\n",
    "        if isinstance(value, np.ndarray):\n",
    "            return value\n",
    "        raise TypeError(f\"Bounds must be float or np.ndarray, got {type(value).__name__}\")\n",
    "\n",
    "    def __call__(self, input: np.ndarray) -> np.ndarray:\n",
    "        \"\"\"\n",
    "        Clips the input array within the specified bounds.\n",
    "\n",
    "        Parameters:\n",
    "        - input: A numpy array to be clipped.\n",
    "\n",
    "        Returns:\n",
    "        - A numpy array with values clipped within the specified bounds.\n",
    "        \"\"\"\n",
    "        \n",
    "        check_parameter_types(input)\n",
    "\n",
    "        # Ensure bounds match the input's shape if they are arrays\n",
    "        if self.lower is not None and self.lower.size != 1 and self.lower.shape != input.shape:\n",
    "            raise ValueError(\"Lower bound array must match the input shape or be a single element\")\n",
    "\n",
    "        if self.upper is not None and self.upper.size != 1 and self.upper.shape != input.shape:\n",
    "            raise ValueError(\"Upper bound array must match the input shape or be a single element\")\n",
    "\n",
    "        # Perform clipping\n",
    "        output = np.clip(input, a_min=self.lower, a_max=self.upper)\n",
    "\n",
    "        return output"
   ]
  },
  {
   "cell_type": "code",
   "execution_count": null,
   "metadata": {},
   "outputs": [],
   "source": [
    "#| export\n",
    "\n",
    "class RoundAction:\n",
    "    \"\"\"\n",
    "    A class to round input values to the nearest specified unit size.\n",
    "    \"\"\"\n",
    "\n",
    "    def __init__(self, unit_size: Union[float, int, np.ndarray]):\n",
    "        self.unit_size = self._validate_unit_size(unit_size)\n",
    "\n",
    "    def _validate_unit_size(self, unit_size: Union[float, int, np.ndarray]) -> np.ndarray:\n",
    "        \"\"\"\n",
    "        Ensures that the unit size is a positive float, int, or a numpy array of positive values.\n",
    "        \"\"\"\n",
    "        if isinstance(unit_size, (float, int)):\n",
    "            if unit_size <= 0:\n",
    "                raise ValueError(\"Unit size must be a positive number\")\n",
    "            return np.array([unit_size], dtype=float)  # Convert to float for consistent behavior\n",
    "        elif isinstance(unit_size, np.ndarray):\n",
    "            if np.any(unit_size <= 0):\n",
    "                raise ValueError(\"All elements of unit size array must be positive\")\n",
    "            return unit_size.astype(float)  # Ensure numpy array is of float type\n",
    "        else:\n",
    "            raise TypeError(\"Unit size must be a float, int, or np.ndarray\")\n",
    "\n",
    "    def __call__(self, input: np.ndarray) -> np.ndarray:\n",
    "        \"\"\"\n",
    "        Rounds the input array to the nearest specified unit size.\n",
    "\n",
    "        Parameters:\n",
    "        - input: A numpy array to be rounded.\n",
    "\n",
    "        Returns:\n",
    "        - A numpy array with values rounded to the nearest specified unit size.\n",
    "        \"\"\"\n",
    "        \n",
    "        check_parameter_types(input)\n",
    "\n",
    "        # Ensure unit_size matches the input's shape if it is an array\n",
    "        if self.unit_size.size != 1 and self.unit_size.shape != input.shape:\n",
    "            raise ValueError(\"Unit size array must match the input shape or be a single element\")\n",
    "\n",
    "        # Perform rounding\n",
    "        output = np.round(input / self.unit_size) * self.unit_size\n",
    "\n",
    "        return output"
   ]
  },
  {
   "cell_type": "code",
   "execution_count": null,
   "metadata": {},
   "outputs": [
    {
     "name": "stdout",
     "output_type": "stream",
     "text": [
      "[1. 2. 4. 5. 6.]\n",
      "[0.1 0.4]\n",
      "[ 0. 12.  6.  0.  0.  0.  3.]\n"
     ]
    }
   ],
   "source": [
    "input = np.array([1.1, 2.5, 3.5, 4.6, 5.9])\n",
    "round_action = RoundAction(1)\n",
    "print(round_action(input))\n",
    "\n",
    "input = np.array([0.12, 0.39])\n",
    "round_action = RoundAction(0.1)\n",
    "print(round_action(input))\n",
    "\n",
    "input = np.array([1.1231, 12.13, 7, 0.5, 1.4, 1.5, 1.6])\n",
    "round_action = RoundAction(3)\n",
    "print(round_action(input))\n"
   ]
  },
  {
   "cell_type": "code",
   "execution_count": null,
   "metadata": {},
   "outputs": [],
   "source": [
    "#| hide\n",
    "import nbdev; nbdev.nbdev_export()"
   ]
  },
  {
   "cell_type": "code",
   "execution_count": null,
   "metadata": {},
   "outputs": [],
   "source": []
  },
  {
   "cell_type": "code",
   "execution_count": null,
   "metadata": {},
   "outputs": [],
   "source": []
  }
 ],
 "metadata": {
  "kernelspec": {
   "display_name": "python3",
   "language": "python",
   "name": "python3"
  }
 },
 "nbformat": 4,
 "nbformat_minor": 4
}
