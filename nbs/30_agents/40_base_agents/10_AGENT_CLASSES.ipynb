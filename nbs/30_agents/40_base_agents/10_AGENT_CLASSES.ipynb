{
 "cells": [
  {
   "cell_type": "markdown",
   "metadata": {},
   "source": [
    "# Agent classes\n",
    "\n",
    "> Dict of agent classes and (standard) agent names to allow for dynamic loading of agents."
   ]
  },
  {
   "cell_type": "code",
   "execution_count": null,
   "metadata": {},
   "outputs": [],
   "source": [
    "#| default_exp agents.class_names"
   ]
  },
  {
   "cell_type": "code",
   "execution_count": null,
   "metadata": {},
   "outputs": [],
   "source": [
    "#| hide\n",
    "from nbdev.showdoc import *"
   ]
  },
  {
   "cell_type": "code",
   "execution_count": null,
   "metadata": {},
   "outputs": [],
   "source": [
    "#| export\n",
    "AGENT_CLASSES = { \n",
    "    \"RandomAgent\": \"ddopai.agents.saa.SAA\", #\n",
    "\n",
    "    \"SAA\": \"ddopai.agents.newsvendor.saa.NewsvendorSAAagent\",\n",
    "    \"wSAA\": \"ddopai.agents.newsvendor.saa.NewsvendorRFwSAAagent\",\n",
    "    \"RFwSAA\": \"ddopai.agents.newsvendor.saa.NewsvendorRFwSAAagent\",\n",
    "\n",
    "    \"XGB\": \"ddopai.agents.newsvendor.erm.NewsvendorXGBAgent\",\n",
    "\n",
    "    \"lERM\": \"ddopai.agents.newsvendor.erm.NewsvendorlERMAgent\",\n",
    "    \"DLNV\": \"ddopai.agents.newsvendor.erm.NewsvendorDLAgent\",\n",
    "    \"DLNVRNN\": \"ddopai.agents.newsvendor.erm.NewsvendorDLRNNAgent\",\n",
    "    \"DLNVTransformer\": \"ddopai.agents.newsvendor.erm.NewsvendorDLTransformerAgent\",\n",
    "\n",
    "    \"lERMMeta\": \"ddopai.agents.newsvendor.erm.NewsvendorlERMMetaAgent\",\n",
    "    \"DLNVMeta\": \"ddopai.agents.newsvendor.erm.NewsvendorDLMetaAgent\",\n",
    "    \"DLNVRNNMeta\": \"ddopai.agents.newsvendor.erm.NewsvendorDLRNNMetaAgent\",\n",
    "    \"DLNVTransformerMeta\": \"ddopai.agents.newsvendor.erm.NewsvendorDLTransformerMetaAgent\",\n",
    "\n",
    "    \"SAC\": \"ddopai.agents.rl.sac.SACAgent\",\n",
    "    \"SACRNN\": \"ddopai.agents.rl.sac.SACRNNAgent\",\n",
    "\n",
    "    \"TD3\": \"ddopai.agents.rl.td3.TD3Agent\",\n",
    "    \"PPO\": \"ddopai.agents.rl.ppo.PPOAgent\",\n",
    "}"
   ]
  },
  {
   "cell_type": "code",
   "execution_count": null,
   "metadata": {},
   "outputs": [],
   "source": [
    "#| hide\n",
    "import nbdev; nbdev.nbdev_export()"
   ]
  }
 ],
 "metadata": {
  "kernelspec": {
   "display_name": "python3",
   "language": "python",
   "name": "python3"
  }
 },
 "nbformat": 4,
 "nbformat_minor": 4
}
