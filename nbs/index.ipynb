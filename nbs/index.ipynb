{
 "cells": [
  {
   "cell_type": "code",
   "execution_count": null,
   "metadata": {},
   "outputs": [],
   "source": [
    "#| hide\n"
   ]
  },
  {
   "cell_type": "markdown",
   "metadata": {},
   "source": [
    "# ddopai\n",
    "\n",
    "> A completely new version of ddop. Documentation here: https://opimwue.github.io/ddopai/\n"
   ]
  },
  {
   "cell_type": "markdown",
   "metadata": {},
   "source": [
    "## Install"
   ]
  },
  {
   "cell_type": "markdown",
   "metadata": {},
   "source": [
    "```sh\n",
    "pip install ddopai\n",
    "```"
   ]
  },
  {
   "cell_type": "markdown",
   "metadata": {},
   "source": [
    "## What is ddopai?"
   ]
  },
  {
   "cell_type": "markdown",
   "metadata": {},
   "source": [
    "To be written."
   ]
  },
  {
   "cell_type": "code",
   "execution_count": null,
   "metadata": {},
   "outputs": [],
   "source": []
  },
  {
   "cell_type": "markdown",
   "metadata": {},
   "source": [
    "## What is the difference to Gymnasium and how to convert Gymnasium Environments?\n",
    "\n",
    "To make any enviroment compatible with mushroomRL and other agents defined within ddopai, there are some additional requirements when  defining the environment. Instead of inheriting from `gym.Env`, the environment should inherit from `ddopai.envs.base.BaseEnvironment`. This base class provides some additional necessary methods and attributes to ensure compatibility with the agents. Below are the steps to convert a Gym environment to a ddopai environment. We strongly recommend you to also look at the implementation of the NewsvendorEnv (nbs/20_environments/21_envs_inventory/20_single_period_envs.ipynb) as an example.\n",
    "\n",
    "#### 1. Initialization and Parameter Setup\n",
    "- In the `__init__` method of your environment, ensure that any environment-specific parameters are added using the `set_param(...)` method. This guarantees the correct types and shapes for the parameters.\n",
    "- Define the action and observation spaces using `set_action_space()` and `set_observation_space()` respectively. These should be called within the `__init__` method, rather than defining the spaces directly.\n",
    "- In the `__init__`, and MDPInfo object needs to be created `mdp_info = MDPInfo(self.observation_space, self.action_space, gamma=gamma, horizon=horizon_train`)\n",
    "\n",
    "#### 2. Handling Train, Validation, Test, and Horizon\n",
    "- Implement or override the `train()`, `val()`, and `test()` methods to configure the correct datasets for each phase, ensuring no data leakage. The base class provides these methods, but you may need to adapt them based on your environment.\n",
    "- Update the `mdp_info` to set the horizon (episode length). For validation and testing, the horizon corresponds to the length of the dataset, while for training, the horizon is determined by the `horizon_train` parameter. If `horizon_train` is `\"use_all_data\"`, the full dataset is used; if it’s an integer, a random subset is used.\n",
    "\n",
    "#### 3. Step Method\n",
    "- The `step()` method is handled in the base class, so instead of overriding it, implement a `step_(self, action)` method for the specific environment. This method should return a tuple: `(observation, reward, terminated, truncated, info)`.\n",
    "- The next observation should be constructed using the `get_observation()` method, which must be called inside the `step_()` method. Make sure to correctly pass the demand (or equivalent) to the next step to calculate rewards.\n",
    "\n",
    "#### 4. Pre- and Post-Processing\n",
    "- Action post-processing should be done within the environment, in the `step()` method, to ensure the action is in the correct form for the environment.\n",
    "- Observation pre-processing, however, is handled by the agent in MushroomRL. This processing takes place in the agent’s `draw_action()` method.\n",
    "\n",
    "#### 5. Reset Method\n",
    "- The `reset()` method must differentiate between the training, validation, and testing modes, and it should consider the `horizon_train` parameter for training.\n",
    "- After setting up the mode and horizon, call `reset_index()` (with an integer index or `\"random\"`) to initialize the environment. Finally, use `get_observation()` to provide the initial observation to the agent.\n"
   ]
  },
  {
   "cell_type": "code",
   "execution_count": null,
   "metadata": {},
   "outputs": [],
   "source": []
  }
 ],
 "metadata": {
  "kernelspec": {
   "display_name": "python3",
   "language": "python",
   "name": "python3"
  }
 },
 "nbformat": 4,
 "nbformat_minor": 4
}
