{
 "cells": [
  {
   "cell_type": "markdown",
   "metadata": {},
   "source": [
    "# Inventory Management Environments\n",
    "\n",
    "> To be written."
   ]
  },
  {
   "cell_type": "code",
   "execution_count": null,
   "metadata": {},
   "outputs": [],
   "source": [
    "#| default_exp approximators"
   ]
  },
  {
   "cell_type": "code",
   "execution_count": null,
   "metadata": {},
   "outputs": [],
   "source": [
    "import logging\n",
    "logging_level = logging.DEBUG"
   ]
  },
  {
   "cell_type": "code",
   "execution_count": null,
   "metadata": {},
   "outputs": [],
   "source": [
    "#| hide\n",
    "from nbdev.showdoc import *"
   ]
  },
  {
   "cell_type": "code",
   "execution_count": null,
   "metadata": {},
   "outputs": [],
   "source": [
    "#| export\n",
    "\n",
    "from abc import ABC, abstractmethod\n",
    "from typing import Union\n",
    "import numpy as np\n",
    "\n",
    "import torch\n",
    "import torch.nn as nn\n",
    "import torch.nn.functional as F\n",
    "from torch.utils.data import Dataset, DataLoader\n",
    "\n",
    "import time"
   ]
  },
  {
   "cell_type": "code",
   "execution_count": null,
   "metadata": {},
   "outputs": [],
   "source": [
    "#| export\n",
    "class LinearModel(nn.Module):\n",
    "    def __init__(self, input_size, output_size, relu_output=False):\n",
    "        super().__init__()\n",
    "        self.l1=nn.Linear(input_size, output_size)\n",
    "        if relu_output:\n",
    "            self.final_activation = nn.ReLU()\n",
    "        else:\n",
    "            self.final_activation = nn.Identity()\n",
    "            \n",
    "    def forward(self, x):\n",
    "        out=self.l1(x)\n",
    "        out=self.final_activation(out)\n",
    "        return out"
   ]
  },
  {
   "cell_type": "code",
   "execution_count": null,
   "metadata": {},
   "outputs": [],
   "source": [
    "#| export\n",
    "class MLP(nn.Module):\n",
    "    def __init__(self, input_size, output_size, hidden_layers, drop_prob=0.0, batch_norm=False, relu_output=False):\n",
    "        super().__init__()\n",
    "\n",
    "        # List of layers\n",
    "        layers = []\n",
    "\n",
    "        last_size = input_size\n",
    "        for num_neurons in hidden_layers:\n",
    "            layers.append(nn.Linear(last_size, num_neurons))\n",
    "            layers.append(nn.ReLU())\n",
    "            layers.append(nn.Dropout(p=drop_prob))\n",
    "            if batch_norm:\n",
    "                layers.append(nn.BatchNorm1d(num_neurons))\n",
    "            last_size = num_neurons\n",
    "\n",
    "        # Output layer\n",
    "        layers.append(nn.Linear(last_size, output_size))\n",
    "        if relu_output:\n",
    "            layers.append(nn.ReLU()) # output is non-negative\n",
    "        else:\n",
    "            layers.append(nn.Identity())\n",
    "\n",
    "        # Combine layers\n",
    "        self.model = nn.Sequential(*layers)\n",
    "\n",
    "    def forward(self, x):\n",
    "        return self.model(x)"
   ]
  },
  {
   "cell_type": "code",
   "execution_count": null,
   "metadata": {},
   "outputs": [],
   "source": []
  },
  {
   "cell_type": "code",
   "execution_count": null,
   "metadata": {},
   "outputs": [],
   "source": []
  },
  {
   "cell_type": "code",
   "execution_count": null,
   "metadata": {},
   "outputs": [],
   "source": []
  },
  {
   "cell_type": "code",
   "execution_count": null,
   "metadata": {},
   "outputs": [],
   "source": []
  },
  {
   "cell_type": "code",
   "execution_count": null,
   "metadata": {},
   "outputs": [],
   "source": []
  },
  {
   "cell_type": "code",
   "execution_count": null,
   "metadata": {},
   "outputs": [],
   "source": [
    "from ddopnew.envs.inventory import NewsvendorEnv\n",
    "from ddopnew.dataloaders.tabular import XYDataLoader\n",
    "from ddopnew.experiment_functions import run_experiment, test_agent"
   ]
  },
  {
   "cell_type": "code",
   "execution_count": null,
   "metadata": {},
   "outputs": [],
   "source": [
    "# val_index_start = 800 #90_000\n",
    "# test_index_start = 900 #100_000\n",
    "\n",
    "# X = np.random.rand(1000, 2)\n",
    "# Y = np.random.rand(1000, 1)\n",
    "\n",
    "# dataloader = XYDataLoader(X, Y, val_index_start, test_index_start)\n",
    "\n",
    "# environment = NewsvendorEnv(\n",
    "#     dataloader = dataloader,\n",
    "#     underage_cost = 0.42857,\n",
    "#     overage_cost = 1.0,\n",
    "#     gamma = 0.999,\n",
    "#     horizon_train = 365,\n",
    "# )\n",
    "\n",
    "# agent = XXX(environment.mdp_info, cu=0.42857, co=1.0)\n",
    "\n",
    "# environment.test()\n",
    "# agent.eval()\n",
    "\n",
    "# R, J = test_agent(agent, environment)\n",
    "\n",
    "# print(R, J)\n",
    "\n",
    "# run_experiment(agent, environment, 100, run_id = \"test\") # fit agent via run_experiment function\n",
    "\n",
    "# environment.test()\n",
    "# agent.eval()\n",
    "\n",
    "# R, J = test_agent(agent, environment)\n",
    "\n",
    "# print(R, J)"
   ]
  },
  {
   "cell_type": "code",
   "execution_count": null,
   "metadata": {},
   "outputs": [],
   "source": []
  },
  {
   "cell_type": "code",
   "execution_count": null,
   "metadata": {},
   "outputs": [],
   "source": []
  },
  {
   "cell_type": "code",
   "execution_count": null,
   "metadata": {},
   "outputs": [],
   "source": []
  },
  {
   "cell_type": "code",
   "execution_count": null,
   "metadata": {},
   "outputs": [],
   "source": []
  },
  {
   "cell_type": "code",
   "execution_count": null,
   "metadata": {},
   "outputs": [],
   "source": []
  },
  {
   "cell_type": "code",
   "execution_count": null,
   "metadata": {},
   "outputs": [],
   "source": []
  },
  {
   "cell_type": "code",
   "execution_count": null,
   "metadata": {},
   "outputs": [],
   "source": []
  },
  {
   "cell_type": "code",
   "execution_count": null,
   "metadata": {},
   "outputs": [],
   "source": []
  },
  {
   "cell_type": "code",
   "execution_count": null,
   "metadata": {},
   "outputs": [],
   "source": [
    "#| hide\n",
    "import nbdev; nbdev.nbdev_export()"
   ]
  },
  {
   "cell_type": "code",
   "execution_count": null,
   "metadata": {},
   "outputs": [],
   "source": []
  }
 ],
 "metadata": {
  "kernelspec": {
   "display_name": "python3",
   "language": "python",
   "name": "python3"
  }
 },
 "nbformat": 4,
 "nbformat_minor": 4
}
