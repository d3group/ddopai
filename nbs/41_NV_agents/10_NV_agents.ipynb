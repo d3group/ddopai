{
 "cells": [
  {
   "cell_type": "markdown",
   "metadata": {},
   "source": [
    "# Inventory Management Environments\n",
    "\n",
    "> To be written."
   ]
  },
  {
   "cell_type": "code",
   "execution_count": null,
   "metadata": {},
   "outputs": [],
   "source": [
    "#| default_exp agents.newsvendor"
   ]
  },
  {
   "cell_type": "code",
   "execution_count": null,
   "metadata": {},
   "outputs": [],
   "source": [
    "import logging\n",
    "logging_level = logging.DEBUG"
   ]
  },
  {
   "cell_type": "code",
   "execution_count": null,
   "metadata": {},
   "outputs": [],
   "source": [
    "#| hide\n",
    "from nbdev.showdoc import *"
   ]
  },
  {
   "cell_type": "code",
   "execution_count": null,
   "metadata": {},
   "outputs": [],
   "source": [
    "#| export\n",
    "\n",
    "from abc import ABC, abstractmethod\n",
    "from typing import Union\n",
    "import numpy as np\n",
    "\n",
    "from ddopnew.envs.base import BaseEnvironment\n",
    "\n",
    "from ddopnew.agents.base import BaseSAAagent\n",
    "\n",
    "from sklearn.ensemble import RandomForestRegressor\n"
   ]
  },
  {
   "cell_type": "code",
   "execution_count": null,
   "metadata": {},
   "outputs": [],
   "source": [
    "#| export\n",
    "class NewsvendorSAAagent(BaseSAAagent):\n",
    "\n",
    "    def __init__(self, environment_info, cu, co):\n",
    "        self.cu = cu\n",
    "        self.co = co\n",
    "\n",
    "        self.sl = cu / (cu + co)\n",
    "\n",
    "        self.quantiles = np.array([0])\n",
    "\n",
    "        super().__init__(environment_info)\n",
    "\n",
    "    def fit(self, X, Y):\n",
    "        \n",
    "        # # potential line:\n",
    "        # X, y = self._validate_data(X, y, multi_output=True)\n",
    "\n",
    "        weights = np.ones(Y.shape)/Y.shape[0]\n",
    "        weightPosIndices = np.arange(Y.shape[0])\n",
    "        \n",
    "        self.quantiles = self.find_weighted_quantiles(weights, weightPosIndices, self.sl, Y)\n",
    "\n",
    "    def draw_action(self, observation):\n",
    "        return self.quantiles"
   ]
  },
  {
   "cell_type": "code",
   "execution_count": null,
   "metadata": {},
   "outputs": [],
   "source": [
    "#| export\n",
    "class BaseWeightedAgent(BaseSAAagent):\n",
    "\n",
    "    def __init__(self, environment_info, cu, co):\n",
    "        self.cu = cu\n",
    "        self.co = co\n",
    "\n",
    "        self.sl = cu / (cu + co)\n",
    "\n",
    "        super().__init__(environment_info)\n",
    "\n",
    "        self.fitted = False\n",
    "\n",
    "    def fit(self, X, Y):\n",
    "        \n",
    "        # # potential line:\n",
    "        # X, y = self._validate_data(X, y, multi_output=True)\n",
    "\n",
    "        if len(Y.shape) == 2 and Y.shape[1] == 1:\n",
    "            Y = Y.flatten()\n",
    "\n",
    "        self._get_fitted_model(X, Y)\n",
    "\n",
    "        if Y.ndim == 1:\n",
    "            Y = np.reshape(Y, (-1, 1))\n",
    "\n",
    "        # Training data\n",
    "        self.Y_ = Y\n",
    "        self.X_ = X\n",
    "        self.n_samples_ = Y.shape[0]\n",
    "\n",
    "        # Determine output settings\n",
    "        self.n_outputs_ = Y.shape[1]\n",
    "        self.n_features_ = X.shape[1]\n",
    "\n",
    "        self.fitted=True\n",
    "\n",
    "    def draw_action(self, observation):\n",
    "\n",
    "        if self.fitted == False:\n",
    "            return np.array([0.0])\n",
    "            \n",
    "        \n",
    "        observation = observation.reshape(1, -1)\n",
    "\n",
    "        return self.predict(observation)\n",
    "    \n",
    "    @abstractmethod\n",
    "    def _get_fitted_model(self, X, y):\n",
    "        \"\"\"Initialise the underlying model\"\"\"\n",
    "\n",
    "    @abstractmethod\n",
    "    def _calc_weights(self, sample):\n",
    "        \"\"\"Calculate the sample weights\"\"\"\n",
    "\n",
    "    def predict(self, X):\n",
    "        \"\"\"Predict value for X.\n",
    "\n",
    "        Parameters\n",
    "        ----------\n",
    "        X : array-like of shape (n_samples, n_features)\n",
    "            The input samples to predict.\n",
    "\n",
    "        Returns\n",
    "        ----------\n",
    "        y : array-like of shape (n_samples, n_outputs)\n",
    "            The predicted values\n",
    "        \"\"\"\n",
    "\n",
    "        X = self._validate_X_predict(X)   \n",
    "       \n",
    "        weightsDataList = [self._calc_weights(row) for row in X]\n",
    "        pred = [self.find_weighted_quantiles(weights, weightPosIndices, self.sl, self.Y_) \n",
    "                for weights, weightPosIndices in weightsDataList]\n",
    "        pred = np.array(pred)        \n",
    "        \n",
    "        return pred"
   ]
  },
  {
   "cell_type": "code",
   "execution_count": null,
   "metadata": {},
   "outputs": [],
   "source": [
    "#| export\n",
    "class NewsvendorRFwSAAagent(BaseWeightedAgent):\n",
    "\n",
    "    def __init__(self,\n",
    "                environment_info,\n",
    "                cu,\n",
    "                co,\n",
    "                n_estimators=100,\n",
    "                criterion=\"squared_error\",\n",
    "                max_depth=None,\n",
    "                min_samples_split=2,\n",
    "                min_samples_leaf=1,\n",
    "                min_weight_fraction_leaf=0.0,\n",
    "                max_features=1.0,\n",
    "                max_leaf_nodes=None,\n",
    "                min_impurity_decrease=0.0,\n",
    "                bootstrap=True,\n",
    "                oob_score=False,\n",
    "                n_jobs=None,\n",
    "                random_state=None,\n",
    "                verbose=0,\n",
    "                warm_start=False,\n",
    "                ccp_alpha=0.0,\n",
    "                max_samples=None,\n",
    "                monotonic_cst=None\n",
    "                ):\n",
    "        self.criterion = criterion\n",
    "        self.n_estimators = n_estimators\n",
    "        self.max_depth = max_depth\n",
    "        self.min_samples_split = min_samples_split\n",
    "        self.min_samples_leaf = min_samples_leaf\n",
    "        self.min_weight_fraction_leaf = min_weight_fraction_leaf\n",
    "        self.max_features = max_features\n",
    "        self.max_leaf_nodes = max_leaf_nodes\n",
    "        self.min_impurity_decrease = min_impurity_decrease\n",
    "        self.bootstrap = bootstrap\n",
    "        self.oob_score = oob_score\n",
    "        self.n_jobs = n_jobs\n",
    "        self.random_state = random_state\n",
    "        self.verbose = verbose\n",
    "        self.warm_start = warm_start\n",
    "        self.ccp_alpha = ccp_alpha\n",
    "        self.max_samples = max_samples\n",
    "        self.monotonic_cst = monotonic_cst\n",
    "        self.weight_function = \"w1\"\n",
    "\n",
    "        super().__init__(environment_info, cu, co)\n",
    "\n",
    "    def _get_fitted_model(self, X, y):\n",
    "        model = RandomForestRegressor(\n",
    "            criterion=self.criterion,\n",
    "            n_estimators=self.n_estimators,\n",
    "            max_depth=self.max_depth,\n",
    "            min_samples_split=self.min_samples_split,\n",
    "            min_samples_leaf=self.min_samples_leaf,\n",
    "            min_weight_fraction_leaf=self.min_weight_fraction_leaf,\n",
    "            max_features=self.max_features,\n",
    "            max_leaf_nodes=self.max_leaf_nodes,\n",
    "            min_impurity_decrease=self.min_impurity_decrease,\n",
    "            bootstrap=self.bootstrap,\n",
    "            oob_score=self.oob_score,\n",
    "            n_jobs=self.n_jobs,\n",
    "            random_state=self.random_state,\n",
    "            verbose=self.verbose,\n",
    "            warm_start=self.warm_start,\n",
    "            ccp_alpha=self.ccp_alpha,\n",
    "            max_samples=self.max_samples,\n",
    "            monotonic_cst = self.monotonic_cst\n",
    "        )\n",
    "\n",
    "        self.model_ = model.fit(X, y)\n",
    "        self.train_leaf_indices_ = model.apply(X)\n",
    "\n",
    "    def _calc_weights(self, sample):\n",
    "        sample_leaf_indices = self.model_.apply([sample])\n",
    "        if self.weight_function == \"w1\":\n",
    "            n = np.sum(sample_leaf_indices == self.train_leaf_indices_, axis=0)\n",
    "            treeWeights = (sample_leaf_indices == self.train_leaf_indices_) / n\n",
    "            weights = np.sum(treeWeights, axis=1) / self.n_estimators\n",
    "        else:\n",
    "            n = np.sum(sample_leaf_indices == self.train_leaf_indices_)\n",
    "            treeWeights = (sample_leaf_indices == self.train_leaf_indices_) / n\n",
    "            weights = np.sum(treeWeights, axis=1)\n",
    "        \n",
    "        weightPosIndex = np.where(weights > 0)[0]\n",
    "        weightsPos = weights[weightPosIndex]\n",
    "\n",
    "        return (weightsPos, weightPosIndex)"
   ]
  },
  {
   "cell_type": "code",
   "execution_count": null,
   "metadata": {},
   "outputs": [],
   "source": [
    "from ddopnew.envs.inventory import NewsvendorEnv\n",
    "from ddopnew.dataloaders.tabular import XYDataLoader\n",
    "from ddopnew.experiment_functions import run_experiment, test_agent"
   ]
  },
  {
   "cell_type": "code",
   "execution_count": null,
   "metadata": {},
   "outputs": [],
   "source": [
    "val_index_start = 800 #90_000\n",
    "test_index_start = 900 #100_000\n",
    "\n",
    "X = np.random.rand(1000, 2)\n",
    "Y = np.random.rand(1000, 1)\n",
    "\n",
    "dataloader = XYDataLoader(X, Y, val_index_start, test_index_start)\n",
    "\n",
    "environment = NewsvendorEnv(\n",
    "    dataloader = dataloader,\n",
    "    underage_cost = 0.42857,\n",
    "    overage_cost = 1.0,\n",
    "    gamma = 0.999,\n",
    "    horizon_train = 365,\n",
    ")\n",
    "\n",
    "agent = NewsvendorSAAagent(environment.mdp_info, cu=0.42857, co=1.0)\n",
    "agent = NewsvendorRFwSAAagent(environment.mdp_info, cu=0.42857, co=1.0)"
   ]
  },
  {
   "cell_type": "code",
   "execution_count": null,
   "metadata": {},
   "outputs": [
    {
     "name": "stdout",
     "output_type": "stream",
     "text": [
      "-21.77999135072262 -20.783776617363102\n"
     ]
    }
   ],
   "source": [
    "environment.test()\n",
    "agent.eval()\n",
    "\n",
    "R, J = test_agent(agent, environment)\n",
    "\n",
    "print(R, J)"
   ]
  },
  {
   "cell_type": "code",
   "execution_count": null,
   "metadata": {},
   "outputs": [],
   "source": [
    "run_experiment(agent, environment, 100, run_id = \"test\") # fit agent via run_experiment function"
   ]
  },
  {
   "cell_type": "code",
   "execution_count": null,
   "metadata": {},
   "outputs": [
    {
     "name": "stdout",
     "output_type": "stream",
     "text": [
      "-14.307946822626782 -13.611583097235105\n"
     ]
    }
   ],
   "source": [
    "environment.test()\n",
    "agent.eval()\n",
    "\n",
    "R, J = test_agent(agent, environment)\n",
    "\n",
    "print(R, J)"
   ]
  },
  {
   "cell_type": "code",
   "execution_count": null,
   "metadata": {},
   "outputs": [],
   "source": [
    "#| hide\n",
    "import nbdev; nbdev.nbdev_export()"
   ]
  },
  {
   "cell_type": "code",
   "execution_count": null,
   "metadata": {},
   "outputs": [],
   "source": []
  }
 ],
 "metadata": {
  "kernelspec": {
   "display_name": "python3",
   "language": "python",
   "name": "python3"
  }
 },
 "nbformat": 4,
 "nbformat_minor": 4
}
