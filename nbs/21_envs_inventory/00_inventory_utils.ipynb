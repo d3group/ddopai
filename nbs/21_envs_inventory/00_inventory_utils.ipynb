{
 "cells": [
  {
   "cell_type": "markdown",
   "metadata": {},
   "source": [
    "# Base inventory env\n",
    "\n",
    "> Base environment with some basic funcitons"
   ]
  },
  {
   "cell_type": "code",
   "execution_count": 1,
   "metadata": {},
   "outputs": [],
   "source": [
    "#| default_exp envs.inventory.inventory_utils"
   ]
  },
  {
   "cell_type": "code",
   "execution_count": 2,
   "metadata": {},
   "outputs": [],
   "source": [
    "#| hide\n",
    "from nbdev.showdoc import *"
   ]
  },
  {
   "cell_type": "code",
   "execution_count": 3,
   "metadata": {},
   "outputs": [],
   "source": [
    "#| export\n",
    "from abc import ABC, abstractmethod\n",
    "from typing import Union, Tuple\n",
    "\n",
    "from ddopnew.envs.base import BaseEnvironment\n",
    "from ddopnew.utils import Parameter, MDPInfo\n",
    "from ddopnew.dataloaders.base import BaseDataLoader\n",
    "from ddopnew.loss_functions import pinball_loss\n",
    "\n",
    "import gymnasium as gym\n",
    "\n",
    "import numpy as np\n",
    "import time"
   ]
  },
  {
   "cell_type": "code",
   "execution_count": 4,
   "metadata": {},
   "outputs": [],
   "source": [
    "#| export\n",
    "class OrderPipeline():\n",
    "    \"\"\"\n",
    "    Class to handle the order pipeline in the inventory environments. It is used to keep track of the orders\n",
    "    that are placed. It can account for fixed and variable lead times.\n",
    "    \n",
    "    \"\"\"\n",
    "\n",
    "    def __init__(self, \n",
    "\n",
    "        num_units: int,  # number of units (SKUs)\n",
    "        lead_time_mean: list[object] | None = None,  # default is empty list\n",
    "        \n",
    "        max_lead_time: list[object] | None = None,  # maximum lead time in case of stochastic lead times\n",
    "\n",
    "        ) -> None:\n",
    "\n",
    "        if max_lead_time is None:\n",
    "            self.max_lead_time = lead_time_mean\n",
    "        else:\n",
    "            self.max_lead_time = max_lead_time\n",
    "\n",
    "        self.pipeline = np.zeros((np.max(max_lead_time), num_units))\n",
    "\n",
    "    def step(self, \n",
    "        orders: np.ndarray,\n",
    "        ) -> np.ndarray:\n",
    "        \n",
    "        \"\"\" Add orders to the pipeline and return the orders that are arriving \"\"\"\n"
   ]
  },
  {
   "cell_type": "code",
   "execution_count": 7,
   "metadata": {},
   "outputs": [
    {
     "ename": "AttributeError",
     "evalue": "'OrderPipeline' object has no attribute 'max_lead_time'",
     "output_type": "error",
     "traceback": [
      "\u001b[0;31m---------------------------------------------------------------------------\u001b[0m",
      "\u001b[0;31mAttributeError\u001b[0m                            Traceback (most recent call last)",
      "Cell \u001b[0;32mIn[7], line 3\u001b[0m\n\u001b[1;32m      1\u001b[0m testpipeline \u001b[38;5;241m=\u001b[39m OrderPipeline(lead_time_mean\u001b[38;5;241m=\u001b[39m[\u001b[38;5;241m1\u001b[39m, \u001b[38;5;241m2\u001b[39m, \u001b[38;5;241m3\u001b[39m], max_lead_time\u001b[38;5;241m=\u001b[39m[\u001b[38;5;241m3\u001b[39m, \u001b[38;5;241m4\u001b[39m, \u001b[38;5;241m5\u001b[39m])\n\u001b[0;32m----> 3\u001b[0m \u001b[43mtestpipeline\u001b[49m\u001b[38;5;241;43m.\u001b[39;49m\u001b[43mmax_lead_time\u001b[49m\n",
      "\u001b[0;31mAttributeError\u001b[0m: 'OrderPipeline' object has no attribute 'max_lead_time'"
     ]
    }
   ],
   "source": [
    "testpipeline = OrderPipeline(lead_time_mean=[1, 2, 3], max_lead_time=[3, 4, 5])\n",
    "\n",
    "testpipeline.max_lead_time\n"
   ]
  },
  {
   "cell_type": "code",
   "execution_count": 6,
   "metadata": {},
   "outputs": [],
   "source": [
    "#| hide\n",
    "import nbdev; nbdev.nbdev_export()"
   ]
  },
  {
   "cell_type": "code",
   "execution_count": null,
   "metadata": {},
   "outputs": [],
   "source": []
  },
  {
   "cell_type": "code",
   "execution_count": null,
   "metadata": {},
   "outputs": [],
   "source": []
  }
 ],
 "metadata": {
  "kernelspec": {
   "display_name": "python3",
   "language": "python",
   "name": "python3"
  },
  "language_info": {
   "codemirror_mode": {
    "name": "ipython",
    "version": 3
   },
   "file_extension": ".py",
   "mimetype": "text/x-python",
   "name": "python",
   "nbconvert_exporter": "python",
   "pygments_lexer": "ipython3",
   "version": "3.11.0"
  }
 },
 "nbformat": 4,
 "nbformat_minor": 4
}
