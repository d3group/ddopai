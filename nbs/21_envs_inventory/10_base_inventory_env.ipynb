{
 "cells": [
  {
   "cell_type": "markdown",
   "metadata": {},
   "source": [
    "# Base inventory env\n",
    "\n",
    "> Base environment with some basic funcitons"
   ]
  },
  {
   "cell_type": "code",
   "execution_count": null,
   "metadata": {},
   "outputs": [],
   "source": [
    "#| default_exp envs.inventory.base"
   ]
  },
  {
   "cell_type": "code",
   "execution_count": null,
   "metadata": {},
   "outputs": [],
   "source": [
    "#| hide\n",
    "from nbdev.showdoc import *"
   ]
  },
  {
   "cell_type": "code",
   "execution_count": null,
   "metadata": {},
   "outputs": [],
   "source": [
    "#| export\n",
    "from abc import ABC, abstractmethod\n",
    "from typing import Union, Tuple, List\n",
    "\n",
    "from ddopnew.envs.base import BaseEnvironment\n",
    "from ddopnew.utils import Parameter, MDPInfo\n",
    "from ddopnew.dataloaders.base import BaseDataLoader\n",
    "from ddopnew.loss_functions import pinball_loss\n",
    "\n",
    "import gymnasium as gym\n",
    "\n",
    "import numpy as np\n",
    "import time"
   ]
  },
  {
   "cell_type": "code",
   "execution_count": null,
   "metadata": {},
   "outputs": [],
   "source": [
    "#| export\n",
    "class BaseInventoryEnv(BaseEnvironment):\n",
    "    \"\"\"\n",
    "    Base class for inventory management environments. This class inherits from BaseEnvironment.\n",
    "    \n",
    "    \"\"\"\n",
    "\n",
    "    def __init__(self, \n",
    "\n",
    "        ## Parameters for Base env:\n",
    "        mdp_info: MDPInfo, #\n",
    "        postprocessors: list[object] | None = None,  # default is empty list\n",
    "        mode: str = \"train\", # Initial mode (train, val, test) of the environment\n",
    "        return_truncation: str = True, # whether to return a truncated condition in step function\n",
    "        dataloader: BaseDataLoader = None, # dataloader for the environment\n",
    "        horizon_train: int = 100, # horizon for training mode\n",
    "        \n",
    "        # Parameters common in all inventory environments\n",
    "        underage_cost: Union[np.ndarray, Parameter, int, float] = 1, # underage cost per unit\n",
    "        overage_cost: Union[np.ndarray, Parameter, int, float] = 0, # overage cost per unit (zero in most cases)\n",
    "\n",
    "        ) -> None:\n",
    "\n",
    "        self.dataloader = dataloader\n",
    "        \n",
    "        self.set_param(\"underage_cost\", underage_cost, shape=(self.num_SKUs[0],), new=True)\n",
    "        self.set_param(\"overage_cost\", overage_cost, shape=(self.num_SKUs[0],), new=True)\n",
    "\n",
    "        super().__init__(mdp_info=mdp_info, postprocessors = postprocessors,  mode = mode, return_truncation=return_truncation, horizon_train=horizon_train)\n",
    "    \n",
    "    def set_observation_space(self,\n",
    "                            shape: tuple, # shape of the dataloader features\n",
    "                            low: Union[np.ndarray, float] = -np.inf, # lower bound of the observation space\n",
    "                            high: Union[np.ndarray, float] = np.inf, # upper bound of the observation space\n",
    "                            samples_dim_included = True # whether the first dimension of the shape input is the number of samples\n",
    "                            ) -> None:\n",
    "        \n",
    "        '''\n",
    "        Set the observation space of the environment.\n",
    "        This is a standard function for simple observation spaces. For more complex observation spaces,\n",
    "        this function should be overwritten. Note that it is assumped that the first dimension\n",
    "        is n_samples that is not relevant for the observation space.\n",
    "\n",
    "        '''\n",
    "\n",
    "        # To handle cases when no external information is available (e.g., parametric NV)\n",
    "        \n",
    "        if shape is None:\n",
    "            self.observation_space = None\n",
    "\n",
    "        else:\n",
    "            if not isinstance(shape, tuple):\n",
    "                raise ValueError(\"Shape must be a tuple.\")\n",
    "            \n",
    "            if samples_dim_included:\n",
    "                shape = shape[1:] # assumed that the first dimension is the number of samples\n",
    "\n",
    "            self.observation_space = gym.spaces.Box(low=low, high=high, shape=shape, dtype=np.float32)\n",
    "\n",
    "    def set_action_space(self,\n",
    "                            shape: tuple, # shape of the dataloader target\n",
    "                            low: Union[np.ndarray, float] = -np.inf, # lower bound of the observation space\n",
    "                            high: Union[np.ndarray, float] = np.inf, # upper bound of the observation space\n",
    "                            samples_dim_included = True # whether the first dimension of the shape input is the number of samples\n",
    "                            ) -> None:\n",
    "        \n",
    "        '''\n",
    "        Set the action space of the environment.\n",
    "        This is a standard function for simple action spaces. For more complex action spaces,\n",
    "        this function should be overwritten. Note that it is assumped that the first dimension\n",
    "        is n_samples that is not relevant for the action space.\n",
    "        '''\n",
    "\n",
    "        if not isinstance(shape, tuple):\n",
    "            raise ValueError(\"Shape must be a tuple.\")\n",
    "        \n",
    "        if samples_dim_included:\n",
    "            shape = shape[1:] # assumed that the first dimension is the number of samples\n",
    "\n",
    "        self.action_space = gym.spaces.Box(low=low, high=high, shape=shape, dtype=np.float32)\n",
    "    \n",
    "    def get_observation(self):\n",
    "        \n",
    "        \"\"\"\n",
    "        Return the current observation. This function is for the simple case where the observation\n",
    "        is only an x,y pair. For more complex observations, this function should be overwritten.\n",
    "\n",
    "        \"\"\"\n",
    "\n",
    "        \n",
    "        X_item, Y_item = self.dataloader[self.index]\n",
    "\n",
    "        return X_item, Y_item\n",
    "    \n",
    "    def reset(self,\n",
    "        start_index: int | str = None, # index to start from\n",
    "        state: np.ndarray = None # initial state\n",
    "        ) -> Tuple[np.ndarray, bool]:\n",
    "\n",
    "        \"\"\"\n",
    "        Reset function for the Newsvendor problem. It will return the first observation and demand.\n",
    "        For val and test modes, it will by default reset to 0, while for the train mode it depends\n",
    "        on the paramter \"horizon_train\" whether a random point in the training data is selected or 0\n",
    "        \"\"\"\n",
    "\n",
    "        truncated = self.reset_index(start_index)\n",
    "\n",
    "        observation, self.demand = self.get_observation()\n",
    "        \n",
    "        return observation\n"
   ]
  },
  {
   "cell_type": "code",
   "execution_count": null,
   "metadata": {},
   "outputs": [
    {
     "data": {
      "text/markdown": [
       "---\n",
       "\n",
       "[source](https://github.com/opimwue/ddopnew/blob/main/ddopnew/envs/inventory/base.py#L21){target=\"_blank\" style=\"float:right; font-size:smaller\"}\n",
       "\n",
       "## BaseInventoryEnv\n",
       "\n",
       ">      BaseInventoryEnv (mdp_info:ddopnew.utils.MDPInfo,\n",
       ">                        postprocessors:list[object]|None=None,\n",
       ">                        mode:str='train', return_truncation:str=True, dataloade\n",
       ">                        r:ddopnew.dataloaders.base.BaseDataLoader=None,\n",
       ">                        horizon_train:int=100, underage_cost:Union[numpy.ndarra\n",
       ">                        y,ddopnew.utils.Parameter,int,float]=1, overage_cost:Un\n",
       ">                        ion[numpy.ndarray,ddopnew.utils.Parameter,int,float]=0)\n",
       "\n",
       "*Base class for inventory management environments. This class inherits from BaseEnvironment.*\n",
       "\n",
       "|    | **Type** | **Default** | **Details** |\n",
       "| -- | -------- | ----------- | ----------- |\n",
       "| mdp_info | MDPInfo |  |  |\n",
       "| postprocessors | list[object] \\| None | None | default is empty list |\n",
       "| mode | str | train | Initial mode (train, val, test) of the environment |\n",
       "| return_truncation | str | True | whether to return a truncated condition in step function |\n",
       "| dataloader | BaseDataLoader | None | dataloader for the environment |\n",
       "| horizon_train | int | 100 | horizon for training mode |\n",
       "| underage_cost | Union | 1 | underage cost per unit |\n",
       "| overage_cost | Union | 0 | overage cost per unit (zero in most cases) |\n",
       "| **Returns** | **None** |  |  |"
      ],
      "text/plain": [
       "---\n",
       "\n",
       "[source](https://github.com/opimwue/ddopnew/blob/main/ddopnew/envs/inventory/base.py#L21){target=\"_blank\" style=\"float:right; font-size:smaller\"}\n",
       "\n",
       "## BaseInventoryEnv\n",
       "\n",
       ">      BaseInventoryEnv (mdp_info:ddopnew.utils.MDPInfo,\n",
       ">                        postprocessors:list[object]|None=None,\n",
       ">                        mode:str='train', return_truncation:str=True, dataloade\n",
       ">                        r:ddopnew.dataloaders.base.BaseDataLoader=None,\n",
       ">                        horizon_train:int=100, underage_cost:Union[numpy.ndarra\n",
       ">                        y,ddopnew.utils.Parameter,int,float]=1, overage_cost:Un\n",
       ">                        ion[numpy.ndarray,ddopnew.utils.Parameter,int,float]=0)\n",
       "\n",
       "*Base class for inventory management environments. This class inherits from BaseEnvironment.*\n",
       "\n",
       "|    | **Type** | **Default** | **Details** |\n",
       "| -- | -------- | ----------- | ----------- |\n",
       "| mdp_info | MDPInfo |  |  |\n",
       "| postprocessors | list[object] \\| None | None | default is empty list |\n",
       "| mode | str | train | Initial mode (train, val, test) of the environment |\n",
       "| return_truncation | str | True | whether to return a truncated condition in step function |\n",
       "| dataloader | BaseDataLoader | None | dataloader for the environment |\n",
       "| horizon_train | int | 100 | horizon for training mode |\n",
       "| underage_cost | Union | 1 | underage cost per unit |\n",
       "| overage_cost | Union | 0 | overage cost per unit (zero in most cases) |\n",
       "| **Returns** | **None** |  |  |"
      ]
     },
     "execution_count": null,
     "metadata": {},
     "output_type": "execute_result"
    }
   ],
   "source": [
    "show_doc(BaseInventoryEnv, title_level=2)"
   ]
  },
  {
   "cell_type": "code",
   "execution_count": null,
   "metadata": {},
   "outputs": [
    {
     "data": {
      "text/markdown": [
       "---\n",
       "\n",
       "[source](https://github.com/opimwue/ddopnew/blob/main/ddopnew/envs/inventory/base.py#L50){target=\"_blank\" style=\"float:right; font-size:smaller\"}\n",
       "\n",
       "### BaseInventoryEnv.set_observation_space\n",
       "\n",
       ">      BaseInventoryEnv.set_observation_space (shape:tuple,\n",
       ">                                              low:Union[numpy.ndarray,float]=-\n",
       ">                                              inf, high:Union[numpy.ndarray,flo\n",
       ">                                              at]=inf,\n",
       ">                                              samples_dim_included=True)\n",
       "\n",
       "*Set the observation space of the environment.\n",
       "This is a standard function for simple observation spaces. For more complex observation spaces,\n",
       "this function should be overwritten. Note that it is assumped that the first dimension\n",
       "is n_samples that is not relevant for the observation space.*\n",
       "\n",
       "|    | **Type** | **Default** | **Details** |\n",
       "| -- | -------- | ----------- | ----------- |\n",
       "| shape | tuple |  | shape of the dataloader features |\n",
       "| low | Union | -inf | lower bound of the observation space |\n",
       "| high | Union | inf | upper bound of the observation space |\n",
       "| samples_dim_included | bool | True | whether the first dimension of the shape input is the number of samples |\n",
       "| **Returns** | **None** |  |  |"
      ],
      "text/plain": [
       "---\n",
       "\n",
       "[source](https://github.com/opimwue/ddopnew/blob/main/ddopnew/envs/inventory/base.py#L50){target=\"_blank\" style=\"float:right; font-size:smaller\"}\n",
       "\n",
       "### BaseInventoryEnv.set_observation_space\n",
       "\n",
       ">      BaseInventoryEnv.set_observation_space (shape:tuple,\n",
       ">                                              low:Union[numpy.ndarray,float]=-\n",
       ">                                              inf, high:Union[numpy.ndarray,flo\n",
       ">                                              at]=inf,\n",
       ">                                              samples_dim_included=True)\n",
       "\n",
       "*Set the observation space of the environment.\n",
       "This is a standard function for simple observation spaces. For more complex observation spaces,\n",
       "this function should be overwritten. Note that it is assumped that the first dimension\n",
       "is n_samples that is not relevant for the observation space.*\n",
       "\n",
       "|    | **Type** | **Default** | **Details** |\n",
       "| -- | -------- | ----------- | ----------- |\n",
       "| shape | tuple |  | shape of the dataloader features |\n",
       "| low | Union | -inf | lower bound of the observation space |\n",
       "| high | Union | inf | upper bound of the observation space |\n",
       "| samples_dim_included | bool | True | whether the first dimension of the shape input is the number of samples |\n",
       "| **Returns** | **None** |  |  |"
      ]
     },
     "execution_count": null,
     "metadata": {},
     "output_type": "execute_result"
    }
   ],
   "source": [
    "show_doc(BaseInventoryEnv.set_observation_space)"
   ]
  },
  {
   "cell_type": "code",
   "execution_count": null,
   "metadata": {},
   "outputs": [
    {
     "data": {
      "text/markdown": [
       "---\n",
       "\n",
       "[source](https://github.com/opimwue/ddopnew/blob/main/ddopnew/envs/inventory/base.py#L79){target=\"_blank\" style=\"float:right; font-size:smaller\"}\n",
       "\n",
       "### BaseInventoryEnv.set_action_space\n",
       "\n",
       ">      BaseInventoryEnv.set_action_space (shape:tuple,\n",
       ">                                         low:Union[numpy.ndarray,float]=-inf,\n",
       ">                                         high:Union[numpy.ndarray,float]=inf,\n",
       ">                                         samples_dim_included=True)\n",
       "\n",
       "*Set the action space of the environment.\n",
       "This is a standard function for simple action spaces. For more complex action spaces,\n",
       "this function should be overwritten. Note that it is assumped that the first dimension\n",
       "is n_samples that is not relevant for the action space.*\n",
       "\n",
       "|    | **Type** | **Default** | **Details** |\n",
       "| -- | -------- | ----------- | ----------- |\n",
       "| shape | tuple |  | shape of the dataloader target |\n",
       "| low | Union | -inf | lower bound of the observation space |\n",
       "| high | Union | inf | upper bound of the observation space |\n",
       "| samples_dim_included | bool | True | whether the first dimension of the shape input is the number of samples |\n",
       "| **Returns** | **None** |  |  |"
      ],
      "text/plain": [
       "---\n",
       "\n",
       "[source](https://github.com/opimwue/ddopnew/blob/main/ddopnew/envs/inventory/base.py#L79){target=\"_blank\" style=\"float:right; font-size:smaller\"}\n",
       "\n",
       "### BaseInventoryEnv.set_action_space\n",
       "\n",
       ">      BaseInventoryEnv.set_action_space (shape:tuple,\n",
       ">                                         low:Union[numpy.ndarray,float]=-inf,\n",
       ">                                         high:Union[numpy.ndarray,float]=inf,\n",
       ">                                         samples_dim_included=True)\n",
       "\n",
       "*Set the action space of the environment.\n",
       "This is a standard function for simple action spaces. For more complex action spaces,\n",
       "this function should be overwritten. Note that it is assumped that the first dimension\n",
       "is n_samples that is not relevant for the action space.*\n",
       "\n",
       "|    | **Type** | **Default** | **Details** |\n",
       "| -- | -------- | ----------- | ----------- |\n",
       "| shape | tuple |  | shape of the dataloader target |\n",
       "| low | Union | -inf | lower bound of the observation space |\n",
       "| high | Union | inf | upper bound of the observation space |\n",
       "| samples_dim_included | bool | True | whether the first dimension of the shape input is the number of samples |\n",
       "| **Returns** | **None** |  |  |"
      ]
     },
     "execution_count": null,
     "metadata": {},
     "output_type": "execute_result"
    }
   ],
   "source": [
    "show_doc(BaseInventoryEnv.set_action_space)"
   ]
  },
  {
   "cell_type": "code",
   "execution_count": null,
   "metadata": {},
   "outputs": [
    {
     "data": {
      "text/markdown": [
       "---\n",
       "\n",
       "[source](https://github.com/opimwue/ddopnew/blob/main/ddopnew/envs/inventory/base.py#L114){target=\"_blank\" style=\"float:right; font-size:smaller\"}\n",
       "\n",
       "### BaseInventoryEnv.reset\n",
       "\n",
       ">      BaseInventoryEnv.reset (start_index:int|str=None,\n",
       ">                              state:numpy.ndarray=None)\n",
       "\n",
       "*Reset function for the Newsvendor problem. It will return the first observation and demand.\n",
       "For val and test modes, it will by default reset to 0, while for the train mode it depends\n",
       "on the paramter \"horizon_train\" whether a random point in the training data is selected or 0*\n",
       "\n",
       "|    | **Type** | **Default** | **Details** |\n",
       "| -- | -------- | ----------- | ----------- |\n",
       "| start_index | int \\| str | None | index to start from |\n",
       "| state | ndarray | None | initial state |\n",
       "| **Returns** | **Tuple** |  |  |"
      ],
      "text/plain": [
       "---\n",
       "\n",
       "[source](https://github.com/opimwue/ddopnew/blob/main/ddopnew/envs/inventory/base.py#L114){target=\"_blank\" style=\"float:right; font-size:smaller\"}\n",
       "\n",
       "### BaseInventoryEnv.reset\n",
       "\n",
       ">      BaseInventoryEnv.reset (start_index:int|str=None,\n",
       ">                              state:numpy.ndarray=None)\n",
       "\n",
       "*Reset function for the Newsvendor problem. It will return the first observation and demand.\n",
       "For val and test modes, it will by default reset to 0, while for the train mode it depends\n",
       "on the paramter \"horizon_train\" whether a random point in the training data is selected or 0*\n",
       "\n",
       "|    | **Type** | **Default** | **Details** |\n",
       "| -- | -------- | ----------- | ----------- |\n",
       "| start_index | int \\| str | None | index to start from |\n",
       "| state | ndarray | None | initial state |\n",
       "| **Returns** | **Tuple** |  |  |"
      ]
     },
     "execution_count": null,
     "metadata": {},
     "output_type": "execute_result"
    }
   ],
   "source": [
    "show_doc(BaseInventoryEnv.reset)"
   ]
  },
  {
   "cell_type": "code",
   "execution_count": null,
   "metadata": {},
   "outputs": [
    {
     "data": {
      "text/markdown": [
       "---\n",
       "\n",
       "[source](https://github.com/opimwue/ddopnew/blob/main/ddopnew/envs/inventory/base.py#L101){target=\"_blank\" style=\"float:right; font-size:smaller\"}\n",
       "\n",
       "### BaseInventoryEnv.get_observation\n",
       "\n",
       ">      BaseInventoryEnv.get_observation ()\n",
       "\n",
       "*Return the current observation. This function is for the simple case where the observation\n",
       "is only an x,y pair. For more complex observations, this function should be overwritten.*"
      ],
      "text/plain": [
       "---\n",
       "\n",
       "[source](https://github.com/opimwue/ddopnew/blob/main/ddopnew/envs/inventory/base.py#L101){target=\"_blank\" style=\"float:right; font-size:smaller\"}\n",
       "\n",
       "### BaseInventoryEnv.get_observation\n",
       "\n",
       ">      BaseInventoryEnv.get_observation ()\n",
       "\n",
       "*Return the current observation. This function is for the simple case where the observation\n",
       "is only an x,y pair. For more complex observations, this function should be overwritten.*"
      ]
     },
     "execution_count": null,
     "metadata": {},
     "output_type": "execute_result"
    }
   ],
   "source": [
    "show_doc(BaseInventoryEnv.get_observation)"
   ]
  },
  {
   "cell_type": "code",
   "execution_count": null,
   "metadata": {},
   "outputs": [],
   "source": []
  },
  {
   "cell_type": "code",
   "execution_count": null,
   "metadata": {},
   "outputs": [],
   "source": [
    "#| hide\n",
    "import nbdev; nbdev.nbdev_export()"
   ]
  },
  {
   "cell_type": "code",
   "execution_count": null,
   "metadata": {},
   "outputs": [],
   "source": []
  },
  {
   "cell_type": "code",
   "execution_count": null,
   "metadata": {},
   "outputs": [],
   "source": []
  }
 ],
 "metadata": {
  "kernelspec": {
   "display_name": "python3",
   "language": "python",
   "name": "python3"
  }
 },
 "nbformat": 4,
 "nbformat_minor": 4
}
