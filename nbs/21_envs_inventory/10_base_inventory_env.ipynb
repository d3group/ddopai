{
 "cells": [
  {
   "cell_type": "markdown",
   "metadata": {},
   "source": [
    "# Base inventory env\n",
    "\n",
    "> Base environment with some basic funcitons"
   ]
  },
  {
   "cell_type": "code",
   "execution_count": null,
   "metadata": {},
   "outputs": [],
   "source": [
    "#| default_exp envs.inventory.base"
   ]
  },
  {
   "cell_type": "code",
   "execution_count": null,
   "metadata": {},
   "outputs": [],
   "source": [
    "#| hide\n",
    "from nbdev.showdoc import *"
   ]
  },
  {
   "cell_type": "code",
   "execution_count": null,
   "metadata": {},
   "outputs": [],
   "source": [
    "#| export\n",
    "from abc import ABC, abstractmethod\n",
    "from typing import Union, Tuple\n",
    "\n",
    "from ddopnew.envs.base import BaseEnvironment\n",
    "from ddopnew.utils import Parameter, MDPInfo\n",
    "from ddopnew.dataloaders.base import BaseDataLoader\n",
    "from ddopnew.loss_functions import pinball_loss\n",
    "\n",
    "import gymnasium as gym\n",
    "\n",
    "import numpy as np\n",
    "import time"
   ]
  },
  {
   "cell_type": "code",
   "execution_count": null,
   "metadata": {},
   "outputs": [],
   "source": [
    "#| export\n",
    "class BaseInventoryEnv(BaseEnvironment):\n",
    "    \"\"\"\n",
    "    Base class for inventory management environments. This class inherits from BaseEnvironment.\n",
    "    \n",
    "    \"\"\"\n",
    "\n",
    "    def __init__(self, \n",
    "        mdp_info: MDPInfo, #\n",
    "        postprocessors: list[object] | None = None,  # default is empty list\n",
    "        mode: str = \"train\", # Initial mode (train, val, test) of the environment\n",
    "        return_truncation: str = True # whether to return a truncated condition in step function\n",
    "        ) -> None:\n",
    "\n",
    "        super().__init__(mdp_info=mdp_info, postprocessors = postprocessors,  mode = mode, return_truncation=return_truncation)\n",
    "    \n",
    "    def set_observation_space(self,\n",
    "                            shape: tuple, # shape of the dataloader features\n",
    "                            low: Union[np.ndarray, float] = -np.inf, # lower bound of the observation space\n",
    "                            high: Union[np.ndarray, float] = np.inf, # upper bound of the observation space\n",
    "                            samples_dim_included = True # whether the first dimension of the shape input is the number of samples\n",
    "                            ) -> None:\n",
    "        \n",
    "        '''\n",
    "        Set the observation space of the environment.\n",
    "        This is a standard function for simple observation spaces. For more complex observation spaces,\n",
    "        this function should be overwritten. Note that it is assumped that the first dimension\n",
    "        is n_samples that is not relevant for the observation space.\n",
    "\n",
    "        '''\n",
    "\n",
    "        # To handle cases when no external information is available (e.g., parametric NV)\n",
    "        \n",
    "        if shape is None:\n",
    "            self.observation_space = None\n",
    "\n",
    "        else:\n",
    "            if not isinstance(shape, tuple):\n",
    "                raise ValueError(\"Shape must be a tuple.\")\n",
    "            \n",
    "            if samples_dim_included:\n",
    "                shape = shape[1:] # assumed that the first dimension is the number of samples\n",
    "\n",
    "            self.observation_space = gym.spaces.Box(low=low, high=high, shape=shape, dtype=np.float32)\n",
    "\n",
    "    def set_action_space(self,\n",
    "                            shape: tuple, # shape of the dataloader target\n",
    "                            low: Union[np.ndarray, float] = -np.inf, # lower bound of the observation space\n",
    "                            high: Union[np.ndarray, float] = np.inf, # upper bound of the observation space\n",
    "                            samples_dim_included = True # whether the first dimension of the shape input is the number of samples\n",
    "                            ) -> None:\n",
    "        \n",
    "        '''\n",
    "        Set the action space of the environment.\n",
    "        This is a standard function for simple action spaces. For more complex action spaces,\n",
    "        this function should be overwritten. Note that it is assumped that the first dimension\n",
    "        is n_samples that is not relevant for the action space.\n",
    "        '''\n",
    "\n",
    "        if not isinstance(shape, tuple):\n",
    "            raise ValueError(\"Shape must be a tuple.\")\n",
    "        \n",
    "        if samples_dim_included:\n",
    "            shape = shape[1:] # assumed that the first dimension is the number of samples\n",
    "\n",
    "        self.action_space = gym.spaces.Box(low=low, high=high, shape=shape, dtype=np.float32)\n",
    "    \n",
    "    def get_observation(self):\n",
    "        \n",
    "        \"\"\"\n",
    "        Return the current observation. This function is for the simple case where the observation\n",
    "        is only an x,y pair. For more complex observations, this function should be overwritten.\n",
    "\n",
    "        \"\"\"\n",
    "\n",
    "        \n",
    "        X_item, Y_item = self.dataloader[self.index]\n",
    "\n",
    "        return X_item, Y_item"
   ]
  },
  {
   "cell_type": "code",
   "execution_count": null,
   "metadata": {},
   "outputs": [
    {
     "data": {
      "text/markdown": [
       "---\n",
       "\n",
       "[source](https://github.com/opimwue/ddopnew/blob/main/ddopnew/envs/inventory.py#L21){target=\"_blank\" style=\"float:right; font-size:smaller\"}\n",
       "\n",
       "## BaseInventoryEnv\n",
       "\n",
       ">      BaseInventoryEnv (mdp_info:ddopnew.utils.MDPInfo,\n",
       ">                        postprocessors:list[object]|None=None,\n",
       ">                        mode:str='train', return_truncation:str=True)\n",
       "\n",
       "*Base class for inventory management environments. This class inherits from BaseEnvironment.*\n",
       "\n",
       "|    | **Type** | **Default** | **Details** |\n",
       "| -- | -------- | ----------- | ----------- |\n",
       "| mdp_info | MDPInfo |  |  |\n",
       "| postprocessors | list[object] \\| None | None | default is empty list |\n",
       "| mode | str | train | Initial mode (train, val, test) of the environment |\n",
       "| return_truncation | str | True | whether to return a truncated condition in step function |\n",
       "| **Returns** | **None** |  |  |"
      ],
      "text/plain": [
       "---\n",
       "\n",
       "[source](https://github.com/opimwue/ddopnew/blob/main/ddopnew/envs/inventory.py#L21){target=\"_blank\" style=\"float:right; font-size:smaller\"}\n",
       "\n",
       "## BaseInventoryEnv\n",
       "\n",
       ">      BaseInventoryEnv (mdp_info:ddopnew.utils.MDPInfo,\n",
       ">                        postprocessors:list[object]|None=None,\n",
       ">                        mode:str='train', return_truncation:str=True)\n",
       "\n",
       "*Base class for inventory management environments. This class inherits from BaseEnvironment.*\n",
       "\n",
       "|    | **Type** | **Default** | **Details** |\n",
       "| -- | -------- | ----------- | ----------- |\n",
       "| mdp_info | MDPInfo |  |  |\n",
       "| postprocessors | list[object] \\| None | None | default is empty list |\n",
       "| mode | str | train | Initial mode (train, val, test) of the environment |\n",
       "| return_truncation | str | True | whether to return a truncated condition in step function |\n",
       "| **Returns** | **None** |  |  |"
      ]
     },
     "execution_count": null,
     "metadata": {},
     "output_type": "execute_result"
    }
   ],
   "source": [
    "show_doc(BaseInventoryEnv, title_level=2)"
   ]
  },
  {
   "cell_type": "code",
   "execution_count": null,
   "metadata": {},
   "outputs": [
    {
     "data": {
      "text/markdown": [
       "---\n",
       "\n",
       "[source](https://github.com/opimwue/ddopnew/blob/main/ddopnew/envs/inventory.py#L36){target=\"_blank\" style=\"float:right; font-size:smaller\"}\n",
       "\n",
       "### BaseInventoryEnv.set_observation_space\n",
       "\n",
       ">      BaseInventoryEnv.set_observation_space (shape:tuple,\n",
       ">                                              low:Union[numpy.ndarray,float]=-\n",
       ">                                              inf, high:Union[numpy.ndarray,flo\n",
       ">                                              at]=inf,\n",
       ">                                              samples_dim_included=True)\n",
       "\n",
       "*Set the observation space of the environment.\n",
       "This is a standard function for simple observation spaces. For more complex observation spaces,\n",
       "this function should be overwritten. Note that it is assumped that the first dimension\n",
       "is n_samples that is not relevant for the observation space.*\n",
       "\n",
       "|    | **Type** | **Default** | **Details** |\n",
       "| -- | -------- | ----------- | ----------- |\n",
       "| shape | tuple |  | shape of the dataloader features |\n",
       "| low | Union | -inf | lower bound of the observation space |\n",
       "| high | Union | inf | upper bound of the observation space |\n",
       "| samples_dim_included | bool | True | whether the first dimension of the shape input is the number of samples |\n",
       "| **Returns** | **None** |  |  |"
      ],
      "text/plain": [
       "---\n",
       "\n",
       "[source](https://github.com/opimwue/ddopnew/blob/main/ddopnew/envs/inventory.py#L36){target=\"_blank\" style=\"float:right; font-size:smaller\"}\n",
       "\n",
       "### BaseInventoryEnv.set_observation_space\n",
       "\n",
       ">      BaseInventoryEnv.set_observation_space (shape:tuple,\n",
       ">                                              low:Union[numpy.ndarray,float]=-\n",
       ">                                              inf, high:Union[numpy.ndarray,flo\n",
       ">                                              at]=inf,\n",
       ">                                              samples_dim_included=True)\n",
       "\n",
       "*Set the observation space of the environment.\n",
       "This is a standard function for simple observation spaces. For more complex observation spaces,\n",
       "this function should be overwritten. Note that it is assumped that the first dimension\n",
       "is n_samples that is not relevant for the observation space.*\n",
       "\n",
       "|    | **Type** | **Default** | **Details** |\n",
       "| -- | -------- | ----------- | ----------- |\n",
       "| shape | tuple |  | shape of the dataloader features |\n",
       "| low | Union | -inf | lower bound of the observation space |\n",
       "| high | Union | inf | upper bound of the observation space |\n",
       "| samples_dim_included | bool | True | whether the first dimension of the shape input is the number of samples |\n",
       "| **Returns** | **None** |  |  |"
      ]
     },
     "execution_count": null,
     "metadata": {},
     "output_type": "execute_result"
    }
   ],
   "source": [
    "show_doc(BaseInventoryEnv.set_observation_space)"
   ]
  },
  {
   "cell_type": "code",
   "execution_count": null,
   "metadata": {},
   "outputs": [
    {
     "data": {
      "text/markdown": [
       "---\n",
       "\n",
       "[source](https://github.com/opimwue/ddopnew/blob/main/ddopnew/envs/inventory.py#L65){target=\"_blank\" style=\"float:right; font-size:smaller\"}\n",
       "\n",
       "### BaseInventoryEnv.set_action_space\n",
       "\n",
       ">      BaseInventoryEnv.set_action_space (shape:tuple,\n",
       ">                                         low:Union[numpy.ndarray,float]=-inf,\n",
       ">                                         high:Union[numpy.ndarray,float]=inf,\n",
       ">                                         samples_dim_included=True)\n",
       "\n",
       "*Set the action space of the environment.\n",
       "This is a standard function for simple action spaces. For more complex action spaces,\n",
       "this function should be overwritten. Note that it is assumped that the first dimension\n",
       "is n_samples that is not relevant for the action space.*\n",
       "\n",
       "|    | **Type** | **Default** | **Details** |\n",
       "| -- | -------- | ----------- | ----------- |\n",
       "| shape | tuple |  | shape of the dataloader target |\n",
       "| low | Union | -inf | lower bound of the observation space |\n",
       "| high | Union | inf | upper bound of the observation space |\n",
       "| samples_dim_included | bool | True | whether the first dimension of the shape input is the number of samples |\n",
       "| **Returns** | **None** |  |  |"
      ],
      "text/plain": [
       "---\n",
       "\n",
       "[source](https://github.com/opimwue/ddopnew/blob/main/ddopnew/envs/inventory.py#L65){target=\"_blank\" style=\"float:right; font-size:smaller\"}\n",
       "\n",
       "### BaseInventoryEnv.set_action_space\n",
       "\n",
       ">      BaseInventoryEnv.set_action_space (shape:tuple,\n",
       ">                                         low:Union[numpy.ndarray,float]=-inf,\n",
       ">                                         high:Union[numpy.ndarray,float]=inf,\n",
       ">                                         samples_dim_included=True)\n",
       "\n",
       "*Set the action space of the environment.\n",
       "This is a standard function for simple action spaces. For more complex action spaces,\n",
       "this function should be overwritten. Note that it is assumped that the first dimension\n",
       "is n_samples that is not relevant for the action space.*\n",
       "\n",
       "|    | **Type** | **Default** | **Details** |\n",
       "| -- | -------- | ----------- | ----------- |\n",
       "| shape | tuple |  | shape of the dataloader target |\n",
       "| low | Union | -inf | lower bound of the observation space |\n",
       "| high | Union | inf | upper bound of the observation space |\n",
       "| samples_dim_included | bool | True | whether the first dimension of the shape input is the number of samples |\n",
       "| **Returns** | **None** |  |  |"
      ]
     },
     "execution_count": null,
     "metadata": {},
     "output_type": "execute_result"
    }
   ],
   "source": [
    "show_doc(BaseInventoryEnv.set_action_space)"
   ]
  },
  {
   "cell_type": "code",
   "execution_count": null,
   "metadata": {},
   "outputs": [
    {
     "data": {
      "text/markdown": [
       "---\n",
       "\n",
       "[source](https://github.com/opimwue/ddopnew/blob/main/ddopnew/envs/inventory.py#L87){target=\"_blank\" style=\"float:right; font-size:smaller\"}\n",
       "\n",
       "### BaseInventoryEnv.get_observation\n",
       "\n",
       ">      BaseInventoryEnv.get_observation ()\n",
       "\n",
       "*Return the current observation. This function is for the simple case where the observation\n",
       "is only an x,y pair. For more complex observations, this function should be overwritten.*"
      ],
      "text/plain": [
       "---\n",
       "\n",
       "[source](https://github.com/opimwue/ddopnew/blob/main/ddopnew/envs/inventory.py#L87){target=\"_blank\" style=\"float:right; font-size:smaller\"}\n",
       "\n",
       "### BaseInventoryEnv.get_observation\n",
       "\n",
       ">      BaseInventoryEnv.get_observation ()\n",
       "\n",
       "*Return the current observation. This function is for the simple case where the observation\n",
       "is only an x,y pair. For more complex observations, this function should be overwritten.*"
      ]
     },
     "execution_count": null,
     "metadata": {},
     "output_type": "execute_result"
    }
   ],
   "source": [
    "show_doc(BaseInventoryEnv.get_observation)"
   ]
  },
  {
   "cell_type": "code",
   "execution_count": null,
   "metadata": {},
   "outputs": [],
   "source": [
    "#| hide\n",
    "import nbdev; nbdev.nbdev_export()"
   ]
  },
  {
   "cell_type": "code",
   "execution_count": null,
   "metadata": {},
   "outputs": [],
   "source": []
  },
  {
   "cell_type": "code",
   "execution_count": null,
   "metadata": {},
   "outputs": [],
   "source": []
  }
 ],
 "metadata": {
  "kernelspec": {
   "display_name": "python3",
   "language": "python",
   "name": "python3"
  }
 },
 "nbformat": 4,
 "nbformat_minor": 4
}
