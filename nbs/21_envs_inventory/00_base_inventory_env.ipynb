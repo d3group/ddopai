{
 "cells": [
  {
   "cell_type": "markdown",
   "metadata": {},
   "source": [
    "# Inventory Management Environments\n",
    "\n",
    "> To be written."
   ]
  },
  {
   "cell_type": "code",
   "execution_count": null,
   "metadata": {},
   "outputs": [],
   "source": [
    "#| default_exp envs.inventorya"
   ]
  },
  {
   "cell_type": "code",
   "execution_count": null,
   "metadata": {},
   "outputs": [],
   "source": [
    "#| hide\n",
    "from nbdev.showdoc import *"
   ]
  },
  {
   "cell_type": "code",
   "execution_count": null,
   "metadata": {},
   "outputs": [],
   "source": [
    "#| export\n",
    "\n",
    "import numpy as np\n",
    "from ddopnew.utils import MDPInfo\n",
    "\n",
    "import gymnasium as gym\n",
    "from typing import Union\n",
    "\n",
    "from ddopnew.envs.base import BaseEnvironment"
   ]
  },
  {
   "cell_type": "code",
   "execution_count": null,
   "metadata": {},
   "outputs": [],
   "source": [
    "#| export\n",
    "class BaseInventoryEnv(BaseEnvironment):\n",
    "    def __init__(self, mdp_info: MDPInfo) -> None:\n",
    "        \"\"\"\n",
    "        Constructor.\n",
    "\n",
    "        Args:\n",
    "            mdp_info (MDPInfo): the information of the environment;\n",
    "            kwargs (dict): the keyword arguments to set the environment.\n",
    "\n",
    "        # TODO check if this class is necessary\n",
    "            \n",
    "        \"\"\"\n",
    "        super().__init__(mdp_info)\n",
    "    \n",
    "    def set_observation_space(self, shape: tuple, low: Union[np.ndarray, float] = -np.inf, high: Union[np.ndarray, float] = np.inf) -> None:\n",
    "        '''\n",
    "        Set the observation space of the environment.\n",
    "        This is a standard function for simple observation spaces. For more complex observation spaces,\n",
    "        this function should be overwritten. Note that it is assumped that the first dimension\n",
    "        is the n_samples that is not relevant for the observation space.\n",
    "\n",
    "        '''\n",
    "        if shape is not None:\n",
    "            if not isinstance(shape, tuple):\n",
    "                raise ValueError(\"Shape must be a tuple.\")\n",
    "            \n",
    "            shape = shape[1:] # assumed that the first dimension is the number of samples\n",
    "\n",
    "            self.observation_space = gym.spaces.Box(low=low, high=high, shape=shape, dtype=np.float32)\n",
    "        else:\n",
    "            self.observation_space = None\n",
    "\n",
    "    def set_action_space(self, shape: tuple, low: Union[np.ndarray, float] = 0, high: Union[np.ndarray, float] = np.inf) -> None:\n",
    "        '''\n",
    "        Set the action space of the environment.\n",
    "        This is a standard function for simple action spaces. For more complex action spaces,\n",
    "        this function should be overwritten. Note that it is assumped that the first dimension\n",
    "        is the n_samples that is not relevant for the action space.\n",
    "\n",
    "        '''\n",
    "        if not isinstance(shape, tuple):\n",
    "            raise ValueError(\"Shape must be a tuple.\")\n",
    "        \n",
    "        shape = shape[1:] # assumed that the first dimension is the number of samples\n",
    "\n",
    "        self.action_space = gym.spaces.Box(low=low, high=high, shape=shape, dtype=np.float32)\n",
    "    \n",
    "    def get_observation(self):\n",
    "        \"\"\"\n",
    "        Return the current observation. This function is for the simple case where the observation\n",
    "        is only an x,y pair. For more complex observations, this function should be overwritten.\n",
    "\n",
    "        \"\"\"\n",
    "        X_item, Y_item = self.dataloader[self.index]\n",
    "        return X_item, Y_item"
   ]
  },
  {
   "cell_type": "code",
   "execution_count": null,
   "metadata": {},
   "outputs": [],
   "source": [
    "#| hide\n",
    "import nbdev; nbdev.nbdev_export()"
   ]
  },
  {
   "cell_type": "code",
   "execution_count": null,
   "metadata": {},
   "outputs": [],
   "source": []
  }
 ],
 "metadata": {
  "kernelspec": {
   "display_name": "python3",
   "language": "python",
   "name": "python3"
  }
 },
 "nbformat": 4,
 "nbformat_minor": 4
}
