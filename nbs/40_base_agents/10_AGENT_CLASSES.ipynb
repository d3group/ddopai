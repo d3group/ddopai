{
 "cells": [
  {
   "cell_type": "markdown",
   "metadata": {},
   "source": [
    "# Agent classes\n",
    "\n",
    "> Dict of agent classes and (standard) agent names to allow for dynamic loading of agents."
   ]
  },
  {
   "cell_type": "code",
   "execution_count": null,
   "metadata": {},
   "outputs": [],
   "source": [
    "#| default_exp agents.class_names"
   ]
  },
  {
   "cell_type": "code",
   "execution_count": null,
   "metadata": {},
   "outputs": [],
   "source": [
    "#| hide\n",
    "from nbdev.showdoc import *"
   ]
  },
  {
   "cell_type": "code",
   "execution_count": null,
   "metadata": {},
   "outputs": [],
   "source": [
    "#| export\n",
    "AGENT_CLASSES = {\n",
    "    \"RandomAgent\": \"ddopnew.agents.saa.SAA\",\n",
    "\n",
    "    \"SAA\": \"ddopnew.agents.newsvendor.saa.NewsvendorSAAagent\",\n",
    "    \"wSAA\": \"ddopnew.agents.newsvendor.saa.NewsvendorRFwSAAagent\",\n",
    "    \"RFwSAA\": \"ddopnew.agents.newsvendor.saa.NewsvendorRFwSAAagent\",\n",
    "\n",
    "    \"lERM\": \"ddopnew.agents.newsvendor.erm.NewsvendorlERMAgent\",\n",
    "    \"DLNV\": \"ddopnew.agents.newsvendor.erm.NewsvendorDLAgent\",\n",
    "    \"DLNVRNN\": \"ddopnew.agents.newsvendor.erm.NewsvendorDLRNNAgent\",\n",
    "    \"DLNVTransformer\": \"ddopnew.agents.newsvendor.erm.NewsvendorDLTransformerAgent\",\n",
    "\n",
    "    \"lERMMeta\": \"ddopnew.agents.newsvendor.erm.NewsvendorlERMMetaAgent\",\n",
    "    \"DLNVMeta\": \"ddopnew.agents.newsvendor.erm.NewsvendorDLMetaAgent\",\n",
    "    \"DLNVRNNMeta\": \"ddopnew.agents.newsvendor.erm.NewsvendorDLRNNMetaAgent\",\n",
    "    \"DLNVTransformerMeta\": \"ddopnew.agents.newsvendor.erm.NewsvendorDLTransformerMetaAgent\",\n",
    "\n",
    "    \"SAC\": \"ddopnew.agents.rl.sac.SACAgent\",\n",
    "    \"SACRNN\": \"ddopnew.agents.rl.sac.SACRNNAgent\",\n",
    "\n",
    "    \"TD3\": \"ddopnew.agents.rl.td3.TD3Agent\",\n",
    "    \"PPO\": \"ddopnew.agents.rl.ppo.PPOAgent\",\n",
    "}"
   ]
  },
  {
   "cell_type": "code",
   "execution_count": null,
   "metadata": {},
   "outputs": [],
   "source": [
    "#| hide\n",
    "import nbdev; nbdev.nbdev_export()"
   ]
  }
 ],
 "metadata": {
  "kernelspec": {
   "display_name": "python3",
   "language": "python",
   "name": "python3"
  }
 },
 "nbformat": 4,
 "nbformat_minor": 4
}
