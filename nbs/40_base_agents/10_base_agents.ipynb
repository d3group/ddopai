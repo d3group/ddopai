{
 "cells": [
  {
   "cell_type": "markdown",
   "metadata": {},
   "source": [
    "# Base agents\n",
    "\n",
    "> Base agent that all agents shall inherit from"
   ]
  },
  {
   "cell_type": "code",
   "execution_count": null,
   "metadata": {},
   "outputs": [],
   "source": [
    "#| default_exp agents.base"
   ]
  },
  {
   "cell_type": "code",
   "execution_count": null,
   "metadata": {},
   "outputs": [],
   "source": [
    "import logging\n",
    "logging_level = logging.DEBUG"
   ]
  },
  {
   "cell_type": "code",
   "execution_count": null,
   "metadata": {},
   "outputs": [],
   "source": [
    "#| hide\n",
    "from nbdev.showdoc import *"
   ]
  },
  {
   "cell_type": "code",
   "execution_count": null,
   "metadata": {},
   "outputs": [],
   "source": [
    "#| export\n",
    "\n",
    "\n",
    "from abc import ABC, abstractmethod\n",
    "from typing import Union, Optional, List, Tuple\n",
    "import numpy as np\n",
    "\n",
    "from ddopnew.envs.base import BaseEnvironment\n",
    "from ddopnew.utils import MDPInfo, Parameter\n",
    "import numbers\n",
    "\n",
    "# # TEMPORARY\n",
    "# from sklearn.utils.validation import check_array\n",
    "# import numbers"
   ]
  },
  {
   "cell_type": "code",
   "execution_count": null,
   "metadata": {},
   "outputs": [],
   "source": [
    "#| export\n",
    "\n",
    "class BaseAgent():\n",
    "\n",
    "    \"\"\"  \n",
    "    Base class for all agents to enforce a common interface. See below for more detailed description of the requriements.\n",
    "\n",
    "    \"\"\"\n",
    "\n",
    "    train_mode = \"direct_fit\" # or \"epochs_fit\" or \"env_interaction\"\n",
    "    \n",
    "    def __init__(self,\n",
    "                    environment_info: MDPInfo,\n",
    "                    obsprocessors: list[object] | None = None,  # default is empty list\n",
    "                    agent_name: str | None = None,\n",
    "                    receive_batch_dim: bool = False\n",
    "                 ):\n",
    "\n",
    "        self.obsprocessors = obsprocessors or []\n",
    "\n",
    "        self.environment_info = environment_info\n",
    "        self.mode = \"train\"\n",
    "        self.print = False  # Can be used for debugging\n",
    "        self.receive_batch_dim = receive_batch_dim\n",
    "\n",
    "        self.agent_name = agent_name\n",
    "\n",
    "    def draw_action(self, observation: np.ndarray) -> np.ndarray: #\n",
    "\n",
    "        \"\"\"\n",
    "        Main interfrace to the environemnt. Applies preprocessors to the observation.\n",
    "        Internal logic of the agent to be implemented in draw_action_ method.\n",
    "        \"\"\"\n",
    "\n",
    "        batch_added = False\n",
    "        if not isinstance(observation, dict):\n",
    "            observation = self.add_batch_dim(observation) # adds batch dim if self.receive_batch_dim is False\n",
    "            batch_added = True\n",
    "\n",
    "        for obsprocessor in self.obsprocessors:\n",
    "            observation = obsprocessor(observation) # applies all preprocessors to the dict observation\n",
    "            if not isinstance(observation, dict) and not batch_added: # checks if one of the processors has removed the dict structure\n",
    "                observation = self.add_batch_dim(observation) # adds batch dim afterwards, if self.receive_batch_dim is False    \n",
    "                batch_added = True\n",
    "\n",
    "        action = self.draw_action_(observation)\n",
    "\n",
    "        return action\n",
    "\n",
    "    @abstractmethod\n",
    "    def draw_action_(self, observation: np.ndarray) -> np.ndarray: #\n",
    "        \"\"\"Generate an action based on the observation - this is the core method that needs to be implemented by all agents.\"\"\"\n",
    "        pass\n",
    "\n",
    "    def add_obsprocessor(self, obsprocessor: object): # pre-processor object that can be called via the \"__call__\" method\n",
    "        \"\"\"Add a preprocessor to the agent\"\"\"\n",
    "        self.obsprocessors.append(obsprocessor)\n",
    "\n",
    "    def train(self):\n",
    "        \"\"\"Set the internal state of the agent to train\"\"\"\n",
    "        self.mode = \"train\"\n",
    "        \n",
    "    def eval(self):\n",
    "        \"\"\"\n",
    "        Set the internal state of the agent to eval. Note that for agents we do not differentiate between val and test modes.\n",
    "\n",
    "        \"\"\"\n",
    "        self.mode = \"eval\"\n",
    "    \n",
    "    def add_batch_dim(self, input: np.ndarray) -> np.ndarray: #\n",
    "        \n",
    "        \"\"\"\n",
    "        Add a batch dimension to the input array if it doesn't already have one.\n",
    "        This is necessary because most environments do not have a batch dimension, but agents typically expect one.\n",
    "        If the environment does have a batch dimension, the agent can set the receive_batch_dim attribute to True to skip this step.\n",
    "\n",
    "        \"\"\"\n",
    "\n",
    "        if self.receive_batch_dim:\n",
    "            # If the batch dimension is expected, return the input as is\n",
    "            return input\n",
    "        else:\n",
    "            # Add a batch dimension by expanding the dimensions of the input\n",
    "            return np.expand_dims(input, axis=0)\n",
    "        \n",
    "    def save(self):\n",
    "        \"\"\"Save the agent's parameters to a file.\"\"\"\n",
    "        raise NotImplementedError(\"This agent does not have a save method implemented.\")\n",
    "\n",
    "    def load(self):\n",
    "        \"\"\"Load the agent's parameters from a file.\"\"\"\n",
    "        raise NotImplementedError(\"This agent does not have a load method implemented.\")\n",
    "\n",
    "    @staticmethod\n",
    "    def update_model_params(default_params: dict, custom_params: dict) -> dict: #\n",
    "        \"\"\" override default parameters with custom parameters in a dictionary\"\"\"\n",
    "        updated_params = default_params.copy()\n",
    "        updated_params.update(custom_params)\n",
    "        return updated_params\n",
    "\n",
    "    @staticmethod\n",
    "    def convert_to_numpy_array(\n",
    "        input: np.ndarray | List | float | int | Parameter | None #\n",
    "    ):\n",
    "\n",
    "        \"\"\"convert input to numpy array or keep as Parameter\"\"\"\n",
    "\n",
    "        if isinstance(input, np.ndarray):\n",
    "            return input\n",
    "        elif isinstance(input, (list, numbers.Number)):\n",
    "            return np.array(input)\n",
    "        elif isinstance(input, Parameter):\n",
    "            return input\n",
    "        else:\n",
    "            raise ValueError(\"Input type not recognized.\")\n",
    "\n",
    "    @staticmethod\n",
    "    def convert_recursively_to_int(\n",
    "        input = List | Tuple, #\n",
    "    ) -> List | Tuple:\n",
    "\n",
    "        \"\"\"convert all elements of a list or tuple to int\"\"\"\n",
    "\n",
    "        if isinstance(input, list):\n",
    "            return [BaseAgent.convert_recursively_to_int(item) for item in input]\n",
    "        elif isinstance(input, tuple):\n",
    "            return tuple(BaseAgent.convert_recursively_to_int(item) for item in input)\n",
    "        else:\n",
    "            # If it's not a list or tuple, convert to int directly\n",
    "            return int(input)"
   ]
  },
  {
   "cell_type": "code",
   "execution_count": null,
   "metadata": {},
   "outputs": [
    {
     "data": {
      "text/markdown": [
       "---\n",
       "\n",
       "[source](https://github.com/opimwue/ddopnew/blob/main/ddopnew/agents/base.py#L20){target=\"_blank\" style=\"float:right; font-size:smaller\"}\n",
       "\n",
       "## BaseAgent\n",
       "\n",
       ">      BaseAgent (environment_info:ddopnew.utils.MDPInfo,\n",
       ">                 obsprocessors:list[object]|None=None,\n",
       ">                 agent_name:str|None=None, receive_batch_dim:bool=False)\n",
       "\n",
       "*Base class for all agents to enforce a common interface. See below for more detailed description of the requriements.*\n",
       "\n",
       "|    | **Type** | **Default** | **Details** |\n",
       "| -- | -------- | ----------- | ----------- |\n",
       "| environment_info | MDPInfo |  |  |\n",
       "| obsprocessors | list[object] \\| None | None | default is empty list |\n",
       "| agent_name | str \\| None | None |  |\n",
       "| receive_batch_dim | bool | False |  |"
      ],
      "text/plain": [
       "---\n",
       "\n",
       "[source](https://github.com/opimwue/ddopnew/blob/main/ddopnew/agents/base.py#L20){target=\"_blank\" style=\"float:right; font-size:smaller\"}\n",
       "\n",
       "## BaseAgent\n",
       "\n",
       ">      BaseAgent (environment_info:ddopnew.utils.MDPInfo,\n",
       ">                 obsprocessors:list[object]|None=None,\n",
       ">                 agent_name:str|None=None, receive_batch_dim:bool=False)\n",
       "\n",
       "*Base class for all agents to enforce a common interface. See below for more detailed description of the requriements.*\n",
       "\n",
       "|    | **Type** | **Default** | **Details** |\n",
       "| -- | -------- | ----------- | ----------- |\n",
       "| environment_info | MDPInfo |  |  |\n",
       "| obsprocessors | list[object] \\| None | None | default is empty list |\n",
       "| agent_name | str \\| None | None |  |\n",
       "| receive_batch_dim | bool | False |  |"
      ]
     },
     "execution_count": null,
     "metadata": {},
     "output_type": "execute_result"
    }
   ],
   "source": [
    "show_doc(BaseAgent, title_level=2)"
   ]
  },
  {
   "cell_type": "markdown",
   "metadata": {},
   "source": [
    "### Important notes:\n",
    "\n",
    "Agents are, next to the environments, the core element of this library. The agents are the algorithms that take actions in the environment. They can be any type of algorithms ranging from optimization, supervised learning to reinforcement learning and any combination. Key for all the different agents to work is a common interface that allows them to interact with the environment.\n",
    "\n",
    "**Draw action**:\n",
    "\n",
    "* The ```draw_action``` function is the main interface with the environment. It receives an observation as Numpy array and returns an action as Numpy array. The function ```draw_action``` is defined in the ```BaseAgent``` and should not be overwritten as it properly applies pre- and post-processing (see below). \n",
    "\n",
    "* Agents always expect the observation to be of shape (batch_size, observation_dim) or (batch_size, time_dim, observation_dim) to allow batch-processing during training. Most environment do not have a batch dimension as they apply the step function to a single observation. Hence, the agent will by default add an extra dimension to the observation. If this is not desired, the agent has an attribute \"receive_batch_dim\" that can be set to True to tell the agent that the observation already has a batch dimension.\n",
    "\n",
    "* To create an agent, the function ```draw_action_``` (note the underscore!) needs to be defined that gets the pre-processed observation and returns the action for post-processing. This function should be overwritten in the derived class.\n",
    "\n",
    "**observation pre-processors and action post-processors**:\n",
    "\n",
    "* Sometimes, it is necessary to process the observartion before giving it to the agent (e.g., changing shape) or to process the action before giving it to the environment (e.g., rounding). To ensure compatibility with mushroom_rl, the pre-processors sit with the agent (they must be added to the agent and are applied in the agent's ```draw_action()``` method). The post-processors sit with the environment and are applied in the environment's ```step()``` method.\n",
    "\n",
    "* To differenciate the pre-processors here from the pre-processors used directly inside mushroom_rl, we call them **obsprocessors**, short for observation pre-processors.\n",
    "\n",
    "* During definition, one can already add the obsprocessors as lists (to the argument ```obsprocessors```). After instantiation, processors are to be added using the  ```add_obsprocessor``` method.\n",
    "\n",
    "* Note that processors are applied in the order they are added.\n",
    "\n",
    "**Training**:\n",
    "\n",
    "* The ```run_experiment```function in this library currently supports three types of training processes:\n",
    "    * ```train_directly```: The agent is trained by calling agent.fit(X, Y) directly. In this case, the agent must have a fit function that takes the input and target data.\n",
    "    * ```train_epochs```: The agent is iteratively trained on the training data (e.g., via SGD). In this case, the function ```fit_epoch``` must be implemented. ```fit_epoch``` does not get any argument, rather the dataloader from the environment needs to be given to the agent during initialization. The agent will then call the dataloader interatively to get the training data.\n",
    "    * ```env_interaction```: The agent is trained by interacting with the environment (e.g., like all reinforcement learning agents). This case build on the ```Core``` class from MushroomRL. \n",
    "\n",
    "**Loading and saving**:\n",
    "\n",
    "* All agents must implement a save and load function that allows to save and load the agent's parameters. See the Newsvendor ERM and (w)SAA agents for examples of different ways to save and load agents.\n",
    "\n",
    "\n",
    "**Dymamic class loading**:\n",
    "\n",
    "* This package allows to load agents dynamically with the ```select_agent``` function that takes a string as input and returns the corresponding agent class. When creating new agents, make sure to add them to **10_AGENT_CLASSES.ipynb** under the base agents folder with an appropriate name."
   ]
  },
  {
   "cell_type": "code",
   "execution_count": null,
   "metadata": {},
   "outputs": [
    {
     "data": {
      "text/markdown": [
       "---\n",
       "\n",
       "[source](https://github.com/opimwue/ddopnew/blob/main/ddopnew/agents/base.py#L45){target=\"_blank\" style=\"float:right; font-size:smaller\"}\n",
       "\n",
       "### BaseAgent.draw_action\n",
       "\n",
       ">      BaseAgent.draw_action (observation:numpy.ndarray)\n",
       "\n",
       "*Main interfrace to the environemnt. Applies preprocessors to the observation.\n",
       "Internal logic of the agent to be implemented in draw_action_ method.*\n",
       "\n",
       "|    | **Type** | **Details** |\n",
       "| -- | -------- | ----------- |\n",
       "| observation | ndarray |  |\n",
       "| **Returns** | **ndarray** |  |"
      ],
      "text/plain": [
       "---\n",
       "\n",
       "[source](https://github.com/opimwue/ddopnew/blob/main/ddopnew/agents/base.py#L45){target=\"_blank\" style=\"float:right; font-size:smaller\"}\n",
       "\n",
       "### BaseAgent.draw_action\n",
       "\n",
       ">      BaseAgent.draw_action (observation:numpy.ndarray)\n",
       "\n",
       "*Main interfrace to the environemnt. Applies preprocessors to the observation.\n",
       "Internal logic of the agent to be implemented in draw_action_ method.*\n",
       "\n",
       "|    | **Type** | **Details** |\n",
       "| -- | -------- | ----------- |\n",
       "| observation | ndarray |  |\n",
       "| **Returns** | **ndarray** |  |"
      ]
     },
     "execution_count": null,
     "metadata": {},
     "output_type": "execute_result"
    }
   ],
   "source": [
    "show_doc(BaseAgent.draw_action)"
   ]
  },
  {
   "cell_type": "code",
   "execution_count": null,
   "metadata": {},
   "outputs": [
    {
     "data": {
      "text/markdown": [
       "---\n",
       "\n",
       "[source](https://github.com/opimwue/ddopnew/blob/main/ddopnew/agents/base.py#L68){target=\"_blank\" style=\"float:right; font-size:smaller\"}\n",
       "\n",
       "### BaseAgent.draw_action_\n",
       "\n",
       ">      BaseAgent.draw_action_ (observation:numpy.ndarray)\n",
       "\n",
       "*Generate an action based on the observation - this is the core method that needs to be implemented by all agents.*\n",
       "\n",
       "|    | **Type** | **Details** |\n",
       "| -- | -------- | ----------- |\n",
       "| observation | ndarray |  |\n",
       "| **Returns** | **ndarray** |  |"
      ],
      "text/plain": [
       "---\n",
       "\n",
       "[source](https://github.com/opimwue/ddopnew/blob/main/ddopnew/agents/base.py#L68){target=\"_blank\" style=\"float:right; font-size:smaller\"}\n",
       "\n",
       "### BaseAgent.draw_action_\n",
       "\n",
       ">      BaseAgent.draw_action_ (observation:numpy.ndarray)\n",
       "\n",
       "*Generate an action based on the observation - this is the core method that needs to be implemented by all agents.*\n",
       "\n",
       "|    | **Type** | **Details** |\n",
       "| -- | -------- | ----------- |\n",
       "| observation | ndarray |  |\n",
       "| **Returns** | **ndarray** |  |"
      ]
     },
     "execution_count": null,
     "metadata": {},
     "output_type": "execute_result"
    }
   ],
   "source": [
    "show_doc(BaseAgent.draw_action_)"
   ]
  },
  {
   "cell_type": "code",
   "execution_count": null,
   "metadata": {},
   "outputs": [
    {
     "data": {
      "text/markdown": [
       "---\n",
       "\n",
       "[source](https://github.com/opimwue/ddopnew/blob/main/ddopnew/agents/base.py#L72){target=\"_blank\" style=\"float:right; font-size:smaller\"}\n",
       "\n",
       "### BaseAgent.add_obsprocessor\n",
       "\n",
       ">      BaseAgent.add_obsprocessor (obsprocessor:object)\n",
       "\n",
       "*Add a preprocessor to the agent*\n",
       "\n",
       "|    | **Type** | **Details** |\n",
       "| -- | -------- | ----------- |\n",
       "| obsprocessor | object | pre-processor object that can be called via the \"__call__\" method |"
      ],
      "text/plain": [
       "---\n",
       "\n",
       "[source](https://github.com/opimwue/ddopnew/blob/main/ddopnew/agents/base.py#L72){target=\"_blank\" style=\"float:right; font-size:smaller\"}\n",
       "\n",
       "### BaseAgent.add_obsprocessor\n",
       "\n",
       ">      BaseAgent.add_obsprocessor (obsprocessor:object)\n",
       "\n",
       "*Add a preprocessor to the agent*\n",
       "\n",
       "|    | **Type** | **Details** |\n",
       "| -- | -------- | ----------- |\n",
       "| obsprocessor | object | pre-processor object that can be called via the \"__call__\" method |"
      ]
     },
     "execution_count": null,
     "metadata": {},
     "output_type": "execute_result"
    }
   ],
   "source": [
    "show_doc(BaseAgent.add_obsprocessor)"
   ]
  },
  {
   "cell_type": "code",
   "execution_count": null,
   "metadata": {},
   "outputs": [
    {
     "data": {
      "text/markdown": [
       "---\n",
       "\n",
       "[source](https://github.com/opimwue/ddopnew/blob/main/ddopnew/agents/base.py#L76){target=\"_blank\" style=\"float:right; font-size:smaller\"}\n",
       "\n",
       "### BaseAgent.train\n",
       "\n",
       ">      BaseAgent.train ()\n",
       "\n",
       "*Set the internal state of the agent to train*"
      ],
      "text/plain": [
       "---\n",
       "\n",
       "[source](https://github.com/opimwue/ddopnew/blob/main/ddopnew/agents/base.py#L76){target=\"_blank\" style=\"float:right; font-size:smaller\"}\n",
       "\n",
       "### BaseAgent.train\n",
       "\n",
       ">      BaseAgent.train ()\n",
       "\n",
       "*Set the internal state of the agent to train*"
      ]
     },
     "execution_count": null,
     "metadata": {},
     "output_type": "execute_result"
    }
   ],
   "source": [
    "show_doc(BaseAgent.train)"
   ]
  },
  {
   "cell_type": "code",
   "execution_count": null,
   "metadata": {},
   "outputs": [
    {
     "data": {
      "text/markdown": [
       "---\n",
       "\n",
       "[source](https://github.com/opimwue/ddopnew/blob/main/ddopnew/agents/base.py#L80){target=\"_blank\" style=\"float:right; font-size:smaller\"}\n",
       "\n",
       "### BaseAgent.eval\n",
       "\n",
       ">      BaseAgent.eval ()\n",
       "\n",
       "*Set the internal state of the agent to eval. Note that for agents we do not differentiate between val and test modes.*"
      ],
      "text/plain": [
       "---\n",
       "\n",
       "[source](https://github.com/opimwue/ddopnew/blob/main/ddopnew/agents/base.py#L80){target=\"_blank\" style=\"float:right; font-size:smaller\"}\n",
       "\n",
       "### BaseAgent.eval\n",
       "\n",
       ">      BaseAgent.eval ()\n",
       "\n",
       "*Set the internal state of the agent to eval. Note that for agents we do not differentiate between val and test modes.*"
      ]
     },
     "execution_count": null,
     "metadata": {},
     "output_type": "execute_result"
    }
   ],
   "source": [
    "show_doc(BaseAgent.eval)"
   ]
  },
  {
   "cell_type": "code",
   "execution_count": null,
   "metadata": {},
   "outputs": [
    {
     "data": {
      "text/markdown": [
       "---\n",
       "\n",
       "[source](https://github.com/opimwue/ddopnew/blob/main/ddopnew/agents/base.py#L87){target=\"_blank\" style=\"float:right; font-size:smaller\"}\n",
       "\n",
       "### BaseAgent.add_batch_dim\n",
       "\n",
       ">      BaseAgent.add_batch_dim (input:numpy.ndarray)\n",
       "\n",
       "*Add a batch dimension to the input array if it doesn't already have one.\n",
       "This is necessary because most environments do not have a batch dimension, but agents typically expect one.\n",
       "If the environment does have a batch dimension, the agent can set the receive_batch_dim attribute to True to skip this step.*\n",
       "\n",
       "|    | **Type** | **Details** |\n",
       "| -- | -------- | ----------- |\n",
       "| input | ndarray |  |\n",
       "| **Returns** | **ndarray** |  |"
      ],
      "text/plain": [
       "---\n",
       "\n",
       "[source](https://github.com/opimwue/ddopnew/blob/main/ddopnew/agents/base.py#L87){target=\"_blank\" style=\"float:right; font-size:smaller\"}\n",
       "\n",
       "### BaseAgent.add_batch_dim\n",
       "\n",
       ">      BaseAgent.add_batch_dim (input:numpy.ndarray)\n",
       "\n",
       "*Add a batch dimension to the input array if it doesn't already have one.\n",
       "This is necessary because most environments do not have a batch dimension, but agents typically expect one.\n",
       "If the environment does have a batch dimension, the agent can set the receive_batch_dim attribute to True to skip this step.*\n",
       "\n",
       "|    | **Type** | **Details** |\n",
       "| -- | -------- | ----------- |\n",
       "| input | ndarray |  |\n",
       "| **Returns** | **ndarray** |  |"
      ]
     },
     "execution_count": null,
     "metadata": {},
     "output_type": "execute_result"
    }
   ],
   "source": [
    "show_doc(BaseAgent.add_batch_dim)"
   ]
  },
  {
   "cell_type": "code",
   "execution_count": null,
   "metadata": {},
   "outputs": [
    {
     "data": {
      "text/markdown": [
       "---\n",
       "\n",
       "[source](https://github.com/opimwue/ddopnew/blob/main/ddopnew/agents/base.py#L103){target=\"_blank\" style=\"float:right; font-size:smaller\"}\n",
       "\n",
       "### BaseAgent.save\n",
       "\n",
       ">      BaseAgent.save ()\n",
       "\n",
       "*Save the agent's parameters to a file.*"
      ],
      "text/plain": [
       "---\n",
       "\n",
       "[source](https://github.com/opimwue/ddopnew/blob/main/ddopnew/agents/base.py#L103){target=\"_blank\" style=\"float:right; font-size:smaller\"}\n",
       "\n",
       "### BaseAgent.save\n",
       "\n",
       ">      BaseAgent.save ()\n",
       "\n",
       "*Save the agent's parameters to a file.*"
      ]
     },
     "execution_count": null,
     "metadata": {},
     "output_type": "execute_result"
    }
   ],
   "source": [
    "show_doc(BaseAgent.save)"
   ]
  },
  {
   "cell_type": "code",
   "execution_count": null,
   "metadata": {},
   "outputs": [
    {
     "data": {
      "text/markdown": [
       "---\n",
       "\n",
       "[source](https://github.com/opimwue/ddopnew/blob/main/ddopnew/agents/base.py#L107){target=\"_blank\" style=\"float:right; font-size:smaller\"}\n",
       "\n",
       "### BaseAgent.load\n",
       "\n",
       ">      BaseAgent.load ()\n",
       "\n",
       "*Load the agent's parameters from a file.*"
      ],
      "text/plain": [
       "---\n",
       "\n",
       "[source](https://github.com/opimwue/ddopnew/blob/main/ddopnew/agents/base.py#L107){target=\"_blank\" style=\"float:right; font-size:smaller\"}\n",
       "\n",
       "### BaseAgent.load\n",
       "\n",
       ">      BaseAgent.load ()\n",
       "\n",
       "*Load the agent's parameters from a file.*"
      ]
     },
     "execution_count": null,
     "metadata": {},
     "output_type": "execute_result"
    }
   ],
   "source": [
    "show_doc(BaseAgent.load)"
   ]
  },
  {
   "cell_type": "code",
   "execution_count": null,
   "metadata": {},
   "outputs": [
    {
     "data": {
      "text/markdown": [
       "---\n",
       "\n",
       "[source](https://github.com/opimwue/ddopnew/blob/main/ddopnew/agents/base.py#L112){target=\"_blank\" style=\"float:right; font-size:smaller\"}\n",
       "\n",
       "### BaseAgent.update_model_params\n",
       "\n",
       ">      BaseAgent.update_model_params (default_params:dict, custom_params:dict)\n",
       "\n",
       "*override default parameters with custom parameters in a dictionary*\n",
       "\n",
       "|    | **Type** | **Details** |\n",
       "| -- | -------- | ----------- |\n",
       "| default_params | dict |  |\n",
       "| custom_params | dict |  |\n",
       "| **Returns** | **dict** |  |"
      ],
      "text/plain": [
       "---\n",
       "\n",
       "[source](https://github.com/opimwue/ddopnew/blob/main/ddopnew/agents/base.py#L112){target=\"_blank\" style=\"float:right; font-size:smaller\"}\n",
       "\n",
       "### BaseAgent.update_model_params\n",
       "\n",
       ">      BaseAgent.update_model_params (default_params:dict, custom_params:dict)\n",
       "\n",
       "*override default parameters with custom parameters in a dictionary*\n",
       "\n",
       "|    | **Type** | **Details** |\n",
       "| -- | -------- | ----------- |\n",
       "| default_params | dict |  |\n",
       "| custom_params | dict |  |\n",
       "| **Returns** | **dict** |  |"
      ]
     },
     "execution_count": null,
     "metadata": {},
     "output_type": "execute_result"
    }
   ],
   "source": [
    "show_doc(BaseAgent.update_model_params)"
   ]
  },
  {
   "cell_type": "code",
   "execution_count": null,
   "metadata": {},
   "outputs": [
    {
     "data": {
      "text/markdown": [
       "---\n",
       "\n",
       "[source](https://github.com/opimwue/ddopnew/blob/main/ddopnew/agents/base.py#L119){target=\"_blank\" style=\"float:right; font-size:smaller\"}\n",
       "\n",
       "### BaseAgent.convert_to_numpy_array\n",
       "\n",
       ">      BaseAgent.convert_to_numpy_array (input:Union[ddopnew.utils.Parameter,int\n",
       ">                                        ,float,numpy.ndarray,List,NoneType])\n",
       "\n",
       "*convert input to numpy array or keep as Parameter*\n",
       "\n",
       "|    | **Type** | **Details** |\n",
       "| -- | -------- | ----------- |\n",
       "| input | Union |  |"
      ],
      "text/plain": [
       "---\n",
       "\n",
       "[source](https://github.com/opimwue/ddopnew/blob/main/ddopnew/agents/base.py#L119){target=\"_blank\" style=\"float:right; font-size:smaller\"}\n",
       "\n",
       "### BaseAgent.convert_to_numpy_array\n",
       "\n",
       ">      BaseAgent.convert_to_numpy_array (input:Union[ddopnew.utils.Parameter,int\n",
       ">                                        ,float,numpy.ndarray,List,NoneType])\n",
       "\n",
       "*convert input to numpy array or keep as Parameter*\n",
       "\n",
       "|    | **Type** | **Details** |\n",
       "| -- | -------- | ----------- |\n",
       "| input | Union |  |"
      ]
     },
     "execution_count": null,
     "metadata": {},
     "output_type": "execute_result"
    }
   ],
   "source": [
    "show_doc(BaseAgent.convert_to_numpy_array)"
   ]
  },
  {
   "cell_type": "code",
   "execution_count": null,
   "metadata": {},
   "outputs": [],
   "source": [
    "#| hide\n",
    "import nbdev; nbdev.nbdev_export()"
   ]
  },
  {
   "cell_type": "code",
   "execution_count": null,
   "metadata": {},
   "outputs": [],
   "source": []
  },
  {
   "cell_type": "code",
   "execution_count": null,
   "metadata": {},
   "outputs": [],
   "source": []
  },
  {
   "cell_type": "code",
   "execution_count": null,
   "metadata": {},
   "outputs": [],
   "source": []
  },
  {
   "cell_type": "code",
   "execution_count": null,
   "metadata": {},
   "outputs": [],
   "source": []
  }
 ],
 "metadata": {
  "kernelspec": {
   "display_name": "python3",
   "language": "python",
   "name": "python3"
  }
 },
 "nbformat": 4,
 "nbformat_minor": 4
}
