{
 "cells": [
  {
   "cell_type": "markdown",
   "metadata": {},
   "source": [
    "# Base agents\n",
    "\n",
    "> To be written."
   ]
  },
  {
   "cell_type": "code",
   "execution_count": null,
   "metadata": {},
   "outputs": [],
   "source": [
    "#| default_exp agents.base"
   ]
  },
  {
   "cell_type": "code",
   "execution_count": null,
   "metadata": {},
   "outputs": [],
   "source": [
    "import logging\n",
    "logging_level = logging.DEBUG"
   ]
  },
  {
   "cell_type": "code",
   "execution_count": null,
   "metadata": {},
   "outputs": [],
   "source": [
    "#| hide\n",
    "from nbdev.showdoc import *"
   ]
  },
  {
   "cell_type": "code",
   "execution_count": null,
   "metadata": {},
   "outputs": [],
   "source": [
    "#| export\n",
    "\n",
    "\n",
    "from abc import ABC, abstractmethod\n",
    "from typing import Union, Optional, List\n",
    "import numpy as np\n",
    "\n",
    "from ddopnew.envs.base import BaseEnvironment\n",
    "from ddopnew.utils import MDPInfo\n",
    "\n",
    "# # TEMPORARY\n",
    "# from sklearn.utils.validation import check_array\n",
    "# import numbers"
   ]
  },
  {
   "cell_type": "code",
   "execution_count": null,
   "metadata": {},
   "outputs": [],
   "source": [
    "#| export\n",
    "\n",
    "class BaseAgent():\n",
    "\n",
    "    \"\"\"  \n",
    "    Base class for all agents to enforce a common interface. See below for more detailed description of the requriements.\n",
    "\n",
    "    \"\"\"\n",
    "\n",
    "    train_mode = \"direct_fit\" # or \"epochs_fit\" or \"env_interaction\"\n",
    "    \n",
    "    def __init__(self,\n",
    "                    environment_info: MDPInfo,\n",
    "                    preprocessors: list[object] | None = None,  # default is empty list\n",
    "                    postprocessors: list[object] | None = None  # default is empty list\n",
    "                 ):\n",
    "\n",
    "        self.preprocessors = preprocessors or []\n",
    "        self.postprocessors = postprocessors or []\n",
    "\n",
    "        self.environment_info = environment_info\n",
    "        self.mode = \"train\"\n",
    "        self.print = False  # Can be used for debugging\n",
    "        self.receive_batch_dim = False\n",
    "\n",
    "    def draw_action(self, observation: np.ndarray) -> np.ndarray: #\n",
    "\n",
    "        \"\"\"\n",
    "        Main interfrace to the environemnt. Applies preprocessors to the observation and postprocessors to the action.\n",
    "        Internal logic of the agent to be implemented in draw_action_ method.\n",
    "        \"\"\"\n",
    "\n",
    "        observation = self.add_batch_dim(observation)\n",
    "\n",
    "        for preprocessor in self.preprocessors:\n",
    "            observation = preprocessor(observation)\n",
    "\n",
    "        action = self.draw_action_(observation)\n",
    "        \n",
    "        for postprocessor in self.postprocessors:\n",
    "            action = postprocessor(action)\n",
    "        return action\n",
    "\n",
    "    @abstractmethod\n",
    "    def draw_action_(self, observation: np.ndarray) -> np.ndarray: #\n",
    "        \"\"\"Generate an action based on the observation - this is the core method that needs to be implemented by all agents.\"\"\"\n",
    "        pass\n",
    "\n",
    "    def add_preprocessor(self, preprocessor: object): # pre-processor object that can be called via the \"__call__\" method\n",
    "        \"\"\"add a preprocessor to the agent\"\"\"\n",
    "        self.preprocessors.append(preprocessor)\n",
    "    \n",
    "    def add_postprocessor(self, postprocessor: object): # post-processor object that can be called via the \"__call__\" method\n",
    "        \"\"\"add a postprocessor to the agent\"\"\"\n",
    "        self.postprocessors.append(postprocessor)\n",
    "\n",
    "    def train(self):\n",
    "        \"\"\"set the internal state of the agent to train\"\"\"\n",
    "        self.mode = \"train\"\n",
    "        \n",
    "    def eval(self):\n",
    "        \"\"\"\n",
    "        Set the internal state of the agent to eval. Note that for agents we do not differentiate between val and test modes.\n",
    "\n",
    "        \"\"\"\n",
    "        self.mode = \"eval\"\n",
    "    \n",
    "    def add_batch_dim(self, input: np.ndarray) -> np.ndarray: #\n",
    "        \n",
    "        \"\"\"\n",
    "        Add a batch dimension to the input array if it doesn't already have one.\n",
    "        This is necessary because most environments do not have a batch dimension, but agents typically expect one.\n",
    "        If the environment does have a batch dimension, the agent can set the receive_batch_dim attribute to True to skip this step.\n",
    "\n",
    "        \"\"\"\n",
    "\n",
    "        if self.receive_batch_dim:\n",
    "            # If the batch dimension is expected, return the input as is\n",
    "            return input\n",
    "        else:\n",
    "            # Add a batch dimension by expanding the dimensions of the input\n",
    "            return np.expand_dims(input, axis=0)\n",
    "        \n",
    "    def flatten_X(self, X: np.ndarray) -> np.ndarray: #\n",
    "\n",
    "        \"\"\"\n",
    "        Function to flatten the time-dimension of the feature matrix\n",
    "        for agents that require a 2D input. Note applied by default but can be \n",
    "        used by agents inheriting from this class.\n",
    "        \n",
    "        \"\"\"\n",
    "\n",
    "        if X.ndim == 3:\n",
    "            return X.reshape(X.shape[0], -1)\n",
    "        else:\n",
    "            return X\n",
    "        \n",
    "    def save(self):\n",
    "        \"\"\"Save the agent's parameters to a file.\"\"\"\n",
    "        raise NotImplementedError(\"This agent does not have a save method implemented.\")\n",
    "\n",
    "    def load(self):\n",
    "        \"\"\"Load the agent's parameters from a file.\"\"\"\n",
    "        raise NotImplementedError(\"This agent does not have a load method implemented.\")\n",
    "        "
   ]
  },
  {
   "cell_type": "code",
   "execution_count": null,
   "metadata": {},
   "outputs": [
    {
     "data": {
      "text/markdown": [
       "---\n",
       "\n",
       "[source](https://github.com/opimwue/ddopnew/blob/main/ddopnew/agents/base.py#L19){target=\"_blank\" style=\"float:right; font-size:smaller\"}\n",
       "\n",
       "## BaseAgent\n",
       "\n",
       ">      BaseAgent (environment_info:ddopnew.utils.MDPInfo,\n",
       ">                 preprocessors:list[object]|None=None,\n",
       ">                 postprocessors:list[object]|None=None)\n",
       "\n",
       "*Base class for all agents to enforce a common interface. See below for more detailed description of the requriements.*\n",
       "\n",
       "|    | **Type** | **Default** | **Details** |\n",
       "| -- | -------- | ----------- | ----------- |\n",
       "| environment_info | MDPInfo |  |  |\n",
       "| preprocessors | list[object] \\| None | None | default is empty list |\n",
       "| postprocessors | list[object] \\| None | None | default is empty list |"
      ],
      "text/plain": [
       "---\n",
       "\n",
       "[source](https://github.com/opimwue/ddopnew/blob/main/ddopnew/agents/base.py#L19){target=\"_blank\" style=\"float:right; font-size:smaller\"}\n",
       "\n",
       "## BaseAgent\n",
       "\n",
       ">      BaseAgent (environment_info:ddopnew.utils.MDPInfo,\n",
       ">                 preprocessors:list[object]|None=None,\n",
       ">                 postprocessors:list[object]|None=None)\n",
       "\n",
       "*Base class for all agents to enforce a common interface. See below for more detailed description of the requriements.*\n",
       "\n",
       "|    | **Type** | **Default** | **Details** |\n",
       "| -- | -------- | ----------- | ----------- |\n",
       "| environment_info | MDPInfo |  |  |\n",
       "| preprocessors | list[object] \\| None | None | default is empty list |\n",
       "| postprocessors | list[object] \\| None | None | default is empty list |"
      ]
     },
     "execution_count": null,
     "metadata": {},
     "output_type": "execute_result"
    }
   ],
   "source": [
    "show_doc(BaseAgent, title_level=2)"
   ]
  },
  {
   "cell_type": "markdown",
   "metadata": {},
   "source": [
    "### Important notes:\n",
    "\n",
    "Agents are, next to the environments, the core element of this library. The agents are the algorithms that take actions in the environment. They can be any type of algorithms ranging from optimization, supervised learning to reinforcement learning and any combination. Key for all the different agents to work is a common interface that allows them to interact with the environment.\n",
    "\n",
    "**Draw action**:\n",
    "\n",
    "* The ```draw_action``` function is the main interface with the environment. It receives an observation as Numpy array and returns an action as Numpy array. The function ```draw_action``` is defined in the ```BaseAgent``` and should not be overwritten as it properly applies pre- and post-processing (see below). \n",
    "\n",
    "* Agents always expect the observation to be of shape (batch_size, observation_dim) or (batch_size, time_dim, observation_dim) to allow batch-processing during training. Most environment do not have a batch dimension as they apply the step function to a single observation. Hence, the agent will by default add an extra dimension to the observation. If this is not desired, the agent has an attribute \"receive_batch_dim\" that can be set to True to tell the agent that the observation already has a batch dimension.\n",
    "\n",
    "* To create an agent, the function ```draw_action_``` (note the underscore!) needs to be defined that gets the pre-processed observation and returns the action for post-processing. This function should be overwritten in the derived class.\n",
    "\n",
    "**Pre- and post-processing**:\n",
    "\n",
    "* Often, the environment and the agent have different requirements for the observations and actions (e.g., an agent outputing a continuous action while the environment expects a discrete action). To handle this, the ```BaseAgent``` class applies pre- and post processing to the observations and actions.\n",
    "\n",
    "* During definition, one can already add the processors as lists (to the arguments ```preprocessors``` and ```postprocessors```). After instantiation, processors are to be added using the  ```add_preprocessor``` and ```add_postprocessor```. \n",
    "\n",
    "* Note that processors are applied in the order they are added.\n",
    "\n",
    "**Training**:\n",
    "\n",
    "* The ```run_experiment```function in this library currently supports three types of training processes:\n",
    "    * ```train_directly```: The agent is trained by calling agent.fit(X, Y) directly. In this case, the agent must have a fit function that takes the input and target data.\n",
    "    * ```train_epochs```: The agent is iteratively trained on the training data (e.g., via SGD). In this case, the function ```fit_epoch``` must be implemented. ```fit_epoch``` does not get any argument, rather the dataloader from the environment needs to be given to the agent during initialization. The agent will then call the dataloader interatively to get the training data.\n",
    "    * ```env_interaction```: The agent is trained by interacting with the environment (e.g., like all reinforcement learning agents). This case build on the ```Core``` class from MushroomRL. \n",
    "\n",
    "**Loading and saving**:\n",
    "\n",
    "* All agents must implement a save and load function that allows to save and load the agent's parameters. See the Newsvendor ERM and (w)SAA agents for examples of different ways to save and load agents.\n",
    "\n",
    "\n"
   ]
  },
  {
   "cell_type": "code",
   "execution_count": null,
   "metadata": {},
   "outputs": [
    {
     "data": {
      "text/markdown": [
       "---\n",
       "\n",
       "[source](https://github.com/opimwue/ddopnew/blob/main/ddopnew/agents/base.py#L50){target=\"_blank\" style=\"float:right; font-size:smaller\"}\n",
       "\n",
       "### BaseAgent.draw_action\n",
       "\n",
       ">      BaseAgent.draw_action (observation:numpy.ndarray)\n",
       "\n",
       "*Main interfrace to the environemnt. Applies preprocessors to the observation and postprocessors to the action.\n",
       "Internal logic of the agent to be implemented in draw_action_ method.*\n",
       "\n",
       "|    | **Type** | **Details** |\n",
       "| -- | -------- | ----------- |\n",
       "| observation | ndarray |  |\n",
       "| **Returns** | **ndarray** |  |"
      ],
      "text/plain": [
       "---\n",
       "\n",
       "[source](https://github.com/opimwue/ddopnew/blob/main/ddopnew/agents/base.py#L50){target=\"_blank\" style=\"float:right; font-size:smaller\"}\n",
       "\n",
       "### BaseAgent.draw_action\n",
       "\n",
       ">      BaseAgent.draw_action (observation:numpy.ndarray)\n",
       "\n",
       "*Main interfrace to the environemnt. Applies preprocessors to the observation and postprocessors to the action.\n",
       "Internal logic of the agent to be implemented in draw_action_ method.*\n",
       "\n",
       "|    | **Type** | **Details** |\n",
       "| -- | -------- | ----------- |\n",
       "| observation | ndarray |  |\n",
       "| **Returns** | **ndarray** |  |"
      ]
     },
     "execution_count": null,
     "metadata": {},
     "output_type": "execute_result"
    }
   ],
   "source": [
    "show_doc(BaseAgent.draw_action)"
   ]
  },
  {
   "cell_type": "code",
   "execution_count": null,
   "metadata": {},
   "outputs": [
    {
     "data": {
      "text/markdown": [
       "---\n",
       "\n",
       "[source](https://github.com/opimwue/ddopnew/blob/main/ddopnew/agents/base.py#L47){target=\"_blank\" style=\"float:right; font-size:smaller\"}\n",
       "\n",
       "### BaseAgent.draw_action_\n",
       "\n",
       ">      BaseAgent.draw_action_ (observation:numpy.ndarray)\n",
       "\n",
       "*Generate an action based on the observation - this is the core method that needs to be implemented by all agents.*\n",
       "\n",
       "|    | **Type** | **Details** |\n",
       "| -- | -------- | ----------- |\n",
       "| observation | ndarray |  |\n",
       "| **Returns** | **ndarray** |  |"
      ],
      "text/plain": [
       "---\n",
       "\n",
       "[source](https://github.com/opimwue/ddopnew/blob/main/ddopnew/agents/base.py#L47){target=\"_blank\" style=\"float:right; font-size:smaller\"}\n",
       "\n",
       "### BaseAgent.draw_action_\n",
       "\n",
       ">      BaseAgent.draw_action_ (observation:numpy.ndarray)\n",
       "\n",
       "*Generate an action based on the observation - this is the core method that needs to be implemented by all agents.*\n",
       "\n",
       "|    | **Type** | **Details** |\n",
       "| -- | -------- | ----------- |\n",
       "| observation | ndarray |  |\n",
       "| **Returns** | **ndarray** |  |"
      ]
     },
     "execution_count": null,
     "metadata": {},
     "output_type": "execute_result"
    }
   ],
   "source": [
    "show_doc(BaseAgent.draw_action_)"
   ]
  },
  {
   "cell_type": "code",
   "execution_count": null,
   "metadata": {},
   "outputs": [
    {
     "data": {
      "text/markdown": [
       "---\n",
       "\n",
       "[source](https://github.com/opimwue/ddopnew/blob/main/ddopnew/agents/base.py#L63){target=\"_blank\" style=\"float:right; font-size:smaller\"}\n",
       "\n",
       "### BaseAgent.add_preprocessor\n",
       "\n",
       ">      BaseAgent.add_preprocessor (preprocessor:object)\n",
       "\n",
       "*add a preprocessor to the agent*\n",
       "\n",
       "|    | **Type** | **Details** |\n",
       "| -- | -------- | ----------- |\n",
       "| preprocessor | object | pre-processor object that can be called via the \"__call__\" method |"
      ],
      "text/plain": [
       "---\n",
       "\n",
       "[source](https://github.com/opimwue/ddopnew/blob/main/ddopnew/agents/base.py#L63){target=\"_blank\" style=\"float:right; font-size:smaller\"}\n",
       "\n",
       "### BaseAgent.add_preprocessor\n",
       "\n",
       ">      BaseAgent.add_preprocessor (preprocessor:object)\n",
       "\n",
       "*add a preprocessor to the agent*\n",
       "\n",
       "|    | **Type** | **Details** |\n",
       "| -- | -------- | ----------- |\n",
       "| preprocessor | object | pre-processor object that can be called via the \"__call__\" method |"
      ]
     },
     "execution_count": null,
     "metadata": {},
     "output_type": "execute_result"
    }
   ],
   "source": [
    "show_doc(BaseAgent.add_preprocessor)"
   ]
  },
  {
   "cell_type": "code",
   "execution_count": null,
   "metadata": {},
   "outputs": [
    {
     "data": {
      "text/markdown": [
       "---\n",
       "\n",
       "[source](https://github.com/opimwue/ddopnew/blob/main/ddopnew/agents/base.py#L66){target=\"_blank\" style=\"float:right; font-size:smaller\"}\n",
       "\n",
       "### BaseAgent.add_postprocessor\n",
       "\n",
       ">      BaseAgent.add_postprocessor (postprocessor:object)\n",
       "\n",
       "*add a postprocessor to the agent*\n",
       "\n",
       "|    | **Type** | **Details** |\n",
       "| -- | -------- | ----------- |\n",
       "| postprocessor | object | post-processor object that can be called via the \"__call__\" method |"
      ],
      "text/plain": [
       "---\n",
       "\n",
       "[source](https://github.com/opimwue/ddopnew/blob/main/ddopnew/agents/base.py#L66){target=\"_blank\" style=\"float:right; font-size:smaller\"}\n",
       "\n",
       "### BaseAgent.add_postprocessor\n",
       "\n",
       ">      BaseAgent.add_postprocessor (postprocessor:object)\n",
       "\n",
       "*add a postprocessor to the agent*\n",
       "\n",
       "|    | **Type** | **Details** |\n",
       "| -- | -------- | ----------- |\n",
       "| postprocessor | object | post-processor object that can be called via the \"__call__\" method |"
      ]
     },
     "execution_count": null,
     "metadata": {},
     "output_type": "execute_result"
    }
   ],
   "source": [
    "show_doc(BaseAgent.add_postprocessor)"
   ]
  },
  {
   "cell_type": "code",
   "execution_count": null,
   "metadata": {},
   "outputs": [
    {
     "data": {
      "text/markdown": [
       "---\n",
       "\n",
       "[source](https://github.com/opimwue/ddopnew/blob/main/ddopnew/agents/base.py#L69){target=\"_blank\" style=\"float:right; font-size:smaller\"}\n",
       "\n",
       "### BaseAgent.train\n",
       "\n",
       ">      BaseAgent.train ()\n",
       "\n",
       "*set the internal state of the agent to train*"
      ],
      "text/plain": [
       "---\n",
       "\n",
       "[source](https://github.com/opimwue/ddopnew/blob/main/ddopnew/agents/base.py#L69){target=\"_blank\" style=\"float:right; font-size:smaller\"}\n",
       "\n",
       "### BaseAgent.train\n",
       "\n",
       ">      BaseAgent.train ()\n",
       "\n",
       "*set the internal state of the agent to train*"
      ]
     },
     "execution_count": null,
     "metadata": {},
     "output_type": "execute_result"
    }
   ],
   "source": [
    "show_doc(BaseAgent.train)"
   ]
  },
  {
   "cell_type": "code",
   "execution_count": null,
   "metadata": {},
   "outputs": [
    {
     "data": {
      "text/markdown": [
       "---\n",
       "\n",
       "[source](https://github.com/opimwue/ddopnew/blob/main/ddopnew/agents/base.py#L72){target=\"_blank\" style=\"float:right; font-size:smaller\"}\n",
       "\n",
       "### BaseAgent.eval\n",
       "\n",
       ">      BaseAgent.eval ()\n",
       "\n",
       "*Set the internal state of the agent to eval. Note that for agents we do not differentiate between val and test modes.*"
      ],
      "text/plain": [
       "---\n",
       "\n",
       "[source](https://github.com/opimwue/ddopnew/blob/main/ddopnew/agents/base.py#L72){target=\"_blank\" style=\"float:right; font-size:smaller\"}\n",
       "\n",
       "### BaseAgent.eval\n",
       "\n",
       ">      BaseAgent.eval ()\n",
       "\n",
       "*Set the internal state of the agent to eval. Note that for agents we do not differentiate between val and test modes.*"
      ]
     },
     "execution_count": null,
     "metadata": {},
     "output_type": "execute_result"
    }
   ],
   "source": [
    "show_doc(BaseAgent.eval)"
   ]
  },
  {
   "cell_type": "code",
   "execution_count": null,
   "metadata": {},
   "outputs": [
    {
     "data": {
      "text/markdown": [
       "---\n",
       "\n",
       "[source](https://github.com/opimwue/ddopnew/blob/main/ddopnew/agents/base.py#L75){target=\"_blank\" style=\"float:right; font-size:smaller\"}\n",
       "\n",
       "### BaseAgent.add_batch_dim\n",
       "\n",
       ">      BaseAgent.add_batch_dim (input:numpy.ndarray)\n",
       "\n",
       "*Add a batch dimension to the input array if it doesn't already have one.\n",
       "This is necessary because most environments do not have a batch dimension, but agents typically expect one.\n",
       "If the environment does have a batch dimension, the agent can set the receive_batch_dim attribute to True to skip this step.*\n",
       "\n",
       "|    | **Type** | **Details** |\n",
       "| -- | -------- | ----------- |\n",
       "| input | ndarray |  |\n",
       "| **Returns** | **ndarray** |  |"
      ],
      "text/plain": [
       "---\n",
       "\n",
       "[source](https://github.com/opimwue/ddopnew/blob/main/ddopnew/agents/base.py#L75){target=\"_blank\" style=\"float:right; font-size:smaller\"}\n",
       "\n",
       "### BaseAgent.add_batch_dim\n",
       "\n",
       ">      BaseAgent.add_batch_dim (input:numpy.ndarray)\n",
       "\n",
       "*Add a batch dimension to the input array if it doesn't already have one.\n",
       "This is necessary because most environments do not have a batch dimension, but agents typically expect one.\n",
       "If the environment does have a batch dimension, the agent can set the receive_batch_dim attribute to True to skip this step.*\n",
       "\n",
       "|    | **Type** | **Details** |\n",
       "| -- | -------- | ----------- |\n",
       "| input | ndarray |  |\n",
       "| **Returns** | **ndarray** |  |"
      ]
     },
     "execution_count": null,
     "metadata": {},
     "output_type": "execute_result"
    }
   ],
   "source": [
    "show_doc(BaseAgent.add_batch_dim)"
   ]
  },
  {
   "cell_type": "code",
   "execution_count": null,
   "metadata": {},
   "outputs": [
    {
     "data": {
      "text/markdown": [
       "---\n",
       "\n",
       "[source](https://github.com/opimwue/ddopnew/blob/main/ddopnew/agents/base.py#L94){target=\"_blank\" style=\"float:right; font-size:smaller\"}\n",
       "\n",
       "### BaseAgent.flatten_X\n",
       "\n",
       ">      BaseAgent.flatten_X (X:numpy.ndarray)\n",
       "\n",
       "*Function to flatten the time-dimension of the feature matrix\n",
       "for agents that require a 2D input.*\n",
       "\n",
       "|    | **Type** | **Details** |\n",
       "| -- | -------- | ----------- |\n",
       "| X | ndarray |  |\n",
       "| **Returns** | **ndarray** |  |"
      ],
      "text/plain": [
       "---\n",
       "\n",
       "[source](https://github.com/opimwue/ddopnew/blob/main/ddopnew/agents/base.py#L94){target=\"_blank\" style=\"float:right; font-size:smaller\"}\n",
       "\n",
       "### BaseAgent.flatten_X\n",
       "\n",
       ">      BaseAgent.flatten_X (X:numpy.ndarray)\n",
       "\n",
       "*Function to flatten the time-dimension of the feature matrix\n",
       "for agents that require a 2D input.*\n",
       "\n",
       "|    | **Type** | **Details** |\n",
       "| -- | -------- | ----------- |\n",
       "| X | ndarray |  |\n",
       "| **Returns** | **ndarray** |  |"
      ]
     },
     "execution_count": null,
     "metadata": {},
     "output_type": "execute_result"
    }
   ],
   "source": [
    "show_doc(BaseAgent.flatten_X)"
   ]
  },
  {
   "cell_type": "code",
   "execution_count": null,
   "metadata": {},
   "outputs": [
    {
     "data": {
      "text/markdown": [
       "---\n",
       "\n",
       "[source](https://github.com/opimwue/ddopnew/blob/main/ddopnew/agents/base.py#L114){target=\"_blank\" style=\"float:right; font-size:smaller\"}\n",
       "\n",
       "### BaseAgent.save\n",
       "\n",
       ">      BaseAgent.save ()\n",
       "\n",
       "*Save the agent's parameters to a file.*"
      ],
      "text/plain": [
       "---\n",
       "\n",
       "[source](https://github.com/opimwue/ddopnew/blob/main/ddopnew/agents/base.py#L114){target=\"_blank\" style=\"float:right; font-size:smaller\"}\n",
       "\n",
       "### BaseAgent.save\n",
       "\n",
       ">      BaseAgent.save ()\n",
       "\n",
       "*Save the agent's parameters to a file.*"
      ]
     },
     "execution_count": null,
     "metadata": {},
     "output_type": "execute_result"
    }
   ],
   "source": [
    "show_doc(BaseAgent.save)"
   ]
  },
  {
   "cell_type": "code",
   "execution_count": null,
   "metadata": {},
   "outputs": [
    {
     "data": {
      "text/markdown": [
       "---\n",
       "\n",
       "[source](https://github.com/opimwue/ddopnew/blob/main/ddopnew/agents/base.py#L117){target=\"_blank\" style=\"float:right; font-size:smaller\"}\n",
       "\n",
       "### BaseAgent.load\n",
       "\n",
       ">      BaseAgent.load ()\n",
       "\n",
       "*Load the agent's parameters from a file.*"
      ],
      "text/plain": [
       "---\n",
       "\n",
       "[source](https://github.com/opimwue/ddopnew/blob/main/ddopnew/agents/base.py#L117){target=\"_blank\" style=\"float:right; font-size:smaller\"}\n",
       "\n",
       "### BaseAgent.load\n",
       "\n",
       ">      BaseAgent.load ()\n",
       "\n",
       "*Load the agent's parameters from a file.*"
      ]
     },
     "execution_count": null,
     "metadata": {},
     "output_type": "execute_result"
    }
   ],
   "source": [
    "show_doc(BaseAgent.load)"
   ]
  },
  {
   "cell_type": "code",
   "execution_count": null,
   "metadata": {},
   "outputs": [],
   "source": [
    "# #| export\n",
    "\n",
    "# def check_cu_co(cu, co, n_outputs):\n",
    "#     \"\"\"Validate under- and overage costs.\n",
    "\n",
    "#     Parameters\n",
    "#     ----------\n",
    "#     cu : {ndarray, Number or None}, shape (n_outputs,)\n",
    "#        The underage costs per unit. Passing cu=None will output an array of ones.\n",
    "#     co : {ndarray, Number or None}, shape (n_outputs,)\n",
    "#        The overage costs per unit. Passing co=None will output an array of ones.\n",
    "#     n_outputs : int\n",
    "#        The number of outputs.\n",
    "#     Returns\n",
    "#     -------\n",
    "#     cu : ndarray, shape (n_outputs,)\n",
    "#        Validated underage costs. It is guaranteed to be \"C\" contiguous.\n",
    "#     co : ndarray, shape (n_outputs,)\n",
    "#        Validated overage costs. It is guaranteed to be \"C\" contiguous.\n",
    "#     \"\"\"\n",
    "#     costs = [[cu, \"cu\"], [co, \"co\"]]\n",
    "#     costs_validated = []\n",
    "#     for c in costs:\n",
    "#         if c[0] is None:\n",
    "#             cost = np.ones(n_outputs, dtype=np.float64)\n",
    "#         elif isinstance(c[0], numbers.Number):\n",
    "#             cost = np.full(n_outputs, c[0], dtype=np.float64)\n",
    "#         else:\n",
    "#             cost = check_array(\n",
    "#                 c[0], accept_sparse=False, ensure_2d=False, dtype=np.float64,\n",
    "#                 order=\"C\"\n",
    "#             )\n",
    "#             if cost.ndim != 1:\n",
    "#                 raise ValueError(c[1], \"must be 1D array or scalar\")\n",
    "\n",
    "#             if cost.shape != (n_outputs,):\n",
    "#                 raise ValueError(\"{}.shape == {}, expected {}!\"\n",
    "#                                  .format(c[1], cost.shape, (n_outputs,)))\n",
    "#         costs_validated.append(cost)\n",
    "#     cu = costs_validated[0]\n",
    "#     co = costs_validated[1]\n",
    "#     return cu, co\n",
    "\n",
    "# class NewsvendorSAAagentOLD(BaseAgent):\n",
    "\n",
    "#     def __init__(self, environment_info, cu, co):\n",
    "#         self.cu = cu\n",
    "#         self.co = co\n",
    "\n",
    "#         self.sl = cu / (cu + co)\n",
    "\n",
    "#         self.quantiles = np.array([0.0])\n",
    "\n",
    "#         super().__init__(environment_info)\n",
    "\n",
    "#         self.fitted = False\n",
    "\n",
    "#     def _calc_weights(self):\n",
    "#         weights = np.full(self.n_samples_, 1 / self.n_samples_)\n",
    "#         return weights\n",
    "\n",
    "#     def fit(self, Y, X, mask=None):\n",
    "\n",
    "#         demand = Y\n",
    "#         features = X\n",
    "\n",
    "#         self.mask=mask\n",
    "#         y=demand\n",
    "\n",
    "#         if mask is not None:\n",
    "#             if demand.shape != mask.shape:\n",
    "#                 if demand.shape[1]==1 & len(mask.shape)==1:\n",
    "#                     mask = mask.reshape((-1,1))\n",
    "#                     self.mask = mask\n",
    "#                 if demand.shape != mask.shape:\n",
    "#                     raise ValueError(\"Shapes of mask and demand do not match\")\n",
    "#                 # check if 1 either in mask.shape or demand.shape, if yes squeeze\n",
    "#             demand=demand*mask\n",
    "       \n",
    "#         y = check_array(y, ensure_2d=False, accept_sparse='csr')\n",
    "\n",
    "#         if y.ndim == 1:\n",
    "#             y = np.reshape(y, (-1, 1))\n",
    "\n",
    "#         # Training data\n",
    "#         self.y_ = y\n",
    "#         self.n_samples_ = y.shape[0]\n",
    "\n",
    "#         # Determine output settings\n",
    "#         self.n_outputs_ = y.shape[1]\n",
    "\n",
    "#         # Check and format under- and overage costs\n",
    "#         self.cu_, self.co_ = check_cu_co(self.cu, self.co, self.n_outputs_)\n",
    "\n",
    "#         self.q_star = np.array(self._findQ(self._calc_weights()))\n",
    "\n",
    "#         self.fitted=True\n",
    "\n",
    "#         return self\n",
    "\n",
    "#     def _findQ(self, weights):\n",
    "#         \"\"\"Calculate the optimal order quantity q\"\"\"\n",
    "\n",
    "#         y = self.y_\n",
    "#         q = []\n",
    "\n",
    "#         for k in range(self.n_outputs_):\n",
    "#             alpha = self.cu_[k] / (self.cu_[k] + self.co_[k])\n",
    "#             y_product = y[:,k]\n",
    "#             if self.mask is not None:\n",
    "#                 mask_product = self.mask[:,k]\n",
    "#                 y_product = y_product[mask_product.astype(bool)]\n",
    "#             # print(y_product.shape)\n",
    "#             q.append(np.quantile(y_product, alpha, interpolation=\"higher\"))\n",
    "#         print(\"found optimal q:\", q)\n",
    "#         return q\n",
    "\n",
    "#     def draw_action(self, *args, **kwargs):\n",
    "\n",
    "#         if self.fitted:\n",
    "#             pred = self.q_star\n",
    "            \n",
    "#         else:\n",
    "#             pred = np.random.rand(1)  \n",
    "#         return pred"
   ]
  },
  {
   "cell_type": "code",
   "execution_count": null,
   "metadata": {},
   "outputs": [],
   "source": []
  },
  {
   "cell_type": "code",
   "execution_count": null,
   "metadata": {},
   "outputs": [],
   "source": []
  },
  {
   "cell_type": "code",
   "execution_count": null,
   "metadata": {},
   "outputs": [],
   "source": []
  },
  {
   "cell_type": "code",
   "execution_count": null,
   "metadata": {},
   "outputs": [],
   "source": [
    "#| hide\n",
    "import nbdev; nbdev.nbdev_export()"
   ]
  }
 ],
 "metadata": {
  "kernelspec": {
   "display_name": "python3",
   "language": "python",
   "name": "python3"
  }
 },
 "nbformat": 4,
 "nbformat_minor": 4
}
