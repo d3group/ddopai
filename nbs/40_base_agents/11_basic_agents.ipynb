{
 "cells": [
  {
   "cell_type": "markdown",
   "metadata": {},
   "source": [
    "# Basic agents\n",
    "\n",
    "> Simple agents that can be used as a baseline or for testing purposes."
   ]
  },
  {
   "cell_type": "code",
   "execution_count": null,
   "metadata": {},
   "outputs": [],
   "source": [
    "#| default_exp agents.basic"
   ]
  },
  {
   "cell_type": "code",
   "execution_count": null,
   "metadata": {},
   "outputs": [],
   "source": [
    "#| hide\n",
    "from nbdev.showdoc import *"
   ]
  },
  {
   "cell_type": "code",
   "execution_count": null,
   "metadata": {},
   "outputs": [],
   "source": [
    "#| export\n",
    "\n",
    "from abc import ABC, abstractmethod\n",
    "from typing import Union, Optional, List\n",
    "import numpy as np\n",
    "\n",
    "from ddopnew.envs.base import BaseEnvironment\n",
    "from ddopnew.agents.base import BaseAgent\n",
    "from ddopnew.utils import MDPInfo"
   ]
  },
  {
   "cell_type": "code",
   "execution_count": null,
   "metadata": {},
   "outputs": [],
   "source": [
    "#| export\n",
    "\n",
    "class RandomAgent(BaseAgent):\n",
    "\n",
    "    \"\"\"\n",
    "    A random agent that samples actions from the environment's action space. Useful for testing and as minimal baseline.\n",
    "    \"\"\"\n",
    "\n",
    "    def __init__(self,\n",
    "                environment_info: MDPInfo,\n",
    "                obsprocessors: list[object] | None = None,\n",
    "                agent_name: str = \"RandomAgent\",\n",
    "                *args,\n",
    "                **kwargs,\n",
    "                ):\n",
    "\n",
    "        super().__init__(environment_info = environment_info, obsprocessors = obsprocessors, agent_name = agent_name)\n",
    "\n",
    "    def draw_action_(self, observation):\n",
    "        return self.environment_info.action_space.sample()\n",
    "\n",
    "    def fit(self, X, Y):\n",
    "        assert self.mode == \"train\"\n",
    "        pass\n",
    "\n",
    "    def save(self, path):\n",
    "        pass\n",
    "\n",
    "    def load(self, path):\n",
    "        pass"
   ]
  },
  {
   "cell_type": "code",
   "execution_count": null,
   "metadata": {},
   "outputs": [],
   "source": [
    "#| hide\n",
    "import nbdev; nbdev.nbdev_export()"
   ]
  },
  {
   "cell_type": "code",
   "execution_count": null,
   "metadata": {},
   "outputs": [],
   "source": []
  }
 ],
 "metadata": {
  "kernelspec": {
   "display_name": "python3",
   "language": "python",
   "name": "python3"
  }
 },
 "nbformat": 4,
 "nbformat_minor": 4
}
