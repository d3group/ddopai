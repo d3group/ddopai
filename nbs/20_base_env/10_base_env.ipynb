{
 "cells": [
  {
   "cell_type": "markdown",
   "metadata": {},
   "source": [
    "# Base Environment\n",
    "\n",
    "> Base environment class based on Gymnasium"
   ]
  },
  {
   "cell_type": "code",
   "execution_count": null,
   "metadata": {},
   "outputs": [],
   "source": [
    "#| default_exp envs.base"
   ]
  },
  {
   "cell_type": "code",
   "execution_count": null,
   "metadata": {},
   "outputs": [],
   "source": [
    "#| hide\n",
    "from nbdev.showdoc import *"
   ]
  },
  {
   "cell_type": "code",
   "execution_count": null,
   "metadata": {},
   "outputs": [],
   "source": [
    "#| export\n",
    "\n",
    "import gymnasium as gym\n",
    "from abc import ABC, abstractmethod\n",
    "from typing import Union\n",
    "import numpy as np\n",
    "\n",
    "from ddopnew.utils import MDPInfo\n",
    "from ddopnew.utils import Parameter"
   ]
  },
  {
   "cell_type": "code",
   "execution_count": null,
   "metadata": {},
   "outputs": [],
   "source": [
    "#| export\n",
    "class BaseEnvironment(gym.Env, ABC):\n",
    "\n",
    "    \"\"\"\n",
    "\n",
    "    Base class for environments enforcing a common interface.\n",
    "    \"\"\"\n",
    "\n",
    "    def __init__(self,\n",
    "                    mdp_info: MDPInfo, # MDPInfo object to ensure compatibility with the agents\n",
    "                    mode: str = \"train\", # Initial mode (train, val, test) of the environment\n",
    "                    ) -> None: #\n",
    "\n",
    "        super().__init__()\n",
    "\n",
    "        self._mode = mode\n",
    "        self.mdp_info = mdp_info\n",
    "        \n",
    "        if mode == \"train\": \n",
    "            self.train()\n",
    "        elif mode == \"val\":\n",
    "            self.val()\n",
    "        elif mode == \"test\":\n",
    "            self.test()\n",
    "        else:\n",
    "            raise ValueError(\"mode must be 'train', 'val', or 'test'\")\n",
    "\n",
    "\n",
    "    def set_param(self,\n",
    "                        name: str, # name of the parameter (will become the attribute name)\n",
    "                        input: Parameter | float | np.ndarray, # input value of the parameter\n",
    "                        shape: tuple = (1,), # shape of the parameter\n",
    "                        new: bool = False # whether to create a new parameter or update an existing one\n",
    "                        ) -> None: #\n",
    "        \n",
    "        \"\"\"\n",
    "        Set a parameter for the environment. It converts scalar values to numpy arrays and ensures that\n",
    "        environment parameters are either of the Parameter class of Numpy arrays. If new is set to True, \n",
    "        the function will create a new parameter or update an existing one otherwise. If new is set to\n",
    "        False, the function will raise an error if the parameter does not exist.\n",
    "        \"\"\"\n",
    "\n",
    "        # check if input is a valid type\n",
    "        if isinstance(input, Parameter):\n",
    "            if input.shape != shape:\n",
    "                raise ValueError(\"Parameter shape must be equal to the shape specified for this environment parameter\")\n",
    "            param = input\n",
    "        \n",
    "        elif isinstance(input, (int, float)):\n",
    "            param = np.full(shape, input)\n",
    "\n",
    "        elif isinstance(input, list):\n",
    "            input = np.array(input)\n",
    "            if input.shape == shape:\n",
    "                param = input\n",
    "            elif input.size == 1:  # Handle single-element arrays correctly\n",
    "                param = np.full(shape, input.item())\n",
    "            else:\n",
    "                raise ValueError(\"Input array must match the specified shape or be a single-element array\")\n",
    "\n",
    "        elif isinstance(input, np.ndarray):\n",
    "            if input.shape == shape:\n",
    "                param = input\n",
    "            elif input.size == 1:  # Handle single-element arrays correctly\n",
    "                param = np.full(shape, input.item())\n",
    "            else:\n",
    "                raise ValueError(\"Input array must match the specified shape or be a single-element array\")\n",
    "        else:\n",
    "            raise TypeError(\"Input must be a Parameter, scalar, or numpy array\")\n",
    "\n",
    "        # set the parameter\n",
    "        if new:\n",
    "            setattr(self, name, param)\n",
    "        else:\n",
    "            # check if parameter already exists\n",
    "            if not hasattr(self, name):\n",
    "                raise AttributeError(f\"Parameter {name} does not exist in this environment\")\n",
    "            else:\n",
    "                getattr(self, name).set(param)\n",
    "\n",
    "    @property\n",
    "    def info(self):\n",
    "        \"\"\"\n",
    "        Returns: The MDPInfo object of the environment.\n",
    "\n",
    "        \"\"\"\n",
    "        return self._mdp_info\n",
    "\n",
    "    @property\n",
    "    def mode(self):\n",
    "        \"\"\"\n",
    "        Returns: A string with the current mode (train, test val) of the environment.\n",
    "\n",
    "        \"\"\"\n",
    "        return self._mode\n",
    "\n",
    "    @abstractmethod\n",
    "    def set_action_space(self):\n",
    "        \"\"\"\n",
    "        Set the action space of the environment.\n",
    "\n",
    "        \"\"\"\n",
    "        pass\n",
    "\n",
    "    @abstractmethod\n",
    "    def set_observation_space(self):\n",
    "        \"\"\"\n",
    "        Set the observation space of the environment.\n",
    "        In general, this can be also a dict space, but the agent must have the appropriate pre-processor.\n",
    "\n",
    "        \"\"\"\n",
    "        pass\n",
    "\n",
    "    @abstractmethod\n",
    "    def get_observation(self):\n",
    "        \"\"\"\n",
    "        Return the current observation. Typically constructed from the output of the dataloader and \n",
    "        internal dynamics (such as inventory levels, pipeline vectors, etc.) of the environment.\n",
    "\n",
    "        \"\"\"\n",
    "        pass\n",
    "\n",
    "    @abstractmethod\n",
    "    def reset(self):\n",
    "        \"\"\"\n",
    "        Reset the environment. This function must be provided, using the function self.reset_index() to \n",
    "        handle indexing. It needs to account for the current training mode train, val, or test and handle\n",
    "        the horizon_train param. See the reset function for the NewsvendorEnv for an example.\n",
    "\n",
    "        \"\"\"\n",
    "        pass\n",
    "    \n",
    "    def set_index(self, index=None):\n",
    "        \"\"\"\n",
    "        Handle the index of the environment.\n",
    "\n",
    "        \"\"\"\n",
    "\n",
    "        if index is not None:\n",
    "            self.index = index\n",
    "        else:\n",
    "            self.index += 1\n",
    "        truncated = True if self.index >= self.mdp_info.horizon else False\n",
    "        \n",
    "        return truncated\n",
    "\n",
    "\n",
    "    def reset_index(self,\n",
    "        start_index: Union[int,str]):\n",
    "\n",
    "        \"\"\"\n",
    "\n",
    "        Reset the index of the environment. If start_index is an integer, the index is set to this value. If start_index is \"random\",\n",
    "        the index is set to a random integer between 0 and the length of the training data.\n",
    "\n",
    "        \"\"\"\n",
    " \n",
    "        if start_index==\"random\":\n",
    "            if self.mode == \"train\":\n",
    "                truncated = self.set_index(np.random.randint(0, self.dataloader.len_train)) # assuming we only start randomly during training.\n",
    "            else:\n",
    "                raise ValueError(\"start_index cannot be 'random' in val or test mode\")\n",
    "        elif isinstance(start_index, int):\n",
    "            truncated = self.set_index(start_index)\n",
    "        else:\n",
    "            raise ValueError(\"start_index must be an integer or 'random'\")\n",
    "        \n",
    "        return truncated\n",
    "\n",
    "    def update_mdp_info(self, gamma=None, horizon=None):\n",
    "        \n",
    "        \"\"\"\n",
    "        Update the MDP info of the environment.\n",
    "\n",
    "        \"\"\"\n",
    "        if gamma is not None:\n",
    "            self.mdp_info.gamma = gamma\n",
    "        if horizon is not None:\n",
    "            self.mdp_info.horizon = horizon\n",
    "\n",
    "    def train(self, update_mdp_info=True):\n",
    "        \"\"\"\n",
    "        Set the environment in training mode by both setting the internal state self._train and the dataloader. \n",
    "        If the horizon is set to \"use_all_data\", the horizon is set to the length of the training data, otherwise\n",
    "        it is set to the horizon_train attribute of the environment. Finally, the function updates the MDP info\n",
    "        and resets with the new state.\n",
    "\n",
    "        \"\"\"\n",
    "        self._mode = \"train\"\n",
    "\n",
    "        if hasattr(self, \"dataloader\"):\n",
    "            self.dataloader.train()\n",
    "\n",
    "            if hasattr(self, \"horizon_train\"):\n",
    "                if self.horizon_train == \"use_all_data\":\n",
    "                    horizon = self.dataloader.len_train\n",
    "                else:\n",
    "                    horizon = self.horizon_train\n",
    "        else:\n",
    "            horizon = self.mdp_info.horizon\n",
    "\n",
    "        if update_mdp_info:\n",
    "            self.update_mdp_info(gamma=self.mdp_info.gamma, horizon=horizon)\n",
    "\n",
    "        self.reset()\n",
    "    \n",
    "    def val(self, update_mdp_info=True):\n",
    "        \"\"\"\n",
    "        Set the environment in validation mode by both setting the internal state self._val and the dataloader.\n",
    "        The horizon of val is always set to the length of the validation data. Finally, the function updates the MDP info\n",
    "        and resets with the new state.\n",
    "\n",
    "        \"\"\"\n",
    "        self._mode = \"val\"\n",
    "\n",
    "        if hasattr(self, \"dataloader\"):\n",
    "            self.dataloader.val()\n",
    "            horizon = self.dataloader.len_val\n",
    "        else:\n",
    "            horizon = self.mdp_info.horizon\n",
    "\n",
    "        if update_mdp_info:\n",
    "            self.update_mdp_info(gamma=self.mdp_info.gamma, horizon=horizon)\n",
    "\n",
    "        self.reset()\n",
    "\n",
    "    def test(self, update_mdp_info=True):\n",
    "        \"\"\"\n",
    "        Set the environment in testing mode by both setting the internal state self._test and the dataloader.\n",
    "        The horizon of test is always set to the length of the test data. Finally, the function updates the MDP info\n",
    "        and resets with the new state.\n",
    "\n",
    "        \"\"\"\n",
    "        self._mode = \"test\"\n",
    "\n",
    "        if hasattr(self, \"dataloader\"):\n",
    "            self.dataloader.test()\n",
    "            horizon = self.dataloader.len_test\n",
    "        else:\n",
    "            horizon = self.mdp_info.horizon\n",
    "\n",
    "        if update_mdp_info:\n",
    "            self.update_mdp_info(gamma=self.mdp_info.gamma, horizon=horizon)\n",
    "\n",
    "        self.reset()"
   ]
  },
  {
   "cell_type": "code",
   "execution_count": null,
   "metadata": {},
   "outputs": [
    {
     "data": {
      "text/markdown": [
       "---\n",
       "\n",
       "[source](https://github.com/opimwue/ddopnew/blob/main/ddopnew/envsdfd.py#L13){target=\"_blank\" style=\"float:right; font-size:smaller\"}\n",
       "\n",
       "## BaseEnvironment\n",
       "\n",
       ">      BaseEnvironment (mdp_info:ddopnew.utils.MDPInfo, mode:str='train')\n",
       "\n",
       "*Base class for environments enforcing a common interface.*\n",
       "\n",
       "|    | **Type** | **Default** | **Details** |\n",
       "| -- | -------- | ----------- | ----------- |\n",
       "| mdp_info | MDPInfo |  | MDPInfo object to ensure compatibility with the agents |\n",
       "| mode | str | train | Initial mode (train, val, test) of the environment |\n",
       "| **Returns** | **None** |  |  |"
      ],
      "text/plain": [
       "---\n",
       "\n",
       "[source](https://github.com/opimwue/ddopnew/blob/main/ddopnew/envsdfd.py#L13){target=\"_blank\" style=\"float:right; font-size:smaller\"}\n",
       "\n",
       "## BaseEnvironment\n",
       "\n",
       ">      BaseEnvironment (mdp_info:ddopnew.utils.MDPInfo, mode:str='train')\n",
       "\n",
       "*Base class for environments enforcing a common interface.*\n",
       "\n",
       "|    | **Type** | **Default** | **Details** |\n",
       "| -- | -------- | ----------- | ----------- |\n",
       "| mdp_info | MDPInfo |  | MDPInfo object to ensure compatibility with the agents |\n",
       "| mode | str | train | Initial mode (train, val, test) of the environment |\n",
       "| **Returns** | **None** |  |  |"
      ]
     },
     "execution_count": null,
     "metadata": {},
     "output_type": "execute_result"
    }
   ],
   "source": [
    "show_doc(BaseEnvironment, title_level=2)"
   ]
  },
  {
   "cell_type": "markdown",
   "metadata": {},
   "source": [
    "### Important notes:\n",
    "\n",
    "\n",
    "**init method**:\n",
    "\n",
    "* When adding parameters to the environment, make sure to always add them via self.[parameter name] = set_param(...). This ensures all parameters are of the correct types and shapes.\n",
    "\n",
    "* During the init method, any Gymnasium environment expects the action and observation space to be defined. For clarity, avoid doing it directly in the init, but rather use the functions ```set_action_space()``` and ```set_observation_space()``` and call them in the ```___init___`` method.\n",
    "\n",
    "\n",
    "**train, val, test, and horizon (episode length)**:\n",
    "\n",
    "* When the ```__init__``` method is called, the environment executes the ```train()```, ```val()``` or ```test()``` methods. Therefore, they must be implemented in a way that they work right during set-up. \n",
    "\n",
    "* ```train()```, ```val()``` and ```test()``` methods are provided in the base class, but can also be overwritten if necessary. In any case, they must set the dataloader to the correct dataset to ensure no\n",
    "data leakage. They also need to update mdp_info to update the horizon (episode length) of the environment\n",
    "\n",
    "* The horizon for validation and testing will be equal to the length of those datasets. For training, there is a parameter ```horizon_train``` that either contains a string \"use_all_data\" or an integer. If it is the former, the horizon will be the length of the training dataset. If it is the latter, the environment will play an episode of length ```horizon_train``` starting at a random point of the training dataset. \n",
    "\n",
    "**step method**:\n",
    "\n",
    "* The step method is the core of the environment, calculating the next state (observation) and reward given an action. For clarity, the construction of the next state (we call it more general observation to include POMDPs) is done in a separate method called ```get_observation()``` that must be called inside the step function. See documentation below and the Newsvendor environment ```envs.inventory.NewsvendorEnv``` for an example.\n",
    "\n",
    "* The dataloader will typically return an X,Y pair (where X are some features and Y typically is demand) The X is necessary at the end of the step to construct the next observation to be returned to the agent. The Y is only relevant one step later to calculate the reward. Hence, Y is typically transferred to the next step method via an object variable like self.demand (see ```envs.inventory.NewsvendorEnv``` as an example).\n",
    "\n",
    "\n",
    "**reset method**:\n",
    "\n",
    "* The reset method may depend strongly on the environment dynamics, so it must be implemented for the specific environment. It needs to fulfill two requirements: 1) it needs to differenticate between train, val, and test mode and 2) when setting the training mode, it needs to\n",
    "take the ```horizon_train``` parameter into account. \n",
    "\n",
    "* At the end of the function, first the ```reset_index()``` method should be called (either with a specific index as string or the flag ``` \"random\" ```as input) and then the ```get_observation()``` method to construct the first observation."
   ]
  },
  {
   "cell_type": "code",
   "execution_count": null,
   "metadata": {},
   "outputs": [
    {
     "data": {
      "text/markdown": [
       "---\n",
       "\n",
       "[source](https://github.com/opimwue/ddopnew/blob/main/ddopnew/envs/base.py#L199){target=\"_blank\" style=\"float:right; font-size:smaller\"}\n",
       "\n",
       "### BaseEnvironment.set_param\n",
       "\n",
       ">      BaseEnvironment.set_param (name:str,\n",
       ">                                 input:ddopnew.utils.Parameter|float|numpy.ndar\n",
       ">                                 ray, shape:tuple=(1,), new:bool=False)\n",
       "\n",
       "*Set a parameter for the environment. It converts scalar values to numpy arrays and ensures that\n",
       "environment parameters are either of the Parameter class of Numpy arrays. If new is set to True, \n",
       "the function will create a new parameter or update an existing one otherwise. If new is set to\n",
       "False, the function will raise an error if the parameter does not exist.*\n",
       "\n",
       "|    | **Type** | **Default** | **Details** |\n",
       "| -- | -------- | ----------- | ----------- |\n",
       "| name | str |  | name of the parameter (will become the attribute name) |\n",
       "| input | ddopnew.utils.Parameter \\| float \\| numpy.ndarray |  | input value of the parameter |\n",
       "| shape | tuple | (1,) | shape of the parameter |\n",
       "| new | bool | False | whether to create a new parameter or update an existing one |\n",
       "| **Returns** | **None** |  |  |"
      ],
      "text/plain": [
       "---\n",
       "\n",
       "[source](https://github.com/opimwue/ddopnew/blob/main/ddopnew/envs/base.py#L199){target=\"_blank\" style=\"float:right; font-size:smaller\"}\n",
       "\n",
       "### BaseEnvironment.set_param\n",
       "\n",
       ">      BaseEnvironment.set_param (name:str,\n",
       ">                                 input:ddopnew.utils.Parameter|float|numpy.ndar\n",
       ">                                 ray, shape:tuple=(1,), new:bool=False)\n",
       "\n",
       "*Set a parameter for the environment. It converts scalar values to numpy arrays and ensures that\n",
       "environment parameters are either of the Parameter class of Numpy arrays. If new is set to True, \n",
       "the function will create a new parameter or update an existing one otherwise. If new is set to\n",
       "False, the function will raise an error if the parameter does not exist.*\n",
       "\n",
       "|    | **Type** | **Default** | **Details** |\n",
       "| -- | -------- | ----------- | ----------- |\n",
       "| name | str |  | name of the parameter (will become the attribute name) |\n",
       "| input | ddopnew.utils.Parameter \\| float \\| numpy.ndarray |  | input value of the parameter |\n",
       "| shape | tuple | (1,) | shape of the parameter |\n",
       "| new | bool | False | whether to create a new parameter or update an existing one |\n",
       "| **Returns** | **None** |  |  |"
      ]
     },
     "execution_count": null,
     "metadata": {},
     "output_type": "execute_result"
    }
   ],
   "source": [
    "show_doc(BaseEnvironment.set_param)"
   ]
  },
  {
   "cell_type": "code",
   "execution_count": null,
   "metadata": {},
   "outputs": [
    {
     "data": {
      "text/markdown": [
       "---\n",
       "\n",
       "[source](https://github.com/opimwue/ddopnew/blob/main/ddopnew/envsdfd.py#L29){target=\"_blank\" style=\"float:right; font-size:smaller\"}\n",
       "\n",
       "### BaseEnvironment.info\n",
       "\n",
       ">      BaseEnvironment.info ()\n",
       "\n",
       "*Returns: The MDPInfo object of the environment.*"
      ],
      "text/plain": [
       "---\n",
       "\n",
       "[source](https://github.com/opimwue/ddopnew/blob/main/ddopnew/envsdfd.py#L29){target=\"_blank\" style=\"float:right; font-size:smaller\"}\n",
       "\n",
       "### BaseEnvironment.info\n",
       "\n",
       ">      BaseEnvironment.info ()\n",
       "\n",
       "*Returns: The MDPInfo object of the environment.*"
      ]
     },
     "execution_count": null,
     "metadata": {},
     "output_type": "execute_result"
    }
   ],
   "source": [
    "show_doc(BaseEnvironment.info)"
   ]
  },
  {
   "cell_type": "code",
   "execution_count": null,
   "metadata": {},
   "outputs": [
    {
     "data": {
      "text/markdown": [
       "---\n",
       "\n",
       "[source](https://github.com/opimwue/ddopnew/blob/main/ddopnew/envs/base.py#L59){target=\"_blank\" style=\"float:right; font-size:smaller\"}\n",
       "\n",
       "### BaseEnvironment.mode\n",
       "\n",
       ">      BaseEnvironment.mode ()\n",
       "\n",
       "*Returns: A string with the current mode (train, test val) of the environment.*"
      ],
      "text/plain": [
       "---\n",
       "\n",
       "[source](https://github.com/opimwue/ddopnew/blob/main/ddopnew/envs/base.py#L59){target=\"_blank\" style=\"float:right; font-size:smaller\"}\n",
       "\n",
       "### BaseEnvironment.mode\n",
       "\n",
       ">      BaseEnvironment.mode ()\n",
       "\n",
       "*Returns: A string with the current mode (train, test val) of the environment.*"
      ]
     },
     "execution_count": null,
     "metadata": {},
     "output_type": "execute_result"
    }
   ],
   "source": [
    "show_doc(BaseEnvironment.mode)"
   ]
  },
  {
   "cell_type": "code",
   "execution_count": null,
   "metadata": {},
   "outputs": [
    {
     "data": {
      "text/markdown": [
       "---\n",
       "\n",
       "[source](https://github.com/opimwue/ddopnew/blob/main/ddopnew/envsdfd.py#L38){target=\"_blank\" style=\"float:right; font-size:smaller\"}\n",
       "\n",
       "### BaseEnvironment.set_action_space\n",
       "\n",
       ">      BaseEnvironment.set_action_space ()\n",
       "\n",
       "*Set the action space of the environment.*"
      ],
      "text/plain": [
       "---\n",
       "\n",
       "[source](https://github.com/opimwue/ddopnew/blob/main/ddopnew/envsdfd.py#L38){target=\"_blank\" style=\"float:right; font-size:smaller\"}\n",
       "\n",
       "### BaseEnvironment.set_action_space\n",
       "\n",
       ">      BaseEnvironment.set_action_space ()\n",
       "\n",
       "*Set the action space of the environment.*"
      ]
     },
     "execution_count": null,
     "metadata": {},
     "output_type": "execute_result"
    }
   ],
   "source": [
    "show_doc(BaseEnvironment.set_action_space)"
   ]
  },
  {
   "cell_type": "code",
   "execution_count": null,
   "metadata": {},
   "outputs": [
    {
     "data": {
      "text/markdown": [
       "---\n",
       "\n",
       "[source](https://github.com/opimwue/ddopnew/blob/main/ddopnew/envsdfd.py#L46){target=\"_blank\" style=\"float:right; font-size:smaller\"}\n",
       "\n",
       "### BaseEnvironment.set_observation_space\n",
       "\n",
       ">      BaseEnvironment.set_observation_space ()\n",
       "\n",
       "*Set the observation space of the environment.\n",
       "In general, this can be also a dict space, but the agent must have the appropriate pre-processor.*"
      ],
      "text/plain": [
       "---\n",
       "\n",
       "[source](https://github.com/opimwue/ddopnew/blob/main/ddopnew/envsdfd.py#L46){target=\"_blank\" style=\"float:right; font-size:smaller\"}\n",
       "\n",
       "### BaseEnvironment.set_observation_space\n",
       "\n",
       ">      BaseEnvironment.set_observation_space ()\n",
       "\n",
       "*Set the observation space of the environment.\n",
       "In general, this can be also a dict space, but the agent must have the appropriate pre-processor.*"
      ]
     },
     "execution_count": null,
     "metadata": {},
     "output_type": "execute_result"
    }
   ],
   "source": [
    "show_doc(BaseEnvironment.set_observation_space)"
   ]
  },
  {
   "cell_type": "code",
   "execution_count": null,
   "metadata": {},
   "outputs": [
    {
     "data": {
      "text/markdown": [
       "---\n",
       "\n",
       "[source](https://github.com/opimwue/ddopnew/blob/main/ddopnew/envsdfd.py#L54){target=\"_blank\" style=\"float:right; font-size:smaller\"}\n",
       "\n",
       "### BaseEnvironment.get_observation\n",
       "\n",
       ">      BaseEnvironment.get_observation ()\n",
       "\n",
       "*Return the current observation. Typically constructed from the output of the dataloader and \n",
       "internal dynamics (such as inventory levels, pipeline vectors, etc.) of the environment.*"
      ],
      "text/plain": [
       "---\n",
       "\n",
       "[source](https://github.com/opimwue/ddopnew/blob/main/ddopnew/envsdfd.py#L54){target=\"_blank\" style=\"float:right; font-size:smaller\"}\n",
       "\n",
       "### BaseEnvironment.get_observation\n",
       "\n",
       ">      BaseEnvironment.get_observation ()\n",
       "\n",
       "*Return the current observation. Typically constructed from the output of the dataloader and \n",
       "internal dynamics (such as inventory levels, pipeline vectors, etc.) of the environment.*"
      ]
     },
     "execution_count": null,
     "metadata": {},
     "output_type": "execute_result"
    }
   ],
   "source": [
    "show_doc(BaseEnvironment.get_observation)"
   ]
  },
  {
   "cell_type": "code",
   "execution_count": null,
   "metadata": {},
   "outputs": [
    {
     "data": {
      "text/markdown": [
       "---\n",
       "\n",
       "[source](https://github.com/opimwue/ddopnew/blob/main/ddopnew/envs/base.py#L92){target=\"_blank\" style=\"float:right; font-size:smaller\"}\n",
       "\n",
       "### BaseEnvironment.reset\n",
       "\n",
       ">      BaseEnvironment.reset ()\n",
       "\n",
       "*Reset the environment. This function must be provided, using the function self.reset_index() to \n",
       "handle indexing. It needs to account for the current training mode train, val, or test and handle\n",
       "the horizon_train param. See the reset function for the NewsvendorEnv for an example.*"
      ],
      "text/plain": [
       "---\n",
       "\n",
       "[source](https://github.com/opimwue/ddopnew/blob/main/ddopnew/envs/base.py#L92){target=\"_blank\" style=\"float:right; font-size:smaller\"}\n",
       "\n",
       "### BaseEnvironment.reset\n",
       "\n",
       ">      BaseEnvironment.reset ()\n",
       "\n",
       "*Reset the environment. This function must be provided, using the function self.reset_index() to \n",
       "handle indexing. It needs to account for the current training mode train, val, or test and handle\n",
       "the horizon_train param. See the reset function for the NewsvendorEnv for an example.*"
      ]
     },
     "execution_count": null,
     "metadata": {},
     "output_type": "execute_result"
    }
   ],
   "source": [
    "show_doc(BaseEnvironment.reset)"
   ]
  },
  {
   "cell_type": "code",
   "execution_count": null,
   "metadata": {},
   "outputs": [
    {
     "data": {
      "text/markdown": [
       "---\n",
       "\n",
       "[source](https://github.com/opimwue/ddopnew/blob/main/ddopnew/envs/base.py#L100){target=\"_blank\" style=\"float:right; font-size:smaller\"}\n",
       "\n",
       "### BaseEnvironment.set_index\n",
       "\n",
       ">      BaseEnvironment.set_index (index=None)\n",
       "\n",
       "*Handle the index of the environment.*"
      ],
      "text/plain": [
       "---\n",
       "\n",
       "[source](https://github.com/opimwue/ddopnew/blob/main/ddopnew/envs/base.py#L100){target=\"_blank\" style=\"float:right; font-size:smaller\"}\n",
       "\n",
       "### BaseEnvironment.set_index\n",
       "\n",
       ">      BaseEnvironment.set_index (index=None)\n",
       "\n",
       "*Handle the index of the environment.*"
      ]
     },
     "execution_count": null,
     "metadata": {},
     "output_type": "execute_result"
    }
   ],
   "source": [
    "show_doc(BaseEnvironment.set_index)"
   ]
  },
  {
   "cell_type": "code",
   "execution_count": null,
   "metadata": {},
   "outputs": [
    {
     "data": {
      "text/markdown": [
       "---\n",
       "\n",
       "[source](https://github.com/opimwue/ddopnew/blob/main/ddopnew/envs/base.py#L173){target=\"_blank\" style=\"float:right; font-size:smaller\"}\n",
       "\n",
       "### BaseEnvironment.reset_index\n",
       "\n",
       ">      BaseEnvironment.reset_index (start_index:Union[int,str])\n",
       "\n",
       "*Reset the index of the environment. If start_index is an integer, the index is set to this value. If start_index is \"random\",\n",
       "the index is set to a random integer between 0 and the length of the training data.*"
      ],
      "text/plain": [
       "---\n",
       "\n",
       "[source](https://github.com/opimwue/ddopnew/blob/main/ddopnew/envs/base.py#L173){target=\"_blank\" style=\"float:right; font-size:smaller\"}\n",
       "\n",
       "### BaseEnvironment.reset_index\n",
       "\n",
       ">      BaseEnvironment.reset_index (start_index:Union[int,str])\n",
       "\n",
       "*Reset the index of the environment. If start_index is an integer, the index is set to this value. If start_index is \"random\",\n",
       "the index is set to a random integer between 0 and the length of the training data.*"
      ]
     },
     "execution_count": null,
     "metadata": {},
     "output_type": "execute_result"
    }
   ],
   "source": [
    "show_doc(BaseEnvironment.reset_index)"
   ]
  },
  {
   "cell_type": "code",
   "execution_count": null,
   "metadata": {},
   "outputs": [
    {
     "data": {
      "text/markdown": [
       "---\n",
       "\n",
       "[source](https://github.com/opimwue/ddopnew/blob/main/ddopnew/envs/base.py#L185){target=\"_blank\" style=\"float:right; font-size:smaller\"}\n",
       "\n",
       "### BaseEnvironment.update_mdp_info\n",
       "\n",
       ">      BaseEnvironment.update_mdp_info (gamma=None, horizon=None)\n",
       "\n",
       "*Update the MDP info of the environment.*"
      ],
      "text/plain": [
       "---\n",
       "\n",
       "[source](https://github.com/opimwue/ddopnew/blob/main/ddopnew/envs/base.py#L185){target=\"_blank\" style=\"float:right; font-size:smaller\"}\n",
       "\n",
       "### BaseEnvironment.update_mdp_info\n",
       "\n",
       ">      BaseEnvironment.update_mdp_info (gamma=None, horizon=None)\n",
       "\n",
       "*Update the MDP info of the environment.*"
      ]
     },
     "execution_count": null,
     "metadata": {},
     "output_type": "execute_result"
    }
   ],
   "source": [
    "show_doc(BaseEnvironment.update_mdp_info)"
   ]
  },
  {
   "cell_type": "code",
   "execution_count": null,
   "metadata": {},
   "outputs": [
    {
     "data": {
      "text/markdown": [
       "---\n",
       "\n",
       "[source](https://github.com/opimwue/ddopnew/blob/main/ddopnew/envs/base.py#L114){target=\"_blank\" style=\"float:right; font-size:smaller\"}\n",
       "\n",
       "### BaseEnvironment.train\n",
       "\n",
       ">      BaseEnvironment.train (update_mdp_info=True)\n",
       "\n",
       "*Set the environment in training mode by both setting the internal state self._train and the dataloader. \n",
       "If the horizon is set to \"use_all_data\", the horizon is set to the length of the training data, otherwise\n",
       "it is set to the horizon_train attribute of the environment. Finally, the function updates the MDP info\n",
       "and resets with the new state.*"
      ],
      "text/plain": [
       "---\n",
       "\n",
       "[source](https://github.com/opimwue/ddopnew/blob/main/ddopnew/envs/base.py#L114){target=\"_blank\" style=\"float:right; font-size:smaller\"}\n",
       "\n",
       "### BaseEnvironment.train\n",
       "\n",
       ">      BaseEnvironment.train (update_mdp_info=True)\n",
       "\n",
       "*Set the environment in training mode by both setting the internal state self._train and the dataloader. \n",
       "If the horizon is set to \"use_all_data\", the horizon is set to the length of the training data, otherwise\n",
       "it is set to the horizon_train attribute of the environment. Finally, the function updates the MDP info\n",
       "and resets with the new state.*"
      ]
     },
     "execution_count": null,
     "metadata": {},
     "output_type": "execute_result"
    }
   ],
   "source": [
    "show_doc(BaseEnvironment.train)"
   ]
  },
  {
   "cell_type": "code",
   "execution_count": null,
   "metadata": {},
   "outputs": [
    {
     "data": {
      "text/markdown": [
       "---\n",
       "\n",
       "[source](https://github.com/opimwue/ddopnew/blob/main/ddopnew/envs/base.py#L137){target=\"_blank\" style=\"float:right; font-size:smaller\"}\n",
       "\n",
       "### BaseEnvironment.val\n",
       "\n",
       ">      BaseEnvironment.val (update_mdp_info=True)\n",
       "\n",
       "*Set the environment in validation mode by both setting the internal state self._val and the dataloader.\n",
       "The horizon of val is always set to the length of the validation data. Finally, the function updates the MDP info\n",
       "and resets with the new state.*"
      ],
      "text/plain": [
       "---\n",
       "\n",
       "[source](https://github.com/opimwue/ddopnew/blob/main/ddopnew/envs/base.py#L137){target=\"_blank\" style=\"float:right; font-size:smaller\"}\n",
       "\n",
       "### BaseEnvironment.val\n",
       "\n",
       ">      BaseEnvironment.val (update_mdp_info=True)\n",
       "\n",
       "*Set the environment in validation mode by both setting the internal state self._val and the dataloader.\n",
       "The horizon of val is always set to the length of the validation data. Finally, the function updates the MDP info\n",
       "and resets with the new state.*"
      ]
     },
     "execution_count": null,
     "metadata": {},
     "output_type": "execute_result"
    }
   ],
   "source": [
    "show_doc(BaseEnvironment.val)"
   ]
  },
  {
   "cell_type": "code",
   "execution_count": null,
   "metadata": {},
   "outputs": [
    {
     "data": {
      "text/markdown": [
       "---\n",
       "\n",
       "[source](https://github.com/opimwue/ddopnew/blob/main/ddopnew/envs/base.py#L155){target=\"_blank\" style=\"float:right; font-size:smaller\"}\n",
       "\n",
       "### BaseEnvironment.test\n",
       "\n",
       ">      BaseEnvironment.test (update_mdp_info=True)\n",
       "\n",
       "*Set the environment in testing mode by both setting the internal state self._test and the dataloader.\n",
       "The horizon of test is always set to the length of the test data. Finally, the function updates the MDP info\n",
       "and resets with the new state.*"
      ],
      "text/plain": [
       "---\n",
       "\n",
       "[source](https://github.com/opimwue/ddopnew/blob/main/ddopnew/envs/base.py#L155){target=\"_blank\" style=\"float:right; font-size:smaller\"}\n",
       "\n",
       "### BaseEnvironment.test\n",
       "\n",
       ">      BaseEnvironment.test (update_mdp_info=True)\n",
       "\n",
       "*Set the environment in testing mode by both setting the internal state self._test and the dataloader.\n",
       "The horizon of test is always set to the length of the test data. Finally, the function updates the MDP info\n",
       "and resets with the new state.*"
      ]
     },
     "execution_count": null,
     "metadata": {},
     "output_type": "execute_result"
    }
   ],
   "source": [
    "show_doc(BaseEnvironment.test)"
   ]
  },
  {
   "cell_type": "code",
   "execution_count": null,
   "metadata": {},
   "outputs": [],
   "source": [
    "#| hide\n",
    "import nbdev; nbdev.nbdev_export()"
   ]
  },
  {
   "cell_type": "code",
   "execution_count": null,
   "metadata": {},
   "outputs": [],
   "source": []
  },
  {
   "cell_type": "code",
   "execution_count": null,
   "metadata": {},
   "outputs": [],
   "source": []
  },
  {
   "cell_type": "code",
   "execution_count": null,
   "metadata": {},
   "outputs": [],
   "source": []
  },
  {
   "cell_type": "code",
   "execution_count": null,
   "metadata": {},
   "outputs": [],
   "source": []
  }
 ],
 "metadata": {
  "kernelspec": {
   "display_name": "python3",
   "language": "python",
   "name": "python3"
  }
 },
 "nbformat": 4,
 "nbformat_minor": 4
}
