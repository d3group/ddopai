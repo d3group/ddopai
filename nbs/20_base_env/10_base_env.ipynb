{
 "cells": [
  {
   "cell_type": "markdown",
   "metadata": {},
   "source": [
    "# Inventory Management Environments\n",
    "\n",
    "> To be written."
   ]
  },
  {
   "cell_type": "code",
   "execution_count": null,
   "metadata": {},
   "outputs": [],
   "source": [
    "#| default_exp envs.base"
   ]
  },
  {
   "cell_type": "code",
   "execution_count": null,
   "metadata": {},
   "outputs": [],
   "source": [
    "#| hide\n",
    "from nbdev.showdoc import *"
   ]
  },
  {
   "cell_type": "code",
   "execution_count": null,
   "metadata": {},
   "outputs": [],
   "source": [
    "#| export\n",
    "\n",
    "import gymnasium as gym\n",
    "from abc import ABC, abstractmethod\n",
    "\n",
    "from ddopnew.utils import MDPInfo"
   ]
  },
  {
   "cell_type": "code",
   "execution_count": null,
   "metadata": {},
   "outputs": [],
   "source": [
    "#| export\n",
    "class BaseEnvironment(gym.Env, ABC):\n",
    "\n",
    "    def __init__(self, mdp_info: MDPInfo) -> None:\n",
    "        \"\"\"\n",
    "        Constructor.\n",
    "\n",
    "        Args:\n",
    "            mdp_info (MDPInfo): the information of the environment.\n",
    "\n",
    "        \"\"\"\n",
    "        super().__init__()\n",
    "\n",
    "        self.index = 0\n",
    "        self.mdp_info = mdp_info\n",
    "\n",
    "    @property\n",
    "    def info(self):\n",
    "        \"\"\"\n",
    "        Returns:\n",
    "             An object containing the info of the environment.\n",
    "\n",
    "        \"\"\"\n",
    "        return self._mdp_info\n",
    "\n",
    "    @abstractmethod\n",
    "    def set_action_space(self):\n",
    "        \"\"\"\n",
    "        Set the action space of the environment.\n",
    "\n",
    "        \"\"\"\n",
    "        pass\n",
    "\n",
    "    @abstractmethod\n",
    "    def set_observation_space(self):\n",
    "        \"\"\"\n",
    "        Set the observation space of the environment.\n",
    "\n",
    "        \"\"\"\n",
    "        pass\n",
    "\n",
    "    @abstractmethod\n",
    "    def get_observation(self):\n",
    "        \"\"\"\n",
    "        Return the current observation.\n",
    "\n",
    "        \"\"\"\n",
    "        pass\n",
    "    \n",
    "    def handle_index(self):\n",
    "        \"\"\"\n",
    "        Handle the index of the environment.\n",
    "\n",
    "        \"\"\"\n",
    "\n",
    "        self.index += 1\n",
    "        truncated = True if self.index >= self.mdp_info.horizon else False\n",
    "        \n",
    "        return truncated"
   ]
  },
  {
   "cell_type": "code",
   "execution_count": null,
   "metadata": {},
   "outputs": [],
   "source": [
    "#| hide\n",
    "import nbdev; nbdev.nbdev_export()"
   ]
  }
 ],
 "metadata": {
  "kernelspec": {
   "display_name": "python3",
   "language": "python",
   "name": "python3"
  }
 },
 "nbformat": 4,
 "nbformat_minor": 4
}
