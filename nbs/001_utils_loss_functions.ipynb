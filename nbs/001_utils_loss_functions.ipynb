{
 "cells": [
  {
   "cell_type": "markdown",
   "metadata": {},
   "source": [
    "# Loss functions\n",
    "\n",
    "This notebook will contain numpy-based loss functans that can be used by environments or non-pytorch models."
   ]
  },
  {
   "cell_type": "code",
   "execution_count": null,
   "metadata": {},
   "outputs": [],
   "source": [
    "#| default_exp loss_functions"
   ]
  },
  {
   "cell_type": "code",
   "execution_count": null,
   "metadata": {},
   "outputs": [],
   "source": [
    "#| hide\n",
    "from nbdev.showdoc import *"
   ]
  },
  {
   "cell_type": "code",
   "execution_count": null,
   "metadata": {},
   "outputs": [],
   "source": [
    "#| export\n",
    "\n",
    "from typing import Union, Optional\n",
    "\n",
    "import numpy as np\n",
    "from ddopnew.utils import Parameter, check_parameter_types\n",
    "\n",
    "import torch\n",
    "import torch.nn as nn\n",
    "import torch.nn.functional as F"
   ]
  },
  {
   "cell_type": "markdown",
   "metadata": {},
   "source": [
    "TODO:\n",
    " - write descriptions\n",
    " - specify typings\n",
    " - ensure documentation on types, outputs, variable descriptions"
   ]
  },
  {
   "cell_type": "code",
   "execution_count": null,
   "metadata": {},
   "outputs": [],
   "source": [
    "#| export\n",
    "\n",
    "def pinball_loss(\n",
    "            Y_true: np.ndarray,\n",
    "            Y_pred: np.ndarray,\n",
    "            underage_cost: Union[Parameter, np.ndarray],\n",
    "            overage_cost: Union[Parameter, np.ndarray],\n",
    "            ) -> np.ndarray:\n",
    "\n",
    "    if isinstance(underage_cost, Parameter):\n",
    "        underage_cost = underage_cost.get_value()\n",
    "    if isinstance(overage_cost, Parameter):\n",
    "        overage_cost = overage_cost.get_value()\n",
    "    \n",
    "    check_parameter_types(Y_true, Y_pred, underage_cost, overage_cost)\n",
    "    \n",
    "    loss = np.maximum(Y_true - Y_pred, 0) * underage_cost + np.maximum(Y_pred - Y_true, 0) * overage_cost\n",
    "\n",
    "    return loss"
   ]
  },
  {
   "cell_type": "code",
   "execution_count": null,
   "metadata": {},
   "outputs": [],
   "source": [
    "#| export\n",
    "\n",
    "def quantile_loss(\n",
    "                Y_true: np.ndarray,\n",
    "                Y_pred: np.ndarray,\n",
    "                quantile: Union[float, Parameter],\n",
    "                ) -> np.ndarray:\n",
    "\n",
    "    if isinstance(quantile, Parameter):\n",
    "        quantile = quantile.get_value()\n",
    "\n",
    "    check_parameter_types(Y_true, Y_pred, quantile)\n",
    "    \n",
    "    # assert shapes\n",
    "    assert Y_true.shape == Y_pred.shape, \"y_true and y_pred must have the same shape\"\n",
    "    \n",
    "    loss = np.maximum((Y_true - Y_pred) * quantile, (Y_pred - Y_true) * (1 - quantile))\n",
    "\n",
    "    return loss"
   ]
  },
  {
   "cell_type": "code",
   "execution_count": null,
   "metadata": {},
   "outputs": [],
   "source": [
    "#| hide\n",
    "import nbdev; nbdev.nbdev_export()"
   ]
  },
  {
   "cell_type": "code",
   "execution_count": null,
   "metadata": {},
   "outputs": [],
   "source": []
  },
  {
   "cell_type": "code",
   "execution_count": null,
   "metadata": {},
   "outputs": [],
   "source": []
  }
 ],
 "metadata": {
  "kernelspec": {
   "display_name": "python3",
   "language": "python",
   "name": "python3"
  }
 },
 "nbformat": 4,
 "nbformat_minor": 4
}
